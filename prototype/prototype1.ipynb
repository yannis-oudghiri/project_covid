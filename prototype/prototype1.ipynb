{
 "cells": [
  {
   "cell_type": "code",
   "execution_count": 33,
   "metadata": {},
   "outputs": [],
   "source": [
    "import numpy as np\n",
    "import pandas as pd\n",
    "import matplotlib.pyplot as plt\n",
    "import seaborn as sns \n",
    "import plotly.express as px\n",
    "import plotly.graph_objects as go"
   ]
  },
  {
   "cell_type": "code",
   "execution_count": 34,
   "metadata": {},
   "outputs": [
    {
     "data": {
      "text/html": [
       "<div>\n",
       "<style scoped>\n",
       "    .dataframe tbody tr th:only-of-type {\n",
       "        vertical-align: middle;\n",
       "    }\n",
       "\n",
       "    .dataframe tbody tr th {\n",
       "        vertical-align: top;\n",
       "    }\n",
       "\n",
       "    .dataframe thead th {\n",
       "        text-align: right;\n",
       "    }\n",
       "</style>\n",
       "<table border=\"1\" class=\"dataframe\">\n",
       "  <thead>\n",
       "    <tr style=\"text-align: right;\">\n",
       "      <th></th>\n",
       "      <th>iso_code</th>\n",
       "      <th>location</th>\n",
       "      <th>date</th>\n",
       "      <th>total_cases</th>\n",
       "      <th>total_deaths</th>\n",
       "      <th>stringency_index</th>\n",
       "      <th>population</th>\n",
       "      <th>gdp_per_capita</th>\n",
       "      <th>human_development_index</th>\n",
       "      <th>Unnamed: 9</th>\n",
       "      <th>Unnamed: 10</th>\n",
       "      <th>Unnamed: 11</th>\n",
       "      <th>Unnamed: 12</th>\n",
       "      <th>Unnamed: 13</th>\n",
       "    </tr>\n",
       "  </thead>\n",
       "  <tbody>\n",
       "    <tr>\n",
       "      <th>0</th>\n",
       "      <td>AFG</td>\n",
       "      <td>Afghanistan</td>\n",
       "      <td>2019-12-31</td>\n",
       "      <td>0.0</td>\n",
       "      <td>0.0</td>\n",
       "      <td>0.0</td>\n",
       "      <td>38928341</td>\n",
       "      <td>1803.987</td>\n",
       "      <td>0.498</td>\n",
       "      <td>NaN</td>\n",
       "      <td>NaN</td>\n",
       "      <td>NaN</td>\n",
       "      <td>17.477233</td>\n",
       "      <td>7.497754</td>\n",
       "    </tr>\n",
       "    <tr>\n",
       "      <th>1</th>\n",
       "      <td>AFG</td>\n",
       "      <td>Afghanistan</td>\n",
       "      <td>2020-01-01</td>\n",
       "      <td>0.0</td>\n",
       "      <td>0.0</td>\n",
       "      <td>0.0</td>\n",
       "      <td>38928341</td>\n",
       "      <td>1803.987</td>\n",
       "      <td>0.498</td>\n",
       "      <td>NaN</td>\n",
       "      <td>NaN</td>\n",
       "      <td>NaN</td>\n",
       "      <td>17.477233</td>\n",
       "      <td>7.497754</td>\n",
       "    </tr>\n",
       "    <tr>\n",
       "      <th>2</th>\n",
       "      <td>AFG</td>\n",
       "      <td>Afghanistan</td>\n",
       "      <td>2020-01-02</td>\n",
       "      <td>0.0</td>\n",
       "      <td>0.0</td>\n",
       "      <td>0.0</td>\n",
       "      <td>38928341</td>\n",
       "      <td>1803.987</td>\n",
       "      <td>0.498</td>\n",
       "      <td>NaN</td>\n",
       "      <td>NaN</td>\n",
       "      <td>NaN</td>\n",
       "      <td>17.477233</td>\n",
       "      <td>7.497754</td>\n",
       "    </tr>\n",
       "    <tr>\n",
       "      <th>3</th>\n",
       "      <td>AFG</td>\n",
       "      <td>Afghanistan</td>\n",
       "      <td>2020-01-03</td>\n",
       "      <td>0.0</td>\n",
       "      <td>0.0</td>\n",
       "      <td>0.0</td>\n",
       "      <td>38928341</td>\n",
       "      <td>1803.987</td>\n",
       "      <td>0.498</td>\n",
       "      <td>NaN</td>\n",
       "      <td>NaN</td>\n",
       "      <td>NaN</td>\n",
       "      <td>17.477233</td>\n",
       "      <td>7.497754</td>\n",
       "    </tr>\n",
       "    <tr>\n",
       "      <th>4</th>\n",
       "      <td>AFG</td>\n",
       "      <td>Afghanistan</td>\n",
       "      <td>2020-01-04</td>\n",
       "      <td>0.0</td>\n",
       "      <td>0.0</td>\n",
       "      <td>0.0</td>\n",
       "      <td>38928341</td>\n",
       "      <td>1803.987</td>\n",
       "      <td>0.498</td>\n",
       "      <td>NaN</td>\n",
       "      <td>NaN</td>\n",
       "      <td>NaN</td>\n",
       "      <td>17.477233</td>\n",
       "      <td>7.497754</td>\n",
       "    </tr>\n",
       "  </tbody>\n",
       "</table>\n",
       "</div>"
      ],
      "text/plain": [
       "  iso_code     location        date  total_cases  total_deaths  \\\n",
       "0      AFG  Afghanistan  2019-12-31          0.0           0.0   \n",
       "1      AFG  Afghanistan  2020-01-01          0.0           0.0   \n",
       "2      AFG  Afghanistan  2020-01-02          0.0           0.0   \n",
       "3      AFG  Afghanistan  2020-01-03          0.0           0.0   \n",
       "4      AFG  Afghanistan  2020-01-04          0.0           0.0   \n",
       "\n",
       "   stringency_index  population  gdp_per_capita  human_development_index  \\\n",
       "0               0.0    38928341        1803.987                    0.498   \n",
       "1               0.0    38928341        1803.987                    0.498   \n",
       "2               0.0    38928341        1803.987                    0.498   \n",
       "3               0.0    38928341        1803.987                    0.498   \n",
       "4               0.0    38928341        1803.987                    0.498   \n",
       "\n",
       "   Unnamed: 9  Unnamed: 10  Unnamed: 11  Unnamed: 12  Unnamed: 13  \n",
       "0         NaN          NaN          NaN    17.477233     7.497754  \n",
       "1         NaN          NaN          NaN    17.477233     7.497754  \n",
       "2         NaN          NaN          NaN    17.477233     7.497754  \n",
       "3         NaN          NaN          NaN    17.477233     7.497754  \n",
       "4         NaN          NaN          NaN    17.477233     7.497754  "
      ]
     },
     "execution_count": 34,
     "metadata": {},
     "output_type": "execute_result"
    }
   ],
   "source": [
    "df2 = pd.read_excel(\"data/mendeley_data.xlsx\")\n",
    "df2.head()"
   ]
  },
  {
   "cell_type": "code",
   "execution_count": 4,
   "metadata": {},
   "outputs": [
    {
     "data": {
      "text/html": [
       "<div>\n",
       "<style scoped>\n",
       "    .dataframe tbody tr th:only-of-type {\n",
       "        vertical-align: middle;\n",
       "    }\n",
       "\n",
       "    .dataframe tbody tr th {\n",
       "        vertical-align: top;\n",
       "    }\n",
       "\n",
       "    .dataframe thead th {\n",
       "        text-align: right;\n",
       "    }\n",
       "</style>\n",
       "<table border=\"1\" class=\"dataframe\">\n",
       "  <thead>\n",
       "    <tr style=\"text-align: right;\">\n",
       "      <th></th>\n",
       "      <th>total_cases</th>\n",
       "      <th>total_deaths</th>\n",
       "      <th>stringency_index</th>\n",
       "      <th>population</th>\n",
       "      <th>gdp_per_capita</th>\n",
       "      <th>human_development_index</th>\n",
       "    </tr>\n",
       "  </thead>\n",
       "  <tbody>\n",
       "    <tr>\n",
       "      <th>count</th>\n",
       "      <td>4.732400e+04</td>\n",
       "      <td>39228.000000</td>\n",
       "      <td>43292.000000</td>\n",
       "      <td>5.041800e+04</td>\n",
       "      <td>44706.000000</td>\n",
       "      <td>44216.000000</td>\n",
       "    </tr>\n",
       "    <tr>\n",
       "      <th>mean</th>\n",
       "      <td>6.621927e+04</td>\n",
       "      <td>2978.767819</td>\n",
       "      <td>56.162022</td>\n",
       "      <td>4.251601e+07</td>\n",
       "      <td>20818.706240</td>\n",
       "      <td>0.720139</td>\n",
       "    </tr>\n",
       "    <tr>\n",
       "      <th>std</th>\n",
       "      <td>4.045582e+05</td>\n",
       "      <td>13836.644013</td>\n",
       "      <td>27.532685</td>\n",
       "      <td>1.564607e+08</td>\n",
       "      <td>20441.365392</td>\n",
       "      <td>0.160902</td>\n",
       "    </tr>\n",
       "    <tr>\n",
       "      <th>min</th>\n",
       "      <td>0.000000e+00</td>\n",
       "      <td>0.000000</td>\n",
       "      <td>0.000000</td>\n",
       "      <td>8.090000e+02</td>\n",
       "      <td>661.240000</td>\n",
       "      <td>0.000000</td>\n",
       "    </tr>\n",
       "    <tr>\n",
       "      <th>25%</th>\n",
       "      <td>1.260000e+02</td>\n",
       "      <td>10.000000</td>\n",
       "      <td>37.960000</td>\n",
       "      <td>1.399491e+06</td>\n",
       "      <td>5338.454000</td>\n",
       "      <td>0.601000</td>\n",
       "    </tr>\n",
       "    <tr>\n",
       "      <th>50%</th>\n",
       "      <td>1.594000e+03</td>\n",
       "      <td>64.000000</td>\n",
       "      <td>61.110000</td>\n",
       "      <td>8.278737e+06</td>\n",
       "      <td>13913.839000</td>\n",
       "      <td>0.752000</td>\n",
       "    </tr>\n",
       "    <tr>\n",
       "      <th>75%</th>\n",
       "      <td>1.584775e+04</td>\n",
       "      <td>564.000000</td>\n",
       "      <td>78.700000</td>\n",
       "      <td>2.913681e+07</td>\n",
       "      <td>31400.840000</td>\n",
       "      <td>0.847000</td>\n",
       "    </tr>\n",
       "    <tr>\n",
       "      <th>max</th>\n",
       "      <td>8.154595e+06</td>\n",
       "      <td>219674.000000</td>\n",
       "      <td>100.000000</td>\n",
       "      <td>1.439324e+09</td>\n",
       "      <td>116935.600000</td>\n",
       "      <td>0.953000</td>\n",
       "    </tr>\n",
       "  </tbody>\n",
       "</table>\n",
       "</div>"
      ],
      "text/plain": [
       "        total_cases   total_deaths  stringency_index    population  \\\n",
       "count  4.732400e+04   39228.000000      43292.000000  5.041800e+04   \n",
       "mean   6.621927e+04    2978.767819         56.162022  4.251601e+07   \n",
       "std    4.045582e+05   13836.644013         27.532685  1.564607e+08   \n",
       "min    0.000000e+00       0.000000          0.000000  8.090000e+02   \n",
       "25%    1.260000e+02      10.000000         37.960000  1.399491e+06   \n",
       "50%    1.594000e+03      64.000000         61.110000  8.278737e+06   \n",
       "75%    1.584775e+04     564.000000         78.700000  2.913681e+07   \n",
       "max    8.154595e+06  219674.000000        100.000000  1.439324e+09   \n",
       "\n",
       "       gdp_per_capita  human_development_index  \n",
       "count    44706.000000             44216.000000  \n",
       "mean     20818.706240                 0.720139  \n",
       "std      20441.365392                 0.160902  \n",
       "min        661.240000                 0.000000  \n",
       "25%       5338.454000                 0.601000  \n",
       "50%      13913.839000                 0.752000  \n",
       "75%      31400.840000                 0.847000  \n",
       "max     116935.600000                 0.953000  "
      ]
     },
     "execution_count": 4,
     "metadata": {},
     "output_type": "execute_result"
    }
   ],
   "source": [
    "# Removing additional log feature columns\n",
    "df2.drop(columns= [\"Unnamed: 9\", \"Unnamed: 10\", \"Unnamed: 11\", \"Unnamed: 12\", \"Unnamed: 13\"], inplace=True)\n",
    "df2.describe()"
   ]
  },
  {
   "cell_type": "code",
   "execution_count": 8,
   "metadata": {},
   "outputs": [
    {
     "data": {
      "text/plain": [
       "Index(['iso_code', 'location', 'date', 'total_cases', 'total_deaths',\n",
       "       'stringency_index', 'population', 'gdp_per_capita',\n",
       "       'human_development_index'],\n",
       "      dtype='object')"
      ]
     },
     "execution_count": 8,
     "metadata": {},
     "output_type": "execute_result"
    }
   ],
   "source": [
    "df2.columns"
   ]
  },
  {
   "cell_type": "code",
   "execution_count": 13,
   "metadata": {},
   "outputs": [
    {
     "data": {
      "text/plain": [
       "210"
      ]
     },
     "execution_count": 13,
     "metadata": {},
     "output_type": "execute_result"
    }
   ],
   "source": [
    "#df2_grouped = df2_grouped[df2_grouped.location ]\n",
    "import pycountry_convert as pc\n",
    "\n",
    "country_codes = df2.iso_code.unique().tolist()\n",
    "continent_code = []\n",
    "alpha2 = []\n",
    "\n",
    "for c in country_codes:\n",
    "    try:\n",
    "        alpha2.append(pc.country_alpha3_to_country_alpha2(c))\n",
    "    except:\n",
    "        alpha2.append(\"Unknown\")\n",
    "\n",
    "\n",
    "for a in alpha2:\n",
    "    try:\n",
    "        continent_code.append(pc.country_alpha2_to_continent_code(a))\n",
    "    except:\n",
    "        continent_code.append(\"Unknown\")\n"
   ]
  },
  {
   "cell_type": "code",
   "execution_count": 11,
   "metadata": {},
   "outputs": [],
   "source": [
    "df2_grouped = df2.groupby(by = \"location\").agg(np.mean)\n",
    "df2_grouped.reset_index(inplace=True)"
   ]
  },
  {
   "cell_type": "code",
   "execution_count": 19,
   "metadata": {},
   "outputs": [
    {
     "data": {
      "text/html": [
       "<div>\n",
       "<style scoped>\n",
       "    .dataframe tbody tr th:only-of-type {\n",
       "        vertical-align: middle;\n",
       "    }\n",
       "\n",
       "    .dataframe tbody tr th {\n",
       "        vertical-align: top;\n",
       "    }\n",
       "\n",
       "    .dataframe thead th {\n",
       "        text-align: right;\n",
       "    }\n",
       "</style>\n",
       "<table border=\"1\" class=\"dataframe\">\n",
       "  <thead>\n",
       "    <tr style=\"text-align: right;\">\n",
       "      <th></th>\n",
       "      <th>location</th>\n",
       "      <th>total_cases</th>\n",
       "      <th>total_deaths</th>\n",
       "      <th>stringency_index</th>\n",
       "      <th>population</th>\n",
       "      <th>gdp_per_capita</th>\n",
       "      <th>human_development_index</th>\n",
       "      <th>continent</th>\n",
       "    </tr>\n",
       "  </thead>\n",
       "  <tbody>\n",
       "    <tr>\n",
       "      <th>0</th>\n",
       "      <td>Afghanistan</td>\n",
       "      <td>17436.846939</td>\n",
       "      <td>564.200680</td>\n",
       "      <td>49.140036</td>\n",
       "      <td>38928341.0</td>\n",
       "      <td>1803.987</td>\n",
       "      <td>0.498</td>\n",
       "      <td>Asia</td>\n",
       "    </tr>\n",
       "    <tr>\n",
       "      <th>1</th>\n",
       "      <td>Albania</td>\n",
       "      <td>4764.226667</td>\n",
       "      <td>139.891892</td>\n",
       "      <td>67.753460</td>\n",
       "      <td>2877800.0</td>\n",
       "      <td>11803.431</td>\n",
       "      <td>0.785</td>\n",
       "      <td>Europe</td>\n",
       "    </tr>\n",
       "    <tr>\n",
       "      <th>2</th>\n",
       "      <td>Algeria</td>\n",
       "      <td>21094.823276</td>\n",
       "      <td>934.067873</td>\n",
       "      <td>56.593182</td>\n",
       "      <td>43851043.0</td>\n",
       "      <td>13913.839</td>\n",
       "      <td>0.754</td>\n",
       "      <td>Africa</td>\n",
       "    </tr>\n",
       "    <tr>\n",
       "      <th>3</th>\n",
       "      <td>Andorra</td>\n",
       "      <td>1016.254545</td>\n",
       "      <td>47.584541</td>\n",
       "      <td>42.987897</td>\n",
       "      <td>77265.0</td>\n",
       "      <td>NaN</td>\n",
       "      <td>0.858</td>\n",
       "      <td>Europe</td>\n",
       "    </tr>\n",
       "    <tr>\n",
       "      <th>4</th>\n",
       "      <td>Angola</td>\n",
       "      <td>1433.985849</td>\n",
       "      <td>57.941176</td>\n",
       "      <td>77.841144</td>\n",
       "      <td>32866268.0</td>\n",
       "      <td>5819.495</td>\n",
       "      <td>0.581</td>\n",
       "      <td>Africa</td>\n",
       "    </tr>\n",
       "  </tbody>\n",
       "</table>\n",
       "</div>"
      ],
      "text/plain": [
       "      location   total_cases  total_deaths  stringency_index  population  \\\n",
       "0  Afghanistan  17436.846939    564.200680         49.140036  38928341.0   \n",
       "1      Albania   4764.226667    139.891892         67.753460   2877800.0   \n",
       "2      Algeria  21094.823276    934.067873         56.593182  43851043.0   \n",
       "3      Andorra   1016.254545     47.584541         42.987897     77265.0   \n",
       "4       Angola   1433.985849     57.941176         77.841144  32866268.0   \n",
       "\n",
       "   gdp_per_capita  human_development_index continent  \n",
       "0        1803.987                    0.498      Asia  \n",
       "1       11803.431                    0.785    Europe  \n",
       "2       13913.839                    0.754    Africa  \n",
       "3             NaN                    0.858    Europe  \n",
       "4        5819.495                    0.581    Africa  "
      ]
     },
     "execution_count": 19,
     "metadata": {},
     "output_type": "execute_result"
    }
   ],
   "source": [
    "df2_grouped[\"continent\"] = continent_code\n",
    "df2_grouped = df2_grouped.replace({'AS':'Asia', 'EU':'Europe', 'AF':'Africa', 'AN':'Antarctica', 'NA':'North America', 'SA':'South America', 'OC':'Oceania'})\n",
    "df2_grouped.head()"
   ]
  },
  {
   "cell_type": "code",
   "execution_count": 31,
   "metadata": {},
   "outputs": [
    {
     "data": {
      "application/vnd.plotly.v1+json": {
       "config": {
        "plotlyServerURL": "https://plot.ly"
       },
       "data": [
        {
         "hovertemplate": "<b>%{hovertext}</b><br><br>location=Afghanistan<br>human_development_index=%{x}<br>gdp_per_capita=%{y}<br>population=%{marker.size}<extra></extra>",
         "hovertext": [
          "Afghanistan"
         ],
         "legendgroup": "Afghanistan",
         "marker": {
          "color": "#1F77B4",
          "size": [
           38928341
          ],
          "sizemode": "area",
          "sizeref": 293739.5457142857,
          "symbol": "circle"
         },
         "mode": "markers",
         "name": "Afghanistan",
         "orientation": "v",
         "showlegend": true,
         "type": "scatter",
         "x": [
          0.498
         ],
         "xaxis": "x",
         "y": [
          1803.9870000000003
         ],
         "yaxis": "y"
        },
        {
         "hovertemplate": "<b>%{hovertext}</b><br><br>location=Albania<br>human_development_index=%{x}<br>gdp_per_capita=%{y}<br>population=%{marker.size}<extra></extra>",
         "hovertext": [
          "Albania"
         ],
         "legendgroup": "Albania",
         "marker": {
          "color": "#FF7F0E",
          "size": [
           2877800
          ],
          "sizemode": "area",
          "sizeref": 293739.5457142857,
          "symbol": "circle"
         },
         "mode": "markers",
         "name": "Albania",
         "orientation": "v",
         "showlegend": true,
         "type": "scatter",
         "x": [
          0.785
         ],
         "xaxis": "x",
         "y": [
          11803.431
         ],
         "yaxis": "y"
        },
        {
         "hovertemplate": "<b>%{hovertext}</b><br><br>location=Algeria<br>human_development_index=%{x}<br>gdp_per_capita=%{y}<br>population=%{marker.size}<extra></extra>",
         "hovertext": [
          "Algeria"
         ],
         "legendgroup": "Algeria",
         "marker": {
          "color": "#2CA02C",
          "size": [
           43851043
          ],
          "sizemode": "area",
          "sizeref": 293739.5457142857,
          "symbol": "circle"
         },
         "mode": "markers",
         "name": "Algeria",
         "orientation": "v",
         "showlegend": true,
         "type": "scatter",
         "x": [
          0.754
         ],
         "xaxis": "x",
         "y": [
          13913.839
         ],
         "yaxis": "y"
        },
        {
         "hovertemplate": "<b>%{hovertext}</b><br><br>location=Andorra<br>human_development_index=%{x}<br>gdp_per_capita=%{y}<br>population=%{marker.size}<extra></extra>",
         "hovertext": [
          "Andorra"
         ],
         "legendgroup": "Andorra",
         "marker": {
          "color": "#D62728",
          "size": [
           77265
          ],
          "sizemode": "area",
          "sizeref": 293739.5457142857,
          "symbol": "circle"
         },
         "mode": "markers",
         "name": "Andorra",
         "orientation": "v",
         "showlegend": true,
         "type": "scatter",
         "x": [
          0.858
         ],
         "xaxis": "x",
         "y": [
          null
         ],
         "yaxis": "y"
        },
        {
         "hovertemplate": "<b>%{hovertext}</b><br><br>location=Angola<br>human_development_index=%{x}<br>gdp_per_capita=%{y}<br>population=%{marker.size}<extra></extra>",
         "hovertext": [
          "Angola"
         ],
         "legendgroup": "Angola",
         "marker": {
          "color": "#9467BD",
          "size": [
           32866268
          ],
          "sizemode": "area",
          "sizeref": 293739.5457142857,
          "symbol": "circle"
         },
         "mode": "markers",
         "name": "Angola",
         "orientation": "v",
         "showlegend": true,
         "type": "scatter",
         "x": [
          0.581
         ],
         "xaxis": "x",
         "y": [
          5819.495
         ],
         "yaxis": "y"
        },
        {
         "hovertemplate": "<b>%{hovertext}</b><br><br>location=Anguilla<br>human_development_index=%{x}<br>gdp_per_capita=%{y}<br>population=%{marker.size}<extra></extra>",
         "hovertext": [
          "Anguilla"
         ],
         "legendgroup": "Anguilla",
         "marker": {
          "color": "#8C564B",
          "size": [
           15002
          ],
          "sizemode": "area",
          "sizeref": 293739.5457142857,
          "symbol": "circle"
         },
         "mode": "markers",
         "name": "Anguilla",
         "orientation": "v",
         "showlegend": true,
         "type": "scatter",
         "x": [
          null
         ],
         "xaxis": "x",
         "y": [
          null
         ],
         "yaxis": "y"
        },
        {
         "hovertemplate": "<b>%{hovertext}</b><br><br>location=Antigua and Barbuda<br>human_development_index=%{x}<br>gdp_per_capita=%{y}<br>population=%{marker.size}<extra></extra>",
         "hovertext": [
          "Antigua and Barbuda"
         ],
         "legendgroup": "Antigua and Barbuda",
         "marker": {
          "color": "#E377C2",
          "size": [
           97928
          ],
          "sizemode": "area",
          "sizeref": 293739.5457142857,
          "symbol": "circle"
         },
         "mode": "markers",
         "name": "Antigua and Barbuda",
         "orientation": "v",
         "showlegend": true,
         "type": "scatter",
         "x": [
          0.78
         ],
         "xaxis": "x",
         "y": [
          21490.943
         ],
         "yaxis": "y"
        },
        {
         "hovertemplate": "<b>%{hovertext}</b><br><br>location=Argentina<br>human_development_index=%{x}<br>gdp_per_capita=%{y}<br>population=%{marker.size}<extra></extra>",
         "hovertext": [
          "Argentina"
         ],
         "legendgroup": "Argentina",
         "marker": {
          "color": "#7F7F7F",
          "size": [
           45195777
          ],
          "sizemode": "area",
          "sizeref": 293739.5457142857,
          "symbol": "circle"
         },
         "mode": "markers",
         "name": "Argentina",
         "orientation": "v",
         "showlegend": true,
         "type": "scatter",
         "x": [
          0.825
         ],
         "xaxis": "x",
         "y": [
          18933.907
         ],
         "yaxis": "y"
        },
        {
         "hovertemplate": "<b>%{hovertext}</b><br><br>location=Armenia<br>human_development_index=%{x}<br>gdp_per_capita=%{y}<br>population=%{marker.size}<extra></extra>",
         "hovertext": [
          "Armenia"
         ],
         "legendgroup": "Armenia",
         "marker": {
          "color": "#BCBD22",
          "size": [
           2963234
          ],
          "sizemode": "area",
          "sizeref": 293739.5457142857,
          "symbol": "circle"
         },
         "mode": "markers",
         "name": "Armenia",
         "orientation": "v",
         "showlegend": true,
         "type": "scatter",
         "x": [
          0.755
         ],
         "xaxis": "x",
         "y": [
          8787.58
         ],
         "yaxis": "y"
        },
        {
         "hovertemplate": "<b>%{hovertext}</b><br><br>location=Aruba<br>human_development_index=%{x}<br>gdp_per_capita=%{y}<br>population=%{marker.size}<extra></extra>",
         "hovertext": [
          "Aruba"
         ],
         "legendgroup": "Aruba",
         "marker": {
          "color": "#17BECF",
          "size": [
           106766
          ],
          "sizemode": "area",
          "sizeref": 293739.5457142857,
          "symbol": "circle"
         },
         "mode": "markers",
         "name": "Aruba",
         "orientation": "v",
         "showlegend": true,
         "type": "scatter",
         "x": [
          null
         ],
         "xaxis": "x",
         "y": [
          35973.781
         ],
         "yaxis": "y"
        },
        {
         "hovertemplate": "<b>%{hovertext}</b><br><br>location=Australia<br>human_development_index=%{x}<br>gdp_per_capita=%{y}<br>population=%{marker.size}<extra></extra>",
         "hovertext": [
          "Australia"
         ],
         "legendgroup": "Australia",
         "marker": {
          "color": "#1F77B4",
          "size": [
           25499881
          ],
          "sizemode": "area",
          "sizeref": 293739.5457142857,
          "symbol": "circle"
         },
         "mode": "markers",
         "name": "Australia",
         "orientation": "v",
         "showlegend": true,
         "type": "scatter",
         "x": [
          0.939
         ],
         "xaxis": "x",
         "y": [
          44648.71
         ],
         "yaxis": "y"
        },
        {
         "hovertemplate": "<b>%{hovertext}</b><br><br>location=Austria<br>human_development_index=%{x}<br>gdp_per_capita=%{y}<br>population=%{marker.size}<extra></extra>",
         "hovertext": [
          "Austria"
         ],
         "legendgroup": "Austria",
         "marker": {
          "color": "#FF7F0E",
          "size": [
           9006400
          ],
          "sizemode": "area",
          "sizeref": 293739.5457142857,
          "symbol": "circle"
         },
         "mode": "markers",
         "name": "Austria",
         "orientation": "v",
         "showlegend": true,
         "type": "scatter",
         "x": [
          0.908
         ],
         "xaxis": "x",
         "y": [
          45436.686
         ],
         "yaxis": "y"
        },
        {
         "hovertemplate": "<b>%{hovertext}</b><br><br>location=Azerbaijan<br>human_development_index=%{x}<br>gdp_per_capita=%{y}<br>population=%{marker.size}<extra></extra>",
         "hovertext": [
          "Azerbaijan"
         ],
         "legendgroup": "Azerbaijan",
         "marker": {
          "color": "#2CA02C",
          "size": [
           10139175
          ],
          "sizemode": "area",
          "sizeref": 293739.5457142857,
          "symbol": "circle"
         },
         "mode": "markers",
         "name": "Azerbaijan",
         "orientation": "v",
         "showlegend": true,
         "type": "scatter",
         "x": [
          0.757
         ],
         "xaxis": "x",
         "y": [
          15847.419
         ],
         "yaxis": "y"
        },
        {
         "hovertemplate": "<b>%{hovertext}</b><br><br>location=Bahamas<br>human_development_index=%{x}<br>gdp_per_capita=%{y}<br>population=%{marker.size}<extra></extra>",
         "hovertext": [
          "Bahamas"
         ],
         "legendgroup": "Bahamas",
         "marker": {
          "color": "#D62728",
          "size": [
           393248
          ],
          "sizemode": "area",
          "sizeref": 293739.5457142857,
          "symbol": "circle"
         },
         "mode": "markers",
         "name": "Bahamas",
         "orientation": "v",
         "showlegend": true,
         "type": "scatter",
         "x": [
          0.807
         ],
         "xaxis": "x",
         "y": [
          27717.847
         ],
         "yaxis": "y"
        },
        {
         "hovertemplate": "<b>%{hovertext}</b><br><br>location=Bahrain<br>human_development_index=%{x}<br>gdp_per_capita=%{y}<br>population=%{marker.size}<extra></extra>",
         "hovertext": [
          "Bahrain"
         ],
         "legendgroup": "Bahrain",
         "marker": {
          "color": "#9467BD",
          "size": [
           1701583
          ],
          "sizemode": "area",
          "sizeref": 293739.5457142857,
          "symbol": "circle"
         },
         "mode": "markers",
         "name": "Bahrain",
         "orientation": "v",
         "showlegend": true,
         "type": "scatter",
         "x": [
          0.846
         ],
         "xaxis": "x",
         "y": [
          43290.705
         ],
         "yaxis": "y"
        },
        {
         "hovertemplate": "<b>%{hovertext}</b><br><br>location=Bangladesh<br>human_development_index=%{x}<br>gdp_per_capita=%{y}<br>population=%{marker.size}<extra></extra>",
         "hovertext": [
          "Bangladesh"
         ],
         "legendgroup": "Bangladesh",
         "marker": {
          "color": "#8C564B",
          "size": [
           164689383
          ],
          "sizemode": "area",
          "sizeref": 293739.5457142857,
          "symbol": "circle"
         },
         "mode": "markers",
         "name": "Bangladesh",
         "orientation": "v",
         "showlegend": true,
         "type": "scatter",
         "x": [
          0.608
         ],
         "xaxis": "x",
         "y": [
          3523.984
         ],
         "yaxis": "y"
        },
        {
         "hovertemplate": "<b>%{hovertext}</b><br><br>location=Barbados<br>human_development_index=%{x}<br>gdp_per_capita=%{y}<br>population=%{marker.size}<extra></extra>",
         "hovertext": [
          "Barbados"
         ],
         "legendgroup": "Barbados",
         "marker": {
          "color": "#E377C2",
          "size": [
           287371
          ],
          "sizemode": "area",
          "sizeref": 293739.5457142857,
          "symbol": "circle"
         },
         "mode": "markers",
         "name": "Barbados",
         "orientation": "v",
         "showlegend": true,
         "type": "scatter",
         "x": [
          0.8
         ],
         "xaxis": "x",
         "y": [
          16978.068
         ],
         "yaxis": "y"
        },
        {
         "hovertemplate": "<b>%{hovertext}</b><br><br>location=Belarus<br>human_development_index=%{x}<br>gdp_per_capita=%{y}<br>population=%{marker.size}<extra></extra>",
         "hovertext": [
          "Belarus"
         ],
         "legendgroup": "Belarus",
         "marker": {
          "color": "#7F7F7F",
          "size": [
           9449321
          ],
          "sizemode": "area",
          "sizeref": 293739.5457142857,
          "symbol": "circle"
         },
         "mode": "markers",
         "name": "Belarus",
         "orientation": "v",
         "showlegend": true,
         "type": "scatter",
         "x": [
          0.808
         ],
         "xaxis": "x",
         "y": [
          17167.967
         ],
         "yaxis": "y"
        },
        {
         "hovertemplate": "<b>%{hovertext}</b><br><br>location=Belgium<br>human_development_index=%{x}<br>gdp_per_capita=%{y}<br>population=%{marker.size}<extra></extra>",
         "hovertext": [
          "Belgium"
         ],
         "legendgroup": "Belgium",
         "marker": {
          "color": "#BCBD22",
          "size": [
           11589616
          ],
          "sizemode": "area",
          "sizeref": 293739.5457142857,
          "symbol": "circle"
         },
         "mode": "markers",
         "name": "Belgium",
         "orientation": "v",
         "showlegend": true,
         "type": "scatter",
         "x": [
          0.9160000000000001
         ],
         "xaxis": "x",
         "y": [
          42658.576
         ],
         "yaxis": "y"
        },
        {
         "hovertemplate": "<b>%{hovertext}</b><br><br>location=Belize<br>human_development_index=%{x}<br>gdp_per_capita=%{y}<br>population=%{marker.size}<extra></extra>",
         "hovertext": [
          "Belize"
         ],
         "legendgroup": "Belize",
         "marker": {
          "color": "#17BECF",
          "size": [
           397621
          ],
          "sizemode": "area",
          "sizeref": 293739.5457142857,
          "symbol": "circle"
         },
         "mode": "markers",
         "name": "Belize",
         "orientation": "v",
         "showlegend": true,
         "type": "scatter",
         "x": [
          0.7079999999999999
         ],
         "xaxis": "x",
         "y": [
          7824.362
         ],
         "yaxis": "y"
        },
        {
         "hovertemplate": "<b>%{hovertext}</b><br><br>location=Benin<br>human_development_index=%{x}<br>gdp_per_capita=%{y}<br>population=%{marker.size}<extra></extra>",
         "hovertext": [
          "Benin"
         ],
         "legendgroup": "Benin",
         "marker": {
          "color": "#1F77B4",
          "size": [
           12123198
          ],
          "sizemode": "area",
          "sizeref": 293739.5457142857,
          "symbol": "circle"
         },
         "mode": "markers",
         "name": "Benin",
         "orientation": "v",
         "showlegend": true,
         "type": "scatter",
         "x": [
          0.515
         ],
         "xaxis": "x",
         "y": [
          2064.236
         ],
         "yaxis": "y"
        },
        {
         "hovertemplate": "<b>%{hovertext}</b><br><br>location=Bermuda<br>human_development_index=%{x}<br>gdp_per_capita=%{y}<br>population=%{marker.size}<extra></extra>",
         "hovertext": [
          "Bermuda"
         ],
         "legendgroup": "Bermuda",
         "marker": {
          "color": "#FF7F0E",
          "size": [
           62273
          ],
          "sizemode": "area",
          "sizeref": 293739.5457142857,
          "symbol": "circle"
         },
         "mode": "markers",
         "name": "Bermuda",
         "orientation": "v",
         "showlegend": true,
         "type": "scatter",
         "x": [
          null
         ],
         "xaxis": "x",
         "y": [
          50669.315
         ],
         "yaxis": "y"
        },
        {
         "hovertemplate": "<b>%{hovertext}</b><br><br>location=Bhutan<br>human_development_index=%{x}<br>gdp_per_capita=%{y}<br>population=%{marker.size}<extra></extra>",
         "hovertext": [
          "Bhutan"
         ],
         "legendgroup": "Bhutan",
         "marker": {
          "color": "#2CA02C",
          "size": [
           771612
          ],
          "sizemode": "area",
          "sizeref": 293739.5457142857,
          "symbol": "circle"
         },
         "mode": "markers",
         "name": "Bhutan",
         "orientation": "v",
         "showlegend": true,
         "type": "scatter",
         "x": [
          0.612
         ],
         "xaxis": "x",
         "y": [
          8708.597
         ],
         "yaxis": "y"
        },
        {
         "hovertemplate": "<b>%{hovertext}</b><br><br>location=Bolivia<br>human_development_index=%{x}<br>gdp_per_capita=%{y}<br>population=%{marker.size}<extra></extra>",
         "hovertext": [
          "Bolivia"
         ],
         "legendgroup": "Bolivia",
         "marker": {
          "color": "#D62728",
          "size": [
           11673029
          ],
          "sizemode": "area",
          "sizeref": 293739.5457142857,
          "symbol": "circle"
         },
         "mode": "markers",
         "name": "Bolivia",
         "orientation": "v",
         "showlegend": true,
         "type": "scatter",
         "x": [
          0.6929999999999998
         ],
         "xaxis": "x",
         "y": [
          6885.829
         ],
         "yaxis": "y"
        },
        {
         "hovertemplate": "<b>%{hovertext}</b><br><br>location=Bonaire Sint Eustatius and Saba<br>human_development_index=%{x}<br>gdp_per_capita=%{y}<br>population=%{marker.size}<extra></extra>",
         "hovertext": [
          "Bonaire Sint Eustatius and Saba"
         ],
         "legendgroup": "Bonaire Sint Eustatius and Saba",
         "marker": {
          "color": "#9467BD",
          "size": [
           26221
          ],
          "sizemode": "area",
          "sizeref": 293739.5457142857,
          "symbol": "circle"
         },
         "mode": "markers",
         "name": "Bonaire Sint Eustatius and Saba",
         "orientation": "v",
         "showlegend": true,
         "type": "scatter",
         "x": [
          null
         ],
         "xaxis": "x",
         "y": [
          null
         ],
         "yaxis": "y"
        },
        {
         "hovertemplate": "<b>%{hovertext}</b><br><br>location=Bosnia and Herzegovina<br>human_development_index=%{x}<br>gdp_per_capita=%{y}<br>population=%{marker.size}<extra></extra>",
         "hovertext": [
          "Bosnia and Herzegovina"
         ],
         "legendgroup": "Bosnia and Herzegovina",
         "marker": {
          "color": "#8C564B",
          "size": [
           3280815
          ],
          "sizemode": "area",
          "sizeref": 293739.5457142857,
          "symbol": "circle"
         },
         "mode": "markers",
         "name": "Bosnia and Herzegovina",
         "orientation": "v",
         "showlegend": true,
         "type": "scatter",
         "x": [
          0.768
         ],
         "xaxis": "x",
         "y": [
          11713.895
         ],
         "yaxis": "y"
        },
        {
         "hovertemplate": "<b>%{hovertext}</b><br><br>location=Botswana<br>human_development_index=%{x}<br>gdp_per_capita=%{y}<br>population=%{marker.size}<extra></extra>",
         "hovertext": [
          "Botswana"
         ],
         "legendgroup": "Botswana",
         "marker": {
          "color": "#E377C2",
          "size": [
           2351625
          ],
          "sizemode": "area",
          "sizeref": 293739.5457142857,
          "symbol": "circle"
         },
         "mode": "markers",
         "name": "Botswana",
         "orientation": "v",
         "showlegend": true,
         "type": "scatter",
         "x": [
          0.717
         ],
         "xaxis": "x",
         "y": [
          15807.374
         ],
         "yaxis": "y"
        },
        {
         "hovertemplate": "<b>%{hovertext}</b><br><br>location=Brazil<br>human_development_index=%{x}<br>gdp_per_capita=%{y}<br>population=%{marker.size}<extra></extra>",
         "hovertext": [
          "Brazil"
         ],
         "legendgroup": "Brazil",
         "marker": {
          "color": "#7F7F7F",
          "size": [
           212559409
          ],
          "sizemode": "area",
          "sizeref": 293739.5457142857,
          "symbol": "circle"
         },
         "mode": "markers",
         "name": "Brazil",
         "orientation": "v",
         "showlegend": true,
         "type": "scatter",
         "x": [
          0.759
         ],
         "xaxis": "x",
         "y": [
          14103.452
         ],
         "yaxis": "y"
        },
        {
         "hovertemplate": "<b>%{hovertext}</b><br><br>location=British Virgin Islands<br>human_development_index=%{x}<br>gdp_per_capita=%{y}<br>population=%{marker.size}<extra></extra>",
         "hovertext": [
          "British Virgin Islands"
         ],
         "legendgroup": "British Virgin Islands",
         "marker": {
          "color": "#BCBD22",
          "size": [
           30237
          ],
          "sizemode": "area",
          "sizeref": 293739.5457142857,
          "symbol": "circle"
         },
         "mode": "markers",
         "name": "British Virgin Islands",
         "orientation": "v",
         "showlegend": true,
         "type": "scatter",
         "x": [
          null
         ],
         "xaxis": "x",
         "y": [
          null
         ],
         "yaxis": "y"
        },
        {
         "hovertemplate": "<b>%{hovertext}</b><br><br>location=Bulgaria<br>human_development_index=%{x}<br>gdp_per_capita=%{y}<br>population=%{marker.size}<extra></extra>",
         "hovertext": [
          "Bulgaria"
         ],
         "legendgroup": "Bulgaria",
         "marker": {
          "color": "#17BECF",
          "size": [
           6948445
          ],
          "sizemode": "area",
          "sizeref": 293739.5457142857,
          "symbol": "circle"
         },
         "mode": "markers",
         "name": "Bulgaria",
         "orientation": "v",
         "showlegend": true,
         "type": "scatter",
         "x": [
          0.813
         ],
         "xaxis": "x",
         "y": [
          18563.307
         ],
         "yaxis": "y"
        },
        {
         "hovertemplate": "<b>%{hovertext}</b><br><br>location=Burkina Faso<br>human_development_index=%{x}<br>gdp_per_capita=%{y}<br>population=%{marker.size}<extra></extra>",
         "hovertext": [
          "Burkina Faso"
         ],
         "legendgroup": "Burkina Faso",
         "marker": {
          "color": "#1F77B4",
          "size": [
           20903278
          ],
          "sizemode": "area",
          "sizeref": 293739.5457142857,
          "symbol": "circle"
         },
         "mode": "markers",
         "name": "Burkina Faso",
         "orientation": "v",
         "showlegend": true,
         "type": "scatter",
         "x": [
          0.42300000000000004
         ],
         "xaxis": "x",
         "y": [
          1703.102
         ],
         "yaxis": "y"
        },
        {
         "hovertemplate": "<b>%{hovertext}</b><br><br>location=Burundi<br>human_development_index=%{x}<br>gdp_per_capita=%{y}<br>population=%{marker.size}<extra></extra>",
         "hovertext": [
          "Burundi"
         ],
         "legendgroup": "Burundi",
         "marker": {
          "color": "#FF7F0E",
          "size": [
           11890781
          ],
          "sizemode": "area",
          "sizeref": 293739.5457142857,
          "symbol": "circle"
         },
         "mode": "markers",
         "name": "Burundi",
         "orientation": "v",
         "showlegend": true,
         "type": "scatter",
         "x": [
          0.417
         ],
         "xaxis": "x",
         "y": [
          702.225
         ],
         "yaxis": "y"
        },
        {
         "hovertemplate": "<b>%{hovertext}</b><br><br>location=Cambodia<br>human_development_index=%{x}<br>gdp_per_capita=%{y}<br>population=%{marker.size}<extra></extra>",
         "hovertext": [
          "Cambodia"
         ],
         "legendgroup": "Cambodia",
         "marker": {
          "color": "#2CA02C",
          "size": [
           16718971
          ],
          "sizemode": "area",
          "sizeref": 293739.5457142857,
          "symbol": "circle"
         },
         "mode": "markers",
         "name": "Cambodia",
         "orientation": "v",
         "showlegend": true,
         "type": "scatter",
         "x": [
          0.582
         ],
         "xaxis": "x",
         "y": [
          3645.07
         ],
         "yaxis": "y"
        },
        {
         "hovertemplate": "<b>%{hovertext}</b><br><br>location=Cameroon<br>human_development_index=%{x}<br>gdp_per_capita=%{y}<br>population=%{marker.size}<extra></extra>",
         "hovertext": [
          "Cameroon"
         ],
         "legendgroup": "Cameroon",
         "marker": {
          "color": "#D62728",
          "size": [
           26545864
          ],
          "sizemode": "area",
          "sizeref": 293739.5457142857,
          "symbol": "circle"
         },
         "mode": "markers",
         "name": "Cameroon",
         "orientation": "v",
         "showlegend": true,
         "type": "scatter",
         "x": [
          0.556
         ],
         "xaxis": "x",
         "y": [
          3364.926
         ],
         "yaxis": "y"
        },
        {
         "hovertemplate": "<b>%{hovertext}</b><br><br>location=Canada<br>human_development_index=%{x}<br>gdp_per_capita=%{y}<br>population=%{marker.size}<extra></extra>",
         "hovertext": [
          "Canada"
         ],
         "legendgroup": "Canada",
         "marker": {
          "color": "#9467BD",
          "size": [
           37742157
          ],
          "sizemode": "area",
          "sizeref": 293739.5457142857,
          "symbol": "circle"
         },
         "mode": "markers",
         "name": "Canada",
         "orientation": "v",
         "showlegend": true,
         "type": "scatter",
         "x": [
          0.926
         ],
         "xaxis": "x",
         "y": [
          44017.591
         ],
         "yaxis": "y"
        },
        {
         "hovertemplate": "<b>%{hovertext}</b><br><br>location=Cape Verde<br>human_development_index=%{x}<br>gdp_per_capita=%{y}<br>population=%{marker.size}<extra></extra>",
         "hovertext": [
          "Cape Verde"
         ],
         "legendgroup": "Cape Verde",
         "marker": {
          "color": "#8C564B",
          "size": [
           555988
          ],
          "sizemode": "area",
          "sizeref": 293739.5457142857,
          "symbol": "circle"
         },
         "mode": "markers",
         "name": "Cape Verde",
         "orientation": "v",
         "showlegend": true,
         "type": "scatter",
         "x": [
          0.6539999999999999
         ],
         "xaxis": "x",
         "y": [
          6222.554
         ],
         "yaxis": "y"
        },
        {
         "hovertemplate": "<b>%{hovertext}</b><br><br>location=Cayman Islands<br>human_development_index=%{x}<br>gdp_per_capita=%{y}<br>population=%{marker.size}<extra></extra>",
         "hovertext": [
          "Cayman Islands"
         ],
         "legendgroup": "Cayman Islands",
         "marker": {
          "color": "#E377C2",
          "size": [
           65720
          ],
          "sizemode": "area",
          "sizeref": 293739.5457142857,
          "symbol": "circle"
         },
         "mode": "markers",
         "name": "Cayman Islands",
         "orientation": "v",
         "showlegend": true,
         "type": "scatter",
         "x": [
          null
         ],
         "xaxis": "x",
         "y": [
          49903.029
         ],
         "yaxis": "y"
        },
        {
         "hovertemplate": "<b>%{hovertext}</b><br><br>location=Central African Republic<br>human_development_index=%{x}<br>gdp_per_capita=%{y}<br>population=%{marker.size}<extra></extra>",
         "hovertext": [
          "Central African Republic"
         ],
         "legendgroup": "Central African Republic",
         "marker": {
          "color": "#7F7F7F",
          "size": [
           4829764
          ],
          "sizemode": "area",
          "sizeref": 293739.5457142857,
          "symbol": "circle"
         },
         "mode": "markers",
         "name": "Central African Republic",
         "orientation": "v",
         "showlegend": true,
         "type": "scatter",
         "x": [
          0.367
         ],
         "xaxis": "x",
         "y": [
          661.24
         ],
         "yaxis": "y"
        },
        {
         "hovertemplate": "<b>%{hovertext}</b><br><br>location=Chad<br>human_development_index=%{x}<br>gdp_per_capita=%{y}<br>population=%{marker.size}<extra></extra>",
         "hovertext": [
          "Chad"
         ],
         "legendgroup": "Chad",
         "marker": {
          "color": "#BCBD22",
          "size": [
           16425859
          ],
          "sizemode": "area",
          "sizeref": 293739.5457142857,
          "symbol": "circle"
         },
         "mode": "markers",
         "name": "Chad",
         "orientation": "v",
         "showlegend": true,
         "type": "scatter",
         "x": [
          0.404
         ],
         "xaxis": "x",
         "y": [
          1768.153
         ],
         "yaxis": "y"
        },
        {
         "hovertemplate": "<b>%{hovertext}</b><br><br>location=Chile<br>human_development_index=%{x}<br>gdp_per_capita=%{y}<br>population=%{marker.size}<extra></extra>",
         "hovertext": [
          "Chile"
         ],
         "legendgroup": "Chile",
         "marker": {
          "color": "#17BECF",
          "size": [
           19116209
          ],
          "sizemode": "area",
          "sizeref": 293739.5457142857,
          "symbol": "circle"
         },
         "mode": "markers",
         "name": "Chile",
         "orientation": "v",
         "showlegend": true,
         "type": "scatter",
         "x": [
          0.843
         ],
         "xaxis": "x",
         "y": [
          22767.037
         ],
         "yaxis": "y"
        },
        {
         "hovertemplate": "<b>%{hovertext}</b><br><br>location=China<br>human_development_index=%{x}<br>gdp_per_capita=%{y}<br>population=%{marker.size}<extra></extra>",
         "hovertext": [
          "China"
         ],
         "legendgroup": "China",
         "marker": {
          "color": "#1F77B4",
          "size": [
           1439323774
          ],
          "sizemode": "area",
          "sizeref": 293739.5457142857,
          "symbol": "circle"
         },
         "mode": "markers",
         "name": "China",
         "orientation": "v",
         "showlegend": true,
         "type": "scatter",
         "x": [
          0.752
         ],
         "xaxis": "x",
         "y": [
          15308.712
         ],
         "yaxis": "y"
        },
        {
         "hovertemplate": "<b>%{hovertext}</b><br><br>location=Colombia<br>human_development_index=%{x}<br>gdp_per_capita=%{y}<br>population=%{marker.size}<extra></extra>",
         "hovertext": [
          "Colombia"
         ],
         "legendgroup": "Colombia",
         "marker": {
          "color": "#FF7F0E",
          "size": [
           50882884
          ],
          "sizemode": "area",
          "sizeref": 293739.5457142857,
          "symbol": "circle"
         },
         "mode": "markers",
         "name": "Colombia",
         "orientation": "v",
         "showlegend": true,
         "type": "scatter",
         "x": [
          0.747
         ],
         "xaxis": "x",
         "y": [
          13254.949
         ],
         "yaxis": "y"
        },
        {
         "hovertemplate": "<b>%{hovertext}</b><br><br>location=Comoros<br>human_development_index=%{x}<br>gdp_per_capita=%{y}<br>population=%{marker.size}<extra></extra>",
         "hovertext": [
          "Comoros"
         ],
         "legendgroup": "Comoros",
         "marker": {
          "color": "#2CA02C",
          "size": [
           869595
          ],
          "sizemode": "area",
          "sizeref": 293739.5457142857,
          "symbol": "circle"
         },
         "mode": "markers",
         "name": "Comoros",
         "orientation": "v",
         "showlegend": true,
         "type": "scatter",
         "x": [
          0.503
         ],
         "xaxis": "x",
         "y": [
          1413.89
         ],
         "yaxis": "y"
        },
        {
         "hovertemplate": "<b>%{hovertext}</b><br><br>location=Congo<br>human_development_index=%{x}<br>gdp_per_capita=%{y}<br>population=%{marker.size}<extra></extra>",
         "hovertext": [
          "Congo"
         ],
         "legendgroup": "Congo",
         "marker": {
          "color": "#D62728",
          "size": [
           5518092
          ],
          "sizemode": "area",
          "sizeref": 293739.5457142857,
          "symbol": "circle"
         },
         "mode": "markers",
         "name": "Congo",
         "orientation": "v",
         "showlegend": true,
         "type": "scatter",
         "x": [
          0.606
         ],
         "xaxis": "x",
         "y": [
          4881.406
         ],
         "yaxis": "y"
        },
        {
         "hovertemplate": "<b>%{hovertext}</b><br><br>location=Costa Rica<br>human_development_index=%{x}<br>gdp_per_capita=%{y}<br>population=%{marker.size}<extra></extra>",
         "hovertext": [
          "Costa Rica"
         ],
         "legendgroup": "Costa Rica",
         "marker": {
          "color": "#9467BD",
          "size": [
           5094114
          ],
          "sizemode": "area",
          "sizeref": 293739.5457142857,
          "symbol": "circle"
         },
         "mode": "markers",
         "name": "Costa Rica",
         "orientation": "v",
         "showlegend": true,
         "type": "scatter",
         "x": [
          0.794
         ],
         "xaxis": "x",
         "y": [
          15524.995
         ],
         "yaxis": "y"
        },
        {
         "hovertemplate": "<b>%{hovertext}</b><br><br>location=Cote d'Ivoire<br>human_development_index=%{x}<br>gdp_per_capita=%{y}<br>population=%{marker.size}<extra></extra>",
         "hovertext": [
          "Cote d'Ivoire"
         ],
         "legendgroup": "Cote d'Ivoire",
         "marker": {
          "color": "#8C564B",
          "size": [
           26378275
          ],
          "sizemode": "area",
          "sizeref": 293739.5457142857,
          "symbol": "circle"
         },
         "mode": "markers",
         "name": "Cote d'Ivoire",
         "orientation": "v",
         "showlegend": true,
         "type": "scatter",
         "x": [
          0.492
         ],
         "xaxis": "x",
         "y": [
          3601.006
         ],
         "yaxis": "y"
        },
        {
         "hovertemplate": "<b>%{hovertext}</b><br><br>location=Croatia<br>human_development_index=%{x}<br>gdp_per_capita=%{y}<br>population=%{marker.size}<extra></extra>",
         "hovertext": [
          "Croatia"
         ],
         "legendgroup": "Croatia",
         "marker": {
          "color": "#E377C2",
          "size": [
           4105268
          ],
          "sizemode": "area",
          "sizeref": 293739.5457142857,
          "symbol": "circle"
         },
         "mode": "markers",
         "name": "Croatia",
         "orientation": "v",
         "showlegend": true,
         "type": "scatter",
         "x": [
          0.831
         ],
         "xaxis": "x",
         "y": [
          22669.797
         ],
         "yaxis": "y"
        },
        {
         "hovertemplate": "<b>%{hovertext}</b><br><br>location=Cuba<br>human_development_index=%{x}<br>gdp_per_capita=%{y}<br>population=%{marker.size}<extra></extra>",
         "hovertext": [
          "Cuba"
         ],
         "legendgroup": "Cuba",
         "marker": {
          "color": "#7F7F7F",
          "size": [
           11326616
          ],
          "sizemode": "area",
          "sizeref": 293739.5457142857,
          "symbol": "circle"
         },
         "mode": "markers",
         "name": "Cuba",
         "orientation": "v",
         "showlegend": true,
         "type": "scatter",
         "x": [
          0.777
         ],
         "xaxis": "x",
         "y": [
          null
         ],
         "yaxis": "y"
        },
        {
         "hovertemplate": "<b>%{hovertext}</b><br><br>location=Curacao<br>human_development_index=%{x}<br>gdp_per_capita=%{y}<br>population=%{marker.size}<extra></extra>",
         "hovertext": [
          "Curacao"
         ],
         "legendgroup": "Curacao",
         "marker": {
          "color": "#BCBD22",
          "size": [
           164100
          ],
          "sizemode": "area",
          "sizeref": 293739.5457142857,
          "symbol": "circle"
         },
         "mode": "markers",
         "name": "Curacao",
         "orientation": "v",
         "showlegend": true,
         "type": "scatter",
         "x": [
          null
         ],
         "xaxis": "x",
         "y": [
          null
         ],
         "yaxis": "y"
        },
        {
         "hovertemplate": "<b>%{hovertext}</b><br><br>location=Cyprus<br>human_development_index=%{x}<br>gdp_per_capita=%{y}<br>population=%{marker.size}<extra></extra>",
         "hovertext": [
          "Cyprus"
         ],
         "legendgroup": "Cyprus",
         "marker": {
          "color": "#17BECF",
          "size": [
           875899
          ],
          "sizemode": "area",
          "sizeref": 293739.5457142857,
          "symbol": "circle"
         },
         "mode": "markers",
         "name": "Cyprus",
         "orientation": "v",
         "showlegend": true,
         "type": "scatter",
         "x": [
          0.869
         ],
         "xaxis": "x",
         "y": [
          32415.132
         ],
         "yaxis": "y"
        },
        {
         "hovertemplate": "<b>%{hovertext}</b><br><br>location=Czech Republic<br>human_development_index=%{x}<br>gdp_per_capita=%{y}<br>population=%{marker.size}<extra></extra>",
         "hovertext": [
          "Czech Republic"
         ],
         "legendgroup": "Czech Republic",
         "marker": {
          "color": "#1F77B4",
          "size": [
           10708982
          ],
          "sizemode": "area",
          "sizeref": 293739.5457142857,
          "symbol": "circle"
         },
         "mode": "markers",
         "name": "Czech Republic",
         "orientation": "v",
         "showlegend": true,
         "type": "scatter",
         "x": [
          0.888
         ],
         "xaxis": "x",
         "y": [
          32605.906
         ],
         "yaxis": "y"
        },
        {
         "hovertemplate": "<b>%{hovertext}</b><br><br>location=Democratic Republic of Congo<br>human_development_index=%{x}<br>gdp_per_capita=%{y}<br>population=%{marker.size}<extra></extra>",
         "hovertext": [
          "Democratic Republic of Congo"
         ],
         "legendgroup": "Democratic Republic of Congo",
         "marker": {
          "color": "#FF7F0E",
          "size": [
           89561404
          ],
          "sizemode": "area",
          "sizeref": 293739.5457142857,
          "symbol": "circle"
         },
         "mode": "markers",
         "name": "Democratic Republic of Congo",
         "orientation": "v",
         "showlegend": true,
         "type": "scatter",
         "x": [
          0.457
         ],
         "xaxis": "x",
         "y": [
          808.133
         ],
         "yaxis": "y"
        },
        {
         "hovertemplate": "<b>%{hovertext}</b><br><br>location=Denmark<br>human_development_index=%{x}<br>gdp_per_capita=%{y}<br>population=%{marker.size}<extra></extra>",
         "hovertext": [
          "Denmark"
         ],
         "legendgroup": "Denmark",
         "marker": {
          "color": "#2CA02C",
          "size": [
           5792203
          ],
          "sizemode": "area",
          "sizeref": 293739.5457142857,
          "symbol": "circle"
         },
         "mode": "markers",
         "name": "Denmark",
         "orientation": "v",
         "showlegend": true,
         "type": "scatter",
         "x": [
          0.9290000000000002
         ],
         "xaxis": "x",
         "y": [
          46682.515
         ],
         "yaxis": "y"
        },
        {
         "hovertemplate": "<b>%{hovertext}</b><br><br>location=Djibouti<br>human_development_index=%{x}<br>gdp_per_capita=%{y}<br>population=%{marker.size}<extra></extra>",
         "hovertext": [
          "Djibouti"
         ],
         "legendgroup": "Djibouti",
         "marker": {
          "color": "#D62728",
          "size": [
           988002
          ],
          "sizemode": "area",
          "sizeref": 293739.5457142857,
          "symbol": "circle"
         },
         "mode": "markers",
         "name": "Djibouti",
         "orientation": "v",
         "showlegend": true,
         "type": "scatter",
         "x": [
          0.4759999999999999
         ],
         "xaxis": "x",
         "y": [
          2705.406
         ],
         "yaxis": "y"
        },
        {
         "hovertemplate": "<b>%{hovertext}</b><br><br>location=Dominica<br>human_development_index=%{x}<br>gdp_per_capita=%{y}<br>population=%{marker.size}<extra></extra>",
         "hovertext": [
          "Dominica"
         ],
         "legendgroup": "Dominica",
         "marker": {
          "color": "#9467BD",
          "size": [
           71991
          ],
          "sizemode": "area",
          "sizeref": 293739.5457142857,
          "symbol": "circle"
         },
         "mode": "markers",
         "name": "Dominica",
         "orientation": "v",
         "showlegend": true,
         "type": "scatter",
         "x": [
          0.7149999999999999
         ],
         "xaxis": "x",
         "y": [
          9673.367
         ],
         "yaxis": "y"
        },
        {
         "hovertemplate": "<b>%{hovertext}</b><br><br>location=Dominican Republic<br>human_development_index=%{x}<br>gdp_per_capita=%{y}<br>population=%{marker.size}<extra></extra>",
         "hovertext": [
          "Dominican Republic"
         ],
         "legendgroup": "Dominican Republic",
         "marker": {
          "color": "#8C564B",
          "size": [
           10847904
          ],
          "sizemode": "area",
          "sizeref": 293739.5457142857,
          "symbol": "circle"
         },
         "mode": "markers",
         "name": "Dominican Republic",
         "orientation": "v",
         "showlegend": true,
         "type": "scatter",
         "x": [
          0.736
         ],
         "xaxis": "x",
         "y": [
          14600.861000000003
         ],
         "yaxis": "y"
        },
        {
         "hovertemplate": "<b>%{hovertext}</b><br><br>location=Ecuador<br>human_development_index=%{x}<br>gdp_per_capita=%{y}<br>population=%{marker.size}<extra></extra>",
         "hovertext": [
          "Ecuador"
         ],
         "legendgroup": "Ecuador",
         "marker": {
          "color": "#E377C2",
          "size": [
           17643060
          ],
          "sizemode": "area",
          "sizeref": 293739.5457142857,
          "symbol": "circle"
         },
         "mode": "markers",
         "name": "Ecuador",
         "orientation": "v",
         "showlegend": true,
         "type": "scatter",
         "x": [
          0.752
         ],
         "xaxis": "x",
         "y": [
          10581.936
         ],
         "yaxis": "y"
        },
        {
         "hovertemplate": "<b>%{hovertext}</b><br><br>location=Egypt<br>human_development_index=%{x}<br>gdp_per_capita=%{y}<br>population=%{marker.size}<extra></extra>",
         "hovertext": [
          "Egypt"
         ],
         "legendgroup": "Egypt",
         "marker": {
          "color": "#7F7F7F",
          "size": [
           102334403
          ],
          "sizemode": "area",
          "sizeref": 293739.5457142857,
          "symbol": "circle"
         },
         "mode": "markers",
         "name": "Egypt",
         "orientation": "v",
         "showlegend": true,
         "type": "scatter",
         "x": [
          0.696
         ],
         "xaxis": "x",
         "y": [
          10550.206
         ],
         "yaxis": "y"
        },
        {
         "hovertemplate": "<b>%{hovertext}</b><br><br>location=El Salvador<br>human_development_index=%{x}<br>gdp_per_capita=%{y}<br>population=%{marker.size}<extra></extra>",
         "hovertext": [
          "El Salvador"
         ],
         "legendgroup": "El Salvador",
         "marker": {
          "color": "#BCBD22",
          "size": [
           6486201
          ],
          "sizemode": "area",
          "sizeref": 293739.5457142857,
          "symbol": "circle"
         },
         "mode": "markers",
         "name": "El Salvador",
         "orientation": "v",
         "showlegend": true,
         "type": "scatter",
         "x": [
          0.6739999999999999
         ],
         "xaxis": "x",
         "y": [
          7292.458
         ],
         "yaxis": "y"
        },
        {
         "hovertemplate": "<b>%{hovertext}</b><br><br>location=Equatorial Guinea<br>human_development_index=%{x}<br>gdp_per_capita=%{y}<br>population=%{marker.size}<extra></extra>",
         "hovertext": [
          "Equatorial Guinea"
         ],
         "legendgroup": "Equatorial Guinea",
         "marker": {
          "color": "#17BECF",
          "size": [
           1402985
          ],
          "sizemode": "area",
          "sizeref": 293739.5457142857,
          "symbol": "circle"
         },
         "mode": "markers",
         "name": "Equatorial Guinea",
         "orientation": "v",
         "showlegend": true,
         "type": "scatter",
         "x": [
          0.591
         ],
         "xaxis": "x",
         "y": [
          22604.873
         ],
         "yaxis": "y"
        },
        {
         "hovertemplate": "<b>%{hovertext}</b><br><br>location=Eritrea<br>human_development_index=%{x}<br>gdp_per_capita=%{y}<br>population=%{marker.size}<extra></extra>",
         "hovertext": [
          "Eritrea"
         ],
         "legendgroup": "Eritrea",
         "marker": {
          "color": "#1F77B4",
          "size": [
           3546427
          ],
          "sizemode": "area",
          "sizeref": 293739.5457142857,
          "symbol": "circle"
         },
         "mode": "markers",
         "name": "Eritrea",
         "orientation": "v",
         "showlegend": true,
         "type": "scatter",
         "x": [
          0.44
         ],
         "xaxis": "x",
         "y": [
          1510.459
         ],
         "yaxis": "y"
        },
        {
         "hovertemplate": "<b>%{hovertext}</b><br><br>location=Estonia<br>human_development_index=%{x}<br>gdp_per_capita=%{y}<br>population=%{marker.size}<extra></extra>",
         "hovertext": [
          "Estonia"
         ],
         "legendgroup": "Estonia",
         "marker": {
          "color": "#FF7F0E",
          "size": [
           1326539
          ],
          "sizemode": "area",
          "sizeref": 293739.5457142857,
          "symbol": "circle"
         },
         "mode": "markers",
         "name": "Estonia",
         "orientation": "v",
         "showlegend": true,
         "type": "scatter",
         "x": [
          0.871
         ],
         "xaxis": "x",
         "y": [
          29481.251999999997
         ],
         "yaxis": "y"
        },
        {
         "hovertemplate": "<b>%{hovertext}</b><br><br>location=Ethiopia<br>human_development_index=%{x}<br>gdp_per_capita=%{y}<br>population=%{marker.size}<extra></extra>",
         "hovertext": [
          "Ethiopia"
         ],
         "legendgroup": "Ethiopia",
         "marker": {
          "color": "#2CA02C",
          "size": [
           114963583
          ],
          "sizemode": "area",
          "sizeref": 293739.5457142857,
          "symbol": "circle"
         },
         "mode": "markers",
         "name": "Ethiopia",
         "orientation": "v",
         "showlegend": true,
         "type": "scatter",
         "x": [
          0.463
         ],
         "xaxis": "x",
         "y": [
          1729.927
         ],
         "yaxis": "y"
        },
        {
         "hovertemplate": "<b>%{hovertext}</b><br><br>location=Faeroe Islands<br>human_development_index=%{x}<br>gdp_per_capita=%{y}<br>population=%{marker.size}<extra></extra>",
         "hovertext": [
          "Faeroe Islands"
         ],
         "legendgroup": "Faeroe Islands",
         "marker": {
          "color": "#D62728",
          "size": [
           48865
          ],
          "sizemode": "area",
          "sizeref": 293739.5457142857,
          "symbol": "circle"
         },
         "mode": "markers",
         "name": "Faeroe Islands",
         "orientation": "v",
         "showlegend": true,
         "type": "scatter",
         "x": [
          null
         ],
         "xaxis": "x",
         "y": [
          null
         ],
         "yaxis": "y"
        },
        {
         "hovertemplate": "<b>%{hovertext}</b><br><br>location=Falkland Islands<br>human_development_index=%{x}<br>gdp_per_capita=%{y}<br>population=%{marker.size}<extra></extra>",
         "hovertext": [
          "Falkland Islands"
         ],
         "legendgroup": "Falkland Islands",
         "marker": {
          "color": "#9467BD",
          "size": [
           3483
          ],
          "sizemode": "area",
          "sizeref": 293739.5457142857,
          "symbol": "circle"
         },
         "mode": "markers",
         "name": "Falkland Islands",
         "orientation": "v",
         "showlegend": true,
         "type": "scatter",
         "x": [
          null
         ],
         "xaxis": "x",
         "y": [
          null
         ],
         "yaxis": "y"
        },
        {
         "hovertemplate": "<b>%{hovertext}</b><br><br>location=Fiji<br>human_development_index=%{x}<br>gdp_per_capita=%{y}<br>population=%{marker.size}<extra></extra>",
         "hovertext": [
          "Fiji"
         ],
         "legendgroup": "Fiji",
         "marker": {
          "color": "#8C564B",
          "size": [
           896444
          ],
          "sizemode": "area",
          "sizeref": 293739.5457142857,
          "symbol": "circle"
         },
         "mode": "markers",
         "name": "Fiji",
         "orientation": "v",
         "showlegend": true,
         "type": "scatter",
         "x": [
          0.741
         ],
         "xaxis": "x",
         "y": [
          8702.975
         ],
         "yaxis": "y"
        },
        {
         "hovertemplate": "<b>%{hovertext}</b><br><br>location=Finland<br>human_development_index=%{x}<br>gdp_per_capita=%{y}<br>population=%{marker.size}<extra></extra>",
         "hovertext": [
          "Finland"
         ],
         "legendgroup": "Finland",
         "marker": {
          "color": "#E377C2",
          "size": [
           5540718
          ],
          "sizemode": "area",
          "sizeref": 293739.5457142857,
          "symbol": "circle"
         },
         "mode": "markers",
         "name": "Finland",
         "orientation": "v",
         "showlegend": true,
         "type": "scatter",
         "x": [
          0.92
         ],
         "xaxis": "x",
         "y": [
          40585.721
         ],
         "yaxis": "y"
        },
        {
         "hovertemplate": "<b>%{hovertext}</b><br><br>location=France<br>human_development_index=%{x}<br>gdp_per_capita=%{y}<br>population=%{marker.size}<extra></extra>",
         "hovertext": [
          "France"
         ],
         "legendgroup": "France",
         "marker": {
          "color": "#7F7F7F",
          "size": [
           65273512
          ],
          "sizemode": "area",
          "sizeref": 293739.5457142857,
          "symbol": "circle"
         },
         "mode": "markers",
         "name": "France",
         "orientation": "v",
         "showlegend": true,
         "type": "scatter",
         "x": [
          0.901
         ],
         "xaxis": "x",
         "y": [
          38605.671
         ],
         "yaxis": "y"
        },
        {
         "hovertemplate": "<b>%{hovertext}</b><br><br>location=French Polynesia<br>human_development_index=%{x}<br>gdp_per_capita=%{y}<br>population=%{marker.size}<extra></extra>",
         "hovertext": [
          "French Polynesia"
         ],
         "legendgroup": "French Polynesia",
         "marker": {
          "color": "#BCBD22",
          "size": [
           280904
          ],
          "sizemode": "area",
          "sizeref": 293739.5457142857,
          "symbol": "circle"
         },
         "mode": "markers",
         "name": "French Polynesia",
         "orientation": "v",
         "showlegend": true,
         "type": "scatter",
         "x": [
          null
         ],
         "xaxis": "x",
         "y": [
          null
         ],
         "yaxis": "y"
        },
        {
         "hovertemplate": "<b>%{hovertext}</b><br><br>location=Gabon<br>human_development_index=%{x}<br>gdp_per_capita=%{y}<br>population=%{marker.size}<extra></extra>",
         "hovertext": [
          "Gabon"
         ],
         "legendgroup": "Gabon",
         "marker": {
          "color": "#17BECF",
          "size": [
           2225728
          ],
          "sizemode": "area",
          "sizeref": 293739.5457142857,
          "symbol": "circle"
         },
         "mode": "markers",
         "name": "Gabon",
         "orientation": "v",
         "showlegend": true,
         "type": "scatter",
         "x": [
          0.702
         ],
         "xaxis": "x",
         "y": [
          16562.413
         ],
         "yaxis": "y"
        },
        {
         "hovertemplate": "<b>%{hovertext}</b><br><br>location=Gambia<br>human_development_index=%{x}<br>gdp_per_capita=%{y}<br>population=%{marker.size}<extra></extra>",
         "hovertext": [
          "Gambia"
         ],
         "legendgroup": "Gambia",
         "marker": {
          "color": "#1F77B4",
          "size": [
           2416664
          ],
          "sizemode": "area",
          "sizeref": 293739.5457142857,
          "symbol": "circle"
         },
         "mode": "markers",
         "name": "Gambia",
         "orientation": "v",
         "showlegend": true,
         "type": "scatter",
         "x": [
          0.46
         ],
         "xaxis": "x",
         "y": [
          1561.767
         ],
         "yaxis": "y"
        },
        {
         "hovertemplate": "<b>%{hovertext}</b><br><br>location=Georgia<br>human_development_index=%{x}<br>gdp_per_capita=%{y}<br>population=%{marker.size}<extra></extra>",
         "hovertext": [
          "Georgia"
         ],
         "legendgroup": "Georgia",
         "marker": {
          "color": "#FF7F0E",
          "size": [
           3989175
          ],
          "sizemode": "area",
          "sizeref": 293739.5457142857,
          "symbol": "circle"
         },
         "mode": "markers",
         "name": "Georgia",
         "orientation": "v",
         "showlegend": true,
         "type": "scatter",
         "x": [
          0.78
         ],
         "xaxis": "x",
         "y": [
          9745.079
         ],
         "yaxis": "y"
        },
        {
         "hovertemplate": "<b>%{hovertext}</b><br><br>location=Germany<br>human_development_index=%{x}<br>gdp_per_capita=%{y}<br>population=%{marker.size}<extra></extra>",
         "hovertext": [
          "Germany"
         ],
         "legendgroup": "Germany",
         "marker": {
          "color": "#2CA02C",
          "size": [
           83783945
          ],
          "sizemode": "area",
          "sizeref": 293739.5457142857,
          "symbol": "circle"
         },
         "mode": "markers",
         "name": "Germany",
         "orientation": "v",
         "showlegend": true,
         "type": "scatter",
         "x": [
          0.936
         ],
         "xaxis": "x",
         "y": [
          45229.245
         ],
         "yaxis": "y"
        },
        {
         "hovertemplate": "<b>%{hovertext}</b><br><br>location=Ghana<br>human_development_index=%{x}<br>gdp_per_capita=%{y}<br>population=%{marker.size}<extra></extra>",
         "hovertext": [
          "Ghana"
         ],
         "legendgroup": "Ghana",
         "marker": {
          "color": "#D62728",
          "size": [
           31072945
          ],
          "sizemode": "area",
          "sizeref": 293739.5457142857,
          "symbol": "circle"
         },
         "mode": "markers",
         "name": "Ghana",
         "orientation": "v",
         "showlegend": true,
         "type": "scatter",
         "x": [
          0.5919999999999999
         ],
         "xaxis": "x",
         "y": [
          4227.63
         ],
         "yaxis": "y"
        },
        {
         "hovertemplate": "<b>%{hovertext}</b><br><br>location=Gibraltar<br>human_development_index=%{x}<br>gdp_per_capita=%{y}<br>population=%{marker.size}<extra></extra>",
         "hovertext": [
          "Gibraltar"
         ],
         "legendgroup": "Gibraltar",
         "marker": {
          "color": "#9467BD",
          "size": [
           33691
          ],
          "sizemode": "area",
          "sizeref": 293739.5457142857,
          "symbol": "circle"
         },
         "mode": "markers",
         "name": "Gibraltar",
         "orientation": "v",
         "showlegend": true,
         "type": "scatter",
         "x": [
          null
         ],
         "xaxis": "x",
         "y": [
          null
         ],
         "yaxis": "y"
        },
        {
         "hovertemplate": "<b>%{hovertext}</b><br><br>location=Greece<br>human_development_index=%{x}<br>gdp_per_capita=%{y}<br>population=%{marker.size}<extra></extra>",
         "hovertext": [
          "Greece"
         ],
         "legendgroup": "Greece",
         "marker": {
          "color": "#8C564B",
          "size": [
           10423056
          ],
          "sizemode": "area",
          "sizeref": 293739.5457142857,
          "symbol": "circle"
         },
         "mode": "markers",
         "name": "Greece",
         "orientation": "v",
         "showlegend": true,
         "type": "scatter",
         "x": [
          0.87
         ],
         "xaxis": "x",
         "y": [
          24574.382
         ],
         "yaxis": "y"
        },
        {
         "hovertemplate": "<b>%{hovertext}</b><br><br>location=Greenland<br>human_development_index=%{x}<br>gdp_per_capita=%{y}<br>population=%{marker.size}<extra></extra>",
         "hovertext": [
          "Greenland"
         ],
         "legendgroup": "Greenland",
         "marker": {
          "color": "#E377C2",
          "size": [
           56772
          ],
          "sizemode": "area",
          "sizeref": 293739.5457142857,
          "symbol": "circle"
         },
         "mode": "markers",
         "name": "Greenland",
         "orientation": "v",
         "showlegend": true,
         "type": "scatter",
         "x": [
          null
         ],
         "xaxis": "x",
         "y": [
          null
         ],
         "yaxis": "y"
        },
        {
         "hovertemplate": "<b>%{hovertext}</b><br><br>location=Grenada<br>human_development_index=%{x}<br>gdp_per_capita=%{y}<br>population=%{marker.size}<extra></extra>",
         "hovertext": [
          "Grenada"
         ],
         "legendgroup": "Grenada",
         "marker": {
          "color": "#7F7F7F",
          "size": [
           112519
          ],
          "sizemode": "area",
          "sizeref": 293739.5457142857,
          "symbol": "circle"
         },
         "mode": "markers",
         "name": "Grenada",
         "orientation": "v",
         "showlegend": true,
         "type": "scatter",
         "x": [
          0.772
         ],
         "xaxis": "x",
         "y": [
          13593.877
         ],
         "yaxis": "y"
        },
        {
         "hovertemplate": "<b>%{hovertext}</b><br><br>location=Guam<br>human_development_index=%{x}<br>gdp_per_capita=%{y}<br>population=%{marker.size}<extra></extra>",
         "hovertext": [
          "Guam"
         ],
         "legendgroup": "Guam",
         "marker": {
          "color": "#BCBD22",
          "size": [
           168783
          ],
          "sizemode": "area",
          "sizeref": 293739.5457142857,
          "symbol": "circle"
         },
         "mode": "markers",
         "name": "Guam",
         "orientation": "v",
         "showlegend": true,
         "type": "scatter",
         "x": [
          null
         ],
         "xaxis": "x",
         "y": [
          null
         ],
         "yaxis": "y"
        },
        {
         "hovertemplate": "<b>%{hovertext}</b><br><br>location=Guatemala<br>human_development_index=%{x}<br>gdp_per_capita=%{y}<br>population=%{marker.size}<extra></extra>",
         "hovertext": [
          "Guatemala"
         ],
         "legendgroup": "Guatemala",
         "marker": {
          "color": "#17BECF",
          "size": [
           17915567
          ],
          "sizemode": "area",
          "sizeref": 293739.5457142857,
          "symbol": "circle"
         },
         "mode": "markers",
         "name": "Guatemala",
         "orientation": "v",
         "showlegend": true,
         "type": "scatter",
         "x": [
          0.65
         ],
         "xaxis": "x",
         "y": [
          7423.808
         ],
         "yaxis": "y"
        },
        {
         "hovertemplate": "<b>%{hovertext}</b><br><br>location=Guernsey<br>human_development_index=%{x}<br>gdp_per_capita=%{y}<br>population=%{marker.size}<extra></extra>",
         "hovertext": [
          "Guernsey"
         ],
         "legendgroup": "Guernsey",
         "marker": {
          "color": "#1F77B4",
          "size": [
           67052
          ],
          "sizemode": "area",
          "sizeref": 293739.5457142857,
          "symbol": "circle"
         },
         "mode": "markers",
         "name": "Guernsey",
         "orientation": "v",
         "showlegend": true,
         "type": "scatter",
         "x": [
          null
         ],
         "xaxis": "x",
         "y": [
          null
         ],
         "yaxis": "y"
        },
        {
         "hovertemplate": "<b>%{hovertext}</b><br><br>location=Guinea<br>human_development_index=%{x}<br>gdp_per_capita=%{y}<br>population=%{marker.size}<extra></extra>",
         "hovertext": [
          "Guinea"
         ],
         "legendgroup": "Guinea",
         "marker": {
          "color": "#FF7F0E",
          "size": [
           13132792
          ],
          "sizemode": "area",
          "sizeref": 293739.5457142857,
          "symbol": "circle"
         },
         "mode": "markers",
         "name": "Guinea",
         "orientation": "v",
         "showlegend": true,
         "type": "scatter",
         "x": [
          0.459
         ],
         "xaxis": "x",
         "y": [
          1998.926
         ],
         "yaxis": "y"
        },
        {
         "hovertemplate": "<b>%{hovertext}</b><br><br>location=Guinea-Bissau<br>human_development_index=%{x}<br>gdp_per_capita=%{y}<br>population=%{marker.size}<extra></extra>",
         "hovertext": [
          "Guinea-Bissau"
         ],
         "legendgroup": "Guinea-Bissau",
         "marker": {
          "color": "#2CA02C",
          "size": [
           1967998
          ],
          "sizemode": "area",
          "sizeref": 293739.5457142857,
          "symbol": "circle"
         },
         "mode": "markers",
         "name": "Guinea-Bissau",
         "orientation": "v",
         "showlegend": true,
         "type": "scatter",
         "x": [
          0.455
         ],
         "xaxis": "x",
         "y": [
          1548.675
         ],
         "yaxis": "y"
        },
        {
         "hovertemplate": "<b>%{hovertext}</b><br><br>location=Guyana<br>human_development_index=%{x}<br>gdp_per_capita=%{y}<br>population=%{marker.size}<extra></extra>",
         "hovertext": [
          "Guyana"
         ],
         "legendgroup": "Guyana",
         "marker": {
          "color": "#D62728",
          "size": [
           786559
          ],
          "sizemode": "area",
          "sizeref": 293739.5457142857,
          "symbol": "circle"
         },
         "mode": "markers",
         "name": "Guyana",
         "orientation": "v",
         "showlegend": true,
         "type": "scatter",
         "x": [
          0.654
         ],
         "xaxis": "x",
         "y": [
          7435.047
         ],
         "yaxis": "y"
        },
        {
         "hovertemplate": "<b>%{hovertext}</b><br><br>location=Haiti<br>human_development_index=%{x}<br>gdp_per_capita=%{y}<br>population=%{marker.size}<extra></extra>",
         "hovertext": [
          "Haiti"
         ],
         "legendgroup": "Haiti",
         "marker": {
          "color": "#9467BD",
          "size": [
           11402533
          ],
          "sizemode": "area",
          "sizeref": 293739.5457142857,
          "symbol": "circle"
         },
         "mode": "markers",
         "name": "Haiti",
         "orientation": "v",
         "showlegend": true,
         "type": "scatter",
         "x": [
          0.498
         ],
         "xaxis": "x",
         "y": [
          1653.173
         ],
         "yaxis": "y"
        },
        {
         "hovertemplate": "<b>%{hovertext}</b><br><br>location=Honduras<br>human_development_index=%{x}<br>gdp_per_capita=%{y}<br>population=%{marker.size}<extra></extra>",
         "hovertext": [
          "Honduras"
         ],
         "legendgroup": "Honduras",
         "marker": {
          "color": "#8C564B",
          "size": [
           9904608
          ],
          "sizemode": "area",
          "sizeref": 293739.5457142857,
          "symbol": "circle"
         },
         "mode": "markers",
         "name": "Honduras",
         "orientation": "v",
         "showlegend": true,
         "type": "scatter",
         "x": [
          0.617
         ],
         "xaxis": "x",
         "y": [
          4541.795
         ],
         "yaxis": "y"
        },
        {
         "hovertemplate": "<b>%{hovertext}</b><br><br>location=Hong Kong<br>human_development_index=%{x}<br>gdp_per_capita=%{y}<br>population=%{marker.size}<extra></extra>",
         "hovertext": [
          "Hong Kong"
         ],
         "legendgroup": "Hong Kong",
         "marker": {
          "color": "#E377C2",
          "size": [
           7496988
          ],
          "sizemode": "area",
          "sizeref": 293739.5457142857,
          "symbol": "circle"
         },
         "mode": "markers",
         "name": "Hong Kong",
         "orientation": "v",
         "showlegend": true,
         "type": "scatter",
         "x": [
          0.9330000000000002
         ],
         "xaxis": "x",
         "y": [
          56054.92
         ],
         "yaxis": "y"
        },
        {
         "hovertemplate": "<b>%{hovertext}</b><br><br>location=Hungary<br>human_development_index=%{x}<br>gdp_per_capita=%{y}<br>population=%{marker.size}<extra></extra>",
         "hovertext": [
          "Hungary"
         ],
         "legendgroup": "Hungary",
         "marker": {
          "color": "#7F7F7F",
          "size": [
           9660350
          ],
          "sizemode": "area",
          "sizeref": 293739.5457142857,
          "symbol": "circle"
         },
         "mode": "markers",
         "name": "Hungary",
         "orientation": "v",
         "showlegend": true,
         "type": "scatter",
         "x": [
          0.838
         ],
         "xaxis": "x",
         "y": [
          26777.561
         ],
         "yaxis": "y"
        },
        {
         "hovertemplate": "<b>%{hovertext}</b><br><br>location=Iceland<br>human_development_index=%{x}<br>gdp_per_capita=%{y}<br>population=%{marker.size}<extra></extra>",
         "hovertext": [
          "Iceland"
         ],
         "legendgroup": "Iceland",
         "marker": {
          "color": "#BCBD22",
          "size": [
           341250
          ],
          "sizemode": "area",
          "sizeref": 293739.5457142857,
          "symbol": "circle"
         },
         "mode": "markers",
         "name": "Iceland",
         "orientation": "v",
         "showlegend": true,
         "type": "scatter",
         "x": [
          0.9350000000000002
         ],
         "xaxis": "x",
         "y": [
          46482.958
         ],
         "yaxis": "y"
        },
        {
         "hovertemplate": "<b>%{hovertext}</b><br><br>location=India<br>human_development_index=%{x}<br>gdp_per_capita=%{y}<br>population=%{marker.size}<extra></extra>",
         "hovertext": [
          "India"
         ],
         "legendgroup": "India",
         "marker": {
          "color": "#17BECF",
          "size": [
           1380004385
          ],
          "sizemode": "area",
          "sizeref": 293739.5457142857,
          "symbol": "circle"
         },
         "mode": "markers",
         "name": "India",
         "orientation": "v",
         "showlegend": true,
         "type": "scatter",
         "x": [
          0.64
         ],
         "xaxis": "x",
         "y": [
          6426.674
         ],
         "yaxis": "y"
        },
        {
         "hovertemplate": "<b>%{hovertext}</b><br><br>location=Indonesia<br>human_development_index=%{x}<br>gdp_per_capita=%{y}<br>population=%{marker.size}<extra></extra>",
         "hovertext": [
          "Indonesia"
         ],
         "legendgroup": "Indonesia",
         "marker": {
          "color": "#1F77B4",
          "size": [
           273523621
          ],
          "sizemode": "area",
          "sizeref": 293739.5457142857,
          "symbol": "circle"
         },
         "mode": "markers",
         "name": "Indonesia",
         "orientation": "v",
         "showlegend": true,
         "type": "scatter",
         "x": [
          0.694
         ],
         "xaxis": "x",
         "y": [
          11188.744
         ],
         "yaxis": "y"
        },
        {
         "hovertemplate": "<b>%{hovertext}</b><br><br>location=Iran<br>human_development_index=%{x}<br>gdp_per_capita=%{y}<br>population=%{marker.size}<extra></extra>",
         "hovertext": [
          "Iran"
         ],
         "legendgroup": "Iran",
         "marker": {
          "color": "#FF7F0E",
          "size": [
           83992953
          ],
          "sizemode": "area",
          "sizeref": 293739.5457142857,
          "symbol": "circle"
         },
         "mode": "markers",
         "name": "Iran",
         "orientation": "v",
         "showlegend": true,
         "type": "scatter",
         "x": [
          0.798
         ],
         "xaxis": "x",
         "y": [
          19082.62
         ],
         "yaxis": "y"
        },
        {
         "hovertemplate": "<b>%{hovertext}</b><br><br>location=Iraq<br>human_development_index=%{x}<br>gdp_per_capita=%{y}<br>population=%{marker.size}<extra></extra>",
         "hovertext": [
          "Iraq"
         ],
         "legendgroup": "Iraq",
         "marker": {
          "color": "#2CA02C",
          "size": [
           40222503
          ],
          "sizemode": "area",
          "sizeref": 293739.5457142857,
          "symbol": "circle"
         },
         "mode": "markers",
         "name": "Iraq",
         "orientation": "v",
         "showlegend": true,
         "type": "scatter",
         "x": [
          0.685
         ],
         "xaxis": "x",
         "y": [
          15663.986000000003
         ],
         "yaxis": "y"
        },
        {
         "hovertemplate": "<b>%{hovertext}</b><br><br>location=Ireland<br>human_development_index=%{x}<br>gdp_per_capita=%{y}<br>population=%{marker.size}<extra></extra>",
         "hovertext": [
          "Ireland"
         ],
         "legendgroup": "Ireland",
         "marker": {
          "color": "#D62728",
          "size": [
           4937796
          ],
          "sizemode": "area",
          "sizeref": 293739.5457142857,
          "symbol": "circle"
         },
         "mode": "markers",
         "name": "Ireland",
         "orientation": "v",
         "showlegend": true,
         "type": "scatter",
         "x": [
          0.938
         ],
         "xaxis": "x",
         "y": [
          67335.293
         ],
         "yaxis": "y"
        },
        {
         "hovertemplate": "<b>%{hovertext}</b><br><br>location=Isle of Man<br>human_development_index=%{x}<br>gdp_per_capita=%{y}<br>population=%{marker.size}<extra></extra>",
         "hovertext": [
          "Isle of Man"
         ],
         "legendgroup": "Isle of Man",
         "marker": {
          "color": "#9467BD",
          "size": [
           85032
          ],
          "sizemode": "area",
          "sizeref": 293739.5457142857,
          "symbol": "circle"
         },
         "mode": "markers",
         "name": "Isle of Man",
         "orientation": "v",
         "showlegend": true,
         "type": "scatter",
         "x": [
          null
         ],
         "xaxis": "x",
         "y": [
          null
         ],
         "yaxis": "y"
        },
        {
         "hovertemplate": "<b>%{hovertext}</b><br><br>location=Israel<br>human_development_index=%{x}<br>gdp_per_capita=%{y}<br>population=%{marker.size}<extra></extra>",
         "hovertext": [
          "Israel"
         ],
         "legendgroup": "Israel",
         "marker": {
          "color": "#8C564B",
          "size": [
           8655541
          ],
          "sizemode": "area",
          "sizeref": 293739.5457142857,
          "symbol": "circle"
         },
         "mode": "markers",
         "name": "Israel",
         "orientation": "v",
         "showlegend": true,
         "type": "scatter",
         "x": [
          0.9030000000000001
         ],
         "xaxis": "x",
         "y": [
          33132.32
         ],
         "yaxis": "y"
        },
        {
         "hovertemplate": "<b>%{hovertext}</b><br><br>location=Italy<br>human_development_index=%{x}<br>gdp_per_capita=%{y}<br>population=%{marker.size}<extra></extra>",
         "hovertext": [
          "Italy"
         ],
         "legendgroup": "Italy",
         "marker": {
          "color": "#E377C2",
          "size": [
           60461828
          ],
          "sizemode": "area",
          "sizeref": 293739.5457142857,
          "symbol": "circle"
         },
         "mode": "markers",
         "name": "Italy",
         "orientation": "v",
         "showlegend": true,
         "type": "scatter",
         "x": [
          0.8800000000000001
         ],
         "xaxis": "x",
         "y": [
          35220.084
         ],
         "yaxis": "y"
        },
        {
         "hovertemplate": "<b>%{hovertext}</b><br><br>location=Jamaica<br>human_development_index=%{x}<br>gdp_per_capita=%{y}<br>population=%{marker.size}<extra></extra>",
         "hovertext": [
          "Jamaica"
         ],
         "legendgroup": "Jamaica",
         "marker": {
          "color": "#7F7F7F",
          "size": [
           2961161
          ],
          "sizemode": "area",
          "sizeref": 293739.5457142857,
          "symbol": "circle"
         },
         "mode": "markers",
         "name": "Jamaica",
         "orientation": "v",
         "showlegend": true,
         "type": "scatter",
         "x": [
          0.732
         ],
         "xaxis": "x",
         "y": [
          8193.571
         ],
         "yaxis": "y"
        },
        {
         "hovertemplate": "<b>%{hovertext}</b><br><br>location=Japan<br>human_development_index=%{x}<br>gdp_per_capita=%{y}<br>population=%{marker.size}<extra></extra>",
         "hovertext": [
          "Japan"
         ],
         "legendgroup": "Japan",
         "marker": {
          "color": "#BCBD22",
          "size": [
           126476458
          ],
          "sizemode": "area",
          "sizeref": 293739.5457142857,
          "symbol": "circle"
         },
         "mode": "markers",
         "name": "Japan",
         "orientation": "v",
         "showlegend": true,
         "type": "scatter",
         "x": [
          0.9089999999999999
         ],
         "xaxis": "x",
         "y": [
          39002.223
         ],
         "yaxis": "y"
        },
        {
         "hovertemplate": "<b>%{hovertext}</b><br><br>location=Jersey<br>human_development_index=%{x}<br>gdp_per_capita=%{y}<br>population=%{marker.size}<extra></extra>",
         "hovertext": [
          "Jersey"
         ],
         "legendgroup": "Jersey",
         "marker": {
          "color": "#17BECF",
          "size": [
           101073
          ],
          "sizemode": "area",
          "sizeref": 293739.5457142857,
          "symbol": "circle"
         },
         "mode": "markers",
         "name": "Jersey",
         "orientation": "v",
         "showlegend": true,
         "type": "scatter",
         "x": [
          null
         ],
         "xaxis": "x",
         "y": [
          null
         ],
         "yaxis": "y"
        },
        {
         "hovertemplate": "<b>%{hovertext}</b><br><br>location=Jordan<br>human_development_index=%{x}<br>gdp_per_capita=%{y}<br>population=%{marker.size}<extra></extra>",
         "hovertext": [
          "Jordan"
         ],
         "legendgroup": "Jordan",
         "marker": {
          "color": "#1F77B4",
          "size": [
           10203140
          ],
          "sizemode": "area",
          "sizeref": 293739.5457142857,
          "symbol": "circle"
         },
         "mode": "markers",
         "name": "Jordan",
         "orientation": "v",
         "showlegend": true,
         "type": "scatter",
         "x": [
          0.735
         ],
         "xaxis": "x",
         "y": [
          8337.49
         ],
         "yaxis": "y"
        },
        {
         "hovertemplate": "<b>%{hovertext}</b><br><br>location=Kazakhstan<br>human_development_index=%{x}<br>gdp_per_capita=%{y}<br>population=%{marker.size}<extra></extra>",
         "hovertext": [
          "Kazakhstan"
         ],
         "legendgroup": "Kazakhstan",
         "marker": {
          "color": "#FF7F0E",
          "size": [
           18776707
          ],
          "sizemode": "area",
          "sizeref": 293739.5457142857,
          "symbol": "circle"
         },
         "mode": "markers",
         "name": "Kazakhstan",
         "orientation": "v",
         "showlegend": true,
         "type": "scatter",
         "x": [
          0.8
         ],
         "xaxis": "x",
         "y": [
          24055.588
         ],
         "yaxis": "y"
        },
        {
         "hovertemplate": "<b>%{hovertext}</b><br><br>location=Kenya<br>human_development_index=%{x}<br>gdp_per_capita=%{y}<br>population=%{marker.size}<extra></extra>",
         "hovertext": [
          "Kenya"
         ],
         "legendgroup": "Kenya",
         "marker": {
          "color": "#2CA02C",
          "size": [
           53771300
          ],
          "sizemode": "area",
          "sizeref": 293739.5457142857,
          "symbol": "circle"
         },
         "mode": "markers",
         "name": "Kenya",
         "orientation": "v",
         "showlegend": true,
         "type": "scatter",
         "x": [
          0.59
         ],
         "xaxis": "x",
         "y": [
          2993.028
         ],
         "yaxis": "y"
        },
        {
         "hovertemplate": "<b>%{hovertext}</b><br><br>location=Kosovo<br>human_development_index=%{x}<br>gdp_per_capita=%{y}<br>population=%{marker.size}<extra></extra>",
         "hovertext": [
          "Kosovo"
         ],
         "legendgroup": "Kosovo",
         "marker": {
          "color": "#D62728",
          "size": [
           1932774
          ],
          "sizemode": "area",
          "sizeref": 293739.5457142857,
          "symbol": "circle"
         },
         "mode": "markers",
         "name": "Kosovo",
         "orientation": "v",
         "showlegend": true,
         "type": "scatter",
         "x": [
          0
         ],
         "xaxis": "x",
         "y": [
          9795.834
         ],
         "yaxis": "y"
        },
        {
         "hovertemplate": "<b>%{hovertext}</b><br><br>location=Kuwait<br>human_development_index=%{x}<br>gdp_per_capita=%{y}<br>population=%{marker.size}<extra></extra>",
         "hovertext": [
          "Kuwait"
         ],
         "legendgroup": "Kuwait",
         "marker": {
          "color": "#9467BD",
          "size": [
           4270563
          ],
          "sizemode": "area",
          "sizeref": 293739.5457142857,
          "symbol": "circle"
         },
         "mode": "markers",
         "name": "Kuwait",
         "orientation": "v",
         "showlegend": true,
         "type": "scatter",
         "x": [
          0.803
         ],
         "xaxis": "x",
         "y": [
          65530.537
         ],
         "yaxis": "y"
        },
        {
         "hovertemplate": "<b>%{hovertext}</b><br><br>location=Kyrgyzstan<br>human_development_index=%{x}<br>gdp_per_capita=%{y}<br>population=%{marker.size}<extra></extra>",
         "hovertext": [
          "Kyrgyzstan"
         ],
         "legendgroup": "Kyrgyzstan",
         "marker": {
          "color": "#8C564B",
          "size": [
           6524191
          ],
          "sizemode": "area",
          "sizeref": 293739.5457142857,
          "symbol": "circle"
         },
         "mode": "markers",
         "name": "Kyrgyzstan",
         "orientation": "v",
         "showlegend": true,
         "type": "scatter",
         "x": [
          0.672
         ],
         "xaxis": "x",
         "y": [
          3393.474
         ],
         "yaxis": "y"
        },
        {
         "hovertemplate": "<b>%{hovertext}</b><br><br>location=Laos<br>human_development_index=%{x}<br>gdp_per_capita=%{y}<br>population=%{marker.size}<extra></extra>",
         "hovertext": [
          "Laos"
         ],
         "legendgroup": "Laos",
         "marker": {
          "color": "#E377C2",
          "size": [
           7275556
          ],
          "sizemode": "area",
          "sizeref": 293739.5457142857,
          "symbol": "circle"
         },
         "mode": "markers",
         "name": "Laos",
         "orientation": "v",
         "showlegend": true,
         "type": "scatter",
         "x": [
          0.601
         ],
         "xaxis": "x",
         "y": [
          6397.36
         ],
         "yaxis": "y"
        },
        {
         "hovertemplate": "<b>%{hovertext}</b><br><br>location=Latvia<br>human_development_index=%{x}<br>gdp_per_capita=%{y}<br>population=%{marker.size}<extra></extra>",
         "hovertext": [
          "Latvia"
         ],
         "legendgroup": "Latvia",
         "marker": {
          "color": "#7F7F7F",
          "size": [
           1886202
          ],
          "sizemode": "area",
          "sizeref": 293739.5457142857,
          "symbol": "circle"
         },
         "mode": "markers",
         "name": "Latvia",
         "orientation": "v",
         "showlegend": true,
         "type": "scatter",
         "x": [
          0.8470000000000001
         ],
         "xaxis": "x",
         "y": [
          25063.846
         ],
         "yaxis": "y"
        },
        {
         "hovertemplate": "<b>%{hovertext}</b><br><br>location=Lebanon<br>human_development_index=%{x}<br>gdp_per_capita=%{y}<br>population=%{marker.size}<extra></extra>",
         "hovertext": [
          "Lebanon"
         ],
         "legendgroup": "Lebanon",
         "marker": {
          "color": "#BCBD22",
          "size": [
           6825442
          ],
          "sizemode": "area",
          "sizeref": 293739.5457142857,
          "symbol": "circle"
         },
         "mode": "markers",
         "name": "Lebanon",
         "orientation": "v",
         "showlegend": true,
         "type": "scatter",
         "x": [
          0.757
         ],
         "xaxis": "x",
         "y": [
          13367.565
         ],
         "yaxis": "y"
        },
        {
         "hovertemplate": "<b>%{hovertext}</b><br><br>location=Lesotho<br>human_development_index=%{x}<br>gdp_per_capita=%{y}<br>population=%{marker.size}<extra></extra>",
         "hovertext": [
          "Lesotho"
         ],
         "legendgroup": "Lesotho",
         "marker": {
          "color": "#17BECF",
          "size": [
           2142252
          ],
          "sizemode": "area",
          "sizeref": 293739.5457142857,
          "symbol": "circle"
         },
         "mode": "markers",
         "name": "Lesotho",
         "orientation": "v",
         "showlegend": true,
         "type": "scatter",
         "x": [
          0.52
         ],
         "xaxis": "x",
         "y": [
          2851.153
         ],
         "yaxis": "y"
        },
        {
         "hovertemplate": "<b>%{hovertext}</b><br><br>location=Liberia<br>human_development_index=%{x}<br>gdp_per_capita=%{y}<br>population=%{marker.size}<extra></extra>",
         "hovertext": [
          "Liberia"
         ],
         "legendgroup": "Liberia",
         "marker": {
          "color": "#1F77B4",
          "size": [
           5057677
          ],
          "sizemode": "area",
          "sizeref": 293739.5457142857,
          "symbol": "circle"
         },
         "mode": "markers",
         "name": "Liberia",
         "orientation": "v",
         "showlegend": true,
         "type": "scatter",
         "x": [
          0.435
         ],
         "xaxis": "x",
         "y": [
          752.788
         ],
         "yaxis": "y"
        },
        {
         "hovertemplate": "<b>%{hovertext}</b><br><br>location=Libya<br>human_development_index=%{x}<br>gdp_per_capita=%{y}<br>population=%{marker.size}<extra></extra>",
         "hovertext": [
          "Libya"
         ],
         "legendgroup": "Libya",
         "marker": {
          "color": "#FF7F0E",
          "size": [
           6871287
          ],
          "sizemode": "area",
          "sizeref": 293739.5457142857,
          "symbol": "circle"
         },
         "mode": "markers",
         "name": "Libya",
         "orientation": "v",
         "showlegend": true,
         "type": "scatter",
         "x": [
          0.706
         ],
         "xaxis": "x",
         "y": [
          17881.509
         ],
         "yaxis": "y"
        },
        {
         "hovertemplate": "<b>%{hovertext}</b><br><br>location=Liechtenstein<br>human_development_index=%{x}<br>gdp_per_capita=%{y}<br>population=%{marker.size}<extra></extra>",
         "hovertext": [
          "Liechtenstein"
         ],
         "legendgroup": "Liechtenstein",
         "marker": {
          "color": "#2CA02C",
          "size": [
           38137
          ],
          "sizemode": "area",
          "sizeref": 293739.5457142857,
          "symbol": "circle"
         },
         "mode": "markers",
         "name": "Liechtenstein",
         "orientation": "v",
         "showlegend": true,
         "type": "scatter",
         "x": [
          0.916
         ],
         "xaxis": "x",
         "y": [
          null
         ],
         "yaxis": "y"
        },
        {
         "hovertemplate": "<b>%{hovertext}</b><br><br>location=Lithuania<br>human_development_index=%{x}<br>gdp_per_capita=%{y}<br>population=%{marker.size}<extra></extra>",
         "hovertext": [
          "Lithuania"
         ],
         "legendgroup": "Lithuania",
         "marker": {
          "color": "#D62728",
          "size": [
           2722291
          ],
          "sizemode": "area",
          "sizeref": 293739.5457142857,
          "symbol": "circle"
         },
         "mode": "markers",
         "name": "Lithuania",
         "orientation": "v",
         "showlegend": true,
         "type": "scatter",
         "x": [
          0.858
         ],
         "xaxis": "x",
         "y": [
          29524.265
         ],
         "yaxis": "y"
        },
        {
         "hovertemplate": "<b>%{hovertext}</b><br><br>location=Macedonia<br>human_development_index=%{x}<br>gdp_per_capita=%{y}<br>population=%{marker.size}<extra></extra>",
         "hovertext": [
          "Macedonia"
         ],
         "legendgroup": "Macedonia",
         "marker": {
          "color": "#9467BD",
          "size": [
           2083380
          ],
          "sizemode": "area",
          "sizeref": 293739.5457142857,
          "symbol": "circle"
         },
         "mode": "markers",
         "name": "Macedonia",
         "orientation": "v",
         "showlegend": true,
         "type": "scatter",
         "x": [
          0.757
         ],
         "xaxis": "x",
         "y": [
          13111.214
         ],
         "yaxis": "y"
        },
        {
         "hovertemplate": "<b>%{hovertext}</b><br><br>location=Madagascar<br>human_development_index=%{x}<br>gdp_per_capita=%{y}<br>population=%{marker.size}<extra></extra>",
         "hovertext": [
          "Madagascar"
         ],
         "legendgroup": "Madagascar",
         "marker": {
          "color": "#8C564B",
          "size": [
           27691019
          ],
          "sizemode": "area",
          "sizeref": 293739.5457142857,
          "symbol": "circle"
         },
         "mode": "markers",
         "name": "Madagascar",
         "orientation": "v",
         "showlegend": true,
         "type": "scatter",
         "x": [
          0.519
         ],
         "xaxis": "x",
         "y": [
          1416.44
         ],
         "yaxis": "y"
        },
        {
         "hovertemplate": "<b>%{hovertext}</b><br><br>location=Malawi<br>human_development_index=%{x}<br>gdp_per_capita=%{y}<br>population=%{marker.size}<extra></extra>",
         "hovertext": [
          "Malawi"
         ],
         "legendgroup": "Malawi",
         "marker": {
          "color": "#E377C2",
          "size": [
           19129955
          ],
          "sizemode": "area",
          "sizeref": 293739.5457142857,
          "symbol": "circle"
         },
         "mode": "markers",
         "name": "Malawi",
         "orientation": "v",
         "showlegend": true,
         "type": "scatter",
         "x": [
          0.477
         ],
         "xaxis": "x",
         "y": [
          1095.042
         ],
         "yaxis": "y"
        },
        {
         "hovertemplate": "<b>%{hovertext}</b><br><br>location=Malaysia<br>human_development_index=%{x}<br>gdp_per_capita=%{y}<br>population=%{marker.size}<extra></extra>",
         "hovertext": [
          "Malaysia"
         ],
         "legendgroup": "Malaysia",
         "marker": {
          "color": "#7F7F7F",
          "size": [
           32365998
          ],
          "sizemode": "area",
          "sizeref": 293739.5457142857,
          "symbol": "circle"
         },
         "mode": "markers",
         "name": "Malaysia",
         "orientation": "v",
         "showlegend": true,
         "type": "scatter",
         "x": [
          0.802
         ],
         "xaxis": "x",
         "y": [
          26808.164
         ],
         "yaxis": "y"
        },
        {
         "hovertemplate": "<b>%{hovertext}</b><br><br>location=Maldives<br>human_development_index=%{x}<br>gdp_per_capita=%{y}<br>population=%{marker.size}<extra></extra>",
         "hovertext": [
          "Maldives"
         ],
         "legendgroup": "Maldives",
         "marker": {
          "color": "#BCBD22",
          "size": [
           540542
          ],
          "sizemode": "area",
          "sizeref": 293739.5457142857,
          "symbol": "circle"
         },
         "mode": "markers",
         "name": "Maldives",
         "orientation": "v",
         "showlegend": true,
         "type": "scatter",
         "x": [
          0.717
         ],
         "xaxis": "x",
         "y": [
          15183.616
         ],
         "yaxis": "y"
        },
        {
         "hovertemplate": "<b>%{hovertext}</b><br><br>location=Mali<br>human_development_index=%{x}<br>gdp_per_capita=%{y}<br>population=%{marker.size}<extra></extra>",
         "hovertext": [
          "Mali"
         ],
         "legendgroup": "Mali",
         "marker": {
          "color": "#17BECF",
          "size": [
           20250834
          ],
          "sizemode": "area",
          "sizeref": 293739.5457142857,
          "symbol": "circle"
         },
         "mode": "markers",
         "name": "Mali",
         "orientation": "v",
         "showlegend": true,
         "type": "scatter",
         "x": [
          0.427
         ],
         "xaxis": "x",
         "y": [
          2014.306
         ],
         "yaxis": "y"
        },
        {
         "hovertemplate": "<b>%{hovertext}</b><br><br>location=Malta<br>human_development_index=%{x}<br>gdp_per_capita=%{y}<br>population=%{marker.size}<extra></extra>",
         "hovertext": [
          "Malta"
         ],
         "legendgroup": "Malta",
         "marker": {
          "color": "#1F77B4",
          "size": [
           441539
          ],
          "sizemode": "area",
          "sizeref": 293739.5457142857,
          "symbol": "circle"
         },
         "mode": "markers",
         "name": "Malta",
         "orientation": "v",
         "showlegend": true,
         "type": "scatter",
         "x": [
          0.878
         ],
         "xaxis": "x",
         "y": [
          36513.323
         ],
         "yaxis": "y"
        },
        {
         "hovertemplate": "<b>%{hovertext}</b><br><br>location=Mauritania<br>human_development_index=%{x}<br>gdp_per_capita=%{y}<br>population=%{marker.size}<extra></extra>",
         "hovertext": [
          "Mauritania"
         ],
         "legendgroup": "Mauritania",
         "marker": {
          "color": "#FF7F0E",
          "size": [
           4649660
          ],
          "sizemode": "area",
          "sizeref": 293739.5457142857,
          "symbol": "circle"
         },
         "mode": "markers",
         "name": "Mauritania",
         "orientation": "v",
         "showlegend": true,
         "type": "scatter",
         "x": [
          0.52
         ],
         "xaxis": "x",
         "y": [
          3597.633
         ],
         "yaxis": "y"
        },
        {
         "hovertemplate": "<b>%{hovertext}</b><br><br>location=Mauritius<br>human_development_index=%{x}<br>gdp_per_capita=%{y}<br>population=%{marker.size}<extra></extra>",
         "hovertext": [
          "Mauritius"
         ],
         "legendgroup": "Mauritius",
         "marker": {
          "color": "#2CA02C",
          "size": [
           1271767
          ],
          "sizemode": "area",
          "sizeref": 293739.5457142857,
          "symbol": "circle"
         },
         "mode": "markers",
         "name": "Mauritius",
         "orientation": "v",
         "showlegend": true,
         "type": "scatter",
         "x": [
          0.79
         ],
         "xaxis": "x",
         "y": [
          20292.745
         ],
         "yaxis": "y"
        },
        {
         "hovertemplate": "<b>%{hovertext}</b><br><br>location=Mexico<br>human_development_index=%{x}<br>gdp_per_capita=%{y}<br>population=%{marker.size}<extra></extra>",
         "hovertext": [
          "Mexico"
         ],
         "legendgroup": "Mexico",
         "marker": {
          "color": "#D62728",
          "size": [
           128932753
          ],
          "sizemode": "area",
          "sizeref": 293739.5457142857,
          "symbol": "circle"
         },
         "mode": "markers",
         "name": "Mexico",
         "orientation": "v",
         "showlegend": true,
         "type": "scatter",
         "x": [
          0.774
         ],
         "xaxis": "x",
         "y": [
          17336.469
         ],
         "yaxis": "y"
        },
        {
         "hovertemplate": "<b>%{hovertext}</b><br><br>location=Moldova<br>human_development_index=%{x}<br>gdp_per_capita=%{y}<br>population=%{marker.size}<extra></extra>",
         "hovertext": [
          "Moldova"
         ],
         "legendgroup": "Moldova",
         "marker": {
          "color": "#9467BD",
          "size": [
           4033963
          ],
          "sizemode": "area",
          "sizeref": 293739.5457142857,
          "symbol": "circle"
         },
         "mode": "markers",
         "name": "Moldova",
         "orientation": "v",
         "showlegend": true,
         "type": "scatter",
         "x": [
          0.7
         ],
         "xaxis": "x",
         "y": [
          5189.972
         ],
         "yaxis": "y"
        },
        {
         "hovertemplate": "<b>%{hovertext}</b><br><br>location=Monaco<br>human_development_index=%{x}<br>gdp_per_capita=%{y}<br>population=%{marker.size}<extra></extra>",
         "hovertext": [
          "Monaco"
         ],
         "legendgroup": "Monaco",
         "marker": {
          "color": "#8C564B",
          "size": [
           39244
          ],
          "sizemode": "area",
          "sizeref": 293739.5457142857,
          "symbol": "circle"
         },
         "mode": "markers",
         "name": "Monaco",
         "orientation": "v",
         "showlegend": true,
         "type": "scatter",
         "x": [
          null
         ],
         "xaxis": "x",
         "y": [
          null
         ],
         "yaxis": "y"
        },
        {
         "hovertemplate": "<b>%{hovertext}</b><br><br>location=Mongolia<br>human_development_index=%{x}<br>gdp_per_capita=%{y}<br>population=%{marker.size}<extra></extra>",
         "hovertext": [
          "Mongolia"
         ],
         "legendgroup": "Mongolia",
         "marker": {
          "color": "#E377C2",
          "size": [
           3278292
          ],
          "sizemode": "area",
          "sizeref": 293739.5457142857,
          "symbol": "circle"
         },
         "mode": "markers",
         "name": "Mongolia",
         "orientation": "v",
         "showlegend": true,
         "type": "scatter",
         "x": [
          0.741
         ],
         "xaxis": "x",
         "y": [
          11840.846000000001
         ],
         "yaxis": "y"
        },
        {
         "hovertemplate": "<b>%{hovertext}</b><br><br>location=Montenegro<br>human_development_index=%{x}<br>gdp_per_capita=%{y}<br>population=%{marker.size}<extra></extra>",
         "hovertext": [
          "Montenegro"
         ],
         "legendgroup": "Montenegro",
         "marker": {
          "color": "#7F7F7F",
          "size": [
           628062
          ],
          "sizemode": "area",
          "sizeref": 293739.5457142857,
          "symbol": "circle"
         },
         "mode": "markers",
         "name": "Montenegro",
         "orientation": "v",
         "showlegend": true,
         "type": "scatter",
         "x": [
          0.814
         ],
         "xaxis": "x",
         "y": [
          16409.288
         ],
         "yaxis": "y"
        },
        {
         "hovertemplate": "<b>%{hovertext}</b><br><br>location=Montserrat<br>human_development_index=%{x}<br>gdp_per_capita=%{y}<br>population=%{marker.size}<extra></extra>",
         "hovertext": [
          "Montserrat"
         ],
         "legendgroup": "Montserrat",
         "marker": {
          "color": "#BCBD22",
          "size": [
           4999
          ],
          "sizemode": "area",
          "sizeref": 293739.5457142857,
          "symbol": "circle"
         },
         "mode": "markers",
         "name": "Montserrat",
         "orientation": "v",
         "showlegend": true,
         "type": "scatter",
         "x": [
          null
         ],
         "xaxis": "x",
         "y": [
          null
         ],
         "yaxis": "y"
        },
        {
         "hovertemplate": "<b>%{hovertext}</b><br><br>location=Morocco<br>human_development_index=%{x}<br>gdp_per_capita=%{y}<br>population=%{marker.size}<extra></extra>",
         "hovertext": [
          "Morocco"
         ],
         "legendgroup": "Morocco",
         "marker": {
          "color": "#17BECF",
          "size": [
           36910558
          ],
          "sizemode": "area",
          "sizeref": 293739.5457142857,
          "symbol": "circle"
         },
         "mode": "markers",
         "name": "Morocco",
         "orientation": "v",
         "showlegend": true,
         "type": "scatter",
         "x": [
          0.667
         ],
         "xaxis": "x",
         "y": [
          7485.013
         ],
         "yaxis": "y"
        },
        {
         "hovertemplate": "<b>%{hovertext}</b><br><br>location=Mozambique<br>human_development_index=%{x}<br>gdp_per_capita=%{y}<br>population=%{marker.size}<extra></extra>",
         "hovertext": [
          "Mozambique"
         ],
         "legendgroup": "Mozambique",
         "marker": {
          "color": "#1F77B4",
          "size": [
           31255435
          ],
          "sizemode": "area",
          "sizeref": 293739.5457142857,
          "symbol": "circle"
         },
         "mode": "markers",
         "name": "Mozambique",
         "orientation": "v",
         "showlegend": true,
         "type": "scatter",
         "x": [
          0.43699999999999994
         ],
         "xaxis": "x",
         "y": [
          1136.103
         ],
         "yaxis": "y"
        },
        {
         "hovertemplate": "<b>%{hovertext}</b><br><br>location=Myanmar<br>human_development_index=%{x}<br>gdp_per_capita=%{y}<br>population=%{marker.size}<extra></extra>",
         "hovertext": [
          "Myanmar"
         ],
         "legendgroup": "Myanmar",
         "marker": {
          "color": "#FF7F0E",
          "size": [
           54409794
          ],
          "sizemode": "area",
          "sizeref": 293739.5457142857,
          "symbol": "circle"
         },
         "mode": "markers",
         "name": "Myanmar",
         "orientation": "v",
         "showlegend": true,
         "type": "scatter",
         "x": [
          0.578
         ],
         "xaxis": "x",
         "y": [
          5591.597
         ],
         "yaxis": "y"
        },
        {
         "hovertemplate": "<b>%{hovertext}</b><br><br>location=Namibia<br>human_development_index=%{x}<br>gdp_per_capita=%{y}<br>population=%{marker.size}<extra></extra>",
         "hovertext": [
          "Namibia"
         ],
         "legendgroup": "Namibia",
         "marker": {
          "color": "#2CA02C",
          "size": [
           2540916
          ],
          "sizemode": "area",
          "sizeref": 293739.5457142857,
          "symbol": "circle"
         },
         "mode": "markers",
         "name": "Namibia",
         "orientation": "v",
         "showlegend": true,
         "type": "scatter",
         "x": [
          0.647
         ],
         "xaxis": "x",
         "y": [
          9541.808
         ],
         "yaxis": "y"
        },
        {
         "hovertemplate": "<b>%{hovertext}</b><br><br>location=Nepal<br>human_development_index=%{x}<br>gdp_per_capita=%{y}<br>population=%{marker.size}<extra></extra>",
         "hovertext": [
          "Nepal"
         ],
         "legendgroup": "Nepal",
         "marker": {
          "color": "#D62728",
          "size": [
           29136808
          ],
          "sizemode": "area",
          "sizeref": 293739.5457142857,
          "symbol": "circle"
         },
         "mode": "markers",
         "name": "Nepal",
         "orientation": "v",
         "showlegend": true,
         "type": "scatter",
         "x": [
          0.574
         ],
         "xaxis": "x",
         "y": [
          2442.804
         ],
         "yaxis": "y"
        },
        {
         "hovertemplate": "<b>%{hovertext}</b><br><br>location=Netherlands<br>human_development_index=%{x}<br>gdp_per_capita=%{y}<br>population=%{marker.size}<extra></extra>",
         "hovertext": [
          "Netherlands"
         ],
         "legendgroup": "Netherlands",
         "marker": {
          "color": "#9467BD",
          "size": [
           17134873
          ],
          "sizemode": "area",
          "sizeref": 293739.5457142857,
          "symbol": "circle"
         },
         "mode": "markers",
         "name": "Netherlands",
         "orientation": "v",
         "showlegend": true,
         "type": "scatter",
         "x": [
          0.931
         ],
         "xaxis": "x",
         "y": [
          48472.545
         ],
         "yaxis": "y"
        },
        {
         "hovertemplate": "<b>%{hovertext}</b><br><br>location=New Caledonia<br>human_development_index=%{x}<br>gdp_per_capita=%{y}<br>population=%{marker.size}<extra></extra>",
         "hovertext": [
          "New Caledonia"
         ],
         "legendgroup": "New Caledonia",
         "marker": {
          "color": "#8C564B",
          "size": [
           285491
          ],
          "sizemode": "area",
          "sizeref": 293739.5457142857,
          "symbol": "circle"
         },
         "mode": "markers",
         "name": "New Caledonia",
         "orientation": "v",
         "showlegend": true,
         "type": "scatter",
         "x": [
          null
         ],
         "xaxis": "x",
         "y": [
          null
         ],
         "yaxis": "y"
        },
        {
         "hovertemplate": "<b>%{hovertext}</b><br><br>location=New Zealand<br>human_development_index=%{x}<br>gdp_per_capita=%{y}<br>population=%{marker.size}<extra></extra>",
         "hovertext": [
          "New Zealand"
         ],
         "legendgroup": "New Zealand",
         "marker": {
          "color": "#E377C2",
          "size": [
           4822233
          ],
          "sizemode": "area",
          "sizeref": 293739.5457142857,
          "symbol": "circle"
         },
         "mode": "markers",
         "name": "New Zealand",
         "orientation": "v",
         "showlegend": true,
         "type": "scatter",
         "x": [
          0.917
         ],
         "xaxis": "x",
         "y": [
          36085.843
         ],
         "yaxis": "y"
        },
        {
         "hovertemplate": "<b>%{hovertext}</b><br><br>location=Nicaragua<br>human_development_index=%{x}<br>gdp_per_capita=%{y}<br>population=%{marker.size}<extra></extra>",
         "hovertext": [
          "Nicaragua"
         ],
         "legendgroup": "Nicaragua",
         "marker": {
          "color": "#7F7F7F",
          "size": [
           6624554
          ],
          "sizemode": "area",
          "sizeref": 293739.5457142857,
          "symbol": "circle"
         },
         "mode": "markers",
         "name": "Nicaragua",
         "orientation": "v",
         "showlegend": true,
         "type": "scatter",
         "x": [
          0.658
         ],
         "xaxis": "x",
         "y": [
          5321.444000000001
         ],
         "yaxis": "y"
        },
        {
         "hovertemplate": "<b>%{hovertext}</b><br><br>location=Niger<br>human_development_index=%{x}<br>gdp_per_capita=%{y}<br>population=%{marker.size}<extra></extra>",
         "hovertext": [
          "Niger"
         ],
         "legendgroup": "Niger",
         "marker": {
          "color": "#BCBD22",
          "size": [
           24206636
          ],
          "sizemode": "area",
          "sizeref": 293739.5457142857,
          "symbol": "circle"
         },
         "mode": "markers",
         "name": "Niger",
         "orientation": "v",
         "showlegend": true,
         "type": "scatter",
         "x": [
          0.354
         ],
         "xaxis": "x",
         "y": [
          926
         ],
         "yaxis": "y"
        },
        {
         "hovertemplate": "<b>%{hovertext}</b><br><br>location=Nigeria<br>human_development_index=%{x}<br>gdp_per_capita=%{y}<br>population=%{marker.size}<extra></extra>",
         "hovertext": [
          "Nigeria"
         ],
         "legendgroup": "Nigeria",
         "marker": {
          "color": "#17BECF",
          "size": [
           206139587
          ],
          "sizemode": "area",
          "sizeref": 293739.5457142857,
          "symbol": "circle"
         },
         "mode": "markers",
         "name": "Nigeria",
         "orientation": "v",
         "showlegend": true,
         "type": "scatter",
         "x": [
          0.532
         ],
         "xaxis": "x",
         "y": [
          5338.454
         ],
         "yaxis": "y"
        },
        {
         "hovertemplate": "<b>%{hovertext}</b><br><br>location=Northern Mariana Islands<br>human_development_index=%{x}<br>gdp_per_capita=%{y}<br>population=%{marker.size}<extra></extra>",
         "hovertext": [
          "Northern Mariana Islands"
         ],
         "legendgroup": "Northern Mariana Islands",
         "marker": {
          "color": "#1F77B4",
          "size": [
           57557
          ],
          "sizemode": "area",
          "sizeref": 293739.5457142857,
          "symbol": "circle"
         },
         "mode": "markers",
         "name": "Northern Mariana Islands",
         "orientation": "v",
         "showlegend": true,
         "type": "scatter",
         "x": [
          null
         ],
         "xaxis": "x",
         "y": [
          null
         ],
         "yaxis": "y"
        },
        {
         "hovertemplate": "<b>%{hovertext}</b><br><br>location=Norway<br>human_development_index=%{x}<br>gdp_per_capita=%{y}<br>population=%{marker.size}<extra></extra>",
         "hovertext": [
          "Norway"
         ],
         "legendgroup": "Norway",
         "marker": {
          "color": "#FF7F0E",
          "size": [
           5421242
          ],
          "sizemode": "area",
          "sizeref": 293739.5457142857,
          "symbol": "circle"
         },
         "mode": "markers",
         "name": "Norway",
         "orientation": "v",
         "showlegend": true,
         "type": "scatter",
         "x": [
          0.9529999999999998
         ],
         "xaxis": "x",
         "y": [
          64800.05700000001
         ],
         "yaxis": "y"
        },
        {
         "hovertemplate": "<b>%{hovertext}</b><br><br>location=Oman<br>human_development_index=%{x}<br>gdp_per_capita=%{y}<br>population=%{marker.size}<extra></extra>",
         "hovertext": [
          "Oman"
         ],
         "legendgroup": "Oman",
         "marker": {
          "color": "#2CA02C",
          "size": [
           5106622
          ],
          "sizemode": "area",
          "sizeref": 293739.5457142857,
          "symbol": "circle"
         },
         "mode": "markers",
         "name": "Oman",
         "orientation": "v",
         "showlegend": true,
         "type": "scatter",
         "x": [
          0.821
         ],
         "xaxis": "x",
         "y": [
          37960.709
         ],
         "yaxis": "y"
        },
        {
         "hovertemplate": "<b>%{hovertext}</b><br><br>location=Pakistan<br>human_development_index=%{x}<br>gdp_per_capita=%{y}<br>population=%{marker.size}<extra></extra>",
         "hovertext": [
          "Pakistan"
         ],
         "legendgroup": "Pakistan",
         "marker": {
          "color": "#D62728",
          "size": [
           220892331
          ],
          "sizemode": "area",
          "sizeref": 293739.5457142857,
          "symbol": "circle"
         },
         "mode": "markers",
         "name": "Pakistan",
         "orientation": "v",
         "showlegend": true,
         "type": "scatter",
         "x": [
          0.562
         ],
         "xaxis": "x",
         "y": [
          5034.708
         ],
         "yaxis": "y"
        },
        {
         "hovertemplate": "<b>%{hovertext}</b><br><br>location=Palestine<br>human_development_index=%{x}<br>gdp_per_capita=%{y}<br>population=%{marker.size}<extra></extra>",
         "hovertext": [
          "Palestine"
         ],
         "legendgroup": "Palestine",
         "marker": {
          "color": "#9467BD",
          "size": [
           5101416
          ],
          "sizemode": "area",
          "sizeref": 293739.5457142857,
          "symbol": "circle"
         },
         "mode": "markers",
         "name": "Palestine",
         "orientation": "v",
         "showlegend": true,
         "type": "scatter",
         "x": [
          0.686
         ],
         "xaxis": "x",
         "y": [
          4449.898
         ],
         "yaxis": "y"
        },
        {
         "hovertemplate": "<b>%{hovertext}</b><br><br>location=Panama<br>human_development_index=%{x}<br>gdp_per_capita=%{y}<br>population=%{marker.size}<extra></extra>",
         "hovertext": [
          "Panama"
         ],
         "legendgroup": "Panama",
         "marker": {
          "color": "#8C564B",
          "size": [
           4314768
          ],
          "sizemode": "area",
          "sizeref": 293739.5457142857,
          "symbol": "circle"
         },
         "mode": "markers",
         "name": "Panama",
         "orientation": "v",
         "showlegend": true,
         "type": "scatter",
         "x": [
          0.789
         ],
         "xaxis": "x",
         "y": [
          22267.037
         ],
         "yaxis": "y"
        },
        {
         "hovertemplate": "<b>%{hovertext}</b><br><br>location=Papua New Guinea<br>human_development_index=%{x}<br>gdp_per_capita=%{y}<br>population=%{marker.size}<extra></extra>",
         "hovertext": [
          "Papua New Guinea"
         ],
         "legendgroup": "Papua New Guinea",
         "marker": {
          "color": "#E377C2",
          "size": [
           8947027
          ],
          "sizemode": "area",
          "sizeref": 293739.5457142857,
          "symbol": "circle"
         },
         "mode": "markers",
         "name": "Papua New Guinea",
         "orientation": "v",
         "showlegend": true,
         "type": "scatter",
         "x": [
          0.544
         ],
         "xaxis": "x",
         "y": [
          3823.1940000000004
         ],
         "yaxis": "y"
        },
        {
         "hovertemplate": "<b>%{hovertext}</b><br><br>location=Paraguay<br>human_development_index=%{x}<br>gdp_per_capita=%{y}<br>population=%{marker.size}<extra></extra>",
         "hovertext": [
          "Paraguay"
         ],
         "legendgroup": "Paraguay",
         "marker": {
          "color": "#7F7F7F",
          "size": [
           7132530
          ],
          "sizemode": "area",
          "sizeref": 293739.5457142857,
          "symbol": "circle"
         },
         "mode": "markers",
         "name": "Paraguay",
         "orientation": "v",
         "showlegend": true,
         "type": "scatter",
         "x": [
          0.702
         ],
         "xaxis": "x",
         "y": [
          8827.01
         ],
         "yaxis": "y"
        },
        {
         "hovertemplate": "<b>%{hovertext}</b><br><br>location=Peru<br>human_development_index=%{x}<br>gdp_per_capita=%{y}<br>population=%{marker.size}<extra></extra>",
         "hovertext": [
          "Peru"
         ],
         "legendgroup": "Peru",
         "marker": {
          "color": "#BCBD22",
          "size": [
           32971846
          ],
          "sizemode": "area",
          "sizeref": 293739.5457142857,
          "symbol": "circle"
         },
         "mode": "markers",
         "name": "Peru",
         "orientation": "v",
         "showlegend": true,
         "type": "scatter",
         "x": [
          0.75
         ],
         "xaxis": "x",
         "y": [
          12236.706
         ],
         "yaxis": "y"
        },
        {
         "hovertemplate": "<b>%{hovertext}</b><br><br>location=Philippines<br>human_development_index=%{x}<br>gdp_per_capita=%{y}<br>population=%{marker.size}<extra></extra>",
         "hovertext": [
          "Philippines"
         ],
         "legendgroup": "Philippines",
         "marker": {
          "color": "#17BECF",
          "size": [
           109581085
          ],
          "sizemode": "area",
          "sizeref": 293739.5457142857,
          "symbol": "circle"
         },
         "mode": "markers",
         "name": "Philippines",
         "orientation": "v",
         "showlegend": true,
         "type": "scatter",
         "x": [
          0.699
         ],
         "xaxis": "x",
         "y": [
          7599.187999999999
         ],
         "yaxis": "y"
        },
        {
         "hovertemplate": "<b>%{hovertext}</b><br><br>location=Poland<br>human_development_index=%{x}<br>gdp_per_capita=%{y}<br>population=%{marker.size}<extra></extra>",
         "hovertext": [
          "Poland"
         ],
         "legendgroup": "Poland",
         "marker": {
          "color": "#1F77B4",
          "size": [
           37846605
          ],
          "sizemode": "area",
          "sizeref": 293739.5457142857,
          "symbol": "circle"
         },
         "mode": "markers",
         "name": "Poland",
         "orientation": "v",
         "showlegend": true,
         "type": "scatter",
         "x": [
          0.865
         ],
         "xaxis": "x",
         "y": [
          27216.445
         ],
         "yaxis": "y"
        },
        {
         "hovertemplate": "<b>%{hovertext}</b><br><br>location=Portugal<br>human_development_index=%{x}<br>gdp_per_capita=%{y}<br>population=%{marker.size}<extra></extra>",
         "hovertext": [
          "Portugal"
         ],
         "legendgroup": "Portugal",
         "marker": {
          "color": "#FF7F0E",
          "size": [
           10196707
          ],
          "sizemode": "area",
          "sizeref": 293739.5457142857,
          "symbol": "circle"
         },
         "mode": "markers",
         "name": "Portugal",
         "orientation": "v",
         "showlegend": true,
         "type": "scatter",
         "x": [
          0.847
         ],
         "xaxis": "x",
         "y": [
          27936.896
         ],
         "yaxis": "y"
        },
        {
         "hovertemplate": "<b>%{hovertext}</b><br><br>location=Puerto Rico<br>human_development_index=%{x}<br>gdp_per_capita=%{y}<br>population=%{marker.size}<extra></extra>",
         "hovertext": [
          "Puerto Rico"
         ],
         "legendgroup": "Puerto Rico",
         "marker": {
          "color": "#2CA02C",
          "size": [
           2860840
          ],
          "sizemode": "area",
          "sizeref": 293739.5457142857,
          "symbol": "circle"
         },
         "mode": "markers",
         "name": "Puerto Rico",
         "orientation": "v",
         "showlegend": true,
         "type": "scatter",
         "x": [
          null
         ],
         "xaxis": "x",
         "y": [
          35044.67
         ],
         "yaxis": "y"
        },
        {
         "hovertemplate": "<b>%{hovertext}</b><br><br>location=Romania<br>human_development_index=%{x}<br>gdp_per_capita=%{y}<br>population=%{marker.size}<extra></extra>",
         "hovertext": [
          "Romania"
         ],
         "legendgroup": "Romania",
         "marker": {
          "color": "#D62728",
          "size": [
           19237682
          ],
          "sizemode": "area",
          "sizeref": 293739.5457142857,
          "symbol": "circle"
         },
         "mode": "markers",
         "name": "Romania",
         "orientation": "v",
         "showlegend": true,
         "type": "scatter",
         "x": [
          0.811
         ],
         "xaxis": "x",
         "y": [
          23313.199
         ],
         "yaxis": "y"
        },
        {
         "hovertemplate": "<b>%{hovertext}</b><br><br>location=Russia<br>human_development_index=%{x}<br>gdp_per_capita=%{y}<br>population=%{marker.size}<extra></extra>",
         "hovertext": [
          "Russia"
         ],
         "legendgroup": "Russia",
         "marker": {
          "color": "#9467BD",
          "size": [
           145934460
          ],
          "sizemode": "area",
          "sizeref": 293739.5457142857,
          "symbol": "circle"
         },
         "mode": "markers",
         "name": "Russia",
         "orientation": "v",
         "showlegend": true,
         "type": "scatter",
         "x": [
          0.816
         ],
         "xaxis": "x",
         "y": [
          24765.954
         ],
         "yaxis": "y"
        },
        {
         "hovertemplate": "<b>%{hovertext}</b><br><br>location=Rwanda<br>human_development_index=%{x}<br>gdp_per_capita=%{y}<br>population=%{marker.size}<extra></extra>",
         "hovertext": [
          "Rwanda"
         ],
         "legendgroup": "Rwanda",
         "marker": {
          "color": "#8C564B",
          "size": [
           12952209
          ],
          "sizemode": "area",
          "sizeref": 293739.5457142857,
          "symbol": "circle"
         },
         "mode": "markers",
         "name": "Rwanda",
         "orientation": "v",
         "showlegend": true,
         "type": "scatter",
         "x": [
          0.524
         ],
         "xaxis": "x",
         "y": [
          1854.2110000000002
         ],
         "yaxis": "y"
        },
        {
         "hovertemplate": "<b>%{hovertext}</b><br><br>location=Saint Kitts and Nevis<br>human_development_index=%{x}<br>gdp_per_capita=%{y}<br>population=%{marker.size}<extra></extra>",
         "hovertext": [
          "Saint Kitts and Nevis"
         ],
         "legendgroup": "Saint Kitts and Nevis",
         "marker": {
          "color": "#E377C2",
          "size": [
           53192
          ],
          "sizemode": "area",
          "sizeref": 293739.5457142857,
          "symbol": "circle"
         },
         "mode": "markers",
         "name": "Saint Kitts and Nevis",
         "orientation": "v",
         "showlegend": true,
         "type": "scatter",
         "x": [
          0.778
         ],
         "xaxis": "x",
         "y": [
          24654.385000000002
         ],
         "yaxis": "y"
        },
        {
         "hovertemplate": "<b>%{hovertext}</b><br><br>location=Saint Lucia<br>human_development_index=%{x}<br>gdp_per_capita=%{y}<br>population=%{marker.size}<extra></extra>",
         "hovertext": [
          "Saint Lucia"
         ],
         "legendgroup": "Saint Lucia",
         "marker": {
          "color": "#7F7F7F",
          "size": [
           183629
          ],
          "sizemode": "area",
          "sizeref": 293739.5457142857,
          "symbol": "circle"
         },
         "mode": "markers",
         "name": "Saint Lucia",
         "orientation": "v",
         "showlegend": true,
         "type": "scatter",
         "x": [
          0.747
         ],
         "xaxis": "x",
         "y": [
          12951.839
         ],
         "yaxis": "y"
        },
        {
         "hovertemplate": "<b>%{hovertext}</b><br><br>location=Saint Vincent and the Grenadines<br>human_development_index=%{x}<br>gdp_per_capita=%{y}<br>population=%{marker.size}<extra></extra>",
         "hovertext": [
          "Saint Vincent and the Grenadines"
         ],
         "legendgroup": "Saint Vincent and the Grenadines",
         "marker": {
          "color": "#BCBD22",
          "size": [
           110947
          ],
          "sizemode": "area",
          "sizeref": 293739.5457142857,
          "symbol": "circle"
         },
         "mode": "markers",
         "name": "Saint Vincent and the Grenadines",
         "orientation": "v",
         "showlegend": true,
         "type": "scatter",
         "x": [
          0.723
         ],
         "xaxis": "x",
         "y": [
          10727.146
         ],
         "yaxis": "y"
        },
        {
         "hovertemplate": "<b>%{hovertext}</b><br><br>location=San Marino<br>human_development_index=%{x}<br>gdp_per_capita=%{y}<br>population=%{marker.size}<extra></extra>",
         "hovertext": [
          "San Marino"
         ],
         "legendgroup": "San Marino",
         "marker": {
          "color": "#17BECF",
          "size": [
           33938
          ],
          "sizemode": "area",
          "sizeref": 293739.5457142857,
          "symbol": "circle"
         },
         "mode": "markers",
         "name": "San Marino",
         "orientation": "v",
         "showlegend": true,
         "type": "scatter",
         "x": [
          null
         ],
         "xaxis": "x",
         "y": [
          56861.47
         ],
         "yaxis": "y"
        },
        {
         "hovertemplate": "<b>%{hovertext}</b><br><br>location=Sao Tome and Principe<br>human_development_index=%{x}<br>gdp_per_capita=%{y}<br>population=%{marker.size}<extra></extra>",
         "hovertext": [
          "Sao Tome and Principe"
         ],
         "legendgroup": "Sao Tome and Principe",
         "marker": {
          "color": "#1F77B4",
          "size": [
           219161
          ],
          "sizemode": "area",
          "sizeref": 293739.5457142857,
          "symbol": "circle"
         },
         "mode": "markers",
         "name": "Sao Tome and Principe",
         "orientation": "v",
         "showlegend": true,
         "type": "scatter",
         "x": [
          0.589
         ],
         "xaxis": "x",
         "y": [
          3052.714
         ],
         "yaxis": "y"
        },
        {
         "hovertemplate": "<b>%{hovertext}</b><br><br>location=Saudi Arabia<br>human_development_index=%{x}<br>gdp_per_capita=%{y}<br>population=%{marker.size}<extra></extra>",
         "hovertext": [
          "Saudi Arabia"
         ],
         "legendgroup": "Saudi Arabia",
         "marker": {
          "color": "#FF7F0E",
          "size": [
           34813867
          ],
          "sizemode": "area",
          "sizeref": 293739.5457142857,
          "symbol": "circle"
         },
         "mode": "markers",
         "name": "Saudi Arabia",
         "orientation": "v",
         "showlegend": true,
         "type": "scatter",
         "x": [
          0.853
         ],
         "xaxis": "x",
         "y": [
          49045.411
         ],
         "yaxis": "y"
        },
        {
         "hovertemplate": "<b>%{hovertext}</b><br><br>location=Senegal<br>human_development_index=%{x}<br>gdp_per_capita=%{y}<br>population=%{marker.size}<extra></extra>",
         "hovertext": [
          "Senegal"
         ],
         "legendgroup": "Senegal",
         "marker": {
          "color": "#2CA02C",
          "size": [
           16743930
          ],
          "sizemode": "area",
          "sizeref": 293739.5457142857,
          "symbol": "circle"
         },
         "mode": "markers",
         "name": "Senegal",
         "orientation": "v",
         "showlegend": true,
         "type": "scatter",
         "x": [
          0.505
         ],
         "xaxis": "x",
         "y": [
          2470.58
         ],
         "yaxis": "y"
        },
        {
         "hovertemplate": "<b>%{hovertext}</b><br><br>location=Serbia<br>human_development_index=%{x}<br>gdp_per_capita=%{y}<br>population=%{marker.size}<extra></extra>",
         "hovertext": [
          "Serbia"
         ],
         "legendgroup": "Serbia",
         "marker": {
          "color": "#D62728",
          "size": [
           6804596
          ],
          "sizemode": "area",
          "sizeref": 293739.5457142857,
          "symbol": "circle"
         },
         "mode": "markers",
         "name": "Serbia",
         "orientation": "v",
         "showlegend": true,
         "type": "scatter",
         "x": [
          0.787
         ],
         "xaxis": "x",
         "y": [
          14048.881
         ],
         "yaxis": "y"
        },
        {
         "hovertemplate": "<b>%{hovertext}</b><br><br>location=Seychelles<br>human_development_index=%{x}<br>gdp_per_capita=%{y}<br>population=%{marker.size}<extra></extra>",
         "hovertext": [
          "Seychelles"
         ],
         "legendgroup": "Seychelles",
         "marker": {
          "color": "#9467BD",
          "size": [
           98340
          ],
          "sizemode": "area",
          "sizeref": 293739.5457142857,
          "symbol": "circle"
         },
         "mode": "markers",
         "name": "Seychelles",
         "orientation": "v",
         "showlegend": true,
         "type": "scatter",
         "x": [
          0.797
         ],
         "xaxis": "x",
         "y": [
          26382.287
         ],
         "yaxis": "y"
        },
        {
         "hovertemplate": "<b>%{hovertext}</b><br><br>location=Sierra Leone<br>human_development_index=%{x}<br>gdp_per_capita=%{y}<br>population=%{marker.size}<extra></extra>",
         "hovertext": [
          "Sierra Leone"
         ],
         "legendgroup": "Sierra Leone",
         "marker": {
          "color": "#8C564B",
          "size": [
           7976985
          ],
          "sizemode": "area",
          "sizeref": 293739.5457142857,
          "symbol": "circle"
         },
         "mode": "markers",
         "name": "Sierra Leone",
         "orientation": "v",
         "showlegend": true,
         "type": "scatter",
         "x": [
          0.41899999999999993
         ],
         "xaxis": "x",
         "y": [
          1390.3
         ],
         "yaxis": "y"
        },
        {
         "hovertemplate": "<b>%{hovertext}</b><br><br>location=Sint Maarten (Dutch part)<br>human_development_index=%{x}<br>gdp_per_capita=%{y}<br>population=%{marker.size}<extra></extra>",
         "hovertext": [
          "Sint Maarten (Dutch part)"
         ],
         "legendgroup": "Sint Maarten (Dutch part)",
         "marker": {
          "color": "#E377C2",
          "size": [
           42882
          ],
          "sizemode": "area",
          "sizeref": 293739.5457142857,
          "symbol": "circle"
         },
         "mode": "markers",
         "name": "Sint Maarten (Dutch part)",
         "orientation": "v",
         "showlegend": true,
         "type": "scatter",
         "x": [
          null
         ],
         "xaxis": "x",
         "y": [
          36327.232
         ],
         "yaxis": "y"
        },
        {
         "hovertemplate": "<b>%{hovertext}</b><br><br>location=Slovakia<br>human_development_index=%{x}<br>gdp_per_capita=%{y}<br>population=%{marker.size}<extra></extra>",
         "hovertext": [
          "Slovakia"
         ],
         "legendgroup": "Slovakia",
         "marker": {
          "color": "#7F7F7F",
          "size": [
           5459643
          ],
          "sizemode": "area",
          "sizeref": 293739.5457142857,
          "symbol": "circle"
         },
         "mode": "markers",
         "name": "Slovakia",
         "orientation": "v",
         "showlegend": true,
         "type": "scatter",
         "x": [
          0.855
         ],
         "xaxis": "x",
         "y": [
          30155.152
         ],
         "yaxis": "y"
        },
        {
         "hovertemplate": "<b>%{hovertext}</b><br><br>location=Slovenia<br>human_development_index=%{x}<br>gdp_per_capita=%{y}<br>population=%{marker.size}<extra></extra>",
         "hovertext": [
          "Slovenia"
         ],
         "legendgroup": "Slovenia",
         "marker": {
          "color": "#BCBD22",
          "size": [
           2078932
          ],
          "sizemode": "area",
          "sizeref": 293739.5457142857,
          "symbol": "circle"
         },
         "mode": "markers",
         "name": "Slovenia",
         "orientation": "v",
         "showlegend": true,
         "type": "scatter",
         "x": [
          0.896
         ],
         "xaxis": "x",
         "y": [
          31400.840000000004
         ],
         "yaxis": "y"
        },
        {
         "hovertemplate": "<b>%{hovertext}</b><br><br>location=Solomon Islands<br>human_development_index=%{x}<br>gdp_per_capita=%{y}<br>population=%{marker.size}<extra></extra>",
         "hovertext": [
          "Solomon Islands"
         ],
         "legendgroup": "Solomon Islands",
         "marker": {
          "color": "#17BECF",
          "size": [
           686878
          ],
          "sizemode": "area",
          "sizeref": 293739.5457142857,
          "symbol": "circle"
         },
         "mode": "markers",
         "name": "Solomon Islands",
         "orientation": "v",
         "showlegend": true,
         "type": "scatter",
         "x": [
          0.546
         ],
         "xaxis": "x",
         "y": [
          2205.923
         ],
         "yaxis": "y"
        },
        {
         "hovertemplate": "<b>%{hovertext}</b><br><br>location=Somalia<br>human_development_index=%{x}<br>gdp_per_capita=%{y}<br>population=%{marker.size}<extra></extra>",
         "hovertext": [
          "Somalia"
         ],
         "legendgroup": "Somalia",
         "marker": {
          "color": "#1F77B4",
          "size": [
           15893219
          ],
          "sizemode": "area",
          "sizeref": 293739.5457142857,
          "symbol": "circle"
         },
         "mode": "markers",
         "name": "Somalia",
         "orientation": "v",
         "showlegend": true,
         "type": "scatter",
         "x": [
          null
         ],
         "xaxis": "x",
         "y": [
          null
         ],
         "yaxis": "y"
        },
        {
         "hovertemplate": "<b>%{hovertext}</b><br><br>location=South Africa<br>human_development_index=%{x}<br>gdp_per_capita=%{y}<br>population=%{marker.size}<extra></extra>",
         "hovertext": [
          "South Africa"
         ],
         "legendgroup": "South Africa",
         "marker": {
          "color": "#FF7F0E",
          "size": [
           59308690
          ],
          "sizemode": "area",
          "sizeref": 293739.5457142857,
          "symbol": "circle"
         },
         "mode": "markers",
         "name": "South Africa",
         "orientation": "v",
         "showlegend": true,
         "type": "scatter",
         "x": [
          0.699
         ],
         "xaxis": "x",
         "y": [
          12294.876
         ],
         "yaxis": "y"
        },
        {
         "hovertemplate": "<b>%{hovertext}</b><br><br>location=South Korea<br>human_development_index=%{x}<br>gdp_per_capita=%{y}<br>population=%{marker.size}<extra></extra>",
         "hovertext": [
          "South Korea"
         ],
         "legendgroup": "South Korea",
         "marker": {
          "color": "#2CA02C",
          "size": [
           51269183
          ],
          "sizemode": "area",
          "sizeref": 293739.5457142857,
          "symbol": "circle"
         },
         "mode": "markers",
         "name": "South Korea",
         "orientation": "v",
         "showlegend": true,
         "type": "scatter",
         "x": [
          0.9030000000000001
         ],
         "xaxis": "x",
         "y": [
          35938.374
         ],
         "yaxis": "y"
        },
        {
         "hovertemplate": "<b>%{hovertext}</b><br><br>location=South Sudan<br>human_development_index=%{x}<br>gdp_per_capita=%{y}<br>population=%{marker.size}<extra></extra>",
         "hovertext": [
          "South Sudan"
         ],
         "legendgroup": "South Sudan",
         "marker": {
          "color": "#D62728",
          "size": [
           11193729
          ],
          "sizemode": "area",
          "sizeref": 293739.5457142857,
          "symbol": "circle"
         },
         "mode": "markers",
         "name": "South Sudan",
         "orientation": "v",
         "showlegend": true,
         "type": "scatter",
         "x": [
          0.388
         ],
         "xaxis": "x",
         "y": [
          1569.888
         ],
         "yaxis": "y"
        },
        {
         "hovertemplate": "<b>%{hovertext}</b><br><br>location=Spain<br>human_development_index=%{x}<br>gdp_per_capita=%{y}<br>population=%{marker.size}<extra></extra>",
         "hovertext": [
          "Spain"
         ],
         "legendgroup": "Spain",
         "marker": {
          "color": "#9467BD",
          "size": [
           46754783
          ],
          "sizemode": "area",
          "sizeref": 293739.5457142857,
          "symbol": "circle"
         },
         "mode": "markers",
         "name": "Spain",
         "orientation": "v",
         "showlegend": true,
         "type": "scatter",
         "x": [
          0.891
         ],
         "xaxis": "x",
         "y": [
          34272.36
         ],
         "yaxis": "y"
        },
        {
         "hovertemplate": "<b>%{hovertext}</b><br><br>location=Sri Lanka<br>human_development_index=%{x}<br>gdp_per_capita=%{y}<br>population=%{marker.size}<extra></extra>",
         "hovertext": [
          "Sri Lanka"
         ],
         "legendgroup": "Sri Lanka",
         "marker": {
          "color": "#8C564B",
          "size": [
           21413250
          ],
          "sizemode": "area",
          "sizeref": 293739.5457142857,
          "symbol": "circle"
         },
         "mode": "markers",
         "name": "Sri Lanka",
         "orientation": "v",
         "showlegend": true,
         "type": "scatter",
         "x": [
          0.77
         ],
         "xaxis": "x",
         "y": [
          11669.077
         ],
         "yaxis": "y"
        },
        {
         "hovertemplate": "<b>%{hovertext}</b><br><br>location=Sudan<br>human_development_index=%{x}<br>gdp_per_capita=%{y}<br>population=%{marker.size}<extra></extra>",
         "hovertext": [
          "Sudan"
         ],
         "legendgroup": "Sudan",
         "marker": {
          "color": "#E377C2",
          "size": [
           43849269
          ],
          "sizemode": "area",
          "sizeref": 293739.5457142857,
          "symbol": "circle"
         },
         "mode": "markers",
         "name": "Sudan",
         "orientation": "v",
         "showlegend": true,
         "type": "scatter",
         "x": [
          0.502
         ],
         "xaxis": "x",
         "y": [
          4466.507
         ],
         "yaxis": "y"
        },
        {
         "hovertemplate": "<b>%{hovertext}</b><br><br>location=Suriname<br>human_development_index=%{x}<br>gdp_per_capita=%{y}<br>population=%{marker.size}<extra></extra>",
         "hovertext": [
          "Suriname"
         ],
         "legendgroup": "Suriname",
         "marker": {
          "color": "#7F7F7F",
          "size": [
           586634
          ],
          "sizemode": "area",
          "sizeref": 293739.5457142857,
          "symbol": "circle"
         },
         "mode": "markers",
         "name": "Suriname",
         "orientation": "v",
         "showlegend": true,
         "type": "scatter",
         "x": [
          0.72
         ],
         "xaxis": "x",
         "y": [
          13767.119
         ],
         "yaxis": "y"
        },
        {
         "hovertemplate": "<b>%{hovertext}</b><br><br>location=Swaziland<br>human_development_index=%{x}<br>gdp_per_capita=%{y}<br>population=%{marker.size}<extra></extra>",
         "hovertext": [
          "Swaziland"
         ],
         "legendgroup": "Swaziland",
         "marker": {
          "color": "#BCBD22",
          "size": [
           1160164
          ],
          "sizemode": "area",
          "sizeref": 293739.5457142857,
          "symbol": "circle"
         },
         "mode": "markers",
         "name": "Swaziland",
         "orientation": "v",
         "showlegend": true,
         "type": "scatter",
         "x": [
          0.588
         ],
         "xaxis": "x",
         "y": [
          7738.975
         ],
         "yaxis": "y"
        },
        {
         "hovertemplate": "<b>%{hovertext}</b><br><br>location=Sweden<br>human_development_index=%{x}<br>gdp_per_capita=%{y}<br>population=%{marker.size}<extra></extra>",
         "hovertext": [
          "Sweden"
         ],
         "legendgroup": "Sweden",
         "marker": {
          "color": "#17BECF",
          "size": [
           10099270
          ],
          "sizemode": "area",
          "sizeref": 293739.5457142857,
          "symbol": "circle"
         },
         "mode": "markers",
         "name": "Sweden",
         "orientation": "v",
         "showlegend": true,
         "type": "scatter",
         "x": [
          0.9330000000000002
         ],
         "xaxis": "x",
         "y": [
          46949.283
         ],
         "yaxis": "y"
        },
        {
         "hovertemplate": "<b>%{hovertext}</b><br><br>location=Switzerland<br>human_development_index=%{x}<br>gdp_per_capita=%{y}<br>population=%{marker.size}<extra></extra>",
         "hovertext": [
          "Switzerland"
         ],
         "legendgroup": "Switzerland",
         "marker": {
          "color": "#1F77B4",
          "size": [
           8654618
          ],
          "sizemode": "area",
          "sizeref": 293739.5457142857,
          "symbol": "circle"
         },
         "mode": "markers",
         "name": "Switzerland",
         "orientation": "v",
         "showlegend": true,
         "type": "scatter",
         "x": [
          0.944
         ],
         "xaxis": "x",
         "y": [
          57410.16599999999
         ],
         "yaxis": "y"
        },
        {
         "hovertemplate": "<b>%{hovertext}</b><br><br>location=Syria<br>human_development_index=%{x}<br>gdp_per_capita=%{y}<br>population=%{marker.size}<extra></extra>",
         "hovertext": [
          "Syria"
         ],
         "legendgroup": "Syria",
         "marker": {
          "color": "#FF7F0E",
          "size": [
           17500657
          ],
          "sizemode": "area",
          "sizeref": 293739.5457142857,
          "symbol": "circle"
         },
         "mode": "markers",
         "name": "Syria",
         "orientation": "v",
         "showlegend": true,
         "type": "scatter",
         "x": [
          0.536
         ],
         "xaxis": "x",
         "y": [
          null
         ],
         "yaxis": "y"
        },
        {
         "hovertemplate": "<b>%{hovertext}</b><br><br>location=Taiwan<br>human_development_index=%{x}<br>gdp_per_capita=%{y}<br>population=%{marker.size}<extra></extra>",
         "hovertext": [
          "Taiwan"
         ],
         "legendgroup": "Taiwan",
         "marker": {
          "color": "#2CA02C",
          "size": [
           23816775
          ],
          "sizemode": "area",
          "sizeref": 293739.5457142857,
          "symbol": "circle"
         },
         "mode": "markers",
         "name": "Taiwan",
         "orientation": "v",
         "showlegend": true,
         "type": "scatter",
         "x": [
          null
         ],
         "xaxis": "x",
         "y": [
          null
         ],
         "yaxis": "y"
        },
        {
         "hovertemplate": "<b>%{hovertext}</b><br><br>location=Tajikistan<br>human_development_index=%{x}<br>gdp_per_capita=%{y}<br>population=%{marker.size}<extra></extra>",
         "hovertext": [
          "Tajikistan"
         ],
         "legendgroup": "Tajikistan",
         "marker": {
          "color": "#D62728",
          "size": [
           9537642
          ],
          "sizemode": "area",
          "sizeref": 293739.5457142857,
          "symbol": "circle"
         },
         "mode": "markers",
         "name": "Tajikistan",
         "orientation": "v",
         "showlegend": true,
         "type": "scatter",
         "x": [
          0.65
         ],
         "xaxis": "x",
         "y": [
          2896.913
         ],
         "yaxis": "y"
        },
        {
         "hovertemplate": "<b>%{hovertext}</b><br><br>location=Tanzania<br>human_development_index=%{x}<br>gdp_per_capita=%{y}<br>population=%{marker.size}<extra></extra>",
         "hovertext": [
          "Tanzania"
         ],
         "legendgroup": "Tanzania",
         "marker": {
          "color": "#9467BD",
          "size": [
           59734213
          ],
          "sizemode": "area",
          "sizeref": 293739.5457142857,
          "symbol": "circle"
         },
         "mode": "markers",
         "name": "Tanzania",
         "orientation": "v",
         "showlegend": true,
         "type": "scatter",
         "x": [
          0.538
         ],
         "xaxis": "x",
         "y": [
          2683.304
         ],
         "yaxis": "y"
        },
        {
         "hovertemplate": "<b>%{hovertext}</b><br><br>location=Thailand<br>human_development_index=%{x}<br>gdp_per_capita=%{y}<br>population=%{marker.size}<extra></extra>",
         "hovertext": [
          "Thailand"
         ],
         "legendgroup": "Thailand",
         "marker": {
          "color": "#8C564B",
          "size": [
           69799978
          ],
          "sizemode": "area",
          "sizeref": 293739.5457142857,
          "symbol": "circle"
         },
         "mode": "markers",
         "name": "Thailand",
         "orientation": "v",
         "showlegend": true,
         "type": "scatter",
         "x": [
          0.755
         ],
         "xaxis": "x",
         "y": [
          16277.671
         ],
         "yaxis": "y"
        },
        {
         "hovertemplate": "<b>%{hovertext}</b><br><br>location=Timor<br>human_development_index=%{x}<br>gdp_per_capita=%{y}<br>population=%{marker.size}<extra></extra>",
         "hovertext": [
          "Timor"
         ],
         "legendgroup": "Timor",
         "marker": {
          "color": "#E377C2",
          "size": [
           1318442
          ],
          "sizemode": "area",
          "sizeref": 293739.5457142857,
          "symbol": "circle"
         },
         "mode": "markers",
         "name": "Timor",
         "orientation": "v",
         "showlegend": true,
         "type": "scatter",
         "x": [
          0.625
         ],
         "xaxis": "x",
         "y": [
          6570.102000000001
         ],
         "yaxis": "y"
        },
        {
         "hovertemplate": "<b>%{hovertext}</b><br><br>location=Togo<br>human_development_index=%{x}<br>gdp_per_capita=%{y}<br>population=%{marker.size}<extra></extra>",
         "hovertext": [
          "Togo"
         ],
         "legendgroup": "Togo",
         "marker": {
          "color": "#7F7F7F",
          "size": [
           8278737
          ],
          "sizemode": "area",
          "sizeref": 293739.5457142857,
          "symbol": "circle"
         },
         "mode": "markers",
         "name": "Togo",
         "orientation": "v",
         "showlegend": true,
         "type": "scatter",
         "x": [
          0.503
         ],
         "xaxis": "x",
         "y": [
          1429.813
         ],
         "yaxis": "y"
        },
        {
         "hovertemplate": "<b>%{hovertext}</b><br><br>location=Trinidad and Tobago<br>human_development_index=%{x}<br>gdp_per_capita=%{y}<br>population=%{marker.size}<extra></extra>",
         "hovertext": [
          "Trinidad and Tobago"
         ],
         "legendgroup": "Trinidad and Tobago",
         "marker": {
          "color": "#BCBD22",
          "size": [
           1399491
          ],
          "sizemode": "area",
          "sizeref": 293739.5457142857,
          "symbol": "circle"
         },
         "mode": "markers",
         "name": "Trinidad and Tobago",
         "orientation": "v",
         "showlegend": true,
         "type": "scatter",
         "x": [
          0.784
         ],
         "xaxis": "x",
         "y": [
          28763.071
         ],
         "yaxis": "y"
        },
        {
         "hovertemplate": "<b>%{hovertext}</b><br><br>location=Tunisia<br>human_development_index=%{x}<br>gdp_per_capita=%{y}<br>population=%{marker.size}<extra></extra>",
         "hovertext": [
          "Tunisia"
         ],
         "legendgroup": "Tunisia",
         "marker": {
          "color": "#17BECF",
          "size": [
           11818618
          ],
          "sizemode": "area",
          "sizeref": 293739.5457142857,
          "symbol": "circle"
         },
         "mode": "markers",
         "name": "Tunisia",
         "orientation": "v",
         "showlegend": true,
         "type": "scatter",
         "x": [
          0.735
         ],
         "xaxis": "x",
         "y": [
          10849.297
         ],
         "yaxis": "y"
        },
        {
         "hovertemplate": "<b>%{hovertext}</b><br><br>location=Turkey<br>human_development_index=%{x}<br>gdp_per_capita=%{y}<br>population=%{marker.size}<extra></extra>",
         "hovertext": [
          "Turkey"
         ],
         "legendgroup": "Turkey",
         "marker": {
          "color": "#1F77B4",
          "size": [
           84339067
          ],
          "sizemode": "area",
          "sizeref": 293739.5457142857,
          "symbol": "circle"
         },
         "mode": "markers",
         "name": "Turkey",
         "orientation": "v",
         "showlegend": true,
         "type": "scatter",
         "x": [
          0.791
         ],
         "xaxis": "x",
         "y": [
          25129.341000000004
         ],
         "yaxis": "y"
        },
        {
         "hovertemplate": "<b>%{hovertext}</b><br><br>location=Turks and Caicos Islands<br>human_development_index=%{x}<br>gdp_per_capita=%{y}<br>population=%{marker.size}<extra></extra>",
         "hovertext": [
          "Turks and Caicos Islands"
         ],
         "legendgroup": "Turks and Caicos Islands",
         "marker": {
          "color": "#FF7F0E",
          "size": [
           38718
          ],
          "sizemode": "area",
          "sizeref": 293739.5457142857,
          "symbol": "circle"
         },
         "mode": "markers",
         "name": "Turks and Caicos Islands",
         "orientation": "v",
         "showlegend": true,
         "type": "scatter",
         "x": [
          null
         ],
         "xaxis": "x",
         "y": [
          null
         ],
         "yaxis": "y"
        },
        {
         "hovertemplate": "<b>%{hovertext}</b><br><br>location=Uganda<br>human_development_index=%{x}<br>gdp_per_capita=%{y}<br>population=%{marker.size}<extra></extra>",
         "hovertext": [
          "Uganda"
         ],
         "legendgroup": "Uganda",
         "marker": {
          "color": "#2CA02C",
          "size": [
           45741000
          ],
          "sizemode": "area",
          "sizeref": 293739.5457142857,
          "symbol": "circle"
         },
         "mode": "markers",
         "name": "Uganda",
         "orientation": "v",
         "showlegend": true,
         "type": "scatter",
         "x": [
          0.516
         ],
         "xaxis": "x",
         "y": [
          1697.707
         ],
         "yaxis": "y"
        },
        {
         "hovertemplate": "<b>%{hovertext}</b><br><br>location=Ukraine<br>human_development_index=%{x}<br>gdp_per_capita=%{y}<br>population=%{marker.size}<extra></extra>",
         "hovertext": [
          "Ukraine"
         ],
         "legendgroup": "Ukraine",
         "marker": {
          "color": "#D62728",
          "size": [
           43733759
          ],
          "sizemode": "area",
          "sizeref": 293739.5457142857,
          "symbol": "circle"
         },
         "mode": "markers",
         "name": "Ukraine",
         "orientation": "v",
         "showlegend": true,
         "type": "scatter",
         "x": [
          0.751
         ],
         "xaxis": "x",
         "y": [
          7894.393
         ],
         "yaxis": "y"
        },
        {
         "hovertemplate": "<b>%{hovertext}</b><br><br>location=United Arab Emirates<br>human_development_index=%{x}<br>gdp_per_capita=%{y}<br>population=%{marker.size}<extra></extra>",
         "hovertext": [
          "United Arab Emirates"
         ],
         "legendgroup": "United Arab Emirates",
         "marker": {
          "color": "#9467BD",
          "size": [
           9890400
          ],
          "sizemode": "area",
          "sizeref": 293739.5457142857,
          "symbol": "circle"
         },
         "mode": "markers",
         "name": "United Arab Emirates",
         "orientation": "v",
         "showlegend": true,
         "type": "scatter",
         "x": [
          0.863
         ],
         "xaxis": "x",
         "y": [
          67293.483
         ],
         "yaxis": "y"
        },
        {
         "hovertemplate": "<b>%{hovertext}</b><br><br>location=United Kingdom<br>human_development_index=%{x}<br>gdp_per_capita=%{y}<br>population=%{marker.size}<extra></extra>",
         "hovertext": [
          "United Kingdom"
         ],
         "legendgroup": "United Kingdom",
         "marker": {
          "color": "#8C564B",
          "size": [
           67886004
          ],
          "sizemode": "area",
          "sizeref": 293739.5457142857,
          "symbol": "circle"
         },
         "mode": "markers",
         "name": "United Kingdom",
         "orientation": "v",
         "showlegend": true,
         "type": "scatter",
         "x": [
          0.9220000000000002
         ],
         "xaxis": "x",
         "y": [
          39753.244
         ],
         "yaxis": "y"
        },
        {
         "hovertemplate": "<b>%{hovertext}</b><br><br>location=United States<br>human_development_index=%{x}<br>gdp_per_capita=%{y}<br>population=%{marker.size}<extra></extra>",
         "hovertext": [
          "United States"
         ],
         "legendgroup": "United States",
         "marker": {
          "color": "#E377C2",
          "size": [
           331002647
          ],
          "sizemode": "area",
          "sizeref": 293739.5457142857,
          "symbol": "circle"
         },
         "mode": "markers",
         "name": "United States",
         "orientation": "v",
         "showlegend": true,
         "type": "scatter",
         "x": [
          0.924
         ],
         "xaxis": "x",
         "y": [
          54225.446
         ],
         "yaxis": "y"
        },
        {
         "hovertemplate": "<b>%{hovertext}</b><br><br>location=United States Virgin Islands<br>human_development_index=%{x}<br>gdp_per_capita=%{y}<br>population=%{marker.size}<extra></extra>",
         "hovertext": [
          "United States Virgin Islands"
         ],
         "legendgroup": "United States Virgin Islands",
         "marker": {
          "color": "#7F7F7F",
          "size": [
           104423
          ],
          "sizemode": "area",
          "sizeref": 293739.5457142857,
          "symbol": "circle"
         },
         "mode": "markers",
         "name": "United States Virgin Islands",
         "orientation": "v",
         "showlegend": true,
         "type": "scatter",
         "x": [
          null
         ],
         "xaxis": "x",
         "y": [
          null
         ],
         "yaxis": "y"
        },
        {
         "hovertemplate": "<b>%{hovertext}</b><br><br>location=Uruguay<br>human_development_index=%{x}<br>gdp_per_capita=%{y}<br>population=%{marker.size}<extra></extra>",
         "hovertext": [
          "Uruguay"
         ],
         "legendgroup": "Uruguay",
         "marker": {
          "color": "#BCBD22",
          "size": [
           3473727
          ],
          "sizemode": "area",
          "sizeref": 293739.5457142857,
          "symbol": "circle"
         },
         "mode": "markers",
         "name": "Uruguay",
         "orientation": "v",
         "showlegend": true,
         "type": "scatter",
         "x": [
          0.804
         ],
         "xaxis": "x",
         "y": [
          20551.409
         ],
         "yaxis": "y"
        },
        {
         "hovertemplate": "<b>%{hovertext}</b><br><br>location=Uzbekistan<br>human_development_index=%{x}<br>gdp_per_capita=%{y}<br>population=%{marker.size}<extra></extra>",
         "hovertext": [
          "Uzbekistan"
         ],
         "legendgroup": "Uzbekistan",
         "marker": {
          "color": "#17BECF",
          "size": [
           33469199
          ],
          "sizemode": "area",
          "sizeref": 293739.5457142857,
          "symbol": "circle"
         },
         "mode": "markers",
         "name": "Uzbekistan",
         "orientation": "v",
         "showlegend": true,
         "type": "scatter",
         "x": [
          0.71
         ],
         "xaxis": "x",
         "y": [
          6253.104
         ],
         "yaxis": "y"
        },
        {
         "hovertemplate": "<b>%{hovertext}</b><br><br>location=Vatican<br>human_development_index=%{x}<br>gdp_per_capita=%{y}<br>population=%{marker.size}<extra></extra>",
         "hovertext": [
          "Vatican"
         ],
         "legendgroup": "Vatican",
         "marker": {
          "color": "#1F77B4",
          "size": [
           809
          ],
          "sizemode": "area",
          "sizeref": 293739.5457142857,
          "symbol": "circle"
         },
         "mode": "markers",
         "name": "Vatican",
         "orientation": "v",
         "showlegend": true,
         "type": "scatter",
         "x": [
          null
         ],
         "xaxis": "x",
         "y": [
          null
         ],
         "yaxis": "y"
        },
        {
         "hovertemplate": "<b>%{hovertext}</b><br><br>location=Venezuela<br>human_development_index=%{x}<br>gdp_per_capita=%{y}<br>population=%{marker.size}<extra></extra>",
         "hovertext": [
          "Venezuela"
         ],
         "legendgroup": "Venezuela",
         "marker": {
          "color": "#FF7F0E",
          "size": [
           28435943
          ],
          "sizemode": "area",
          "sizeref": 293739.5457142857,
          "symbol": "circle"
         },
         "mode": "markers",
         "name": "Venezuela",
         "orientation": "v",
         "showlegend": true,
         "type": "scatter",
         "x": [
          0.761
         ],
         "xaxis": "x",
         "y": [
          16745.022
         ],
         "yaxis": "y"
        },
        {
         "hovertemplate": "<b>%{hovertext}</b><br><br>location=Vietnam<br>human_development_index=%{x}<br>gdp_per_capita=%{y}<br>population=%{marker.size}<extra></extra>",
         "hovertext": [
          "Vietnam"
         ],
         "legendgroup": "Vietnam",
         "marker": {
          "color": "#2CA02C",
          "size": [
           97338583
          ],
          "sizemode": "area",
          "sizeref": 293739.5457142857,
          "symbol": "circle"
         },
         "mode": "markers",
         "name": "Vietnam",
         "orientation": "v",
         "showlegend": true,
         "type": "scatter",
         "x": [
          0.694
         ],
         "xaxis": "x",
         "y": [
          6171.884
         ],
         "yaxis": "y"
        },
        {
         "hovertemplate": "<b>%{hovertext}</b><br><br>location=Yemen<br>human_development_index=%{x}<br>gdp_per_capita=%{y}<br>population=%{marker.size}<extra></extra>",
         "hovertext": [
          "Yemen"
         ],
         "legendgroup": "Yemen",
         "marker": {
          "color": "#D62728",
          "size": [
           29825968
          ],
          "sizemode": "area",
          "sizeref": 293739.5457142857,
          "symbol": "circle"
         },
         "mode": "markers",
         "name": "Yemen",
         "orientation": "v",
         "showlegend": true,
         "type": "scatter",
         "x": [
          0.452
         ],
         "xaxis": "x",
         "y": [
          1479.147
         ],
         "yaxis": "y"
        },
        {
         "hovertemplate": "<b>%{hovertext}</b><br><br>location=Zambia<br>human_development_index=%{x}<br>gdp_per_capita=%{y}<br>population=%{marker.size}<extra></extra>",
         "hovertext": [
          "Zambia"
         ],
         "legendgroup": "Zambia",
         "marker": {
          "color": "#9467BD",
          "size": [
           18383956
          ],
          "sizemode": "area",
          "sizeref": 293739.5457142857,
          "symbol": "circle"
         },
         "mode": "markers",
         "name": "Zambia",
         "orientation": "v",
         "showlegend": true,
         "type": "scatter",
         "x": [
          0.588
         ],
         "xaxis": "x",
         "y": [
          3689.251
         ],
         "yaxis": "y"
        },
        {
         "hovertemplate": "<b>%{hovertext}</b><br><br>location=Zimbabwe<br>human_development_index=%{x}<br>gdp_per_capita=%{y}<br>population=%{marker.size}<extra></extra>",
         "hovertext": [
          "Zimbabwe"
         ],
         "legendgroup": "Zimbabwe",
         "marker": {
          "color": "#8C564B",
          "size": [
           14862927
          ],
          "sizemode": "area",
          "sizeref": 293739.5457142857,
          "symbol": "circle"
         },
         "mode": "markers",
         "name": "Zimbabwe",
         "orientation": "v",
         "showlegend": true,
         "type": "scatter",
         "x": [
          0.535
         ],
         "xaxis": "x",
         "y": [
          1899.775
         ],
         "yaxis": "y"
        }
       ],
       "layout": {
        "height": 500,
        "legend": {
         "itemsizing": "constant",
         "title": {
          "text": "location"
         },
         "tracegroupgap": 0
        },
        "margin": {
         "t": 60
        },
        "template": {
         "data": {
          "bar": [
           {
            "error_x": {
             "color": "rgb(36,36,36)"
            },
            "error_y": {
             "color": "rgb(36,36,36)"
            },
            "marker": {
             "line": {
              "color": "white",
              "width": 0.5
             },
             "pattern": {
              "fillmode": "overlay",
              "size": 10,
              "solidity": 0.2
             }
            },
            "type": "bar"
           }
          ],
          "barpolar": [
           {
            "marker": {
             "line": {
              "color": "white",
              "width": 0.5
             },
             "pattern": {
              "fillmode": "overlay",
              "size": 10,
              "solidity": 0.2
             }
            },
            "type": "barpolar"
           }
          ],
          "carpet": [
           {
            "aaxis": {
             "endlinecolor": "rgb(36,36,36)",
             "gridcolor": "white",
             "linecolor": "white",
             "minorgridcolor": "white",
             "startlinecolor": "rgb(36,36,36)"
            },
            "baxis": {
             "endlinecolor": "rgb(36,36,36)",
             "gridcolor": "white",
             "linecolor": "white",
             "minorgridcolor": "white",
             "startlinecolor": "rgb(36,36,36)"
            },
            "type": "carpet"
           }
          ],
          "choropleth": [
           {
            "colorbar": {
             "outlinewidth": 1,
             "tickcolor": "rgb(36,36,36)",
             "ticks": "outside"
            },
            "type": "choropleth"
           }
          ],
          "contour": [
           {
            "colorbar": {
             "outlinewidth": 1,
             "tickcolor": "rgb(36,36,36)",
             "ticks": "outside"
            },
            "colorscale": [
             [
              0,
              "#440154"
             ],
             [
              0.1111111111111111,
              "#482878"
             ],
             [
              0.2222222222222222,
              "#3e4989"
             ],
             [
              0.3333333333333333,
              "#31688e"
             ],
             [
              0.4444444444444444,
              "#26828e"
             ],
             [
              0.5555555555555556,
              "#1f9e89"
             ],
             [
              0.6666666666666666,
              "#35b779"
             ],
             [
              0.7777777777777778,
              "#6ece58"
             ],
             [
              0.8888888888888888,
              "#b5de2b"
             ],
             [
              1,
              "#fde725"
             ]
            ],
            "type": "contour"
           }
          ],
          "contourcarpet": [
           {
            "colorbar": {
             "outlinewidth": 1,
             "tickcolor": "rgb(36,36,36)",
             "ticks": "outside"
            },
            "type": "contourcarpet"
           }
          ],
          "heatmap": [
           {
            "colorbar": {
             "outlinewidth": 1,
             "tickcolor": "rgb(36,36,36)",
             "ticks": "outside"
            },
            "colorscale": [
             [
              0,
              "#440154"
             ],
             [
              0.1111111111111111,
              "#482878"
             ],
             [
              0.2222222222222222,
              "#3e4989"
             ],
             [
              0.3333333333333333,
              "#31688e"
             ],
             [
              0.4444444444444444,
              "#26828e"
             ],
             [
              0.5555555555555556,
              "#1f9e89"
             ],
             [
              0.6666666666666666,
              "#35b779"
             ],
             [
              0.7777777777777778,
              "#6ece58"
             ],
             [
              0.8888888888888888,
              "#b5de2b"
             ],
             [
              1,
              "#fde725"
             ]
            ],
            "type": "heatmap"
           }
          ],
          "heatmapgl": [
           {
            "colorbar": {
             "outlinewidth": 1,
             "tickcolor": "rgb(36,36,36)",
             "ticks": "outside"
            },
            "colorscale": [
             [
              0,
              "#440154"
             ],
             [
              0.1111111111111111,
              "#482878"
             ],
             [
              0.2222222222222222,
              "#3e4989"
             ],
             [
              0.3333333333333333,
              "#31688e"
             ],
             [
              0.4444444444444444,
              "#26828e"
             ],
             [
              0.5555555555555556,
              "#1f9e89"
             ],
             [
              0.6666666666666666,
              "#35b779"
             ],
             [
              0.7777777777777778,
              "#6ece58"
             ],
             [
              0.8888888888888888,
              "#b5de2b"
             ],
             [
              1,
              "#fde725"
             ]
            ],
            "type": "heatmapgl"
           }
          ],
          "histogram": [
           {
            "marker": {
             "line": {
              "color": "white",
              "width": 0.6
             }
            },
            "type": "histogram"
           }
          ],
          "histogram2d": [
           {
            "colorbar": {
             "outlinewidth": 1,
             "tickcolor": "rgb(36,36,36)",
             "ticks": "outside"
            },
            "colorscale": [
             [
              0,
              "#440154"
             ],
             [
              0.1111111111111111,
              "#482878"
             ],
             [
              0.2222222222222222,
              "#3e4989"
             ],
             [
              0.3333333333333333,
              "#31688e"
             ],
             [
              0.4444444444444444,
              "#26828e"
             ],
             [
              0.5555555555555556,
              "#1f9e89"
             ],
             [
              0.6666666666666666,
              "#35b779"
             ],
             [
              0.7777777777777778,
              "#6ece58"
             ],
             [
              0.8888888888888888,
              "#b5de2b"
             ],
             [
              1,
              "#fde725"
             ]
            ],
            "type": "histogram2d"
           }
          ],
          "histogram2dcontour": [
           {
            "colorbar": {
             "outlinewidth": 1,
             "tickcolor": "rgb(36,36,36)",
             "ticks": "outside"
            },
            "colorscale": [
             [
              0,
              "#440154"
             ],
             [
              0.1111111111111111,
              "#482878"
             ],
             [
              0.2222222222222222,
              "#3e4989"
             ],
             [
              0.3333333333333333,
              "#31688e"
             ],
             [
              0.4444444444444444,
              "#26828e"
             ],
             [
              0.5555555555555556,
              "#1f9e89"
             ],
             [
              0.6666666666666666,
              "#35b779"
             ],
             [
              0.7777777777777778,
              "#6ece58"
             ],
             [
              0.8888888888888888,
              "#b5de2b"
             ],
             [
              1,
              "#fde725"
             ]
            ],
            "type": "histogram2dcontour"
           }
          ],
          "mesh3d": [
           {
            "colorbar": {
             "outlinewidth": 1,
             "tickcolor": "rgb(36,36,36)",
             "ticks": "outside"
            },
            "type": "mesh3d"
           }
          ],
          "parcoords": [
           {
            "line": {
             "colorbar": {
              "outlinewidth": 1,
              "tickcolor": "rgb(36,36,36)",
              "ticks": "outside"
             }
            },
            "type": "parcoords"
           }
          ],
          "pie": [
           {
            "automargin": true,
            "type": "pie"
           }
          ],
          "scatter": [
           {
            "fillpattern": {
             "fillmode": "overlay",
             "size": 10,
             "solidity": 0.2
            },
            "type": "scatter"
           }
          ],
          "scatter3d": [
           {
            "line": {
             "colorbar": {
              "outlinewidth": 1,
              "tickcolor": "rgb(36,36,36)",
              "ticks": "outside"
             }
            },
            "marker": {
             "colorbar": {
              "outlinewidth": 1,
              "tickcolor": "rgb(36,36,36)",
              "ticks": "outside"
             }
            },
            "type": "scatter3d"
           }
          ],
          "scattercarpet": [
           {
            "marker": {
             "colorbar": {
              "outlinewidth": 1,
              "tickcolor": "rgb(36,36,36)",
              "ticks": "outside"
             }
            },
            "type": "scattercarpet"
           }
          ],
          "scattergeo": [
           {
            "marker": {
             "colorbar": {
              "outlinewidth": 1,
              "tickcolor": "rgb(36,36,36)",
              "ticks": "outside"
             }
            },
            "type": "scattergeo"
           }
          ],
          "scattergl": [
           {
            "marker": {
             "colorbar": {
              "outlinewidth": 1,
              "tickcolor": "rgb(36,36,36)",
              "ticks": "outside"
             }
            },
            "type": "scattergl"
           }
          ],
          "scattermapbox": [
           {
            "marker": {
             "colorbar": {
              "outlinewidth": 1,
              "tickcolor": "rgb(36,36,36)",
              "ticks": "outside"
             }
            },
            "type": "scattermapbox"
           }
          ],
          "scatterpolar": [
           {
            "marker": {
             "colorbar": {
              "outlinewidth": 1,
              "tickcolor": "rgb(36,36,36)",
              "ticks": "outside"
             }
            },
            "type": "scatterpolar"
           }
          ],
          "scatterpolargl": [
           {
            "marker": {
             "colorbar": {
              "outlinewidth": 1,
              "tickcolor": "rgb(36,36,36)",
              "ticks": "outside"
             }
            },
            "type": "scatterpolargl"
           }
          ],
          "scatterternary": [
           {
            "marker": {
             "colorbar": {
              "outlinewidth": 1,
              "tickcolor": "rgb(36,36,36)",
              "ticks": "outside"
             }
            },
            "type": "scatterternary"
           }
          ],
          "surface": [
           {
            "colorbar": {
             "outlinewidth": 1,
             "tickcolor": "rgb(36,36,36)",
             "ticks": "outside"
            },
            "colorscale": [
             [
              0,
              "#440154"
             ],
             [
              0.1111111111111111,
              "#482878"
             ],
             [
              0.2222222222222222,
              "#3e4989"
             ],
             [
              0.3333333333333333,
              "#31688e"
             ],
             [
              0.4444444444444444,
              "#26828e"
             ],
             [
              0.5555555555555556,
              "#1f9e89"
             ],
             [
              0.6666666666666666,
              "#35b779"
             ],
             [
              0.7777777777777778,
              "#6ece58"
             ],
             [
              0.8888888888888888,
              "#b5de2b"
             ],
             [
              1,
              "#fde725"
             ]
            ],
            "type": "surface"
           }
          ],
          "table": [
           {
            "cells": {
             "fill": {
              "color": "rgb(237,237,237)"
             },
             "line": {
              "color": "white"
             }
            },
            "header": {
             "fill": {
              "color": "rgb(217,217,217)"
             },
             "line": {
              "color": "white"
             }
            },
            "type": "table"
           }
          ]
         },
         "layout": {
          "annotationdefaults": {
           "arrowhead": 0,
           "arrowwidth": 1
          },
          "autotypenumbers": "strict",
          "coloraxis": {
           "colorbar": {
            "outlinewidth": 1,
            "tickcolor": "rgb(36,36,36)",
            "ticks": "outside"
           }
          },
          "colorscale": {
           "diverging": [
            [
             0,
             "rgb(103,0,31)"
            ],
            [
             0.1,
             "rgb(178,24,43)"
            ],
            [
             0.2,
             "rgb(214,96,77)"
            ],
            [
             0.3,
             "rgb(244,165,130)"
            ],
            [
             0.4,
             "rgb(253,219,199)"
            ],
            [
             0.5,
             "rgb(247,247,247)"
            ],
            [
             0.6,
             "rgb(209,229,240)"
            ],
            [
             0.7,
             "rgb(146,197,222)"
            ],
            [
             0.8,
             "rgb(67,147,195)"
            ],
            [
             0.9,
             "rgb(33,102,172)"
            ],
            [
             1,
             "rgb(5,48,97)"
            ]
           ],
           "sequential": [
            [
             0,
             "#440154"
            ],
            [
             0.1111111111111111,
             "#482878"
            ],
            [
             0.2222222222222222,
             "#3e4989"
            ],
            [
             0.3333333333333333,
             "#31688e"
            ],
            [
             0.4444444444444444,
             "#26828e"
            ],
            [
             0.5555555555555556,
             "#1f9e89"
            ],
            [
             0.6666666666666666,
             "#35b779"
            ],
            [
             0.7777777777777778,
             "#6ece58"
            ],
            [
             0.8888888888888888,
             "#b5de2b"
            ],
            [
             1,
             "#fde725"
            ]
           ],
           "sequentialminus": [
            [
             0,
             "#440154"
            ],
            [
             0.1111111111111111,
             "#482878"
            ],
            [
             0.2222222222222222,
             "#3e4989"
            ],
            [
             0.3333333333333333,
             "#31688e"
            ],
            [
             0.4444444444444444,
             "#26828e"
            ],
            [
             0.5555555555555556,
             "#1f9e89"
            ],
            [
             0.6666666666666666,
             "#35b779"
            ],
            [
             0.7777777777777778,
             "#6ece58"
            ],
            [
             0.8888888888888888,
             "#b5de2b"
            ],
            [
             1,
             "#fde725"
            ]
           ]
          },
          "colorway": [
           "#1F77B4",
           "#FF7F0E",
           "#2CA02C",
           "#D62728",
           "#9467BD",
           "#8C564B",
           "#E377C2",
           "#7F7F7F",
           "#BCBD22",
           "#17BECF"
          ],
          "font": {
           "color": "rgb(36,36,36)"
          },
          "geo": {
           "bgcolor": "white",
           "lakecolor": "white",
           "landcolor": "white",
           "showlakes": true,
           "showland": true,
           "subunitcolor": "white"
          },
          "hoverlabel": {
           "align": "left"
          },
          "hovermode": "closest",
          "mapbox": {
           "style": "light"
          },
          "paper_bgcolor": "white",
          "plot_bgcolor": "white",
          "polar": {
           "angularaxis": {
            "gridcolor": "rgb(232,232,232)",
            "linecolor": "rgb(36,36,36)",
            "showgrid": false,
            "showline": true,
            "ticks": "outside"
           },
           "bgcolor": "white",
           "radialaxis": {
            "gridcolor": "rgb(232,232,232)",
            "linecolor": "rgb(36,36,36)",
            "showgrid": false,
            "showline": true,
            "ticks": "outside"
           }
          },
          "scene": {
           "xaxis": {
            "backgroundcolor": "white",
            "gridcolor": "rgb(232,232,232)",
            "gridwidth": 2,
            "linecolor": "rgb(36,36,36)",
            "showbackground": true,
            "showgrid": false,
            "showline": true,
            "ticks": "outside",
            "zeroline": false,
            "zerolinecolor": "rgb(36,36,36)"
           },
           "yaxis": {
            "backgroundcolor": "white",
            "gridcolor": "rgb(232,232,232)",
            "gridwidth": 2,
            "linecolor": "rgb(36,36,36)",
            "showbackground": true,
            "showgrid": false,
            "showline": true,
            "ticks": "outside",
            "zeroline": false,
            "zerolinecolor": "rgb(36,36,36)"
           },
           "zaxis": {
            "backgroundcolor": "white",
            "gridcolor": "rgb(232,232,232)",
            "gridwidth": 2,
            "linecolor": "rgb(36,36,36)",
            "showbackground": true,
            "showgrid": false,
            "showline": true,
            "ticks": "outside",
            "zeroline": false,
            "zerolinecolor": "rgb(36,36,36)"
           }
          },
          "shapedefaults": {
           "fillcolor": "black",
           "line": {
            "width": 0
           },
           "opacity": 0.3
          },
          "ternary": {
           "aaxis": {
            "gridcolor": "rgb(232,232,232)",
            "linecolor": "rgb(36,36,36)",
            "showgrid": false,
            "showline": true,
            "ticks": "outside"
           },
           "baxis": {
            "gridcolor": "rgb(232,232,232)",
            "linecolor": "rgb(36,36,36)",
            "showgrid": false,
            "showline": true,
            "ticks": "outside"
           },
           "bgcolor": "white",
           "caxis": {
            "gridcolor": "rgb(232,232,232)",
            "linecolor": "rgb(36,36,36)",
            "showgrid": false,
            "showline": true,
            "ticks": "outside"
           }
          },
          "title": {
           "x": 0.05
          },
          "xaxis": {
           "automargin": true,
           "gridcolor": "rgb(232,232,232)",
           "linecolor": "rgb(36,36,36)",
           "showgrid": false,
           "showline": true,
           "ticks": "outside",
           "title": {
            "standoff": 15
           },
           "zeroline": false,
           "zerolinecolor": "rgb(36,36,36)"
          },
          "yaxis": {
           "automargin": true,
           "gridcolor": "rgb(232,232,232)",
           "linecolor": "rgb(36,36,36)",
           "showgrid": false,
           "showline": true,
           "ticks": "outside",
           "title": {
            "standoff": 15
           },
           "zeroline": false,
           "zerolinecolor": "rgb(36,36,36)"
          }
         }
        },
        "title": {
         "text": "Comparison between a Country's GDP per Capita and HDI"
        },
        "xaxis": {
         "anchor": "y",
         "domain": [
          0,
          1
         ],
         "title": {
          "text": "human_development_index"
         }
        },
        "yaxis": {
         "anchor": "x",
         "domain": [
          0,
          1
         ],
         "title": {
          "text": "gdp_per_capita"
         }
        }
       }
      }
     },
     "metadata": {},
     "output_type": "display_data"
    }
   ],
   "source": [
    "fig = px.scatter(df2_grouped, x=\"human_development_index\", y=\"gdp_per_capita\", size=\"population\", hover_name=\"location\", color='location', template='simple_white', size_max=70)\n",
    "fig.update_layout(\n",
    "    height=500,\n",
    "    title_text=\"Comparison between a Country's GDP per Capita and HDI\"\n",
    ")\n",
    "fig.show()"
   ]
  },
  {
   "cell_type": "code",
   "execution_count": 28,
   "metadata": {},
   "outputs": [
    {
     "data": {
      "application/vnd.plotly.v1+json": {
       "config": {
        "plotlyServerURL": "https://plot.ly"
       },
       "data": [
        {
         "hovertemplate": "<b>%{hovertext}</b><br><br>location=Afghanistan<br>gdp_per_capita=%{x}<br>total_cases=%{y}<br>population=%{marker.size}<extra></extra>",
         "hovertext": [
          "Afghanistan"
         ],
         "legendgroup": "Afghanistan",
         "marker": {
          "color": "#1F77B4",
          "size": [
           38928341
          ],
          "sizemode": "area",
          "sizeref": 293739.5457142857,
          "symbol": "circle"
         },
         "mode": "markers",
         "name": "Afghanistan",
         "orientation": "v",
         "showlegend": true,
         "type": "scatter",
         "x": [
          1803.9870000000003
         ],
         "xaxis": "x",
         "y": [
          17436.84693877551
         ],
         "yaxis": "y"
        },
        {
         "hovertemplate": "<b>%{hovertext}</b><br><br>location=Albania<br>gdp_per_capita=%{x}<br>total_cases=%{y}<br>population=%{marker.size}<extra></extra>",
         "hovertext": [
          "Albania"
         ],
         "legendgroup": "Albania",
         "marker": {
          "color": "#FF7F0E",
          "size": [
           2877800
          ],
          "sizemode": "area",
          "sizeref": 293739.5457142857,
          "symbol": "circle"
         },
         "mode": "markers",
         "name": "Albania",
         "orientation": "v",
         "showlegend": true,
         "type": "scatter",
         "x": [
          11803.431
         ],
         "xaxis": "x",
         "y": [
          4764.2266666666665
         ],
         "yaxis": "y"
        },
        {
         "hovertemplate": "<b>%{hovertext}</b><br><br>location=Algeria<br>gdp_per_capita=%{x}<br>total_cases=%{y}<br>population=%{marker.size}<extra></extra>",
         "hovertext": [
          "Algeria"
         ],
         "legendgroup": "Algeria",
         "marker": {
          "color": "#2CA02C",
          "size": [
           43851043
          ],
          "sizemode": "area",
          "sizeref": 293739.5457142857,
          "symbol": "circle"
         },
         "mode": "markers",
         "name": "Algeria",
         "orientation": "v",
         "showlegend": true,
         "type": "scatter",
         "x": [
          13913.839
         ],
         "xaxis": "x",
         "y": [
          21094.82327586207
         ],
         "yaxis": "y"
        },
        {
         "hovertemplate": "<b>%{hovertext}</b><br><br>location=Andorra<br>gdp_per_capita=%{x}<br>total_cases=%{y}<br>population=%{marker.size}<extra></extra>",
         "hovertext": [
          "Andorra"
         ],
         "legendgroup": "Andorra",
         "marker": {
          "color": "#D62728",
          "size": [
           77265
          ],
          "sizemode": "area",
          "sizeref": 293739.5457142857,
          "symbol": "circle"
         },
         "mode": "markers",
         "name": "Andorra",
         "orientation": "v",
         "showlegend": true,
         "type": "scatter",
         "x": [
          null
         ],
         "xaxis": "x",
         "y": [
          1016.2545454545455
         ],
         "yaxis": "y"
        },
        {
         "hovertemplate": "<b>%{hovertext}</b><br><br>location=Angola<br>gdp_per_capita=%{x}<br>total_cases=%{y}<br>population=%{marker.size}<extra></extra>",
         "hovertext": [
          "Angola"
         ],
         "legendgroup": "Angola",
         "marker": {
          "color": "#9467BD",
          "size": [
           32866268
          ],
          "sizemode": "area",
          "sizeref": 293739.5457142857,
          "symbol": "circle"
         },
         "mode": "markers",
         "name": "Angola",
         "orientation": "v",
         "showlegend": true,
         "type": "scatter",
         "x": [
          5819.495
         ],
         "xaxis": "x",
         "y": [
          1433.9858490566037
         ],
         "yaxis": "y"
        },
        {
         "hovertemplate": "<b>%{hovertext}</b><br><br>location=Anguilla<br>gdp_per_capita=%{x}<br>total_cases=%{y}<br>population=%{marker.size}<extra></extra>",
         "hovertext": [
          "Anguilla"
         ],
         "legendgroup": "Anguilla",
         "marker": {
          "color": "#8C564B",
          "size": [
           15002
          ],
          "sizemode": "area",
          "sizeref": 293739.5457142857,
          "symbol": "circle"
         },
         "mode": "markers",
         "name": "Anguilla",
         "orientation": "v",
         "showlegend": true,
         "type": "scatter",
         "x": [
          null
         ],
         "xaxis": "x",
         "y": [
          2.966183574879227
         ],
         "yaxis": "y"
        },
        {
         "hovertemplate": "<b>%{hovertext}</b><br><br>location=Antigua and Barbuda<br>gdp_per_capita=%{x}<br>total_cases=%{y}<br>population=%{marker.size}<extra></extra>",
         "hovertext": [
          "Antigua and Barbuda"
         ],
         "legendgroup": "Antigua and Barbuda",
         "marker": {
          "color": "#E377C2",
          "size": [
           97928
          ],
          "sizemode": "area",
          "sizeref": 293739.5457142857,
          "symbol": "circle"
         },
         "mode": "markers",
         "name": "Antigua and Barbuda",
         "orientation": "v",
         "showlegend": true,
         "type": "scatter",
         "x": [
          21490.943
         ],
         "xaxis": "x",
         "y": [
          58.967289719626166
         ],
         "yaxis": "y"
        },
        {
         "hovertemplate": "<b>%{hovertext}</b><br><br>location=Argentina<br>gdp_per_capita=%{x}<br>total_cases=%{y}<br>population=%{marker.size}<extra></extra>",
         "hovertext": [
          "Argentina"
         ],
         "legendgroup": "Argentina",
         "marker": {
          "color": "#7F7F7F",
          "size": [
           45195777
          ],
          "sizemode": "area",
          "sizeref": 293739.5457142857,
          "symbol": "circle"
         },
         "mode": "markers",
         "name": "Argentina",
         "orientation": "v",
         "showlegend": true,
         "type": "scatter",
         "x": [
          18933.907
         ],
         "xaxis": "x",
         "y": [
          207732.30837004405
         ],
         "yaxis": "y"
        },
        {
         "hovertemplate": "<b>%{hovertext}</b><br><br>location=Armenia<br>gdp_per_capita=%{x}<br>total_cases=%{y}<br>population=%{marker.size}<extra></extra>",
         "hovertext": [
          "Armenia"
         ],
         "legendgroup": "Armenia",
         "marker": {
          "color": "#BCBD22",
          "size": [
           2963234
          ],
          "sizemode": "area",
          "sizeref": 293739.5457142857,
          "symbol": "circle"
         },
         "mode": "markers",
         "name": "Armenia",
         "orientation": "v",
         "showlegend": true,
         "type": "scatter",
         "x": [
          8787.58
         ],
         "xaxis": "x",
         "y": [
          24440.308035714286
         ],
         "yaxis": "y"
        },
        {
         "hovertemplate": "<b>%{hovertext}</b><br><br>location=Aruba<br>gdp_per_capita=%{x}<br>total_cases=%{y}<br>population=%{marker.size}<extra></extra>",
         "hovertext": [
          "Aruba"
         ],
         "legendgroup": "Aruba",
         "marker": {
          "color": "#17BECF",
          "size": [
           106766
          ],
          "sizemode": "area",
          "sizeref": 293739.5457142857,
          "symbol": "circle"
         },
         "mode": "markers",
         "name": "Aruba",
         "orientation": "v",
         "showlegend": true,
         "type": "scatter",
         "x": [
          35973.781
         ],
         "xaxis": "x",
         "y": [
          1019.4786729857819
         ],
         "yaxis": "y"
        },
        {
         "hovertemplate": "<b>%{hovertext}</b><br><br>location=Australia<br>gdp_per_capita=%{x}<br>total_cases=%{y}<br>population=%{marker.size}<extra></extra>",
         "hovertext": [
          "Australia"
         ],
         "legendgroup": "Australia",
         "marker": {
          "color": "#1F77B4",
          "size": [
           25499881
          ],
          "sizemode": "area",
          "sizeref": 293739.5457142857,
          "symbol": "circle"
         },
         "mode": "markers",
         "name": "Australia",
         "orientation": "v",
         "showlegend": true,
         "type": "scatter",
         "x": [
          44648.71
         ],
         "xaxis": "x",
         "y": [
          11198.42750929368
         ],
         "yaxis": "y"
        },
        {
         "hovertemplate": "<b>%{hovertext}</b><br><br>location=Austria<br>gdp_per_capita=%{x}<br>total_cases=%{y}<br>population=%{marker.size}<extra></extra>",
         "hovertext": [
          "Austria"
         ],
         "legendgroup": "Austria",
         "marker": {
          "color": "#FF7F0E",
          "size": [
           9006400
          ],
          "sizemode": "area",
          "sizeref": 293739.5457142857,
          "symbol": "circle"
         },
         "mode": "markers",
         "name": "Austria",
         "orientation": "v",
         "showlegend": true,
         "type": "scatter",
         "x": [
          45436.686
         ],
         "xaxis": "x",
         "y": [
          20713.91139240506
         ],
         "yaxis": "y"
        },
        {
         "hovertemplate": "<b>%{hovertext}</b><br><br>location=Azerbaijan<br>gdp_per_capita=%{x}<br>total_cases=%{y}<br>population=%{marker.size}<extra></extra>",
         "hovertext": [
          "Azerbaijan"
         ],
         "legendgroup": "Azerbaijan",
         "marker": {
          "color": "#2CA02C",
          "size": [
           10139175
          ],
          "sizemode": "area",
          "sizeref": 293739.5457142857,
          "symbol": "circle"
         },
         "mode": "markers",
         "name": "Azerbaijan",
         "orientation": "v",
         "showlegend": true,
         "type": "scatter",
         "x": [
          15847.419
         ],
         "xaxis": "x",
         "y": [
          18664.237885462557
         ],
         "yaxis": "y"
        },
        {
         "hovertemplate": "<b>%{hovertext}</b><br><br>location=Bahamas<br>gdp_per_capita=%{x}<br>total_cases=%{y}<br>population=%{marker.size}<extra></extra>",
         "hovertext": [
          "Bahamas"
         ],
         "legendgroup": "Bahamas",
         "marker": {
          "color": "#D62728",
          "size": [
           393248
          ],
          "sizemode": "area",
          "sizeref": 293739.5457142857,
          "symbol": "circle"
         },
         "mode": "markers",
         "name": "Bahamas",
         "orientation": "v",
         "showlegend": true,
         "type": "scatter",
         "x": [
          27717.847
         ],
         "xaxis": "x",
         "y": [
          1101.4259259259259
         ],
         "yaxis": "y"
        },
        {
         "hovertemplate": "<b>%{hovertext}</b><br><br>location=Bahrain<br>gdp_per_capita=%{x}<br>total_cases=%{y}<br>population=%{marker.size}<extra></extra>",
         "hovertext": [
          "Bahrain"
         ],
         "legendgroup": "Bahrain",
         "marker": {
          "color": "#9467BD",
          "size": [
           1701583
          ],
          "sizemode": "area",
          "sizeref": 293739.5457142857,
          "symbol": "circle"
         },
         "mode": "markers",
         "name": "Bahrain",
         "orientation": "v",
         "showlegend": true,
         "type": "scatter",
         "x": [
          43290.705
         ],
         "xaxis": "x",
         "y": [
          27520.98739495798
         ],
         "yaxis": "y"
        },
        {
         "hovertemplate": "<b>%{hovertext}</b><br><br>location=Bangladesh<br>gdp_per_capita=%{x}<br>total_cases=%{y}<br>population=%{marker.size}<extra></extra>",
         "hovertext": [
          "Bangladesh"
         ],
         "legendgroup": "Bangladesh",
         "marker": {
          "color": "#8C564B",
          "size": [
           164689383
          ],
          "sizemode": "area",
          "sizeref": 293739.5457142857,
          "symbol": "circle"
         },
         "mode": "markers",
         "name": "Bangladesh",
         "orientation": "v",
         "showlegend": true,
         "type": "scatter",
         "x": [
          3523.984
         ],
         "xaxis": "x",
         "y": [
          161032.77625570775
         ],
         "yaxis": "y"
        },
        {
         "hovertemplate": "<b>%{hovertext}</b><br><br>location=Barbados<br>gdp_per_capita=%{x}<br>total_cases=%{y}<br>population=%{marker.size}<extra></extra>",
         "hovertext": [
          "Barbados"
         ],
         "legendgroup": "Barbados",
         "marker": {
          "color": "#E377C2",
          "size": [
           287371
          ],
          "sizemode": "area",
          "sizeref": 293739.5457142857,
          "symbol": "circle"
         },
         "mode": "markers",
         "name": "Barbados",
         "orientation": "v",
         "showlegend": true,
         "type": "scatter",
         "x": [
          16978.068
         ],
         "xaxis": "x",
         "y": [
          115.73148148148148
         ],
         "yaxis": "y"
        },
        {
         "hovertemplate": "<b>%{hovertext}</b><br><br>location=Belarus<br>gdp_per_capita=%{x}<br>total_cases=%{y}<br>population=%{marker.size}<extra></extra>",
         "hovertext": [
          "Belarus"
         ],
         "legendgroup": "Belarus",
         "marker": {
          "color": "#7F7F7F",
          "size": [
           9449321
          ],
          "sizemode": "area",
          "sizeref": 293739.5457142857,
          "symbol": "circle"
         },
         "mode": "markers",
         "name": "Belarus",
         "orientation": "v",
         "showlegend": true,
         "type": "scatter",
         "x": [
          17167.967
         ],
         "xaxis": "x",
         "y": [
          46674.828193832596
         ],
         "yaxis": "y"
        },
        {
         "hovertemplate": "<b>%{hovertext}</b><br><br>location=Belgium<br>gdp_per_capita=%{x}<br>total_cases=%{y}<br>population=%{marker.size}<extra></extra>",
         "hovertext": [
          "Belgium"
         ],
         "legendgroup": "Belgium",
         "marker": {
          "color": "#BCBD22",
          "size": [
           11589616
          ],
          "sizemode": "area",
          "sizeref": 293739.5457142857,
          "symbol": "circle"
         },
         "mode": "markers",
         "name": "Belgium",
         "orientation": "v",
         "showlegend": true,
         "type": "scatter",
         "x": [
          42658.576
         ],
         "xaxis": "x",
         "y": [
          59114.66147859922
         ],
         "yaxis": "y"
        },
        {
         "hovertemplate": "<b>%{hovertext}</b><br><br>location=Belize<br>gdp_per_capita=%{x}<br>total_cases=%{y}<br>population=%{marker.size}<extra></extra>",
         "hovertext": [
          "Belize"
         ],
         "legendgroup": "Belize",
         "marker": {
          "color": "#17BECF",
          "size": [
           397621
          ],
          "sizemode": "area",
          "sizeref": 293739.5457142857,
          "symbol": "circle"
         },
         "mode": "markers",
         "name": "Belize",
         "orientation": "v",
         "showlegend": true,
         "type": "scatter",
         "x": [
          7824.362
         ],
         "xaxis": "x",
         "y": [
          506.5857142857143
         ],
         "yaxis": "y"
        },
        {
         "hovertemplate": "<b>%{hovertext}</b><br><br>location=Benin<br>gdp_per_capita=%{x}<br>total_cases=%{y}<br>population=%{marker.size}<extra></extra>",
         "hovertext": [
          "Benin"
         ],
         "legendgroup": "Benin",
         "marker": {
          "color": "#1F77B4",
          "size": [
           12123198
          ],
          "sizemode": "area",
          "sizeref": 293739.5457142857,
          "symbol": "circle"
         },
         "mode": "markers",
         "name": "Benin",
         "orientation": "v",
         "showlegend": true,
         "type": "scatter",
         "x": [
          2064.236
         ],
         "xaxis": "x",
         "y": [
          1133.147465437788
         ],
         "yaxis": "y"
        },
        {
         "hovertemplate": "<b>%{hovertext}</b><br><br>location=Bermuda<br>gdp_per_capita=%{x}<br>total_cases=%{y}<br>population=%{marker.size}<extra></extra>",
         "hovertext": [
          "Bermuda"
         ],
         "legendgroup": "Bermuda",
         "marker": {
          "color": "#FF7F0E",
          "size": [
           62273
          ],
          "sizemode": "area",
          "sizeref": 293739.5457142857,
          "symbol": "circle"
         },
         "mode": "markers",
         "name": "Bermuda",
         "orientation": "v",
         "showlegend": true,
         "type": "scatter",
         "x": [
          50669.315
         ],
         "xaxis": "x",
         "y": [
          134.93457943925233
         ],
         "yaxis": "y"
        },
        {
         "hovertemplate": "<b>%{hovertext}</b><br><br>location=Bhutan<br>gdp_per_capita=%{x}<br>total_cases=%{y}<br>population=%{marker.size}<extra></extra>",
         "hovertext": [
          "Bhutan"
         ],
         "legendgroup": "Bhutan",
         "marker": {
          "color": "#2CA02C",
          "size": [
           771612
          ],
          "sizemode": "area",
          "sizeref": 293739.5457142857,
          "symbol": "circle"
         },
         "mode": "markers",
         "name": "Bhutan",
         "orientation": "v",
         "showlegend": true,
         "type": "scatter",
         "x": [
          8708.597
         ],
         "xaxis": "x",
         "y": [
          103.85
         ],
         "yaxis": "y"
        },
        {
         "hovertemplate": "<b>%{hovertext}</b><br><br>location=Bolivia<br>gdp_per_capita=%{x}<br>total_cases=%{y}<br>population=%{marker.size}<extra></extra>",
         "hovertext": [
          "Bolivia"
         ],
         "legendgroup": "Bolivia",
         "marker": {
          "color": "#D62728",
          "size": [
           11673029
          ],
          "sizemode": "area",
          "sizeref": 293739.5457142857,
          "symbol": "circle"
         },
         "mode": "markers",
         "name": "Bolivia",
         "orientation": "v",
         "showlegend": true,
         "type": "scatter",
         "x": [
          6885.829
         ],
         "xaxis": "x",
         "y": [
          53659.90045248869
         ],
         "yaxis": "y"
        },
        {
         "hovertemplate": "<b>%{hovertext}</b><br><br>location=Bonaire Sint Eustatius and Saba<br>gdp_per_capita=%{x}<br>total_cases=%{y}<br>population=%{marker.size}<extra></extra>",
         "hovertext": [
          "Bonaire Sint Eustatius and Saba"
         ],
         "legendgroup": "Bonaire Sint Eustatius and Saba",
         "marker": {
          "color": "#9467BD",
          "size": [
           26221
          ],
          "sizemode": "area",
          "sizeref": 293739.5457142857,
          "symbol": "circle"
         },
         "mode": "markers",
         "name": "Bonaire Sint Eustatius and Saba",
         "orientation": "v",
         "showlegend": true,
         "type": "scatter",
         "x": [
          null
         ],
         "xaxis": "x",
         "y": [
          25.27363184079602
         ],
         "yaxis": "y"
        },
        {
         "hovertemplate": "<b>%{hovertext}</b><br><br>location=Bosnia and Herzegovina<br>gdp_per_capita=%{x}<br>total_cases=%{y}<br>population=%{marker.size}<extra></extra>",
         "hovertext": [
          "Bosnia and Herzegovina"
         ],
         "legendgroup": "Bosnia and Herzegovina",
         "marker": {
          "color": "#8C564B",
          "size": [
           3280815
          ],
          "sizemode": "area",
          "sizeref": 293739.5457142857,
          "symbol": "circle"
         },
         "mode": "markers",
         "name": "Bosnia and Herzegovina",
         "orientation": "v",
         "showlegend": true,
         "type": "scatter",
         "x": [
          11713.895
         ],
         "xaxis": "x",
         "y": [
          9955.009049773756
         ],
         "yaxis": "y"
        },
        {
         "hovertemplate": "<b>%{hovertext}</b><br><br>location=Botswana<br>gdp_per_capita=%{x}<br>total_cases=%{y}<br>population=%{marker.size}<extra></extra>",
         "hovertext": [
          "Botswana"
         ],
         "legendgroup": "Botswana",
         "marker": {
          "color": "#E377C2",
          "size": [
           2351625
          ],
          "sizemode": "area",
          "sizeref": 293739.5457142857,
          "symbol": "circle"
         },
         "mode": "markers",
         "name": "Botswana",
         "orientation": "v",
         "showlegend": true,
         "type": "scatter",
         "x": [
          15807.374
         ],
         "xaxis": "x",
         "y": [
          1018.6039603960396
         ],
         "yaxis": "y"
        },
        {
         "hovertemplate": "<b>%{hovertext}</b><br><br>location=Brazil<br>gdp_per_capita=%{x}<br>total_cases=%{y}<br>population=%{marker.size}<extra></extra>",
         "hovertext": [
          "Brazil"
         ],
         "legendgroup": "Brazil",
         "marker": {
          "color": "#7F7F7F",
          "size": [
           212559409
          ],
          "sizemode": "area",
          "sizeref": 293739.5457142857,
          "symbol": "circle"
         },
         "mode": "markers",
         "name": "Brazil",
         "orientation": "v",
         "showlegend": true,
         "type": "scatter",
         "x": [
          14103.452
         ],
         "xaxis": "x",
         "y": [
          1796221.5907172996
         ],
         "yaxis": "y"
        },
        {
         "hovertemplate": "<b>%{hovertext}</b><br><br>location=British Virgin Islands<br>gdp_per_capita=%{x}<br>total_cases=%{y}<br>population=%{marker.size}<extra></extra>",
         "hovertext": [
          "British Virgin Islands"
         ],
         "legendgroup": "British Virgin Islands",
         "marker": {
          "color": "#BCBD22",
          "size": [
           30237
          ],
          "sizemode": "area",
          "sizeref": 293739.5457142857,
          "symbol": "circle"
         },
         "mode": "markers",
         "name": "British Virgin Islands",
         "orientation": "v",
         "showlegend": true,
         "type": "scatter",
         "x": [
          null
         ],
         "xaxis": "x",
         "y": [
          22.246376811594203
         ],
         "yaxis": "y"
        },
        {
         "hovertemplate": "<b>%{hovertext}</b><br><br>location=Bulgaria<br>gdp_per_capita=%{x}<br>total_cases=%{y}<br>population=%{marker.size}<extra></extra>",
         "hovertext": [
          "Bulgaria"
         ],
         "legendgroup": "Bulgaria",
         "marker": {
          "color": "#17BECF",
          "size": [
           6948445
          ],
          "sizemode": "area",
          "sizeref": 293739.5457142857,
          "symbol": "circle"
         },
         "mode": "markers",
         "name": "Bulgaria",
         "orientation": "v",
         "showlegend": true,
         "type": "scatter",
         "x": [
          18563.307
         ],
         "xaxis": "x",
         "y": [
          8439.19642857143
         ],
         "yaxis": "y"
        },
        {
         "hovertemplate": "<b>%{hovertext}</b><br><br>location=Burkina Faso<br>gdp_per_capita=%{x}<br>total_cases=%{y}<br>population=%{marker.size}<extra></extra>",
         "hovertext": [
          "Burkina Faso"
         ],
         "legendgroup": "Burkina Faso",
         "marker": {
          "color": "#1F77B4",
          "size": [
           20903278
          ],
          "sizemode": "area",
          "sizeref": 293739.5457142857,
          "symbol": "circle"
         },
         "mode": "markers",
         "name": "Burkina Faso",
         "orientation": "v",
         "showlegend": true,
         "type": "scatter",
         "x": [
          1703.102
         ],
         "xaxis": "x",
         "y": [
          1047.2941176470588
         ],
         "yaxis": "y"
        },
        {
         "hovertemplate": "<b>%{hovertext}</b><br><br>location=Burundi<br>gdp_per_capita=%{x}<br>total_cases=%{y}<br>population=%{marker.size}<extra></extra>",
         "hovertext": [
          "Burundi"
         ],
         "legendgroup": "Burundi",
         "marker": {
          "color": "#FF7F0E",
          "size": [
           11890781
          ],
          "sizemode": "area",
          "sizeref": 293739.5457142857,
          "symbol": "circle"
         },
         "mode": "markers",
         "name": "Burundi",
         "orientation": "v",
         "showlegend": true,
         "type": "scatter",
         "x": [
          702.225
         ],
         "xaxis": "x",
         "y": [
          246.26237623762376
         ],
         "yaxis": "y"
        },
        {
         "hovertemplate": "<b>%{hovertext}</b><br><br>location=Cambodia<br>gdp_per_capita=%{x}<br>total_cases=%{y}<br>population=%{marker.size}<extra></extra>",
         "hovertext": [
          "Cambodia"
         ],
         "legendgroup": "Cambodia",
         "marker": {
          "color": "#2CA02C",
          "size": [
           16718971
          ],
          "sizemode": "area",
          "sizeref": 293739.5457142857,
          "symbol": "circle"
         },
         "mode": "markers",
         "name": "Cambodia",
         "orientation": "v",
         "showlegend": true,
         "type": "scatter",
         "x": [
          3645.07
         ],
         "xaxis": "x",
         "y": [
          153.84824902723736
         ],
         "yaxis": "y"
        },
        {
         "hovertemplate": "<b>%{hovertext}</b><br><br>location=Cameroon<br>gdp_per_capita=%{x}<br>total_cases=%{y}<br>population=%{marker.size}<extra></extra>",
         "hovertext": [
          "Cameroon"
         ],
         "legendgroup": "Cameroon",
         "marker": {
          "color": "#D62728",
          "size": [
           26545864
          ],
          "sizemode": "area",
          "sizeref": 293739.5457142857,
          "symbol": "circle"
         },
         "mode": "markers",
         "name": "Cameroon",
         "orientation": "v",
         "showlegend": true,
         "type": "scatter",
         "x": [
          3364.926
         ],
         "xaxis": "x",
         "y": [
          11205.891402714931
         ],
         "yaxis": "y"
        },
        {
         "hovertemplate": "<b>%{hovertext}</b><br><br>location=Canada<br>gdp_per_capita=%{x}<br>total_cases=%{y}<br>population=%{marker.size}<extra></extra>",
         "hovertext": [
          "Canada"
         ],
         "legendgroup": "Canada",
         "marker": {
          "color": "#9467BD",
          "size": [
           37742157
          ],
          "sizemode": "area",
          "sizeref": 293739.5457142857,
          "symbol": "circle"
         },
         "mode": "markers",
         "name": "Canada",
         "orientation": "v",
         "showlegend": true,
         "type": "scatter",
         "x": [
          44017.591
         ],
         "xaxis": "x",
         "y": [
          77993.9328358209
         ],
         "yaxis": "y"
        },
        {
         "hovertemplate": "<b>%{hovertext}</b><br><br>location=Cape Verde<br>gdp_per_capita=%{x}<br>total_cases=%{y}<br>population=%{marker.size}<extra></extra>",
         "hovertext": [
          "Cape Verde"
         ],
         "legendgroup": "Cape Verde",
         "marker": {
          "color": "#8C564B",
          "size": [
           555988
          ],
          "sizemode": "area",
          "sizeref": 293739.5457142857,
          "symbol": "circle"
         },
         "mode": "markers",
         "name": "Cape Verde",
         "orientation": "v",
         "showlegend": true,
         "type": "scatter",
         "x": [
          6222.554
         ],
         "xaxis": "x",
         "y": [
          2177.8779342723005
         ],
         "yaxis": "y"
        },
        {
         "hovertemplate": "<b>%{hovertext}</b><br><br>location=Cayman Islands<br>gdp_per_capita=%{x}<br>total_cases=%{y}<br>population=%{marker.size}<extra></extra>",
         "hovertext": [
          "Cayman Islands"
         ],
         "legendgroup": "Cayman Islands",
         "marker": {
          "color": "#E377C2",
          "size": [
           65720
          ],
          "sizemode": "area",
          "sizeref": 293739.5457142857,
          "symbol": "circle"
         },
         "mode": "markers",
         "name": "Cayman Islands",
         "orientation": "v",
         "showlegend": true,
         "type": "scatter",
         "x": [
          49903.029
         ],
         "xaxis": "x",
         "y": [
          155.01401869158877
         ],
         "yaxis": "y"
        },
        {
         "hovertemplate": "<b>%{hovertext}</b><br><br>location=Central African Republic<br>gdp_per_capita=%{x}<br>total_cases=%{y}<br>population=%{marker.size}<extra></extra>",
         "hovertext": [
          "Central African Republic"
         ],
         "legendgroup": "Central African Republic",
         "marker": {
          "color": "#7F7F7F",
          "size": [
           4829764
          ],
          "sizemode": "area",
          "sizeref": 293739.5457142857,
          "symbol": "circle"
         },
         "mode": "markers",
         "name": "Central African Republic",
         "orientation": "v",
         "showlegend": true,
         "type": "scatter",
         "x": [
          661.24
         ],
         "xaxis": "x",
         "y": [
          2720.4036697247707
         ],
         "yaxis": "y"
        },
        {
         "hovertemplate": "<b>%{hovertext}</b><br><br>location=Chad<br>gdp_per_capita=%{x}<br>total_cases=%{y}<br>population=%{marker.size}<extra></extra>",
         "hovertext": [
          "Chad"
         ],
         "legendgroup": "Chad",
         "marker": {
          "color": "#BCBD22",
          "size": [
           16425859
          ],
          "sizemode": "area",
          "sizeref": 293739.5457142857,
          "symbol": "circle"
         },
         "mode": "markers",
         "name": "Chad",
         "orientation": "v",
         "showlegend": true,
         "type": "scatter",
         "x": [
          1768.153
         ],
         "xaxis": "x",
         "y": [
          720.4345794392524
         ],
         "yaxis": "y"
        },
        {
         "hovertemplate": "<b>%{hovertext}</b><br><br>location=Chile<br>gdp_per_capita=%{x}<br>total_cases=%{y}<br>population=%{marker.size}<extra></extra>",
         "hovertext": [
          "Chile"
         ],
         "legendgroup": "Chile",
         "marker": {
          "color": "#17BECF",
          "size": [
           19116209
          ],
          "sizemode": "area",
          "sizeref": 293739.5457142857,
          "symbol": "circle"
         },
         "mode": "markers",
         "name": "Chile",
         "orientation": "v",
         "showlegend": true,
         "type": "scatter",
         "x": [
          22767.037
         ],
         "xaxis": "x",
         "y": [
          223877.87772925766
         ],
         "yaxis": "y"
        },
        {
         "hovertemplate": "<b>%{hovertext}</b><br><br>location=China<br>gdp_per_capita=%{x}<br>total_cases=%{y}<br>population=%{marker.size}<extra></extra>",
         "hovertext": [
          "China"
         ],
         "legendgroup": "China",
         "marker": {
          "color": "#1F77B4",
          "size": [
           1439323774
          ],
          "sizemode": "area",
          "sizeref": 293739.5457142857,
          "symbol": "circle"
         },
         "mode": "markers",
         "name": "China",
         "orientation": "v",
         "showlegend": true,
         "type": "scatter",
         "x": [
          15308.712
         ],
         "xaxis": "x",
         "y": [
          73579.3163265306
         ],
         "yaxis": "y"
        },
        {
         "hovertemplate": "<b>%{hovertext}</b><br><br>location=Colombia<br>gdp_per_capita=%{x}<br>total_cases=%{y}<br>population=%{marker.size}<extra></extra>",
         "hovertext": [
          "Colombia"
         ],
         "legendgroup": "Colombia",
         "marker": {
          "color": "#FF7F0E",
          "size": [
           50882884
          ],
          "sizemode": "area",
          "sizeref": 293739.5457142857,
          "symbol": "circle"
         },
         "mode": "markers",
         "name": "Colombia",
         "orientation": "v",
         "showlegend": true,
         "type": "scatter",
         "x": [
          13254.949
         ],
         "xaxis": "x",
         "y": [
          271496.331838565
         ],
         "yaxis": "y"
        },
        {
         "hovertemplate": "<b>%{hovertext}</b><br><br>location=Comoros<br>gdp_per_capita=%{x}<br>total_cases=%{y}<br>population=%{marker.size}<extra></extra>",
         "hovertext": [
          "Comoros"
         ],
         "legendgroup": "Comoros",
         "marker": {
          "color": "#2CA02C",
          "size": [
           869595
          ],
          "sizemode": "area",
          "sizeref": 293739.5457142857,
          "symbol": "circle"
         },
         "mode": "markers",
         "name": "Comoros",
         "orientation": "v",
         "showlegend": true,
         "type": "scatter",
         "x": [
          1413.89
         ],
         "xaxis": "x",
         "y": [
          306.64912280701753
         ],
         "yaxis": "y"
        },
        {
         "hovertemplate": "<b>%{hovertext}</b><br><br>location=Congo<br>gdp_per_capita=%{x}<br>total_cases=%{y}<br>population=%{marker.size}<extra></extra>",
         "hovertext": [
          "Congo"
         ],
         "legendgroup": "Congo",
         "marker": {
          "color": "#D62728",
          "size": [
           5518092
          ],
          "sizemode": "area",
          "sizeref": 293739.5457142857,
          "symbol": "circle"
         },
         "mode": "markers",
         "name": "Congo",
         "orientation": "v",
         "showlegend": true,
         "type": "scatter",
         "x": [
          4881.406
         ],
         "xaxis": "x",
         "y": [
          2171.412844036697
         ],
         "yaxis": "y"
        },
        {
         "hovertemplate": "<b>%{hovertext}</b><br><br>location=Costa Rica<br>gdp_per_capita=%{x}<br>total_cases=%{y}<br>population=%{marker.size}<extra></extra>",
         "hovertext": [
          "Costa Rica"
         ],
         "legendgroup": "Costa Rica",
         "marker": {
          "color": "#9467BD",
          "size": [
           5094114
          ],
          "sizemode": "area",
          "sizeref": 293739.5457142857,
          "symbol": "circle"
         },
         "mode": "markers",
         "name": "Costa Rica",
         "orientation": "v",
         "showlegend": true,
         "type": "scatter",
         "x": [
          15524.995
         ],
         "xaxis": "x",
         "y": [
          20494.84513274336
         ],
         "yaxis": "y"
        },
        {
         "hovertemplate": "<b>%{hovertext}</b><br><br>location=Cote d'Ivoire<br>gdp_per_capita=%{x}<br>total_cases=%{y}<br>population=%{marker.size}<extra></extra>",
         "hovertext": [
          "Cote d'Ivoire"
         ],
         "legendgroup": "Cote d'Ivoire",
         "marker": {
          "color": "#8C564B",
          "size": [
           26378275
          ],
          "sizemode": "area",
          "sizeref": 293739.5457142857,
          "symbol": "circle"
         },
         "mode": "markers",
         "name": "Cote d'Ivoire",
         "orientation": "v",
         "showlegend": true,
         "type": "scatter",
         "x": [
          3601.006
         ],
         "xaxis": "x",
         "y": [
          9694.922727272728
         ],
         "yaxis": "y"
        },
        {
         "hovertemplate": "<b>%{hovertext}</b><br><br>location=Croatia<br>gdp_per_capita=%{x}<br>total_cases=%{y}<br>population=%{marker.size}<extra></extra>",
         "hovertext": [
          "Croatia"
         ],
         "legendgroup": "Croatia",
         "marker": {
          "color": "#E377C2",
          "size": [
           4105268
          ],
          "sizemode": "area",
          "sizeref": 293739.5457142857,
          "symbol": "circle"
         },
         "mode": "markers",
         "name": "Croatia",
         "orientation": "v",
         "showlegend": true,
         "type": "scatter",
         "x": [
          22669.797
         ],
         "xaxis": "x",
         "y": [
          5615.517094017094
         ],
         "yaxis": "y"
        },
        {
         "hovertemplate": "<b>%{hovertext}</b><br><br>location=Cuba<br>gdp_per_capita=%{x}<br>total_cases=%{y}<br>population=%{marker.size}<extra></extra>",
         "hovertext": [
          "Cuba"
         ],
         "legendgroup": "Cuba",
         "marker": {
          "color": "#7F7F7F",
          "size": [
           11326616
          ],
          "sizemode": "area",
          "sizeref": 293739.5457142857,
          "symbol": "circle"
         },
         "mode": "markers",
         "name": "Cuba",
         "orientation": "v",
         "showlegend": true,
         "type": "scatter",
         "x": [
          null
         ],
         "xaxis": "x",
         "y": [
          2655.461187214612
         ],
         "yaxis": "y"
        },
        {
         "hovertemplate": "<b>%{hovertext}</b><br><br>location=Curacao<br>gdp_per_capita=%{x}<br>total_cases=%{y}<br>population=%{marker.size}<extra></extra>",
         "hovertext": [
          "Curacao"
         ],
         "legendgroup": "Curacao",
         "marker": {
          "color": "#BCBD22",
          "size": [
           164100
          ],
          "sizemode": "area",
          "sizeref": 293739.5457142857,
          "symbol": "circle"
         },
         "mode": "markers",
         "name": "Curacao",
         "orientation": "v",
         "showlegend": true,
         "type": "scatter",
         "x": [
          null
         ],
         "xaxis": "x",
         "y": [
          94.17619047619047
         ],
         "yaxis": "y"
        },
        {
         "hovertemplate": "<b>%{hovertext}</b><br><br>location=Cyprus<br>gdp_per_capita=%{x}<br>total_cases=%{y}<br>population=%{marker.size}<extra></extra>",
         "hovertext": [
          "Cyprus"
         ],
         "legendgroup": "Cyprus",
         "marker": {
          "color": "#17BECF",
          "size": [
           875899
          ],
          "sizemode": "area",
          "sizeref": 293739.5457142857,
          "symbol": "circle"
         },
         "mode": "markers",
         "name": "Cyprus",
         "orientation": "v",
         "showlegend": true,
         "type": "scatter",
         "x": [
          32415.132
         ],
         "xaxis": "x",
         "y": [
          1066.0945945945946
         ],
         "yaxis": "y"
        },
        {
         "hovertemplate": "<b>%{hovertext}</b><br><br>location=Czech Republic<br>gdp_per_capita=%{x}<br>total_cases=%{y}<br>population=%{marker.size}<extra></extra>",
         "hovertext": [
          "Czech Republic"
         ],
         "legendgroup": "Czech Republic",
         "marker": {
          "color": "#1F77B4",
          "size": [
           10708982
          ],
          "sizemode": "area",
          "sizeref": 293739.5457142857,
          "symbol": "circle"
         },
         "mode": "markers",
         "name": "Czech Republic",
         "orientation": "v",
         "showlegend": true,
         "type": "scatter",
         "x": [
          32605.906
         ],
         "xaxis": "x",
         "y": [
          22474.05172413793
         ],
         "yaxis": "y"
        },
        {
         "hovertemplate": "<b>%{hovertext}</b><br><br>location=Democratic Republic of Congo<br>gdp_per_capita=%{x}<br>total_cases=%{y}<br>population=%{marker.size}<extra></extra>",
         "hovertext": [
          "Democratic Republic of Congo"
         ],
         "legendgroup": "Democratic Republic of Congo",
         "marker": {
          "color": "#FF7F0E",
          "size": [
           89561404
          ],
          "sizemode": "area",
          "sizeref": 293739.5457142857,
          "symbol": "circle"
         },
         "mode": "markers",
         "name": "Democratic Republic of Congo",
         "orientation": "v",
         "showlegend": true,
         "type": "scatter",
         "x": [
          808.133
         ],
         "xaxis": "x",
         "y": [
          5752.900452488688
         ],
         "yaxis": "y"
        },
        {
         "hovertemplate": "<b>%{hovertext}</b><br><br>location=Denmark<br>gdp_per_capita=%{x}<br>total_cases=%{y}<br>population=%{marker.size}<extra></extra>",
         "hovertext": [
          "Denmark"
         ],
         "legendgroup": "Denmark",
         "marker": {
          "color": "#2CA02C",
          "size": [
           5792203
          ],
          "sizemode": "area",
          "sizeref": 293739.5457142857,
          "symbol": "circle"
         },
         "mode": "markers",
         "name": "Denmark",
         "orientation": "v",
         "showlegend": true,
         "type": "scatter",
         "x": [
          46682.515
         ],
         "xaxis": "x",
         "y": [
          12839.35593220339
         ],
         "yaxis": "y"
        },
        {
         "hovertemplate": "<b>%{hovertext}</b><br><br>location=Djibouti<br>gdp_per_capita=%{x}<br>total_cases=%{y}<br>population=%{marker.size}<extra></extra>",
         "hovertext": [
          "Djibouti"
         ],
         "legendgroup": "Djibouti",
         "marker": {
          "color": "#D62728",
          "size": [
           988002
          ],
          "sizemode": "area",
          "sizeref": 293739.5457142857,
          "symbol": "circle"
         },
         "mode": "markers",
         "name": "Djibouti",
         "orientation": "v",
         "showlegend": true,
         "type": "scatter",
         "x": [
          2705.406
         ],
         "xaxis": "x",
         "y": [
          3636.1441860465115
         ],
         "yaxis": "y"
        },
        {
         "hovertemplate": "<b>%{hovertext}</b><br><br>location=Dominica<br>gdp_per_capita=%{x}<br>total_cases=%{y}<br>population=%{marker.size}<extra></extra>",
         "hovertext": [
          "Dominica"
         ],
         "legendgroup": "Dominica",
         "marker": {
          "color": "#9467BD",
          "size": [
           71991
          ],
          "sizemode": "area",
          "sizeref": 293739.5457142857,
          "symbol": "circle"
         },
         "mode": "markers",
         "name": "Dominica",
         "orientation": "v",
         "showlegend": true,
         "type": "scatter",
         "x": [
          9673.367
         ],
         "xaxis": "x",
         "y": [
          18.848341232227487
         ],
         "yaxis": "y"
        },
        {
         "hovertemplate": "<b>%{hovertext}</b><br><br>location=Dominican Republic<br>gdp_per_capita=%{x}<br>total_cases=%{y}<br>population=%{marker.size}<extra></extra>",
         "hovertext": [
          "Dominican Republic"
         ],
         "legendgroup": "Dominican Republic",
         "marker": {
          "color": "#8C564B",
          "size": [
           10847904
          ],
          "sizemode": "area",
          "sizeref": 293739.5457142857,
          "symbol": "circle"
         },
         "mode": "markers",
         "name": "Dominican Republic",
         "orientation": "v",
         "showlegend": true,
         "type": "scatter",
         "x": [
          14600.861000000003
         ],
         "xaxis": "x",
         "y": [
          47756.2600896861
         ],
         "yaxis": "y"
        },
        {
         "hovertemplate": "<b>%{hovertext}</b><br><br>location=Ecuador<br>gdp_per_capita=%{x}<br>total_cases=%{y}<br>population=%{marker.size}<extra></extra>",
         "hovertext": [
          "Ecuador"
         ],
         "legendgroup": "Ecuador",
         "marker": {
          "color": "#E377C2",
          "size": [
           17643060
          ],
          "sizemode": "area",
          "sizeref": 293739.5457142857,
          "symbol": "circle"
         },
         "mode": "markers",
         "name": "Ecuador",
         "orientation": "v",
         "showlegend": true,
         "type": "scatter",
         "x": [
          10581.936
         ],
         "xaxis": "x",
         "y": [
          63196.30263157895
         ],
         "yaxis": "y"
        },
        {
         "hovertemplate": "<b>%{hovertext}</b><br><br>location=Egypt<br>gdp_per_capita=%{x}<br>total_cases=%{y}<br>population=%{marker.size}<extra></extra>",
         "hovertext": [
          "Egypt"
         ],
         "legendgroup": "Egypt",
         "marker": {
          "color": "#7F7F7F",
          "size": [
           102334403
          ],
          "sizemode": "area",
          "sizeref": 293739.5457142857,
          "symbol": "circle"
         },
         "mode": "markers",
         "name": "Egypt",
         "orientation": "v",
         "showlegend": true,
         "type": "scatter",
         "x": [
          10550.206
         ],
         "xaxis": "x",
         "y": [
          50913.29918032787
         ],
         "yaxis": "y"
        },
        {
         "hovertemplate": "<b>%{hovertext}</b><br><br>location=El Salvador<br>gdp_per_capita=%{x}<br>total_cases=%{y}<br>population=%{marker.size}<extra></extra>",
         "hovertext": [
          "El Salvador"
         ],
         "legendgroup": "El Salvador",
         "marker": {
          "color": "#BCBD22",
          "size": [
           6486201
          ],
          "sizemode": "area",
          "sizeref": 293739.5457142857,
          "symbol": "circle"
         },
         "mode": "markers",
         "name": "El Salvador",
         "orientation": "v",
         "showlegend": true,
         "type": "scatter",
         "x": [
          7292.458
         ],
         "xaxis": "x",
         "y": [
          11968.4
         ],
         "yaxis": "y"
        },
        {
         "hovertemplate": "<b>%{hovertext}</b><br><br>location=Equatorial Guinea<br>gdp_per_capita=%{x}<br>total_cases=%{y}<br>population=%{marker.size}<extra></extra>",
         "hovertext": [
          "Equatorial Guinea"
         ],
         "legendgroup": "Equatorial Guinea",
         "marker": {
          "color": "#17BECF",
          "size": [
           1402985
          ],
          "sizemode": "area",
          "sizeref": 293739.5457142857,
          "symbol": "circle"
         },
         "mode": "markers",
         "name": "Equatorial Guinea",
         "orientation": "v",
         "showlegend": true,
         "type": "scatter",
         "x": [
          22604.873
         ],
         "xaxis": "x",
         "y": [
          2545
         ],
         "yaxis": "y"
        },
        {
         "hovertemplate": "<b>%{hovertext}</b><br><br>location=Eritrea<br>gdp_per_capita=%{x}<br>total_cases=%{y}<br>population=%{marker.size}<extra></extra>",
         "hovertext": [
          "Eritrea"
         ],
         "legendgroup": "Eritrea",
         "marker": {
          "color": "#1F77B4",
          "size": [
           3546427
          ],
          "sizemode": "area",
          "sizeref": 293739.5457142857,
          "symbol": "circle"
         },
         "mode": "markers",
         "name": "Eritrea",
         "orientation": "v",
         "showlegend": true,
         "type": "scatter",
         "x": [
          1510.459
         ],
         "xaxis": "x",
         "y": [
          188.80188679245282
         ],
         "yaxis": "y"
        },
        {
         "hovertemplate": "<b>%{hovertext}</b><br><br>location=Estonia<br>gdp_per_capita=%{x}<br>total_cases=%{y}<br>population=%{marker.size}<extra></extra>",
         "hovertext": [
          "Estonia"
         ],
         "legendgroup": "Estonia",
         "marker": {
          "color": "#FF7F0E",
          "size": [
           1326539
          ],
          "sizemode": "area",
          "sizeref": 293739.5457142857,
          "symbol": "circle"
         },
         "mode": "markers",
         "name": "Estonia",
         "orientation": "v",
         "showlegend": true,
         "type": "scatter",
         "x": [
          29481.251999999997
         ],
         "xaxis": "x",
         "y": [
          1936.5304347826086
         ],
         "yaxis": "y"
        },
        {
         "hovertemplate": "<b>%{hovertext}</b><br><br>location=Ethiopia<br>gdp_per_capita=%{x}<br>total_cases=%{y}<br>population=%{marker.size}<extra></extra>",
         "hovertext": [
          "Ethiopia"
         ],
         "legendgroup": "Ethiopia",
         "marker": {
          "color": "#2CA02C",
          "size": [
           114963583
          ],
          "sizemode": "area",
          "sizeref": 293739.5457142857,
          "symbol": "circle"
         },
         "mode": "markers",
         "name": "Ethiopia",
         "orientation": "v",
         "showlegend": true,
         "type": "scatter",
         "x": [
          1729.927
         ],
         "xaxis": "x",
         "y": [
          22165.53181818182
         ],
         "yaxis": "y"
        },
        {
         "hovertemplate": "<b>%{hovertext}</b><br><br>location=Faeroe Islands<br>gdp_per_capita=%{x}<br>total_cases=%{y}<br>population=%{marker.size}<extra></extra>",
         "hovertext": [
          "Faeroe Islands"
         ],
         "legendgroup": "Faeroe Islands",
         "marker": {
          "color": "#D62728",
          "size": [
           48865
          ],
          "sizemode": "area",
          "sizeref": 293739.5457142857,
          "symbol": "circle"
         },
         "mode": "markers",
         "name": "Faeroe Islands",
         "orientation": "v",
         "showlegend": true,
         "type": "scatter",
         "x": [
          null
         ],
         "xaxis": "x",
         "y": [
          249.53070175438597
         ],
         "yaxis": "y"
        },
        {
         "hovertemplate": "<b>%{hovertext}</b><br><br>location=Falkland Islands<br>gdp_per_capita=%{x}<br>total_cases=%{y}<br>population=%{marker.size}<extra></extra>",
         "hovertext": [
          "Falkland Islands"
         ],
         "legendgroup": "Falkland Islands",
         "marker": {
          "color": "#9467BD",
          "size": [
           3483
          ],
          "sizemode": "area",
          "sizeref": 293739.5457142857,
          "symbol": "circle"
         },
         "mode": "markers",
         "name": "Falkland Islands",
         "orientation": "v",
         "showlegend": true,
         "type": "scatter",
         "x": [
          null
         ],
         "xaxis": "x",
         "y": [
          12.396984924623116
         ],
         "yaxis": "y"
        },
        {
         "hovertemplate": "<b>%{hovertext}</b><br><br>location=Fiji<br>gdp_per_capita=%{x}<br>total_cases=%{y}<br>population=%{marker.size}<extra></extra>",
         "hovertext": [
          "Fiji"
         ],
         "legendgroup": "Fiji",
         "marker": {
          "color": "#8C564B",
          "size": [
           896444
          ],
          "sizemode": "area",
          "sizeref": 293739.5457142857,
          "symbol": "circle"
         },
         "mode": "markers",
         "name": "Fiji",
         "orientation": "v",
         "showlegend": true,
         "type": "scatter",
         "x": [
          8702.975
         ],
         "xaxis": "x",
         "y": [
          22.1588785046729
         ],
         "yaxis": "y"
        },
        {
         "hovertemplate": "<b>%{hovertext}</b><br><br>location=Finland<br>gdp_per_capita=%{x}<br>total_cases=%{y}<br>population=%{marker.size}<extra></extra>",
         "hovertext": [
          "Finland"
         ],
         "legendgroup": "Finland",
         "marker": {
          "color": "#E377C2",
          "size": [
           5540718
          ],
          "sizemode": "area",
          "sizeref": 293739.5457142857,
          "symbol": "circle"
         },
         "mode": "markers",
         "name": "Finland",
         "orientation": "v",
         "showlegend": true,
         "type": "scatter",
         "x": [
          40585.721
         ],
         "xaxis": "x",
         "y": [
          5609.553846153846
         ],
         "yaxis": "y"
        },
        {
         "hovertemplate": "<b>%{hovertext}</b><br><br>location=France<br>gdp_per_capita=%{x}<br>total_cases=%{y}<br>population=%{marker.size}<extra></extra>",
         "hovertext": [
          "France"
         ],
         "legendgroup": "France",
         "marker": {
          "color": "#7F7F7F",
          "size": [
           65273512
          ],
          "sizemode": "area",
          "sizeref": 293739.5457142857,
          "symbol": "circle"
         },
         "mode": "markers",
         "name": "France",
         "orientation": "v",
         "showlegend": true,
         "type": "scatter",
         "x": [
          38605.671
         ],
         "xaxis": "x",
         "y": [
          186187.11895910781
         ],
         "yaxis": "y"
        },
        {
         "hovertemplate": "<b>%{hovertext}</b><br><br>location=French Polynesia<br>gdp_per_capita=%{x}<br>total_cases=%{y}<br>population=%{marker.size}<extra></extra>",
         "hovertext": [
          "French Polynesia"
         ],
         "legendgroup": "French Polynesia",
         "marker": {
          "color": "#BCBD22",
          "size": [
           280904
          ],
          "sizemode": "area",
          "sizeref": 293739.5457142857,
          "symbol": "circle"
         },
         "mode": "markers",
         "name": "French Polynesia",
         "orientation": "v",
         "showlegend": true,
         "type": "scatter",
         "x": [
          null
         ],
         "xaxis": "x",
         "y": [
          443.66511627906976
         ],
         "yaxis": "y"
        },
        {
         "hovertemplate": "<b>%{hovertext}</b><br><br>location=Gabon<br>gdp_per_capita=%{x}<br>total_cases=%{y}<br>population=%{marker.size}<extra></extra>",
         "hovertext": [
          "Gabon"
         ],
         "legendgroup": "Gabon",
         "marker": {
          "color": "#17BECF",
          "size": [
           2225728
          ],
          "sizemode": "area",
          "sizeref": 293739.5457142857,
          "symbol": "circle"
         },
         "mode": "markers",
         "name": "Gabon",
         "orientation": "v",
         "showlegend": true,
         "type": "scatter",
         "x": [
          16562.413
         ],
         "xaxis": "x",
         "y": [
          4690.013636363637
         ],
         "yaxis": "y"
        },
        {
         "hovertemplate": "<b>%{hovertext}</b><br><br>location=Gambia<br>gdp_per_capita=%{x}<br>total_cases=%{y}<br>population=%{marker.size}<extra></extra>",
         "hovertext": [
          "Gambia"
         ],
         "legendgroup": "Gambia",
         "marker": {
          "color": "#1F77B4",
          "size": [
           2416664
          ],
          "sizemode": "area",
          "sizeref": 293739.5457142857,
          "symbol": "circle"
         },
         "mode": "markers",
         "name": "Gambia",
         "orientation": "v",
         "showlegend": true,
         "type": "scatter",
         "x": [
          1561.767
         ],
         "xaxis": "x",
         "y": [
          1062.5972222222222
         ],
         "yaxis": "y"
        },
        {
         "hovertemplate": "<b>%{hovertext}</b><br><br>location=Georgia<br>gdp_per_capita=%{x}<br>total_cases=%{y}<br>population=%{marker.size}<extra></extra>",
         "hovertext": [
          "Georgia"
         ],
         "legendgroup": "Georgia",
         "marker": {
          "color": "#FF7F0E",
          "size": [
           3989175
          ],
          "sizemode": "area",
          "sizeref": 293739.5457142857,
          "symbol": "circle"
         },
         "mode": "markers",
         "name": "Georgia",
         "orientation": "v",
         "showlegend": true,
         "type": "scatter",
         "x": [
          9745.079
         ],
         "xaxis": "x",
         "y": [
          1852.7424892703862
         ],
         "yaxis": "y"
        },
        {
         "hovertemplate": "<b>%{hovertext}</b><br><br>location=Germany<br>gdp_per_capita=%{x}<br>total_cases=%{y}<br>population=%{marker.size}<extra></extra>",
         "hovertext": [
          "Germany"
         ],
         "legendgroup": "Germany",
         "marker": {
          "color": "#2CA02C",
          "size": [
           83783945
          ],
          "sizemode": "area",
          "sizeref": 293739.5457142857,
          "symbol": "circle"
         },
         "mode": "markers",
         "name": "Germany",
         "orientation": "v",
         "showlegend": true,
         "type": "scatter",
         "x": [
          45229.245
         ],
         "xaxis": "x",
         "y": [
          159577.73684210525
         ],
         "yaxis": "y"
        },
        {
         "hovertemplate": "<b>%{hovertext}</b><br><br>location=Ghana<br>gdp_per_capita=%{x}<br>total_cases=%{y}<br>population=%{marker.size}<extra></extra>",
         "hovertext": [
          "Ghana"
         ],
         "legendgroup": "Ghana",
         "marker": {
          "color": "#D62728",
          "size": [
           31072945
          ],
          "sizemode": "area",
          "sizeref": 293739.5457142857,
          "symbol": "circle"
         },
         "mode": "markers",
         "name": "Ghana",
         "orientation": "v",
         "showlegend": true,
         "type": "scatter",
         "x": [
          4227.63
         ],
         "xaxis": "x",
         "y": [
          22275.677272727273
         ],
         "yaxis": "y"
        },
        {
         "hovertemplate": "<b>%{hovertext}</b><br><br>location=Gibraltar<br>gdp_per_capita=%{x}<br>total_cases=%{y}<br>population=%{marker.size}<extra></extra>",
         "hovertext": [
          "Gibraltar"
         ],
         "legendgroup": "Gibraltar",
         "marker": {
          "color": "#9467BD",
          "size": [
           33691
          ],
          "sizemode": "area",
          "sizeref": 293739.5457142857,
          "symbol": "circle"
         },
         "mode": "markers",
         "name": "Gibraltar",
         "orientation": "v",
         "showlegend": true,
         "type": "scatter",
         "x": [
          null
         ],
         "xaxis": "x",
         "y": [
          211.86915887850466
         ],
         "yaxis": "y"
        },
        {
         "hovertemplate": "<b>%{hovertext}</b><br><br>location=Greece<br>gdp_per_capita=%{x}<br>total_cases=%{y}<br>population=%{marker.size}<extra></extra>",
         "hovertext": [
          "Greece"
         ],
         "legendgroup": "Greece",
         "marker": {
          "color": "#8C564B",
          "size": [
           10423056
          ],
          "sizemode": "area",
          "sizeref": 293739.5457142857,
          "symbol": "circle"
         },
         "mode": "markers",
         "name": "Greece",
         "orientation": "v",
         "showlegend": true,
         "type": "scatter",
         "x": [
          24574.382
         ],
         "xaxis": "x",
         "y": [
          6074.65811965812
         ],
         "yaxis": "y"
        },
        {
         "hovertemplate": "<b>%{hovertext}</b><br><br>location=Greenland<br>gdp_per_capita=%{x}<br>total_cases=%{y}<br>population=%{marker.size}<extra></extra>",
         "hovertext": [
          "Greenland"
         ],
         "legendgroup": "Greenland",
         "marker": {
          "color": "#E377C2",
          "size": [
           56772
          ],
          "sizemode": "area",
          "sizeref": 293739.5457142857,
          "symbol": "circle"
         },
         "mode": "markers",
         "name": "Greenland",
         "orientation": "v",
         "showlegend": true,
         "type": "scatter",
         "x": [
          null
         ],
         "xaxis": "x",
         "y": [
          12.514018691588785
         ],
         "yaxis": "y"
        },
        {
         "hovertemplate": "<b>%{hovertext}</b><br><br>location=Grenada<br>gdp_per_capita=%{x}<br>total_cases=%{y}<br>population=%{marker.size}<extra></extra>",
         "hovertext": [
          "Grenada"
         ],
         "legendgroup": "Grenada",
         "marker": {
          "color": "#7F7F7F",
          "size": [
           112519
          ],
          "sizemode": "area",
          "sizeref": 293739.5457142857,
          "symbol": "circle"
         },
         "mode": "markers",
         "name": "Grenada",
         "orientation": "v",
         "showlegend": true,
         "type": "scatter",
         "x": [
          13593.877
         ],
         "xaxis": "x",
         "y": [
          21.18483412322275
         ],
         "yaxis": "y"
        },
        {
         "hovertemplate": "<b>%{hovertext}</b><br><br>location=Guam<br>gdp_per_capita=%{x}<br>total_cases=%{y}<br>population=%{marker.size}<extra></extra>",
         "hovertext": [
          "Guam"
         ],
         "legendgroup": "Guam",
         "marker": {
          "color": "#BCBD22",
          "size": [
           168783
          ],
          "sizemode": "area",
          "sizeref": 293739.5457142857,
          "symbol": "circle"
         },
         "mode": "markers",
         "name": "Guam",
         "orientation": "v",
         "showlegend": true,
         "type": "scatter",
         "x": [
          null
         ],
         "xaxis": "x",
         "y": [
          748.7209302325581
         ],
         "yaxis": "y"
        },
        {
         "hovertemplate": "<b>%{hovertext}</b><br><br>location=Guatemala<br>gdp_per_capita=%{x}<br>total_cases=%{y}<br>population=%{marker.size}<extra></extra>",
         "hovertext": [
          "Guatemala"
         ],
         "legendgroup": "Guatemala",
         "marker": {
          "color": "#17BECF",
          "size": [
           17915567
          ],
          "sizemode": "area",
          "sizeref": 293739.5457142857,
          "symbol": "circle"
         },
         "mode": "markers",
         "name": "Guatemala",
         "orientation": "v",
         "showlegend": true,
         "type": "scatter",
         "x": [
          7423.808
         ],
         "xaxis": "x",
         "y": [
          34906.05479452055
         ],
         "yaxis": "y"
        },
        {
         "hovertemplate": "<b>%{hovertext}</b><br><br>location=Guernsey<br>gdp_per_capita=%{x}<br>total_cases=%{y}<br>population=%{marker.size}<extra></extra>",
         "hovertext": [
          "Guernsey"
         ],
         "legendgroup": "Guernsey",
         "marker": {
          "color": "#1F77B4",
          "size": [
           67052
          ],
          "sizemode": "area",
          "sizeref": 293739.5457142857,
          "symbol": "circle"
         },
         "mode": "markers",
         "name": "Guernsey",
         "orientation": "v",
         "showlegend": true,
         "type": "scatter",
         "x": [
          null
         ],
         "xaxis": "x",
         "y": [
          232.77570093457945
         ],
         "yaxis": "y"
        },
        {
         "hovertemplate": "<b>%{hovertext}</b><br><br>location=Guinea<br>gdp_per_capita=%{x}<br>total_cases=%{y}<br>population=%{marker.size}<extra></extra>",
         "hovertext": [
          "Guinea"
         ],
         "legendgroup": "Guinea",
         "marker": {
          "color": "#FF7F0E",
          "size": [
           13132792
          ],
          "sizemode": "area",
          "sizeref": 293739.5457142857,
          "symbol": "circle"
         },
         "mode": "markers",
         "name": "Guinea",
         "orientation": "v",
         "showlegend": true,
         "type": "scatter",
         "x": [
          1998.926
         ],
         "xaxis": "x",
         "y": [
          5460.438356164384
         ],
         "yaxis": "y"
        },
        {
         "hovertemplate": "<b>%{hovertext}</b><br><br>location=Guinea-Bissau<br>gdp_per_capita=%{x}<br>total_cases=%{y}<br>population=%{marker.size}<extra></extra>",
         "hovertext": [
          "Guinea-Bissau"
         ],
         "legendgroup": "Guinea-Bissau",
         "marker": {
          "color": "#2CA02C",
          "size": [
           1967998
          ],
          "sizemode": "area",
          "sizeref": 293739.5457142857,
          "symbol": "circle"
         },
         "mode": "markers",
         "name": "Guinea-Bissau",
         "orientation": "v",
         "showlegend": true,
         "type": "scatter",
         "x": [
          1548.675
         ],
         "xaxis": "x",
         "y": [
          1480.9855072463768
         ],
         "yaxis": "y"
        },
        {
         "hovertemplate": "<b>%{hovertext}</b><br><br>location=Guyana<br>gdp_per_capita=%{x}<br>total_cases=%{y}<br>population=%{marker.size}<extra></extra>",
         "hovertext": [
          "Guyana"
         ],
         "legendgroup": "Guyana",
         "marker": {
          "color": "#D62728",
          "size": [
           786559
          ],
          "sizemode": "area",
          "sizeref": 293739.5457142857,
          "symbol": "circle"
         },
         "mode": "markers",
         "name": "Guyana",
         "orientation": "v",
         "showlegend": true,
         "type": "scatter",
         "x": [
          7435.047
         ],
         "xaxis": "x",
         "y": [
          762.1780821917808
         ],
         "yaxis": "y"
        },
        {
         "hovertemplate": "<b>%{hovertext}</b><br><br>location=Haiti<br>gdp_per_capita=%{x}<br>total_cases=%{y}<br>population=%{marker.size}<extra></extra>",
         "hovertext": [
          "Haiti"
         ],
         "legendgroup": "Haiti",
         "marker": {
          "color": "#9467BD",
          "size": [
           11402533
          ],
          "sizemode": "area",
          "sizeref": 293739.5457142857,
          "symbol": "circle"
         },
         "mode": "markers",
         "name": "Haiti",
         "orientation": "v",
         "showlegend": true,
         "type": "scatter",
         "x": [
          1653.173
         ],
         "xaxis": "x",
         "y": [
          4781.098130841122
         ],
         "yaxis": "y"
        },
        {
         "hovertemplate": "<b>%{hovertext}</b><br><br>location=Honduras<br>gdp_per_capita=%{x}<br>total_cases=%{y}<br>population=%{marker.size}<extra></extra>",
         "hovertext": [
          "Honduras"
         ],
         "legendgroup": "Honduras",
         "marker": {
          "color": "#8C564B",
          "size": [
           9904608
          ],
          "sizemode": "area",
          "sizeref": 293739.5457142857,
          "symbol": "circle"
         },
         "mode": "markers",
         "name": "Honduras",
         "orientation": "v",
         "showlegend": true,
         "type": "scatter",
         "x": [
          4541.795
         ],
         "xaxis": "x",
         "y": [
          29752.26818181818
         ],
         "yaxis": "y"
        },
        {
         "hovertemplate": "<b>%{hovertext}</b><br><br>location=Hong Kong<br>gdp_per_capita=%{x}<br>total_cases=%{y}<br>population=%{marker.size}<extra></extra>",
         "hovertext": [
          "Hong Kong"
         ],
         "legendgroup": "Hong Kong",
         "marker": {
          "color": "#E377C2",
          "size": [
           7496988
          ],
          "sizemode": "area",
          "sizeref": 293739.5457142857,
          "symbol": "circle"
         },
         "mode": "markers",
         "name": "Hong Kong",
         "orientation": "v",
         "showlegend": true,
         "type": "scatter",
         "x": [
          56054.92
         ],
         "xaxis": "x",
         "y": [
          null
         ],
         "yaxis": "y"
        },
        {
         "hovertemplate": "<b>%{hovertext}</b><br><br>location=Hungary<br>gdp_per_capita=%{x}<br>total_cases=%{y}<br>population=%{marker.size}<extra></extra>",
         "hovertext": [
          "Hungary"
         ],
         "legendgroup": "Hungary",
         "marker": {
          "color": "#7F7F7F",
          "size": [
           9660350
          ],
          "sizemode": "area",
          "sizeref": 293739.5457142857,
          "symbol": "circle"
         },
         "mode": "markers",
         "name": "Hungary",
         "orientation": "v",
         "showlegend": true,
         "type": "scatter",
         "x": [
          26777.561
         ],
         "xaxis": "x",
         "y": [
          7494.728070175439
         ],
         "yaxis": "y"
        },
        {
         "hovertemplate": "<b>%{hovertext}</b><br><br>location=Iceland<br>gdp_per_capita=%{x}<br>total_cases=%{y}<br>population=%{marker.size}<extra></extra>",
         "hovertext": [
          "Iceland"
         ],
         "legendgroup": "Iceland",
         "marker": {
          "color": "#BCBD22",
          "size": [
           341250
          ],
          "sizemode": "area",
          "sizeref": 293739.5457142857,
          "symbol": "circle"
         },
         "mode": "markers",
         "name": "Iceland",
         "orientation": "v",
         "showlegend": true,
         "type": "scatter",
         "x": [
          46482.958
         ],
         "xaxis": "x",
         "y": [
          1800.042735042735
         ],
         "yaxis": "y"
        },
        {
         "hovertemplate": "<b>%{hovertext}</b><br><br>location=India<br>gdp_per_capita=%{x}<br>total_cases=%{y}<br>population=%{marker.size}<extra></extra>",
         "hovertext": [
          "India"
         ],
         "legendgroup": "India",
         "marker": {
          "color": "#17BECF",
          "size": [
           1380004385
          ],
          "sizemode": "area",
          "sizeref": 293739.5457142857,
          "symbol": "circle"
         },
         "mode": "markers",
         "name": "India",
         "orientation": "v",
         "showlegend": true,
         "type": "scatter",
         "x": [
          6426.674
         ],
         "xaxis": "x",
         "y": [
          1550462.4144486692
         ],
         "yaxis": "y"
        },
        {
         "hovertemplate": "<b>%{hovertext}</b><br><br>location=Indonesia<br>gdp_per_capita=%{x}<br>total_cases=%{y}<br>population=%{marker.size}<extra></extra>",
         "hovertext": [
          "Indonesia"
         ],
         "legendgroup": "Indonesia",
         "marker": {
          "color": "#1F77B4",
          "size": [
           273523621
          ],
          "sizemode": "area",
          "sizeref": 293739.5457142857,
          "symbol": "circle"
         },
         "mode": "markers",
         "name": "Indonesia",
         "orientation": "v",
         "showlegend": true,
         "type": "scatter",
         "x": [
          11188.744
         ],
         "xaxis": "x",
         "y": [
          95867.3288888889
         ],
         "yaxis": "y"
        },
        {
         "hovertemplate": "<b>%{hovertext}</b><br><br>location=Iran<br>gdp_per_capita=%{x}<br>total_cases=%{y}<br>population=%{marker.size}<extra></extra>",
         "hovertext": [
          "Iran"
         ],
         "legendgroup": "Iran",
         "marker": {
          "color": "#FF7F0E",
          "size": [
           83992953
          ],
          "sizemode": "area",
          "sizeref": 293739.5457142857,
          "symbol": "circle"
         },
         "mode": "markers",
         "name": "Iran",
         "orientation": "v",
         "showlegend": true,
         "type": "scatter",
         "x": [
          19082.62
         ],
         "xaxis": "x",
         "y": [
          215727.91769547324
         ],
         "yaxis": "y"
        },
        {
         "hovertemplate": "<b>%{hovertext}</b><br><br>location=Iraq<br>gdp_per_capita=%{x}<br>total_cases=%{y}<br>population=%{marker.size}<extra></extra>",
         "hovertext": [
          "Iraq"
         ],
         "legendgroup": "Iraq",
         "marker": {
          "color": "#2CA02C",
          "size": [
           40222503
          ],
          "sizemode": "area",
          "sizeref": 293739.5457142857,
          "symbol": "circle"
         },
         "mode": "markers",
         "name": "Iraq",
         "orientation": "v",
         "showlegend": true,
         "type": "scatter",
         "x": [
          15663.986000000003
         ],
         "xaxis": "x",
         "y": [
          85987.52380952382
         ],
         "yaxis": "y"
        },
        {
         "hovertemplate": "<b>%{hovertext}</b><br><br>location=Ireland<br>gdp_per_capita=%{x}<br>total_cases=%{y}<br>population=%{marker.size}<extra></extra>",
         "hovertext": [
          "Ireland"
         ],
         "legendgroup": "Ireland",
         "marker": {
          "color": "#D62728",
          "size": [
           4937796
          ],
          "sizemode": "area",
          "sizeref": 293739.5457142857,
          "symbol": "circle"
         },
         "mode": "markers",
         "name": "Ireland",
         "orientation": "v",
         "showlegend": true,
         "type": "scatter",
         "x": [
          67335.293
         ],
         "xaxis": "x",
         "y": [
          17822.442176870747
         ],
         "yaxis": "y"
        },
        {
         "hovertemplate": "<b>%{hovertext}</b><br><br>location=Isle of Man<br>gdp_per_capita=%{x}<br>total_cases=%{y}<br>population=%{marker.size}<extra></extra>",
         "hovertext": [
          "Isle of Man"
         ],
         "legendgroup": "Isle of Man",
         "marker": {
          "color": "#9467BD",
          "size": [
           85032
          ],
          "sizemode": "area",
          "sizeref": 293739.5457142857,
          "symbol": "circle"
         },
         "mode": "markers",
         "name": "Isle of Man",
         "orientation": "v",
         "showlegend": true,
         "type": "scatter",
         "x": [
          null
         ],
         "xaxis": "x",
         "y": [
          304.85915492957747
         ],
         "yaxis": "y"
        },
        {
         "hovertemplate": "<b>%{hovertext}</b><br><br>location=Israel<br>gdp_per_capita=%{x}<br>total_cases=%{y}<br>population=%{marker.size}<extra></extra>",
         "hovertext": [
          "Israel"
         ],
         "legendgroup": "Israel",
         "marker": {
          "color": "#8C564B",
          "size": [
           8655541
          ],
          "sizemode": "area",
          "sizeref": 293739.5457142857,
          "symbol": "circle"
         },
         "mode": "markers",
         "name": "Israel",
         "orientation": "v",
         "showlegend": true,
         "type": "scatter",
         "x": [
          33132.32
         ],
         "xaxis": "x",
         "y": [
          55110.45578231292
         ],
         "yaxis": "y"
        },
        {
         "hovertemplate": "<b>%{hovertext}</b><br><br>location=Italy<br>gdp_per_capita=%{x}<br>total_cases=%{y}<br>population=%{marker.size}<extra></extra>",
         "hovertext": [
          "Italy"
         ],
         "legendgroup": "Italy",
         "marker": {
          "color": "#E377C2",
          "size": [
           60461828
          ],
          "sizemode": "area",
          "sizeref": 293739.5457142857,
          "symbol": "circle"
         },
         "mode": "markers",
         "name": "Italy",
         "orientation": "v",
         "showlegend": true,
         "type": "scatter",
         "x": [
          35220.084
         ],
         "xaxis": "x",
         "y": [
          172628.75170068027
         ],
         "yaxis": "y"
        },
        {
         "hovertemplate": "<b>%{hovertext}</b><br><br>location=Jamaica<br>gdp_per_capita=%{x}<br>total_cases=%{y}<br>population=%{marker.size}<extra></extra>",
         "hovertext": [
          "Jamaica"
         ],
         "legendgroup": "Jamaica",
         "marker": {
          "color": "#7F7F7F",
          "size": [
           2961161
          ],
          "sizemode": "area",
          "sizeref": 293739.5457142857,
          "symbol": "circle"
         },
         "mode": "markers",
         "name": "Jamaica",
         "orientation": "v",
         "showlegend": true,
         "type": "scatter",
         "x": [
          8193.571
         ],
         "xaxis": "x",
         "y": [
          1678.235294117647
         ],
         "yaxis": "y"
        },
        {
         "hovertemplate": "<b>%{hovertext}</b><br><br>location=Japan<br>gdp_per_capita=%{x}<br>total_cases=%{y}<br>population=%{marker.size}<extra></extra>",
         "hovertext": [
          "Japan"
         ],
         "legendgroup": "Japan",
         "marker": {
          "color": "#BCBD22",
          "size": [
           126476458
          ],
          "sizemode": "area",
          "sizeref": 293739.5457142857,
          "symbol": "circle"
         },
         "mode": "markers",
         "name": "Japan",
         "orientation": "v",
         "showlegend": true,
         "type": "scatter",
         "x": [
          39002.223
         ],
         "xaxis": "x",
         "y": [
          26052.666666666668
         ],
         "yaxis": "y"
        },
        {
         "hovertemplate": "<b>%{hovertext}</b><br><br>location=Jersey<br>gdp_per_capita=%{x}<br>total_cases=%{y}<br>population=%{marker.size}<extra></extra>",
         "hovertext": [
          "Jersey"
         ],
         "legendgroup": "Jersey",
         "marker": {
          "color": "#17BECF",
          "size": [
           101073
          ],
          "sizemode": "area",
          "sizeref": 293739.5457142857,
          "symbol": "circle"
         },
         "mode": "markers",
         "name": "Jersey",
         "orientation": "v",
         "showlegend": true,
         "type": "scatter",
         "x": [
          null
         ],
         "xaxis": "x",
         "y": [
          312.0420560747664
         ],
         "yaxis": "y"
        },
        {
         "hovertemplate": "<b>%{hovertext}</b><br><br>location=Jordan<br>gdp_per_capita=%{x}<br>total_cases=%{y}<br>population=%{marker.size}<extra></extra>",
         "hovertext": [
          "Jordan"
         ],
         "legendgroup": "Jordan",
         "marker": {
          "color": "#1F77B4",
          "size": [
           10203140
          ],
          "sizemode": "area",
          "sizeref": 293739.5457142857,
          "symbol": "circle"
         },
         "mode": "markers",
         "name": "Jordan",
         "orientation": "v",
         "showlegend": true,
         "type": "scatter",
         "x": [
          8337.49
         ],
         "xaxis": "x",
         "y": [
          3156.4493392070485
         ],
         "yaxis": "y"
        },
        {
         "hovertemplate": "<b>%{hovertext}</b><br><br>location=Kazakhstan<br>gdp_per_capita=%{x}<br>total_cases=%{y}<br>population=%{marker.size}<extra></extra>",
         "hovertext": [
          "Kazakhstan"
         ],
         "legendgroup": "Kazakhstan",
         "marker": {
          "color": "#FF7F0E",
          "size": [
           18776707
          ],
          "sizemode": "area",
          "sizeref": 293739.5457142857,
          "symbol": "circle"
         },
         "mode": "markers",
         "name": "Kazakhstan",
         "orientation": "v",
         "showlegend": true,
         "type": "scatter",
         "x": [
          24055.588
         ],
         "xaxis": "x",
         "y": [
          59705.262443438914
         ],
         "yaxis": "y"
        },
        {
         "hovertemplate": "<b>%{hovertext}</b><br><br>location=Kenya<br>gdp_per_capita=%{x}<br>total_cases=%{y}<br>population=%{marker.size}<extra></extra>",
         "hovertext": [
          "Kenya"
         ],
         "legendgroup": "Kenya",
         "marker": {
          "color": "#2CA02C",
          "size": [
           53771300
          ],
          "sizemode": "area",
          "sizeref": 293739.5457142857,
          "symbol": "circle"
         },
         "mode": "markers",
         "name": "Kenya",
         "orientation": "v",
         "showlegend": true,
         "type": "scatter",
         "x": [
          2993.028
         ],
         "xaxis": "x",
         "y": [
          14376.026315789473
         ],
         "yaxis": "y"
        },
        {
         "hovertemplate": "<b>%{hovertext}</b><br><br>location=Kosovo<br>gdp_per_capita=%{x}<br>total_cases=%{y}<br>population=%{marker.size}<extra></extra>",
         "hovertext": [
          "Kosovo"
         ],
         "legendgroup": "Kosovo",
         "marker": {
          "color": "#D62728",
          "size": [
           1932774
          ],
          "sizemode": "area",
          "sizeref": 293739.5457142857,
          "symbol": "circle"
         },
         "mode": "markers",
         "name": "Kosovo",
         "orientation": "v",
         "showlegend": true,
         "type": "scatter",
         "x": [
          9795.834
         ],
         "xaxis": "x",
         "y": [
          6117.909090909091
         ],
         "yaxis": "y"
        },
        {
         "hovertemplate": "<b>%{hovertext}</b><br><br>location=Kuwait<br>gdp_per_capita=%{x}<br>total_cases=%{y}<br>population=%{marker.size}<extra></extra>",
         "hovertext": [
          "Kuwait"
         ],
         "legendgroup": "Kuwait",
         "marker": {
          "color": "#9467BD",
          "size": [
           4270563
          ],
          "sizemode": "area",
          "sizeref": 293739.5457142857,
          "symbol": "circle"
         },
         "mode": "markers",
         "name": "Kuwait",
         "orientation": "v",
         "showlegend": true,
         "type": "scatter",
         "x": [
          65530.537
         ],
         "xaxis": "x",
         "y": [
          36129.948979591834
         ],
         "yaxis": "y"
        },
        {
         "hovertemplate": "<b>%{hovertext}</b><br><br>location=Kyrgyzstan<br>gdp_per_capita=%{x}<br>total_cases=%{y}<br>population=%{marker.size}<extra></extra>",
         "hovertext": [
          "Kyrgyzstan"
         ],
         "legendgroup": "Kyrgyzstan",
         "marker": {
          "color": "#8C564B",
          "size": [
           6524191
          ],
          "sizemode": "area",
          "sizeref": 293739.5457142857,
          "symbol": "circle"
         },
         "mode": "markers",
         "name": "Kyrgyzstan",
         "orientation": "v",
         "showlegend": true,
         "type": "scatter",
         "x": [
          3393.474
         ],
         "xaxis": "x",
         "y": [
          19943.474418604652
         ],
         "yaxis": "y"
        },
        {
         "hovertemplate": "<b>%{hovertext}</b><br><br>location=Laos<br>gdp_per_capita=%{x}<br>total_cases=%{y}<br>population=%{marker.size}<extra></extra>",
         "hovertext": [
          "Laos"
         ],
         "legendgroup": "Laos",
         "marker": {
          "color": "#E377C2",
          "size": [
           7275556
          ],
          "sizemode": "area",
          "sizeref": 293739.5457142857,
          "symbol": "circle"
         },
         "mode": "markers",
         "name": "Laos",
         "orientation": "v",
         "showlegend": true,
         "type": "scatter",
         "x": [
          6397.36
         ],
         "xaxis": "x",
         "y": [
          19.32535885167464
         ],
         "yaxis": "y"
        },
        {
         "hovertemplate": "<b>%{hovertext}</b><br><br>location=Latvia<br>gdp_per_capita=%{x}<br>total_cases=%{y}<br>population=%{marker.size}<extra></extra>",
         "hovertext": [
          "Latvia"
         ],
         "legendgroup": "Latvia",
         "marker": {
          "color": "#7F7F7F",
          "size": [
           1886202
          ],
          "sizemode": "area",
          "sizeref": 293739.5457142857,
          "symbol": "circle"
         },
         "mode": "markers",
         "name": "Latvia",
         "orientation": "v",
         "showlegend": true,
         "type": "scatter",
         "x": [
          25063.846
         ],
         "xaxis": "x",
         "y": [
          1127.5947136563877
         ],
         "yaxis": "y"
        },
        {
         "hovertemplate": "<b>%{hovertext}</b><br><br>location=Lebanon<br>gdp_per_capita=%{x}<br>total_cases=%{y}<br>population=%{marker.size}<extra></extra>",
         "hovertext": [
          "Lebanon"
         ],
         "legendgroup": "Lebanon",
         "marker": {
          "color": "#BCBD22",
          "size": [
           6825442
          ],
          "sizemode": "area",
          "sizeref": 293739.5457142857,
          "symbol": "circle"
         },
         "mode": "markers",
         "name": "Lebanon",
         "orientation": "v",
         "showlegend": true,
         "type": "scatter",
         "x": [
          13367.565
         ],
         "xaxis": "x",
         "y": [
          7553.397959183673
         ],
         "yaxis": "y"
        },
        {
         "hovertemplate": "<b>%{hovertext}</b><br><br>location=Lesotho<br>gdp_per_capita=%{x}<br>total_cases=%{y}<br>population=%{marker.size}<extra></extra>",
         "hovertext": [
          "Lesotho"
         ],
         "legendgroup": "Lesotho",
         "marker": {
          "color": "#17BECF",
          "size": [
           2142252
          ],
          "sizemode": "area",
          "sizeref": 293739.5457142857,
          "symbol": "circle"
         },
         "mode": "markers",
         "name": "Lesotho",
         "orientation": "v",
         "showlegend": true,
         "type": "scatter",
         "x": [
          2851.153
         ],
         "xaxis": "x",
         "y": [
          683.2151898734177
         ],
         "yaxis": "y"
        },
        {
         "hovertemplate": "<b>%{hovertext}</b><br><br>location=Liberia<br>gdp_per_capita=%{x}<br>total_cases=%{y}<br>population=%{marker.size}<extra></extra>",
         "hovertext": [
          "Liberia"
         ],
         "legendgroup": "Liberia",
         "marker": {
          "color": "#1F77B4",
          "size": [
           5057677
          ],
          "sizemode": "area",
          "sizeref": 293739.5457142857,
          "symbol": "circle"
         },
         "mode": "markers",
         "name": "Liberia",
         "orientation": "v",
         "showlegend": true,
         "type": "scatter",
         "x": [
          752.788
         ],
         "xaxis": "x",
         "y": [
          736.7741935483871
         ],
         "yaxis": "y"
        },
        {
         "hovertemplate": "<b>%{hovertext}</b><br><br>location=Libya<br>gdp_per_capita=%{x}<br>total_cases=%{y}<br>population=%{marker.size}<extra></extra>",
         "hovertext": [
          "Libya"
         ],
         "legendgroup": "Libya",
         "marker": {
          "color": "#FF7F0E",
          "size": [
           6871287
          ],
          "sizemode": "area",
          "sizeref": 293739.5457142857,
          "symbol": "circle"
         },
         "mode": "markers",
         "name": "Libya",
         "orientation": "v",
         "showlegend": true,
         "type": "scatter",
         "x": [
          17881.509
         ],
         "xaxis": "x",
         "y": [
          7901.191304347826
         ],
         "yaxis": "y"
        },
        {
         "hovertemplate": "<b>%{hovertext}</b><br><br>location=Liechtenstein<br>gdp_per_capita=%{x}<br>total_cases=%{y}<br>population=%{marker.size}<extra></extra>",
         "hovertext": [
          "Liechtenstein"
         ],
         "legendgroup": "Liechtenstein",
         "marker": {
          "color": "#2CA02C",
          "size": [
           38137
          ],
          "sizemode": "area",
          "sizeref": 293739.5457142857,
          "symbol": "circle"
         },
         "mode": "markers",
         "name": "Liechtenstein",
         "orientation": "v",
         "showlegend": true,
         "type": "scatter",
         "x": [
          null
         ],
         "xaxis": "x",
         "y": [
          89.17040358744394
         ],
         "yaxis": "y"
        },
        {
         "hovertemplate": "<b>%{hovertext}</b><br><br>location=Lithuania<br>gdp_per_capita=%{x}<br>total_cases=%{y}<br>population=%{marker.size}<extra></extra>",
         "hovertext": [
          "Lithuania"
         ],
         "legendgroup": "Lithuania",
         "marker": {
          "color": "#D62728",
          "size": [
           2722291
          ],
          "sizemode": "area",
          "sizeref": 293739.5457142857,
          "symbol": "circle"
         },
         "mode": "markers",
         "name": "Lithuania",
         "orientation": "v",
         "showlegend": true,
         "type": "scatter",
         "x": [
          29524.265
         ],
         "xaxis": "x",
         "y": [
          1712.480701754386
         ],
         "yaxis": "y"
        },
        {
         "hovertemplate": "<b>%{hovertext}</b><br><br>location=Macedonia<br>gdp_per_capita=%{x}<br>total_cases=%{y}<br>population=%{marker.size}<extra></extra>",
         "hovertext": [
          "Macedonia"
         ],
         "legendgroup": "Macedonia",
         "marker": {
          "color": "#9467BD",
          "size": [
           2083380
          ],
          "sizemode": "area",
          "sizeref": 293739.5457142857,
          "symbol": "circle"
         },
         "mode": "markers",
         "name": "Macedonia",
         "orientation": "v",
         "showlegend": true,
         "type": "scatter",
         "x": [
          13111.214
         ],
         "xaxis": "x",
         "y": [
          7595.68281938326
         ],
         "yaxis": "y"
        },
        {
         "hovertemplate": "<b>%{hovertext}</b><br><br>location=Madagascar<br>gdp_per_capita=%{x}<br>total_cases=%{y}<br>population=%{marker.size}<extra></extra>",
         "hovertext": [
          "Madagascar"
         ],
         "legendgroup": "Madagascar",
         "marker": {
          "color": "#8C564B",
          "size": [
           27691019
          ],
          "sizemode": "area",
          "sizeref": 293739.5457142857,
          "symbol": "circle"
         },
         "mode": "markers",
         "name": "Madagascar",
         "orientation": "v",
         "showlegend": true,
         "type": "scatter",
         "x": [
          1416.44
         ],
         "xaxis": "x",
         "y": [
          6776.154929577465
         ],
         "yaxis": "y"
        },
        {
         "hovertemplate": "<b>%{hovertext}</b><br><br>location=Malawi<br>gdp_per_capita=%{x}<br>total_cases=%{y}<br>population=%{marker.size}<extra></extra>",
         "hovertext": [
          "Malawi"
         ],
         "legendgroup": "Malawi",
         "marker": {
          "color": "#E377C2",
          "size": [
           19129955
          ],
          "sizemode": "area",
          "sizeref": 293739.5457142857,
          "symbol": "circle"
         },
         "mode": "markers",
         "name": "Malawi",
         "orientation": "v",
         "showlegend": true,
         "type": "scatter",
         "x": [
          1095.042
         ],
         "xaxis": "x",
         "y": [
          2682.235
         ],
         "yaxis": "y"
        },
        {
         "hovertemplate": "<b>%{hovertext}</b><br><br>location=Malaysia<br>gdp_per_capita=%{x}<br>total_cases=%{y}<br>population=%{marker.size}<extra></extra>",
         "hovertext": [
          "Malaysia"
         ],
         "legendgroup": "Malaysia",
         "marker": {
          "color": "#7F7F7F",
          "size": [
           32365998
          ],
          "sizemode": "area",
          "sizeref": 293739.5457142857,
          "symbol": "circle"
         },
         "mode": "markers",
         "name": "Malaysia",
         "orientation": "v",
         "showlegend": true,
         "type": "scatter",
         "x": [
          26808.164
         ],
         "xaxis": "x",
         "y": [
          6620.078358208955
         ],
         "yaxis": "y"
        },
        {
         "hovertemplate": "<b>%{hovertext}</b><br><br>location=Maldives<br>gdp_per_capita=%{x}<br>total_cases=%{y}<br>population=%{marker.size}<extra></extra>",
         "hovertext": [
          "Maldives"
         ],
         "legendgroup": "Maldives",
         "marker": {
          "color": "#BCBD22",
          "size": [
           540542
          ],
          "sizemode": "area",
          "sizeref": 293739.5457142857,
          "symbol": "circle"
         },
         "mode": "markers",
         "name": "Maldives",
         "orientation": "v",
         "showlegend": true,
         "type": "scatter",
         "x": [
          15183.616
         ],
         "xaxis": "x",
         "y": [
          3768.035714285714
         ],
         "yaxis": "y"
        },
        {
         "hovertemplate": "<b>%{hovertext}</b><br><br>location=Mali<br>gdp_per_capita=%{x}<br>total_cases=%{y}<br>population=%{marker.size}<extra></extra>",
         "hovertext": [
          "Mali"
         ],
         "legendgroup": "Mali",
         "marker": {
          "color": "#17BECF",
          "size": [
           20250834
          ],
          "sizemode": "area",
          "sizeref": 293739.5457142857,
          "symbol": "circle"
         },
         "mode": "markers",
         "name": "Mali",
         "orientation": "v",
         "showlegend": true,
         "type": "scatter",
         "x": [
          2014.306
         ],
         "xaxis": "x",
         "y": [
          1878.0625
         ],
         "yaxis": "y"
        },
        {
         "hovertemplate": "<b>%{hovertext}</b><br><br>location=Malta<br>gdp_per_capita=%{x}<br>total_cases=%{y}<br>population=%{marker.size}<extra></extra>",
         "hovertext": [
          "Malta"
         ],
         "legendgroup": "Malta",
         "marker": {
          "color": "#1F77B4",
          "size": [
           441539
          ],
          "sizemode": "area",
          "sizeref": 293739.5457142857,
          "symbol": "circle"
         },
         "mode": "markers",
         "name": "Malta",
         "orientation": "v",
         "showlegend": true,
         "type": "scatter",
         "x": [
          36513.323
         ],
         "xaxis": "x",
         "y": [
          1106.876651982379
         ],
         "yaxis": "y"
        },
        {
         "hovertemplate": "<b>%{hovertext}</b><br><br>location=Mauritania<br>gdp_per_capita=%{x}<br>total_cases=%{y}<br>population=%{marker.size}<extra></extra>",
         "hovertext": [
          "Mauritania"
         ],
         "legendgroup": "Mauritania",
         "marker": {
          "color": "#FF7F0E",
          "size": [
           4649660
          ],
          "sizemode": "area",
          "sizeref": 293739.5457142857,
          "symbol": "circle"
         },
         "mode": "markers",
         "name": "Mauritania",
         "orientation": "v",
         "showlegend": true,
         "type": "scatter",
         "x": [
          3597.633
         ],
         "xaxis": "x",
         "y": [
          3649.415525114155
         ],
         "yaxis": "y"
        },
        {
         "hovertemplate": "<b>%{hovertext}</b><br><br>location=Mauritius<br>gdp_per_capita=%{x}<br>total_cases=%{y}<br>population=%{marker.size}<extra></extra>",
         "hovertext": [
          "Mauritius"
         ],
         "legendgroup": "Mauritius",
         "marker": {
          "color": "#2CA02C",
          "size": [
           1271767
          ],
          "sizemode": "area",
          "sizeref": 293739.5457142857,
          "symbol": "circle"
         },
         "mode": "markers",
         "name": "Mauritius",
         "orientation": "v",
         "showlegend": true,
         "type": "scatter",
         "x": [
          20292.745
         ],
         "xaxis": "x",
         "y": [
          324.8785046728972
         ],
         "yaxis": "y"
        },
        {
         "hovertemplate": "<b>%{hovertext}</b><br><br>location=Mexico<br>gdp_per_capita=%{x}<br>total_cases=%{y}<br>population=%{marker.size}<extra></extra>",
         "hovertext": [
          "Mexico"
         ],
         "legendgroup": "Mexico",
         "marker": {
          "color": "#D62728",
          "size": [
           128932753
          ],
          "sizemode": "area",
          "sizeref": 293739.5457142857,
          "symbol": "circle"
         },
         "mode": "markers",
         "name": "Mexico",
         "orientation": "v",
         "showlegend": true,
         "type": "scatter",
         "x": [
          17336.469
         ],
         "xaxis": "x",
         "y": [
          265526.95714285714
         ],
         "yaxis": "y"
        },
        {
         "hovertemplate": "<b>%{hovertext}</b><br><br>location=Moldova<br>gdp_per_capita=%{x}<br>total_cases=%{y}<br>population=%{marker.size}<extra></extra>",
         "hovertext": [
          "Moldova"
         ],
         "legendgroup": "Moldova",
         "marker": {
          "color": "#9467BD",
          "size": [
           4033963
          ],
          "sizemode": "area",
          "sizeref": 293739.5457142857,
          "symbol": "circle"
         },
         "mode": "markers",
         "name": "Moldova",
         "orientation": "v",
         "showlegend": true,
         "type": "scatter",
         "x": [
          5189.972
         ],
         "xaxis": "x",
         "y": [
          20680.723214285714
         ],
         "yaxis": "y"
        },
        {
         "hovertemplate": "<b>%{hovertext}</b><br><br>location=Monaco<br>gdp_per_capita=%{x}<br>total_cases=%{y}<br>population=%{marker.size}<extra></extra>",
         "hovertext": [
          "Monaco"
         ],
         "legendgroup": "Monaco",
         "marker": {
          "color": "#8C564B",
          "size": [
           39244
          ],
          "sizemode": "area",
          "sizeref": 293739.5457142857,
          "symbol": "circle"
         },
         "mode": "markers",
         "name": "Monaco",
         "orientation": "v",
         "showlegend": true,
         "type": "scatter",
         "x": [
          null
         ],
         "xaxis": "x",
         "y": [
          96.8963963963964
         ],
         "yaxis": "y"
        },
        {
         "hovertemplate": "<b>%{hovertext}</b><br><br>location=Mongolia<br>gdp_per_capita=%{x}<br>total_cases=%{y}<br>population=%{marker.size}<extra></extra>",
         "hovertext": [
          "Mongolia"
         ],
         "legendgroup": "Mongolia",
         "marker": {
          "color": "#E377C2",
          "size": [
           3278292
          ],
          "sizemode": "area",
          "sizeref": 293739.5457142857,
          "symbol": "circle"
         },
         "mode": "markers",
         "name": "Mongolia",
         "orientation": "v",
         "showlegend": true,
         "type": "scatter",
         "x": [
          11840.846000000001
         ],
         "xaxis": "x",
         "y": [
          194.79357798165137
         ],
         "yaxis": "y"
        },
        {
         "hovertemplate": "<b>%{hovertext}</b><br><br>location=Montenegro<br>gdp_per_capita=%{x}<br>total_cases=%{y}<br>population=%{marker.size}<extra></extra>",
         "hovertext": [
          "Montenegro"
         ],
         "legendgroup": "Montenegro",
         "marker": {
          "color": "#7F7F7F",
          "size": [
           628062
          ],
          "sizemode": "area",
          "sizeref": 293739.5457142857,
          "symbol": "circle"
         },
         "mode": "markers",
         "name": "Montenegro",
         "orientation": "v",
         "showlegend": true,
         "type": "scatter",
         "x": [
          16409.288
         ],
         "xaxis": "x",
         "y": [
          3129.222222222222
         ],
         "yaxis": "y"
        },
        {
         "hovertemplate": "<b>%{hovertext}</b><br><br>location=Montserrat<br>gdp_per_capita=%{x}<br>total_cases=%{y}<br>population=%{marker.size}<extra></extra>",
         "hovertext": [
          "Montserrat"
         ],
         "legendgroup": "Montserrat",
         "marker": {
          "color": "#BCBD22",
          "size": [
           4999
          ],
          "sizemode": "area",
          "sizeref": 293739.5457142857,
          "symbol": "circle"
         },
         "mode": "markers",
         "name": "Montserrat",
         "orientation": "v",
         "showlegend": true,
         "type": "scatter",
         "x": [
          null
         ],
         "xaxis": "x",
         "y": [
          11.24056603773585
         ],
         "yaxis": "y"
        },
        {
         "hovertemplate": "<b>%{hovertext}</b><br><br>location=Morocco<br>gdp_per_capita=%{x}<br>total_cases=%{y}<br>population=%{marker.size}<extra></extra>",
         "hovertext": [
          "Morocco"
         ],
         "legendgroup": "Morocco",
         "marker": {
          "color": "#17BECF",
          "size": [
           36910558
          ],
          "sizemode": "area",
          "sizeref": 293739.5457142857,
          "symbol": "circle"
         },
         "mode": "markers",
         "name": "Morocco",
         "orientation": "v",
         "showlegend": true,
         "type": "scatter",
         "x": [
          7485.013
         ],
         "xaxis": "x",
         "y": [
          34996.74107142857
         ],
         "yaxis": "y"
        },
        {
         "hovertemplate": "<b>%{hovertext}</b><br><br>location=Mozambique<br>gdp_per_capita=%{x}<br>total_cases=%{y}<br>population=%{marker.size}<extra></extra>",
         "hovertext": [
          "Mozambique"
         ],
         "legendgroup": "Mozambique",
         "marker": {
          "color": "#1F77B4",
          "size": [
           31255435
          ],
          "sizemode": "area",
          "sizeref": 293739.5457142857,
          "symbol": "circle"
         },
         "mode": "markers",
         "name": "Mozambique",
         "orientation": "v",
         "showlegend": true,
         "type": "scatter",
         "x": [
          1136.103
         ],
         "xaxis": "x",
         "y": [
          2419.8009478672984
         ],
         "yaxis": "y"
        },
        {
         "hovertemplate": "<b>%{hovertext}</b><br><br>location=Myanmar<br>gdp_per_capita=%{x}<br>total_cases=%{y}<br>population=%{marker.size}<extra></extra>",
         "hovertext": [
          "Myanmar"
         ],
         "legendgroup": "Myanmar",
         "marker": {
          "color": "#FF7F0E",
          "size": [
           54409794
          ],
          "sizemode": "area",
          "sizeref": 293739.5457142857,
          "symbol": "circle"
         },
         "mode": "markers",
         "name": "Myanmar",
         "orientation": "v",
         "showlegend": true,
         "type": "scatter",
         "x": [
          5591.597
         ],
         "xaxis": "x",
         "y": [
          3067.6619047619047
         ],
         "yaxis": "y"
        },
        {
         "hovertemplate": "<b>%{hovertext}</b><br><br>location=Namibia<br>gdp_per_capita=%{x}<br>total_cases=%{y}<br>population=%{marker.size}<extra></extra>",
         "hovertext": [
          "Namibia"
         ],
         "legendgroup": "Namibia",
         "marker": {
          "color": "#2CA02C",
          "size": [
           2540916
          ],
          "sizemode": "area",
          "sizeref": 293739.5457142857,
          "symbol": "circle"
         },
         "mode": "markers",
         "name": "Namibia",
         "orientation": "v",
         "showlegend": true,
         "type": "scatter",
         "x": [
          9541.808
         ],
         "xaxis": "x",
         "y": [
          3110.9543378995436
         ],
         "yaxis": "y"
        },
        {
         "hovertemplate": "<b>%{hovertext}</b><br><br>location=Nepal<br>gdp_per_capita=%{x}<br>total_cases=%{y}<br>population=%{marker.size}<extra></extra>",
         "hovertext": [
          "Nepal"
         ],
         "legendgroup": "Nepal",
         "marker": {
          "color": "#D62728",
          "size": [
           29136808
          ],
          "sizemode": "area",
          "sizeref": 293739.5457142857,
          "symbol": "circle"
         },
         "mode": "markers",
         "name": "Nepal",
         "orientation": "v",
         "showlegend": true,
         "type": "scatter",
         "x": [
          2442.804
         ],
         "xaxis": "x",
         "y": [
          20483.01953125
         ],
         "yaxis": "y"
        },
        {
         "hovertemplate": "<b>%{hovertext}</b><br><br>location=Netherlands<br>gdp_per_capita=%{x}<br>total_cases=%{y}<br>population=%{marker.size}<extra></extra>",
         "hovertext": [
          "Netherlands"
         ],
         "legendgroup": "Netherlands",
         "marker": {
          "color": "#9467BD",
          "size": [
           17134873
          ],
          "sizemode": "area",
          "sizeref": 293739.5457142857,
          "symbol": "circle"
         },
         "mode": "markers",
         "name": "Netherlands",
         "orientation": "v",
         "showlegend": true,
         "type": "scatter",
         "x": [
          48472.545
         ],
         "xaxis": "x",
         "y": [
          55432.46382978724
         ],
         "yaxis": "y"
        },
        {
         "hovertemplate": "<b>%{hovertext}</b><br><br>location=New Caledonia<br>gdp_per_capita=%{x}<br>total_cases=%{y}<br>population=%{marker.size}<extra></extra>",
         "hovertext": [
          "New Caledonia"
         ],
         "legendgroup": "New Caledonia",
         "marker": {
          "color": "#8C564B",
          "size": [
           285491
          ],
          "sizemode": "area",
          "sizeref": 293739.5457142857,
          "symbol": "circle"
         },
         "mode": "markers",
         "name": "New Caledonia",
         "orientation": "v",
         "showlegend": true,
         "type": "scatter",
         "x": [
          null
         ],
         "xaxis": "x",
         "y": [
          21.103286384976524
         ],
         "yaxis": "y"
        },
        {
         "hovertemplate": "<b>%{hovertext}</b><br><br>location=New Zealand<br>gdp_per_capita=%{x}<br>total_cases=%{y}<br>population=%{marker.size}<extra></extra>",
         "hovertext": [
          "New Zealand"
         ],
         "legendgroup": "New Zealand",
         "marker": {
          "color": "#E377C2",
          "size": [
           4822233
          ],
          "sizemode": "area",
          "sizeref": 293739.5457142857,
          "symbol": "circle"
         },
         "mode": "markers",
         "name": "New Zealand",
         "orientation": "v",
         "showlegend": true,
         "type": "scatter",
         "x": [
          36085.843
         ],
         "xaxis": "x",
         "y": [
          1120.367256637168
         ],
         "yaxis": "y"
        },
        {
         "hovertemplate": "<b>%{hovertext}</b><br><br>location=Nicaragua<br>gdp_per_capita=%{x}<br>total_cases=%{y}<br>population=%{marker.size}<extra></extra>",
         "hovertext": [
          "Nicaragua"
         ],
         "legendgroup": "Nicaragua",
         "marker": {
          "color": "#7F7F7F",
          "size": [
           6624554
          ],
          "sizemode": "area",
          "sizeref": 293739.5457142857,
          "symbol": "circle"
         },
         "mode": "markers",
         "name": "Nicaragua",
         "orientation": "v",
         "showlegend": true,
         "type": "scatter",
         "x": [
          5321.444000000001
         ],
         "xaxis": "x",
         "y": [
          2439.1162790697676
         ],
         "yaxis": "y"
        },
        {
         "hovertemplate": "<b>%{hovertext}</b><br><br>location=Niger<br>gdp_per_capita=%{x}<br>total_cases=%{y}<br>population=%{marker.size}<extra></extra>",
         "hovertext": [
          "Niger"
         ],
         "legendgroup": "Niger",
         "marker": {
          "color": "#BCBD22",
          "size": [
           24206636
          ],
          "sizemode": "area",
          "sizeref": 293739.5457142857,
          "symbol": "circle"
         },
         "mode": "markers",
         "name": "Niger",
         "orientation": "v",
         "showlegend": true,
         "type": "scatter",
         "x": [
          926
         ],
         "xaxis": "x",
         "y": [
          938.8638497652582
         ],
         "yaxis": "y"
        },
        {
         "hovertemplate": "<b>%{hovertext}</b><br><br>location=Nigeria<br>gdp_per_capita=%{x}<br>total_cases=%{y}<br>population=%{marker.size}<extra></extra>",
         "hovertext": [
          "Nigeria"
         ],
         "legendgroup": "Nigeria",
         "marker": {
          "color": "#17BECF",
          "size": [
           206139587
          ],
          "sizemode": "area",
          "sizeref": 293739.5457142857,
          "symbol": "circle"
         },
         "mode": "markers",
         "name": "Nigeria",
         "orientation": "v",
         "showlegend": true,
         "type": "scatter",
         "x": [
          5338.454
         ],
         "xaxis": "x",
         "y": [
          27265.04910714286
         ],
         "yaxis": "y"
        },
        {
         "hovertemplate": "<b>%{hovertext}</b><br><br>location=Northern Mariana Islands<br>gdp_per_capita=%{x}<br>total_cases=%{y}<br>population=%{marker.size}<extra></extra>",
         "hovertext": [
          "Northern Mariana Islands"
         ],
         "legendgroup": "Northern Mariana Islands",
         "marker": {
          "color": "#1F77B4",
          "size": [
           57557
          ],
          "sizemode": "area",
          "sizeref": 293739.5457142857,
          "symbol": "circle"
         },
         "mode": "markers",
         "name": "Northern Mariana Islands",
         "orientation": "v",
         "showlegend": true,
         "type": "scatter",
         "x": [
          null
         ],
         "xaxis": "x",
         "y": [
          38.3448275862069
         ],
         "yaxis": "y"
        },
        {
         "hovertemplate": "<b>%{hovertext}</b><br><br>location=Norway<br>gdp_per_capita=%{x}<br>total_cases=%{y}<br>population=%{marker.size}<extra></extra>",
         "hovertext": [
          "Norway"
         ],
         "legendgroup": "Norway",
         "marker": {
          "color": "#FF7F0E",
          "size": [
           5421242
          ],
          "sizemode": "area",
          "sizeref": 293739.5457142857,
          "symbol": "circle"
         },
         "mode": "markers",
         "name": "Norway",
         "orientation": "v",
         "showlegend": true,
         "type": "scatter",
         "x": [
          64800.05700000001
         ],
         "xaxis": "x",
         "y": [
          8414.783898305084
         ],
         "yaxis": "y"
        },
        {
         "hovertemplate": "<b>%{hovertext}</b><br><br>location=Oman<br>gdp_per_capita=%{x}<br>total_cases=%{y}<br>population=%{marker.size}<extra></extra>",
         "hovertext": [
          "Oman"
         ],
         "legendgroup": "Oman",
         "marker": {
          "color": "#2CA02C",
          "size": [
           5106622
          ],
          "sizemode": "area",
          "sizeref": 293739.5457142857,
          "symbol": "circle"
         },
         "mode": "markers",
         "name": "Oman",
         "orientation": "v",
         "showlegend": true,
         "type": "scatter",
         "x": [
          37960.709
         ],
         "xaxis": "x",
         "y": [
          43362.46982758621
         ],
         "yaxis": "y"
        },
        {
         "hovertemplate": "<b>%{hovertext}</b><br><br>location=Pakistan<br>gdp_per_capita=%{x}<br>total_cases=%{y}<br>population=%{marker.size}<extra></extra>",
         "hovertext": [
          "Pakistan"
         ],
         "legendgroup": "Pakistan",
         "marker": {
          "color": "#D62728",
          "size": [
           220892331
          ],
          "sizemode": "area",
          "sizeref": 293739.5457142857,
          "symbol": "circle"
         },
         "mode": "markers",
         "name": "Pakistan",
         "orientation": "v",
         "showlegend": true,
         "type": "scatter",
         "x": [
          5034.708
         ],
         "xaxis": "x",
         "y": [
          163368.2987012987
         ],
         "yaxis": "y"
        },
        {
         "hovertemplate": "<b>%{hovertext}</b><br><br>location=Palestine<br>gdp_per_capita=%{x}<br>total_cases=%{y}<br>population=%{marker.size}<extra></extra>",
         "hovertext": [
          "Palestine"
         ],
         "legendgroup": "Palestine",
         "marker": {
          "color": "#9467BD",
          "size": [
           5101416
          ],
          "sizemode": "area",
          "sizeref": 293739.5457142857,
          "symbol": "circle"
         },
         "mode": "markers",
         "name": "Palestine",
         "orientation": "v",
         "showlegend": true,
         "type": "scatter",
         "x": [
          4449.898
         ],
         "xaxis": "x",
         "y": [
          14442.035555555556
         ],
         "yaxis": "y"
        },
        {
         "hovertemplate": "<b>%{hovertext}</b><br><br>location=Panama<br>gdp_per_capita=%{x}<br>total_cases=%{y}<br>population=%{marker.size}<extra></extra>",
         "hovertext": [
          "Panama"
         ],
         "legendgroup": "Panama",
         "marker": {
          "color": "#8C564B",
          "size": [
           4314768
          ],
          "sizemode": "area",
          "sizeref": 293739.5457142857,
          "symbol": "circle"
         },
         "mode": "markers",
         "name": "Panama",
         "orientation": "v",
         "showlegend": true,
         "type": "scatter",
         "x": [
          22267.037
         ],
         "xaxis": "x",
         "y": [
          46302.33928571428
         ],
         "yaxis": "y"
        },
        {
         "hovertemplate": "<b>%{hovertext}</b><br><br>location=Papua New Guinea<br>gdp_per_capita=%{x}<br>total_cases=%{y}<br>population=%{marker.size}<extra></extra>",
         "hovertext": [
          "Papua New Guinea"
         ],
         "legendgroup": "Papua New Guinea",
         "marker": {
          "color": "#E377C2",
          "size": [
           8947027
          ],
          "sizemode": "area",
          "sizeref": 293739.5457142857,
          "symbol": "circle"
         },
         "mode": "markers",
         "name": "Papua New Guinea",
         "orientation": "v",
         "showlegend": true,
         "type": "scatter",
         "x": [
          3823.1940000000004
         ],
         "xaxis": "x",
         "y": [
          168.8544600938967
         ],
         "yaxis": "y"
        },
        {
         "hovertemplate": "<b>%{hovertext}</b><br><br>location=Paraguay<br>gdp_per_capita=%{x}<br>total_cases=%{y}<br>population=%{marker.size}<extra></extra>",
         "hovertext": [
          "Paraguay"
         ],
         "legendgroup": "Paraguay",
         "marker": {
          "color": "#7F7F7F",
          "size": [
           7132530
          ],
          "sizemode": "area",
          "sizeref": 293739.5457142857,
          "symbol": "circle"
         },
         "mode": "markers",
         "name": "Paraguay",
         "orientation": "v",
         "showlegend": true,
         "type": "scatter",
         "x": [
          8827.01
         ],
         "xaxis": "x",
         "y": [
          10205.585585585586
         ],
         "yaxis": "y"
        },
        {
         "hovertemplate": "<b>%{hovertext}</b><br><br>location=Peru<br>gdp_per_capita=%{x}<br>total_cases=%{y}<br>population=%{marker.size}<extra></extra>",
         "hovertext": [
          "Peru"
         ],
         "legendgroup": "Peru",
         "marker": {
          "color": "#BCBD22",
          "size": [
           32971846
          ],
          "sizemode": "area",
          "sizeref": 293739.5457142857,
          "symbol": "circle"
         },
         "mode": "markers",
         "name": "Peru",
         "orientation": "v",
         "showlegend": true,
         "type": "scatter",
         "x": [
          12236.706
         ],
         "xaxis": "x",
         "y": [
          331339.35840707965
         ],
         "yaxis": "y"
        },
        {
         "hovertemplate": "<b>%{hovertext}</b><br><br>location=Philippines<br>gdp_per_capita=%{x}<br>total_cases=%{y}<br>population=%{marker.size}<extra></extra>",
         "hovertext": [
          "Philippines"
         ],
         "legendgroup": "Philippines",
         "marker": {
          "color": "#17BECF",
          "size": [
           109581085
          ],
          "sizemode": "area",
          "sizeref": 293739.5457142857,
          "symbol": "circle"
         },
         "mode": "markers",
         "name": "Philippines",
         "orientation": "v",
         "showlegend": true,
         "type": "scatter",
         "x": [
          7599.187999999999
         ],
         "xaxis": "x",
         "y": [
          86192.06153846154
         ],
         "yaxis": "y"
        },
        {
         "hovertemplate": "<b>%{hovertext}</b><br><br>location=Poland<br>gdp_per_capita=%{x}<br>total_cases=%{y}<br>population=%{marker.size}<extra></extra>",
         "hovertext": [
          "Poland"
         ],
         "legendgroup": "Poland",
         "marker": {
          "color": "#1F77B4",
          "size": [
           37846605
          ],
          "sizemode": "area",
          "sizeref": 293739.5457142857,
          "symbol": "circle"
         },
         "mode": "markers",
         "name": "Poland",
         "orientation": "v",
         "showlegend": true,
         "type": "scatter",
         "x": [
          27216.445
         ],
         "xaxis": "x",
         "y": [
          40524.81140350877
         ],
         "yaxis": "y"
        },
        {
         "hovertemplate": "<b>%{hovertext}</b><br><br>location=Portugal<br>gdp_per_capita=%{x}<br>total_cases=%{y}<br>population=%{marker.size}<extra></extra>",
         "hovertext": [
          "Portugal"
         ],
         "legendgroup": "Portugal",
         "marker": {
          "color": "#FF7F0E",
          "size": [
           10196707
          ],
          "sizemode": "area",
          "sizeref": 293739.5457142857,
          "symbol": "circle"
         },
         "mode": "markers",
         "name": "Portugal",
         "orientation": "v",
         "showlegend": true,
         "type": "scatter",
         "x": [
          27936.896
         ],
         "xaxis": "x",
         "y": [
          40113.69264069264
         ],
         "yaxis": "y"
        },
        {
         "hovertemplate": "<b>%{hovertext}</b><br><br>location=Puerto Rico<br>gdp_per_capita=%{x}<br>total_cases=%{y}<br>population=%{marker.size}<extra></extra>",
         "hovertext": [
          "Puerto Rico"
         ],
         "legendgroup": "Puerto Rico",
         "marker": {
          "color": "#2CA02C",
          "size": [
           2860840
          ],
          "sizemode": "area",
          "sizeref": 293739.5457142857,
          "symbol": "circle"
         },
         "mode": "markers",
         "name": "Puerto Rico",
         "orientation": "v",
         "showlegend": true,
         "type": "scatter",
         "x": [
          35044.67
         ],
         "xaxis": "x",
         "y": [
          17410.014563106797
         ],
         "yaxis": "y"
        },
        {
         "hovertemplate": "<b>%{hovertext}</b><br><br>location=Romania<br>gdp_per_capita=%{x}<br>total_cases=%{y}<br>population=%{marker.size}<extra></extra>",
         "hovertext": [
          "Romania"
         ],
         "legendgroup": "Romania",
         "marker": {
          "color": "#D62728",
          "size": [
           19237682
          ],
          "sizemode": "area",
          "sizeref": 293739.5457142857,
          "symbol": "circle"
         },
         "mode": "markers",
         "name": "Romania",
         "orientation": "v",
         "showlegend": true,
         "type": "scatter",
         "x": [
          23313.199
         ],
         "xaxis": "x",
         "y": [
          45610.50854700855
         ],
         "yaxis": "y"
        },
        {
         "hovertemplate": "<b>%{hovertext}</b><br><br>location=Russia<br>gdp_per_capita=%{x}<br>total_cases=%{y}<br>population=%{marker.size}<extra></extra>",
         "hovertext": [
          "Russia"
         ],
         "legendgroup": "Russia",
         "marker": {
          "color": "#9467BD",
          "size": [
           145934460
          ],
          "sizemode": "area",
          "sizeref": 293739.5457142857,
          "symbol": "circle"
         },
         "mode": "markers",
         "name": "Russia",
         "orientation": "v",
         "showlegend": true,
         "type": "scatter",
         "x": [
          24765.954
         ],
         "xaxis": "x",
         "y": [
          507209.7366412214
         ],
         "yaxis": "y"
        },
        {
         "hovertemplate": "<b>%{hovertext}</b><br><br>location=Rwanda<br>gdp_per_capita=%{x}<br>total_cases=%{y}<br>population=%{marker.size}<extra></extra>",
         "hovertext": [
          "Rwanda"
         ],
         "legendgroup": "Rwanda",
         "marker": {
          "color": "#8C564B",
          "size": [
           12952209
          ],
          "sizemode": "area",
          "sizeref": 293739.5457142857,
          "symbol": "circle"
         },
         "mode": "markers",
         "name": "Rwanda",
         "orientation": "v",
         "showlegend": true,
         "type": "scatter",
         "x": [
          1854.2110000000002
         ],
         "xaxis": "x",
         "y": [
          1775.2283105022832
         ],
         "yaxis": "y"
        },
        {
         "hovertemplate": "<b>%{hovertext}</b><br><br>location=Saint Kitts and Nevis<br>gdp_per_capita=%{x}<br>total_cases=%{y}<br>population=%{marker.size}<extra></extra>",
         "hovertext": [
          "Saint Kitts and Nevis"
         ],
         "legendgroup": "Saint Kitts and Nevis",
         "marker": {
          "color": "#E377C2",
          "size": [
           53192
          ],
          "sizemode": "area",
          "sizeref": 293739.5457142857,
          "symbol": "circle"
         },
         "mode": "markers",
         "name": "Saint Kitts and Nevis",
         "orientation": "v",
         "showlegend": true,
         "type": "scatter",
         "x": [
          24654.385000000002
         ],
         "xaxis": "x",
         "y": [
          15.60576923076923
         ],
         "yaxis": "y"
        },
        {
         "hovertemplate": "<b>%{hovertext}</b><br><br>location=Saint Lucia<br>gdp_per_capita=%{x}<br>total_cases=%{y}<br>population=%{marker.size}<extra></extra>",
         "hovertext": [
          "Saint Lucia"
         ],
         "legendgroup": "Saint Lucia",
         "marker": {
          "color": "#7F7F7F",
          "size": [
           183629
          ],
          "sizemode": "area",
          "sizeref": 293739.5457142857,
          "symbol": "circle"
         },
         "mode": "markers",
         "name": "Saint Lucia",
         "orientation": "v",
         "showlegend": true,
         "type": "scatter",
         "x": [
          12951.839
         ],
         "xaxis": "x",
         "y": [
          20.319634703196346
         ],
         "yaxis": "y"
        },
        {
         "hovertemplate": "<b>%{hovertext}</b><br><br>location=Saint Vincent and the Grenadines<br>gdp_per_capita=%{x}<br>total_cases=%{y}<br>population=%{marker.size}<extra></extra>",
         "hovertext": [
          "Saint Vincent and the Grenadines"
         ],
         "legendgroup": "Saint Vincent and the Grenadines",
         "marker": {
          "color": "#BCBD22",
          "size": [
           110947
          ],
          "sizemode": "area",
          "sizeref": 293739.5457142857,
          "symbol": "circle"
         },
         "mode": "markers",
         "name": "Saint Vincent and the Grenadines",
         "orientation": "v",
         "showlegend": true,
         "type": "scatter",
         "x": [
          10727.146
         ],
         "xaxis": "x",
         "y": [
          37.25714285714286
         ],
         "yaxis": "y"
        },
        {
         "hovertemplate": "<b>%{hovertext}</b><br><br>location=San Marino<br>gdp_per_capita=%{x}<br>total_cases=%{y}<br>population=%{marker.size}<extra></extra>",
         "hovertext": [
          "San Marino"
         ],
         "legendgroup": "San Marino",
         "marker": {
          "color": "#17BECF",
          "size": [
           33938
          ],
          "sizemode": "area",
          "sizeref": 293739.5457142857,
          "symbol": "circle"
         },
         "mode": "markers",
         "name": "San Marino",
         "orientation": "v",
         "showlegend": true,
         "type": "scatter",
         "x": [
          56861.47
         ],
         "xaxis": "x",
         "y": [
          576.8974358974359
         ],
         "yaxis": "y"
        },
        {
         "hovertemplate": "<b>%{hovertext}</b><br><br>location=Sao Tome and Principe<br>gdp_per_capita=%{x}<br>total_cases=%{y}<br>population=%{marker.size}<extra></extra>",
         "hovertext": [
          "Sao Tome and Principe"
         ],
         "legendgroup": "Sao Tome and Principe",
         "marker": {
          "color": "#1F77B4",
          "size": [
           219161
          ],
          "sizemode": "area",
          "sizeref": 293739.5457142857,
          "symbol": "circle"
         },
         "mode": "markers",
         "name": "Sao Tome and Principe",
         "orientation": "v",
         "showlegend": true,
         "type": "scatter",
         "x": [
          3052.714
         ],
         "xaxis": "x",
         "y": [
          628.3969072164948
         ],
         "yaxis": "y"
        },
        {
         "hovertemplate": "<b>%{hovertext}</b><br><br>location=Saudi Arabia<br>gdp_per_capita=%{x}<br>total_cases=%{y}<br>population=%{marker.size}<extra></extra>",
         "hovertext": [
          "Saudi Arabia"
         ],
         "legendgroup": "Saudi Arabia",
         "marker": {
          "color": "#FF7F0E",
          "size": [
           34813867
          ],
          "sizemode": "area",
          "sizeref": 293739.5457142857,
          "symbol": "circle"
         },
         "mode": "markers",
         "name": "Saudi Arabia",
         "orientation": "v",
         "showlegend": true,
         "type": "scatter",
         "x": [
          49045.411
         ],
         "xaxis": "x",
         "y": [
          169233.29385964913
         ],
         "yaxis": "y"
        },
        {
         "hovertemplate": "<b>%{hovertext}</b><br><br>location=Senegal<br>gdp_per_capita=%{x}<br>total_cases=%{y}<br>population=%{marker.size}<extra></extra>",
         "hovertext": [
          "Senegal"
         ],
         "legendgroup": "Senegal",
         "marker": {
          "color": "#2CA02C",
          "size": [
           16743930
          ],
          "sizemode": "area",
          "sizeref": 293739.5457142857,
          "symbol": "circle"
         },
         "mode": "markers",
         "name": "Senegal",
         "orientation": "v",
         "showlegend": true,
         "type": "scatter",
         "x": [
          2470.58
         ],
         "xaxis": "x",
         "y": [
          7083.691964285715
         ],
         "yaxis": "y"
        },
        {
         "hovertemplate": "<b>%{hovertext}</b><br><br>location=Serbia<br>gdp_per_capita=%{x}<br>total_cases=%{y}<br>population=%{marker.size}<extra></extra>",
         "hovertext": [
          "Serbia"
         ],
         "legendgroup": "Serbia",
         "marker": {
          "color": "#D62728",
          "size": [
           6804596
          ],
          "sizemode": "area",
          "sizeref": 293739.5457142857,
          "symbol": "circle"
         },
         "mode": "markers",
         "name": "Serbia",
         "orientation": "v",
         "showlegend": true,
         "type": "scatter",
         "x": [
          14048.881
         ],
         "xaxis": "x",
         "y": [
          17786.491071428572
         ],
         "yaxis": "y"
        },
        {
         "hovertemplate": "<b>%{hovertext}</b><br><br>location=Seychelles<br>gdp_per_capita=%{x}<br>total_cases=%{y}<br>population=%{marker.size}<extra></extra>",
         "hovertext": [
          "Seychelles"
         ],
         "legendgroup": "Seychelles",
         "marker": {
          "color": "#9467BD",
          "size": [
           98340
          ],
          "sizemode": "area",
          "sizeref": 293739.5457142857,
          "symbol": "circle"
         },
         "mode": "markers",
         "name": "Seychelles",
         "orientation": "v",
         "showlegend": true,
         "type": "scatter",
         "x": [
          26382.287
         ],
         "xaxis": "x",
         "y": [
          67.12785388127854
         ],
         "yaxis": "y"
        },
        {
         "hovertemplate": "<b>%{hovertext}</b><br><br>location=Sierra Leone<br>gdp_per_capita=%{x}<br>total_cases=%{y}<br>population=%{marker.size}<extra></extra>",
         "hovertext": [
          "Sierra Leone"
         ],
         "legendgroup": "Sierra Leone",
         "marker": {
          "color": "#8C564B",
          "size": [
           7976985
          ],
          "sizemode": "area",
          "sizeref": 293739.5457142857,
          "symbol": "circle"
         },
         "mode": "markers",
         "name": "Sierra Leone",
         "orientation": "v",
         "showlegend": true,
         "type": "scatter",
         "x": [
          1390.3
         ],
         "xaxis": "x",
         "y": [
          1328.6930693069307
         ],
         "yaxis": "y"
        },
        {
         "hovertemplate": "<b>%{hovertext}</b><br><br>location=Sint Maarten (Dutch part)<br>gdp_per_capita=%{x}<br>total_cases=%{y}<br>population=%{marker.size}<extra></extra>",
         "hovertext": [
          "Sint Maarten (Dutch part)"
         ],
         "legendgroup": "Sint Maarten (Dutch part)",
         "marker": {
          "color": "#E377C2",
          "size": [
           42882
          ],
          "sizemode": "area",
          "sizeref": 293739.5457142857,
          "symbol": "circle"
         },
         "mode": "markers",
         "name": "Sint Maarten (Dutch part)",
         "orientation": "v",
         "showlegend": true,
         "type": "scatter",
         "x": [
          36327.232
         ],
         "xaxis": "x",
         "y": [
          230.89423076923077
         ],
         "yaxis": "y"
        },
        {
         "hovertemplate": "<b>%{hovertext}</b><br><br>location=Slovakia<br>gdp_per_capita=%{x}<br>total_cases=%{y}<br>population=%{marker.size}<extra></extra>",
         "hovertext": [
          "Slovakia"
         ],
         "legendgroup": "Slovakia",
         "marker": {
          "color": "#7F7F7F",
          "size": [
           5459643
          ],
          "sizemode": "area",
          "sizeref": 293739.5457142857,
          "symbol": "circle"
         },
         "mode": "markers",
         "name": "Slovakia",
         "orientation": "v",
         "showlegend": true,
         "type": "scatter",
         "x": [
          30155.152
         ],
         "xaxis": "x",
         "y": [
          3533.9159292035397
         ],
         "yaxis": "y"
        },
        {
         "hovertemplate": "<b>%{hovertext}</b><br><br>location=Slovenia<br>gdp_per_capita=%{x}<br>total_cases=%{y}<br>population=%{marker.size}<extra></extra>",
         "hovertext": [
          "Slovenia"
         ],
         "legendgroup": "Slovenia",
         "marker": {
          "color": "#BCBD22",
          "size": [
           2078932
          ],
          "sizemode": "area",
          "sizeref": 293739.5457142857,
          "symbol": "circle"
         },
         "mode": "markers",
         "name": "Slovenia",
         "orientation": "v",
         "showlegend": true,
         "type": "scatter",
         "x": [
          31400.840000000004
         ],
         "xaxis": "x",
         "y": [
          2399.4517543859647
         ],
         "yaxis": "y"
        },
        {
         "hovertemplate": "<b>%{hovertext}</b><br><br>location=Solomon Islands<br>gdp_per_capita=%{x}<br>total_cases=%{y}<br>population=%{marker.size}<extra></extra>",
         "hovertext": [
          "Solomon Islands"
         ],
         "legendgroup": "Solomon Islands",
         "marker": {
          "color": "#17BECF",
          "size": [
           686878
          ],
          "sizemode": "area",
          "sizeref": 293739.5457142857,
          "symbol": "circle"
         },
         "mode": "markers",
         "name": "Solomon Islands",
         "orientation": "v",
         "showlegend": true,
         "type": "scatter",
         "x": [
          2205.923
         ],
         "xaxis": "x",
         "y": [
          2.75
         ],
         "yaxis": "y"
        },
        {
         "hovertemplate": "<b>%{hovertext}</b><br><br>location=Somalia<br>gdp_per_capita=%{x}<br>total_cases=%{y}<br>population=%{marker.size}<extra></extra>",
         "hovertext": [
          "Somalia"
         ],
         "legendgroup": "Somalia",
         "marker": {
          "color": "#1F77B4",
          "size": [
           15893219
          ],
          "sizemode": "area",
          "sizeref": 293739.5457142857,
          "symbol": "circle"
         },
         "mode": "markers",
         "name": "Somalia",
         "orientation": "v",
         "showlegend": true,
         "type": "scatter",
         "x": [
          null
         ],
         "xaxis": "x",
         "y": [
          2263.3410138248846
         ],
         "yaxis": "y"
        },
        {
         "hovertemplate": "<b>%{hovertext}</b><br><br>location=South Africa<br>gdp_per_capita=%{x}<br>total_cases=%{y}<br>population=%{marker.size}<extra></extra>",
         "hovertext": [
          "South Africa"
         ],
         "legendgroup": "South Africa",
         "marker": {
          "color": "#FF7F0E",
          "size": [
           59308690
          ],
          "sizemode": "area",
          "sizeref": 293739.5457142857,
          "symbol": "circle"
         },
         "mode": "markers",
         "name": "South Africa",
         "orientation": "v",
         "showlegend": true,
         "type": "scatter",
         "x": [
          12294.876
         ],
         "xaxis": "x",
         "y": [
          278883.4469026549
         ],
         "yaxis": "y"
        },
        {
         "hovertemplate": "<b>%{hovertext}</b><br><br>location=South Korea<br>gdp_per_capita=%{x}<br>total_cases=%{y}<br>population=%{marker.size}<extra></extra>",
         "hovertext": [
          "South Korea"
         ],
         "legendgroup": "South Korea",
         "marker": {
          "color": "#2CA02C",
          "size": [
           51269183
          ],
          "sizemode": "area",
          "sizeref": 293739.5457142857,
          "symbol": "circle"
         },
         "mode": "markers",
         "name": "South Korea",
         "orientation": "v",
         "showlegend": true,
         "type": "scatter",
         "x": [
          35938.374
         ],
         "xaxis": "x",
         "y": [
          12164.507299270073
         ],
         "yaxis": "y"
        },
        {
         "hovertemplate": "<b>%{hovertext}</b><br><br>location=South Sudan<br>gdp_per_capita=%{x}<br>total_cases=%{y}<br>population=%{marker.size}<extra></extra>",
         "hovertext": [
          "South Sudan"
         ],
         "legendgroup": "South Sudan",
         "marker": {
          "color": "#D62728",
          "size": [
           11193729
          ],
          "sizemode": "area",
          "sizeref": 293739.5457142857,
          "symbol": "circle"
         },
         "mode": "markers",
         "name": "South Sudan",
         "orientation": "v",
         "showlegend": true,
         "type": "scatter",
         "x": [
          1569.888
         ],
         "xaxis": "x",
         "y": [
          1692.8934010152284
         ],
         "yaxis": "y"
        },
        {
         "hovertemplate": "<b>%{hovertext}</b><br><br>location=Spain<br>gdp_per_capita=%{x}<br>total_cases=%{y}<br>population=%{marker.size}<extra></extra>",
         "hovertext": [
          "Spain"
         ],
         "legendgroup": "Spain",
         "marker": {
          "color": "#9467BD",
          "size": [
           46754783
          ],
          "sizemode": "area",
          "sizeref": 293739.5457142857,
          "symbol": "circle"
         },
         "mode": "markers",
         "name": "Spain",
         "orientation": "v",
         "showlegend": true,
         "type": "scatter",
         "x": [
          34272.36
         ],
         "xaxis": "x",
         "y": [
          282443.2030651341
         ],
         "yaxis": "y"
        },
        {
         "hovertemplate": "<b>%{hovertext}</b><br><br>location=Sri Lanka<br>gdp_per_capita=%{x}<br>total_cases=%{y}<br>population=%{marker.size}<extra></extra>",
         "hovertext": [
          "Sri Lanka"
         ],
         "legendgroup": "Sri Lanka",
         "marker": {
          "color": "#8C564B",
          "size": [
           21413250
          ],
          "sizemode": "area",
          "sizeref": 293739.5457142857,
          "symbol": "circle"
         },
         "mode": "markers",
         "name": "Sri Lanka",
         "orientation": "v",
         "showlegend": true,
         "type": "scatter",
         "x": [
          11669.077
         ],
         "xaxis": "x",
         "y": [
          1737.9105058365758
         ],
         "yaxis": "y"
        },
        {
         "hovertemplate": "<b>%{hovertext}</b><br><br>location=Sudan<br>gdp_per_capita=%{x}<br>total_cases=%{y}<br>population=%{marker.size}<extra></extra>",
         "hovertext": [
          "Sudan"
         ],
         "legendgroup": "Sudan",
         "marker": {
          "color": "#E377C2",
          "size": [
           43849269
          ],
          "sizemode": "area",
          "sizeref": 293739.5457142857,
          "symbol": "circle"
         },
         "mode": "markers",
         "name": "Sudan",
         "orientation": "v",
         "showlegend": true,
         "type": "scatter",
         "x": [
          4466.507
         ],
         "xaxis": "x",
         "y": [
          7561.568181818182
         ],
         "yaxis": "y"
        },
        {
         "hovertemplate": "<b>%{hovertext}</b><br><br>location=Suriname<br>gdp_per_capita=%{x}<br>total_cases=%{y}<br>population=%{marker.size}<extra></extra>",
         "hovertext": [
          "Suriname"
         ],
         "legendgroup": "Suriname",
         "marker": {
          "color": "#7F7F7F",
          "size": [
           586634
          ],
          "sizemode": "area",
          "sizeref": 293739.5457142857,
          "symbol": "circle"
         },
         "mode": "markers",
         "name": "Suriname",
         "orientation": "v",
         "showlegend": true,
         "type": "scatter",
         "x": [
          13767.119
         ],
         "xaxis": "x",
         "y": [
          1675.8504672897195
         ],
         "yaxis": "y"
        },
        {
         "hovertemplate": "<b>%{hovertext}</b><br><br>location=Swaziland<br>gdp_per_capita=%{x}<br>total_cases=%{y}<br>population=%{marker.size}<extra></extra>",
         "hovertext": [
          "Swaziland"
         ],
         "legendgroup": "Swaziland",
         "marker": {
          "color": "#BCBD22",
          "size": [
           1160164
          ],
          "sizemode": "area",
          "sizeref": 293739.5457142857,
          "symbol": "circle"
         },
         "mode": "markers",
         "name": "Swaziland",
         "orientation": "v",
         "showlegend": true,
         "type": "scatter",
         "x": [
          7738.975
         ],
         "xaxis": "x",
         "y": [
          2028.4840182648402
         ],
         "yaxis": "y"
        },
        {
         "hovertemplate": "<b>%{hovertext}</b><br><br>location=Sweden<br>gdp_per_capita=%{x}<br>total_cases=%{y}<br>population=%{marker.size}<extra></extra>",
         "hovertext": [
          "Sweden"
         ],
         "legendgroup": "Sweden",
         "marker": {
          "color": "#17BECF",
          "size": [
           10099270
          ],
          "sizemode": "area",
          "sizeref": 293739.5457142857,
          "symbol": "circle"
         },
         "mode": "markers",
         "name": "Sweden",
         "orientation": "v",
         "showlegend": true,
         "type": "scatter",
         "x": [
          46949.283
         ],
         "xaxis": "x",
         "y": [
          45984.976833976834
         ],
         "yaxis": "y"
        },
        {
         "hovertemplate": "<b>%{hovertext}</b><br><br>location=Switzerland<br>gdp_per_capita=%{x}<br>total_cases=%{y}<br>population=%{marker.size}<extra></extra>",
         "hovertext": [
          "Switzerland"
         ],
         "legendgroup": "Switzerland",
         "marker": {
          "color": "#1F77B4",
          "size": [
           8654618
          ],
          "sizemode": "area",
          "sizeref": 293739.5457142857,
          "symbol": "circle"
         },
         "mode": "markers",
         "name": "Switzerland",
         "orientation": "v",
         "showlegend": true,
         "type": "scatter",
         "x": [
          57410.16599999999
         ],
         "xaxis": "x",
         "y": [
          31865.261603375526
         ],
         "yaxis": "y"
        },
        {
         "hovertemplate": "<b>%{hovertext}</b><br><br>location=Syria<br>gdp_per_capita=%{x}<br>total_cases=%{y}<br>population=%{marker.size}<extra></extra>",
         "hovertext": [
          "Syria"
         ],
         "legendgroup": "Syria",
         "marker": {
          "color": "#FF7F0E",
          "size": [
           17500657
          ],
          "sizemode": "area",
          "sizeref": 293739.5457142857,
          "symbol": "circle"
         },
         "mode": "markers",
         "name": "Syria",
         "orientation": "v",
         "showlegend": true,
         "type": "scatter",
         "x": [
          null
         ],
         "xaxis": "x",
         "y": [
          1269.6777251184835
         ],
         "yaxis": "y"
        },
        {
         "hovertemplate": "<b>%{hovertext}</b><br><br>location=Taiwan<br>gdp_per_capita=%{x}<br>total_cases=%{y}<br>population=%{marker.size}<extra></extra>",
         "hovertext": [
          "Taiwan"
         ],
         "legendgroup": "Taiwan",
         "marker": {
          "color": "#2CA02C",
          "size": [
           23816775
          ],
          "sizemode": "area",
          "sizeref": 293739.5457142857,
          "symbol": "circle"
         },
         "mode": "markers",
         "name": "Taiwan",
         "orientation": "v",
         "showlegend": true,
         "type": "scatter",
         "x": [
          null
         ],
         "xaxis": "x",
         "y": [
          355.5824175824176
         ],
         "yaxis": "y"
        },
        {
         "hovertemplate": "<b>%{hovertext}</b><br><br>location=Tajikistan<br>gdp_per_capita=%{x}<br>total_cases=%{y}<br>population=%{marker.size}<extra></extra>",
         "hovertext": [
          "Tajikistan"
         ],
         "legendgroup": "Tajikistan",
         "marker": {
          "color": "#D62728",
          "size": [
           9537642
          ],
          "sizemode": "area",
          "sizeref": 293739.5457142857,
          "symbol": "circle"
         },
         "mode": "markers",
         "name": "Tajikistan",
         "orientation": "v",
         "showlegend": true,
         "type": "scatter",
         "x": [
          2896.913
         ],
         "xaxis": "x",
         "y": [
          6496.459302325581
         ],
         "yaxis": "y"
        },
        {
         "hovertemplate": "<b>%{hovertext}</b><br><br>location=Tanzania<br>gdp_per_capita=%{x}<br>total_cases=%{y}<br>population=%{marker.size}<extra></extra>",
         "hovertext": [
          "Tanzania"
         ],
         "legendgroup": "Tanzania",
         "marker": {
          "color": "#9467BD",
          "size": [
           59734213
          ],
          "sizemode": "area",
          "sizeref": 293739.5457142857,
          "symbol": "circle"
         },
         "mode": "markers",
         "name": "Tanzania",
         "orientation": "v",
         "showlegend": true,
         "type": "scatter",
         "x": [
          2683.304
         ],
         "xaxis": "x",
         "y": [
          421.778801843318
         ],
         "yaxis": "y"
        },
        {
         "hovertemplate": "<b>%{hovertext}</b><br><br>location=Thailand<br>gdp_per_capita=%{x}<br>total_cases=%{y}<br>population=%{marker.size}<extra></extra>",
         "hovertext": [
          "Thailand"
         ],
         "legendgroup": "Thailand",
         "marker": {
          "color": "#8C564B",
          "size": [
           69799978
          ],
          "sizemode": "area",
          "sizeref": 293739.5457142857,
          "symbol": "circle"
         },
         "mode": "markers",
         "name": "Thailand",
         "orientation": "v",
         "showlegend": true,
         "type": "scatter",
         "x": [
          16277.671
         ],
         "xaxis": "x",
         "y": [
          2393.0766423357663
         ],
         "yaxis": "y"
        },
        {
         "hovertemplate": "<b>%{hovertext}</b><br><br>location=Timor<br>gdp_per_capita=%{x}<br>total_cases=%{y}<br>population=%{marker.size}<extra></extra>",
         "hovertext": [
          "Timor"
         ],
         "legendgroup": "Timor",
         "marker": {
          "color": "#E377C2",
          "size": [
           1318442
          ],
          "sizemode": "area",
          "sizeref": 293739.5457142857,
          "symbol": "circle"
         },
         "mode": "markers",
         "name": "Timor",
         "orientation": "v",
         "showlegend": true,
         "type": "scatter",
         "x": [
          6570.102000000001
         ],
         "xaxis": "x",
         "y": [
          22.15566037735849
         ],
         "yaxis": "y"
        },
        {
         "hovertemplate": "<b>%{hovertext}</b><br><br>location=Togo<br>gdp_per_capita=%{x}<br>total_cases=%{y}<br>population=%{marker.size}<extra></extra>",
         "hovertext": [
          "Togo"
         ],
         "legendgroup": "Togo",
         "marker": {
          "color": "#7F7F7F",
          "size": [
           8278737
          ],
          "sizemode": "area",
          "sizeref": 293739.5457142857,
          "symbol": "circle"
         },
         "mode": "markers",
         "name": "Togo",
         "orientation": "v",
         "showlegend": true,
         "type": "scatter",
         "x": [
          1429.813
         ],
         "xaxis": "x",
         "y": [
          772.2863636363636
         ],
         "yaxis": "y"
        },
        {
         "hovertemplate": "<b>%{hovertext}</b><br><br>location=Trinidad and Tobago<br>gdp_per_capita=%{x}<br>total_cases=%{y}<br>population=%{marker.size}<extra></extra>",
         "hovertext": [
          "Trinidad and Tobago"
         ],
         "legendgroup": "Trinidad and Tobago",
         "marker": {
          "color": "#BCBD22",
          "size": [
           1399491
          ],
          "sizemode": "area",
          "sizeref": 293739.5457142857,
          "symbol": "circle"
         },
         "mode": "markers",
         "name": "Trinidad and Tobago",
         "orientation": "v",
         "showlegend": true,
         "type": "scatter",
         "x": [
          28763.071
         ],
         "xaxis": "x",
         "y": [
          1020.5882352941177
         ],
         "yaxis": "y"
        },
        {
         "hovertemplate": "<b>%{hovertext}</b><br><br>location=Tunisia<br>gdp_per_capita=%{x}<br>total_cases=%{y}<br>population=%{marker.size}<extra></extra>",
         "hovertext": [
          "Tunisia"
         ],
         "legendgroup": "Tunisia",
         "marker": {
          "color": "#17BECF",
          "size": [
           11818618
          ],
          "sizemode": "area",
          "sizeref": 293739.5457142857,
          "symbol": "circle"
         },
         "mode": "markers",
         "name": "Tunisia",
         "orientation": "v",
         "showlegend": true,
         "type": "scatter",
         "x": [
          10849.297
         ],
         "xaxis": "x",
         "y": [
          4447.2266666666665
         ],
         "yaxis": "y"
        },
        {
         "hovertemplate": "<b>%{hovertext}</b><br><br>location=Turkey<br>gdp_per_capita=%{x}<br>total_cases=%{y}<br>population=%{marker.size}<extra></extra>",
         "hovertext": [
          "Turkey"
         ],
         "legendgroup": "Turkey",
         "marker": {
          "color": "#1F77B4",
          "size": [
           84339067
          ],
          "sizemode": "area",
          "sizeref": 293739.5457142857,
          "symbol": "circle"
         },
         "mode": "markers",
         "name": "Turkey",
         "orientation": "v",
         "showlegend": true,
         "type": "scatter",
         "x": [
          25129.341000000004
         ],
         "xaxis": "x",
         "y": [
          188327.03636363638
         ],
         "yaxis": "y"
        },
        {
         "hovertemplate": "<b>%{hovertext}</b><br><br>location=Turks and Caicos Islands<br>gdp_per_capita=%{x}<br>total_cases=%{y}<br>population=%{marker.size}<extra></extra>",
         "hovertext": [
          "Turks and Caicos Islands"
         ],
         "legendgroup": "Turks and Caicos Islands",
         "marker": {
          "color": "#FF7F0E",
          "size": [
           38718
          ],
          "sizemode": "area",
          "sizeref": 293739.5457142857,
          "symbol": "circle"
         },
         "mode": "markers",
         "name": "Turks and Caicos Islands",
         "orientation": "v",
         "showlegend": true,
         "type": "scatter",
         "x": [
          null
         ],
         "xaxis": "x",
         "y": [
          212.5933014354067
         ],
         "yaxis": "y"
        },
        {
         "hovertemplate": "<b>%{hovertext}</b><br><br>location=Uganda<br>gdp_per_capita=%{x}<br>total_cases=%{y}<br>population=%{marker.size}<extra></extra>",
         "hovertext": [
          "Uganda"
         ],
         "legendgroup": "Uganda",
         "marker": {
          "color": "#2CA02C",
          "size": [
           45741000
          ],
          "sizemode": "area",
          "sizeref": 293739.5457142857,
          "symbol": "circle"
         },
         "mode": "markers",
         "name": "Uganda",
         "orientation": "v",
         "showlegend": true,
         "type": "scatter",
         "x": [
          1697.707
         ],
         "xaxis": "x",
         "y": [
          2116.6415094339623
         ],
         "yaxis": "y"
        },
        {
         "hovertemplate": "<b>%{hovertext}</b><br><br>location=Ukraine<br>gdp_per_capita=%{x}<br>total_cases=%{y}<br>population=%{marker.size}<extra></extra>",
         "hovertext": [
          "Ukraine"
         ],
         "legendgroup": "Ukraine",
         "marker": {
          "color": "#D62728",
          "size": [
           43733759
          ],
          "sizemode": "area",
          "sizeref": 293739.5457142857,
          "symbol": "circle"
         },
         "mode": "markers",
         "name": "Ukraine",
         "orientation": "v",
         "showlegend": true,
         "type": "scatter",
         "x": [
          7894.393
         ],
         "xaxis": "x",
         "y": [
          71843.93181818182
         ],
         "yaxis": "y"
        },
        {
         "hovertemplate": "<b>%{hovertext}</b><br><br>location=United Arab Emirates<br>gdp_per_capita=%{x}<br>total_cases=%{y}<br>population=%{marker.size}<extra></extra>",
         "hovertext": [
          "United Arab Emirates"
         ],
         "legendgroup": "United Arab Emirates",
         "marker": {
          "color": "#9467BD",
          "size": [
           9890400
          ],
          "sizemode": "area",
          "sizeref": 293739.5457142857,
          "symbol": "circle"
         },
         "mode": "markers",
         "name": "United Arab Emirates",
         "orientation": "v",
         "showlegend": true,
         "type": "scatter",
         "x": [
          67293.483
         ],
         "xaxis": "x",
         "y": [
          39261.78544061303
         ],
         "yaxis": "y"
        },
        {
         "hovertemplate": "<b>%{hovertext}</b><br><br>location=United Kingdom<br>gdp_per_capita=%{x}<br>total_cases=%{y}<br>population=%{marker.size}<extra></extra>",
         "hovertext": [
          "United Kingdom"
         ],
         "legendgroup": "United Kingdom",
         "marker": {
          "color": "#8C564B",
          "size": [
           67886004
          ],
          "sizemode": "area",
          "sizeref": 293739.5457142857,
          "symbol": "circle"
         },
         "mode": "markers",
         "name": "United Kingdom",
         "orientation": "v",
         "showlegend": true,
         "type": "scatter",
         "x": [
          39753.244
         ],
         "xaxis": "x",
         "y": [
          227003.93893129771
         ],
         "yaxis": "y"
        },
        {
         "hovertemplate": "<b>%{hovertext}</b><br><br>location=United States<br>gdp_per_capita=%{x}<br>total_cases=%{y}<br>population=%{marker.size}<extra></extra>",
         "hovertext": [
          "United States"
         ],
         "legendgroup": "United States",
         "marker": {
          "color": "#E377C2",
          "size": [
           331002647
          ],
          "sizemode": "area",
          "sizeref": 293739.5457142857,
          "symbol": "circle"
         },
         "mode": "markers",
         "name": "United States",
         "orientation": "v",
         "showlegend": true,
         "type": "scatter",
         "x": [
          54225.446
         ],
         "xaxis": "x",
         "y": [
          2732652.3736263737
         ],
         "yaxis": "y"
        },
        {
         "hovertemplate": "<b>%{hovertext}</b><br><br>location=United States Virgin Islands<br>gdp_per_capita=%{x}<br>total_cases=%{y}<br>population=%{marker.size}<extra></extra>",
         "hovertext": [
          "United States Virgin Islands"
         ],
         "legendgroup": "United States Virgin Islands",
         "marker": {
          "color": "#7F7F7F",
          "size": [
           104423
          ],
          "sizemode": "area",
          "sizeref": 293739.5457142857,
          "symbol": "circle"
         },
         "mode": "markers",
         "name": "United States Virgin Islands",
         "orientation": "v",
         "showlegend": true,
         "type": "scatter",
         "x": [
          null
         ],
         "xaxis": "x",
         "y": [
          471.46411483253587
         ],
         "yaxis": "y"
        },
        {
         "hovertemplate": "<b>%{hovertext}</b><br><br>location=Uruguay<br>gdp_per_capita=%{x}<br>total_cases=%{y}<br>population=%{marker.size}<extra></extra>",
         "hovertext": [
          "Uruguay"
         ],
         "legendgroup": "Uruguay",
         "marker": {
          "color": "#BCBD22",
          "size": [
           3473727
          ],
          "sizemode": "area",
          "sizeref": 293739.5457142857,
          "symbol": "circle"
         },
         "mode": "markers",
         "name": "Uruguay",
         "orientation": "v",
         "showlegend": true,
         "type": "scatter",
         "x": [
          20551.409
         ],
         "xaxis": "x",
         "y": [
          1095.3607305936073
         ],
         "yaxis": "y"
        },
        {
         "hovertemplate": "<b>%{hovertext}</b><br><br>location=Uzbekistan<br>gdp_per_capita=%{x}<br>total_cases=%{y}<br>population=%{marker.size}<extra></extra>",
         "hovertext": [
          "Uzbekistan"
         ],
         "legendgroup": "Uzbekistan",
         "marker": {
          "color": "#17BECF",
          "size": [
           33469199
          ],
          "sizemode": "area",
          "sizeref": 293739.5457142857,
          "symbol": "circle"
         },
         "mode": "markers",
         "name": "Uzbekistan",
         "orientation": "v",
         "showlegend": true,
         "type": "scatter",
         "x": [
          6253.104
         ],
         "xaxis": "x",
         "y": [
          20280.802752293577
         ],
         "yaxis": "y"
        },
        {
         "hovertemplate": "<b>%{hovertext}</b><br><br>location=Vatican<br>gdp_per_capita=%{x}<br>total_cases=%{y}<br>population=%{marker.size}<extra></extra>",
         "hovertext": [
          "Vatican"
         ],
         "legendgroup": "Vatican",
         "marker": {
          "color": "#1F77B4",
          "size": [
           809
          ],
          "sizemode": "area",
          "sizeref": 293739.5457142857,
          "symbol": "circle"
         },
         "mode": "markers",
         "name": "Vatican",
         "orientation": "v",
         "showlegend": true,
         "type": "scatter",
         "x": [
          null
         ],
         "xaxis": "x",
         "y": [
          11.027397260273972
         ],
         "yaxis": "y"
        },
        {
         "hovertemplate": "<b>%{hovertext}</b><br><br>location=Venezuela<br>gdp_per_capita=%{x}<br>total_cases=%{y}<br>population=%{marker.size}<extra></extra>",
         "hovertext": [
          "Venezuela"
         ],
         "legendgroup": "Venezuela",
         "marker": {
          "color": "#FF7F0E",
          "size": [
           28435943
          ],
          "sizemode": "area",
          "sizeref": 293739.5457142857,
          "symbol": "circle"
         },
         "mode": "markers",
         "name": "Venezuela",
         "orientation": "v",
         "showlegend": true,
         "type": "scatter",
         "x": [
          16745.022
         ],
         "xaxis": "x",
         "y": [
          22201.07339449541
         ],
         "yaxis": "y"
        },
        {
         "hovertemplate": "<b>%{hovertext}</b><br><br>location=Vietnam<br>gdp_per_capita=%{x}<br>total_cases=%{y}<br>population=%{marker.size}<extra></extra>",
         "hovertext": [
          "Vietnam"
         ],
         "legendgroup": "Vietnam",
         "marker": {
          "color": "#2CA02C",
          "size": [
           97338583
          ],
          "sizemode": "area",
          "sizeref": 293739.5457142857,
          "symbol": "circle"
         },
         "mode": "markers",
         "name": "Vietnam",
         "orientation": "v",
         "showlegend": true,
         "type": "scatter",
         "x": [
          6171.884
         ],
         "xaxis": "x",
         "y": [
          460.96992481203006
         ],
         "yaxis": "y"
        },
        {
         "hovertemplate": "<b>%{hovertext}</b><br><br>location=Yemen<br>gdp_per_capita=%{x}<br>total_cases=%{y}<br>population=%{marker.size}<extra></extra>",
         "hovertext": [
          "Yemen"
         ],
         "legendgroup": "Yemen",
         "marker": {
          "color": "#D62728",
          "size": [
           29825968
          ],
          "sizemode": "area",
          "sizeref": 293739.5457142857,
          "symbol": "circle"
         },
         "mode": "markers",
         "name": "Yemen",
         "orientation": "v",
         "showlegend": true,
         "type": "scatter",
         "x": [
          1479.147
         ],
         "xaxis": "x",
         "y": [
          1186.139896373057
         ],
         "yaxis": "y"
        },
        {
         "hovertemplate": "<b>%{hovertext}</b><br><br>location=Zambia<br>gdp_per_capita=%{x}<br>total_cases=%{y}<br>population=%{marker.size}<extra></extra>",
         "hovertext": [
          "Zambia"
         ],
         "legendgroup": "Zambia",
         "marker": {
          "color": "#9467BD",
          "size": [
           18383956
          ],
          "sizemode": "area",
          "sizeref": 293739.5457142857,
          "symbol": "circle"
         },
         "mode": "markers",
         "name": "Zambia",
         "orientation": "v",
         "showlegend": true,
         "type": "scatter",
         "x": [
          3689.251
         ],
         "xaxis": "x",
         "y": [
          5255.409302325582
         ],
         "yaxis": "y"
        },
        {
         "hovertemplate": "<b>%{hovertext}</b><br><br>location=Zimbabwe<br>gdp_per_capita=%{x}<br>total_cases=%{y}<br>population=%{marker.size}<extra></extra>",
         "hovertext": [
          "Zimbabwe"
         ],
         "legendgroup": "Zimbabwe",
         "marker": {
          "color": "#8C564B",
          "size": [
           14862927
          ],
          "sizemode": "area",
          "sizeref": 293739.5457142857,
          "symbol": "circle"
         },
         "mode": "markers",
         "name": "Zimbabwe",
         "orientation": "v",
         "showlegend": true,
         "type": "scatter",
         "x": [
          1899.775
         ],
         "xaxis": "x",
         "y": [
          2787.319248826291
         ],
         "yaxis": "y"
        }
       ],
       "layout": {
        "height": 500,
        "legend": {
         "itemsizing": "constant",
         "title": {
          "text": "location"
         },
         "tracegroupgap": 0
        },
        "margin": {
         "t": 60
        },
        "template": {
         "data": {
          "bar": [
           {
            "error_x": {
             "color": "rgb(36,36,36)"
            },
            "error_y": {
             "color": "rgb(36,36,36)"
            },
            "marker": {
             "line": {
              "color": "white",
              "width": 0.5
             },
             "pattern": {
              "fillmode": "overlay",
              "size": 10,
              "solidity": 0.2
             }
            },
            "type": "bar"
           }
          ],
          "barpolar": [
           {
            "marker": {
             "line": {
              "color": "white",
              "width": 0.5
             },
             "pattern": {
              "fillmode": "overlay",
              "size": 10,
              "solidity": 0.2
             }
            },
            "type": "barpolar"
           }
          ],
          "carpet": [
           {
            "aaxis": {
             "endlinecolor": "rgb(36,36,36)",
             "gridcolor": "white",
             "linecolor": "white",
             "minorgridcolor": "white",
             "startlinecolor": "rgb(36,36,36)"
            },
            "baxis": {
             "endlinecolor": "rgb(36,36,36)",
             "gridcolor": "white",
             "linecolor": "white",
             "minorgridcolor": "white",
             "startlinecolor": "rgb(36,36,36)"
            },
            "type": "carpet"
           }
          ],
          "choropleth": [
           {
            "colorbar": {
             "outlinewidth": 1,
             "tickcolor": "rgb(36,36,36)",
             "ticks": "outside"
            },
            "type": "choropleth"
           }
          ],
          "contour": [
           {
            "colorbar": {
             "outlinewidth": 1,
             "tickcolor": "rgb(36,36,36)",
             "ticks": "outside"
            },
            "colorscale": [
             [
              0,
              "#440154"
             ],
             [
              0.1111111111111111,
              "#482878"
             ],
             [
              0.2222222222222222,
              "#3e4989"
             ],
             [
              0.3333333333333333,
              "#31688e"
             ],
             [
              0.4444444444444444,
              "#26828e"
             ],
             [
              0.5555555555555556,
              "#1f9e89"
             ],
             [
              0.6666666666666666,
              "#35b779"
             ],
             [
              0.7777777777777778,
              "#6ece58"
             ],
             [
              0.8888888888888888,
              "#b5de2b"
             ],
             [
              1,
              "#fde725"
             ]
            ],
            "type": "contour"
           }
          ],
          "contourcarpet": [
           {
            "colorbar": {
             "outlinewidth": 1,
             "tickcolor": "rgb(36,36,36)",
             "ticks": "outside"
            },
            "type": "contourcarpet"
           }
          ],
          "heatmap": [
           {
            "colorbar": {
             "outlinewidth": 1,
             "tickcolor": "rgb(36,36,36)",
             "ticks": "outside"
            },
            "colorscale": [
             [
              0,
              "#440154"
             ],
             [
              0.1111111111111111,
              "#482878"
             ],
             [
              0.2222222222222222,
              "#3e4989"
             ],
             [
              0.3333333333333333,
              "#31688e"
             ],
             [
              0.4444444444444444,
              "#26828e"
             ],
             [
              0.5555555555555556,
              "#1f9e89"
             ],
             [
              0.6666666666666666,
              "#35b779"
             ],
             [
              0.7777777777777778,
              "#6ece58"
             ],
             [
              0.8888888888888888,
              "#b5de2b"
             ],
             [
              1,
              "#fde725"
             ]
            ],
            "type": "heatmap"
           }
          ],
          "heatmapgl": [
           {
            "colorbar": {
             "outlinewidth": 1,
             "tickcolor": "rgb(36,36,36)",
             "ticks": "outside"
            },
            "colorscale": [
             [
              0,
              "#440154"
             ],
             [
              0.1111111111111111,
              "#482878"
             ],
             [
              0.2222222222222222,
              "#3e4989"
             ],
             [
              0.3333333333333333,
              "#31688e"
             ],
             [
              0.4444444444444444,
              "#26828e"
             ],
             [
              0.5555555555555556,
              "#1f9e89"
             ],
             [
              0.6666666666666666,
              "#35b779"
             ],
             [
              0.7777777777777778,
              "#6ece58"
             ],
             [
              0.8888888888888888,
              "#b5de2b"
             ],
             [
              1,
              "#fde725"
             ]
            ],
            "type": "heatmapgl"
           }
          ],
          "histogram": [
           {
            "marker": {
             "line": {
              "color": "white",
              "width": 0.6
             }
            },
            "type": "histogram"
           }
          ],
          "histogram2d": [
           {
            "colorbar": {
             "outlinewidth": 1,
             "tickcolor": "rgb(36,36,36)",
             "ticks": "outside"
            },
            "colorscale": [
             [
              0,
              "#440154"
             ],
             [
              0.1111111111111111,
              "#482878"
             ],
             [
              0.2222222222222222,
              "#3e4989"
             ],
             [
              0.3333333333333333,
              "#31688e"
             ],
             [
              0.4444444444444444,
              "#26828e"
             ],
             [
              0.5555555555555556,
              "#1f9e89"
             ],
             [
              0.6666666666666666,
              "#35b779"
             ],
             [
              0.7777777777777778,
              "#6ece58"
             ],
             [
              0.8888888888888888,
              "#b5de2b"
             ],
             [
              1,
              "#fde725"
             ]
            ],
            "type": "histogram2d"
           }
          ],
          "histogram2dcontour": [
           {
            "colorbar": {
             "outlinewidth": 1,
             "tickcolor": "rgb(36,36,36)",
             "ticks": "outside"
            },
            "colorscale": [
             [
              0,
              "#440154"
             ],
             [
              0.1111111111111111,
              "#482878"
             ],
             [
              0.2222222222222222,
              "#3e4989"
             ],
             [
              0.3333333333333333,
              "#31688e"
             ],
             [
              0.4444444444444444,
              "#26828e"
             ],
             [
              0.5555555555555556,
              "#1f9e89"
             ],
             [
              0.6666666666666666,
              "#35b779"
             ],
             [
              0.7777777777777778,
              "#6ece58"
             ],
             [
              0.8888888888888888,
              "#b5de2b"
             ],
             [
              1,
              "#fde725"
             ]
            ],
            "type": "histogram2dcontour"
           }
          ],
          "mesh3d": [
           {
            "colorbar": {
             "outlinewidth": 1,
             "tickcolor": "rgb(36,36,36)",
             "ticks": "outside"
            },
            "type": "mesh3d"
           }
          ],
          "parcoords": [
           {
            "line": {
             "colorbar": {
              "outlinewidth": 1,
              "tickcolor": "rgb(36,36,36)",
              "ticks": "outside"
             }
            },
            "type": "parcoords"
           }
          ],
          "pie": [
           {
            "automargin": true,
            "type": "pie"
           }
          ],
          "scatter": [
           {
            "fillpattern": {
             "fillmode": "overlay",
             "size": 10,
             "solidity": 0.2
            },
            "type": "scatter"
           }
          ],
          "scatter3d": [
           {
            "line": {
             "colorbar": {
              "outlinewidth": 1,
              "tickcolor": "rgb(36,36,36)",
              "ticks": "outside"
             }
            },
            "marker": {
             "colorbar": {
              "outlinewidth": 1,
              "tickcolor": "rgb(36,36,36)",
              "ticks": "outside"
             }
            },
            "type": "scatter3d"
           }
          ],
          "scattercarpet": [
           {
            "marker": {
             "colorbar": {
              "outlinewidth": 1,
              "tickcolor": "rgb(36,36,36)",
              "ticks": "outside"
             }
            },
            "type": "scattercarpet"
           }
          ],
          "scattergeo": [
           {
            "marker": {
             "colorbar": {
              "outlinewidth": 1,
              "tickcolor": "rgb(36,36,36)",
              "ticks": "outside"
             }
            },
            "type": "scattergeo"
           }
          ],
          "scattergl": [
           {
            "marker": {
             "colorbar": {
              "outlinewidth": 1,
              "tickcolor": "rgb(36,36,36)",
              "ticks": "outside"
             }
            },
            "type": "scattergl"
           }
          ],
          "scattermapbox": [
           {
            "marker": {
             "colorbar": {
              "outlinewidth": 1,
              "tickcolor": "rgb(36,36,36)",
              "ticks": "outside"
             }
            },
            "type": "scattermapbox"
           }
          ],
          "scatterpolar": [
           {
            "marker": {
             "colorbar": {
              "outlinewidth": 1,
              "tickcolor": "rgb(36,36,36)",
              "ticks": "outside"
             }
            },
            "type": "scatterpolar"
           }
          ],
          "scatterpolargl": [
           {
            "marker": {
             "colorbar": {
              "outlinewidth": 1,
              "tickcolor": "rgb(36,36,36)",
              "ticks": "outside"
             }
            },
            "type": "scatterpolargl"
           }
          ],
          "scatterternary": [
           {
            "marker": {
             "colorbar": {
              "outlinewidth": 1,
              "tickcolor": "rgb(36,36,36)",
              "ticks": "outside"
             }
            },
            "type": "scatterternary"
           }
          ],
          "surface": [
           {
            "colorbar": {
             "outlinewidth": 1,
             "tickcolor": "rgb(36,36,36)",
             "ticks": "outside"
            },
            "colorscale": [
             [
              0,
              "#440154"
             ],
             [
              0.1111111111111111,
              "#482878"
             ],
             [
              0.2222222222222222,
              "#3e4989"
             ],
             [
              0.3333333333333333,
              "#31688e"
             ],
             [
              0.4444444444444444,
              "#26828e"
             ],
             [
              0.5555555555555556,
              "#1f9e89"
             ],
             [
              0.6666666666666666,
              "#35b779"
             ],
             [
              0.7777777777777778,
              "#6ece58"
             ],
             [
              0.8888888888888888,
              "#b5de2b"
             ],
             [
              1,
              "#fde725"
             ]
            ],
            "type": "surface"
           }
          ],
          "table": [
           {
            "cells": {
             "fill": {
              "color": "rgb(237,237,237)"
             },
             "line": {
              "color": "white"
             }
            },
            "header": {
             "fill": {
              "color": "rgb(217,217,217)"
             },
             "line": {
              "color": "white"
             }
            },
            "type": "table"
           }
          ]
         },
         "layout": {
          "annotationdefaults": {
           "arrowhead": 0,
           "arrowwidth": 1
          },
          "autotypenumbers": "strict",
          "coloraxis": {
           "colorbar": {
            "outlinewidth": 1,
            "tickcolor": "rgb(36,36,36)",
            "ticks": "outside"
           }
          },
          "colorscale": {
           "diverging": [
            [
             0,
             "rgb(103,0,31)"
            ],
            [
             0.1,
             "rgb(178,24,43)"
            ],
            [
             0.2,
             "rgb(214,96,77)"
            ],
            [
             0.3,
             "rgb(244,165,130)"
            ],
            [
             0.4,
             "rgb(253,219,199)"
            ],
            [
             0.5,
             "rgb(247,247,247)"
            ],
            [
             0.6,
             "rgb(209,229,240)"
            ],
            [
             0.7,
             "rgb(146,197,222)"
            ],
            [
             0.8,
             "rgb(67,147,195)"
            ],
            [
             0.9,
             "rgb(33,102,172)"
            ],
            [
             1,
             "rgb(5,48,97)"
            ]
           ],
           "sequential": [
            [
             0,
             "#440154"
            ],
            [
             0.1111111111111111,
             "#482878"
            ],
            [
             0.2222222222222222,
             "#3e4989"
            ],
            [
             0.3333333333333333,
             "#31688e"
            ],
            [
             0.4444444444444444,
             "#26828e"
            ],
            [
             0.5555555555555556,
             "#1f9e89"
            ],
            [
             0.6666666666666666,
             "#35b779"
            ],
            [
             0.7777777777777778,
             "#6ece58"
            ],
            [
             0.8888888888888888,
             "#b5de2b"
            ],
            [
             1,
             "#fde725"
            ]
           ],
           "sequentialminus": [
            [
             0,
             "#440154"
            ],
            [
             0.1111111111111111,
             "#482878"
            ],
            [
             0.2222222222222222,
             "#3e4989"
            ],
            [
             0.3333333333333333,
             "#31688e"
            ],
            [
             0.4444444444444444,
             "#26828e"
            ],
            [
             0.5555555555555556,
             "#1f9e89"
            ],
            [
             0.6666666666666666,
             "#35b779"
            ],
            [
             0.7777777777777778,
             "#6ece58"
            ],
            [
             0.8888888888888888,
             "#b5de2b"
            ],
            [
             1,
             "#fde725"
            ]
           ]
          },
          "colorway": [
           "#1F77B4",
           "#FF7F0E",
           "#2CA02C",
           "#D62728",
           "#9467BD",
           "#8C564B",
           "#E377C2",
           "#7F7F7F",
           "#BCBD22",
           "#17BECF"
          ],
          "font": {
           "color": "rgb(36,36,36)"
          },
          "geo": {
           "bgcolor": "white",
           "lakecolor": "white",
           "landcolor": "white",
           "showlakes": true,
           "showland": true,
           "subunitcolor": "white"
          },
          "hoverlabel": {
           "align": "left"
          },
          "hovermode": "closest",
          "mapbox": {
           "style": "light"
          },
          "paper_bgcolor": "white",
          "plot_bgcolor": "white",
          "polar": {
           "angularaxis": {
            "gridcolor": "rgb(232,232,232)",
            "linecolor": "rgb(36,36,36)",
            "showgrid": false,
            "showline": true,
            "ticks": "outside"
           },
           "bgcolor": "white",
           "radialaxis": {
            "gridcolor": "rgb(232,232,232)",
            "linecolor": "rgb(36,36,36)",
            "showgrid": false,
            "showline": true,
            "ticks": "outside"
           }
          },
          "scene": {
           "xaxis": {
            "backgroundcolor": "white",
            "gridcolor": "rgb(232,232,232)",
            "gridwidth": 2,
            "linecolor": "rgb(36,36,36)",
            "showbackground": true,
            "showgrid": false,
            "showline": true,
            "ticks": "outside",
            "zeroline": false,
            "zerolinecolor": "rgb(36,36,36)"
           },
           "yaxis": {
            "backgroundcolor": "white",
            "gridcolor": "rgb(232,232,232)",
            "gridwidth": 2,
            "linecolor": "rgb(36,36,36)",
            "showbackground": true,
            "showgrid": false,
            "showline": true,
            "ticks": "outside",
            "zeroline": false,
            "zerolinecolor": "rgb(36,36,36)"
           },
           "zaxis": {
            "backgroundcolor": "white",
            "gridcolor": "rgb(232,232,232)",
            "gridwidth": 2,
            "linecolor": "rgb(36,36,36)",
            "showbackground": true,
            "showgrid": false,
            "showline": true,
            "ticks": "outside",
            "zeroline": false,
            "zerolinecolor": "rgb(36,36,36)"
           }
          },
          "shapedefaults": {
           "fillcolor": "black",
           "line": {
            "width": 0
           },
           "opacity": 0.3
          },
          "ternary": {
           "aaxis": {
            "gridcolor": "rgb(232,232,232)",
            "linecolor": "rgb(36,36,36)",
            "showgrid": false,
            "showline": true,
            "ticks": "outside"
           },
           "baxis": {
            "gridcolor": "rgb(232,232,232)",
            "linecolor": "rgb(36,36,36)",
            "showgrid": false,
            "showline": true,
            "ticks": "outside"
           },
           "bgcolor": "white",
           "caxis": {
            "gridcolor": "rgb(232,232,232)",
            "linecolor": "rgb(36,36,36)",
            "showgrid": false,
            "showline": true,
            "ticks": "outside"
           }
          },
          "title": {
           "x": 0.05
          },
          "xaxis": {
           "automargin": true,
           "gridcolor": "rgb(232,232,232)",
           "linecolor": "rgb(36,36,36)",
           "showgrid": false,
           "showline": true,
           "ticks": "outside",
           "title": {
            "standoff": 15
           },
           "zeroline": false,
           "zerolinecolor": "rgb(36,36,36)"
          },
          "yaxis": {
           "automargin": true,
           "gridcolor": "rgb(232,232,232)",
           "linecolor": "rgb(36,36,36)",
           "showgrid": false,
           "showline": true,
           "ticks": "outside",
           "title": {
            "standoff": 15
           },
           "zeroline": false,
           "zerolinecolor": "rgb(36,36,36)"
          }
         }
        },
        "title": {
         "text": "COVID-19 Cases vs GDP per Capita (per Country)"
        },
        "xaxis": {
         "anchor": "y",
         "domain": [
          0,
          1
         ],
         "title": {
          "text": "gdp_per_capita"
         }
        },
        "yaxis": {
         "anchor": "x",
         "domain": [
          0,
          1
         ],
         "title": {
          "text": "total_cases"
         }
        }
       }
      }
     },
     "metadata": {},
     "output_type": "display_data"
    }
   ],
   "source": [
    "#df2_grouped.reset_index(inplace=True)\n",
    "fig = px.scatter(df2_grouped, x=\"gdp_per_capita\", y=\"total_cases\", color=\"location\" ,size=\"population\", hover_name=\"location\", template='simple_white', size_max=70)\n",
    "fig.update_layout(\n",
    "    height=500,\n",
    "    title_text=\"COVID-19 Cases vs GDP per Capita (per Country)\"\n",
    ")\n",
    "fig.show()"
   ]
  },
  {
   "cell_type": "code",
   "execution_count": null,
   "metadata": {},
   "outputs": [
    {
     "data": {
      "application/vnd.plotly.v1+json": {
       "config": {
        "plotlyServerURL": "https://plot.ly"
       },
       "data": [
        {
         "hovertemplate": "<b>%{hovertext}</b><br><br>location=Afghanistan<br>total_cases=%{x}<br>total_deaths=%{y}<br>population=%{marker.size}<extra></extra>",
         "hovertext": [
          "Afghanistan"
         ],
         "legendgroup": "Afghanistan",
         "marker": {
          "color": "#1F77B4",
          "size": [
           38928341
          ],
          "sizemode": "area",
          "sizeref": 293739.5457142857,
          "symbol": "circle"
         },
         "mode": "markers",
         "name": "Afghanistan",
         "orientation": "v",
         "showlegend": true,
         "textposition": "top center",
         "type": "scatter",
         "x": [
          17436.84693877551
         ],
         "xaxis": "x",
         "y": [
          564.2006802721088
         ],
         "yaxis": "y"
        },
        {
         "hovertemplate": "<b>%{hovertext}</b><br><br>location=Albania<br>total_cases=%{x}<br>total_deaths=%{y}<br>population=%{marker.size}<extra></extra>",
         "hovertext": [
          "Albania"
         ],
         "legendgroup": "Albania",
         "marker": {
          "color": "#FF7F0E",
          "size": [
           2877800
          ],
          "sizemode": "area",
          "sizeref": 293739.5457142857,
          "symbol": "circle"
         },
         "mode": "markers",
         "name": "Albania",
         "orientation": "v",
         "showlegend": true,
         "textposition": "top center",
         "type": "scatter",
         "x": [
          4764.2266666666665
         ],
         "xaxis": "x",
         "y": [
          139.8918918918919
         ],
         "yaxis": "y"
        },
        {
         "hovertemplate": "<b>%{hovertext}</b><br><br>location=Algeria<br>total_cases=%{x}<br>total_deaths=%{y}<br>population=%{marker.size}<extra></extra>",
         "hovertext": [
          "Algeria"
         ],
         "legendgroup": "Algeria",
         "marker": {
          "color": "#2CA02C",
          "size": [
           43851043
          ],
          "sizemode": "area",
          "sizeref": 293739.5457142857,
          "symbol": "circle"
         },
         "mode": "markers",
         "name": "Algeria",
         "orientation": "v",
         "showlegend": true,
         "textposition": "top center",
         "type": "scatter",
         "x": [
          21094.82327586207
         ],
         "xaxis": "x",
         "y": [
          934.0678733031674
         ],
         "yaxis": "y"
        },
        {
         "hovertemplate": "<b>%{hovertext}</b><br><br>location=Andorra<br>total_cases=%{x}<br>total_deaths=%{y}<br>population=%{marker.size}<extra></extra>",
         "hovertext": [
          "Andorra"
         ],
         "legendgroup": "Andorra",
         "marker": {
          "color": "#D62728",
          "size": [
           77265
          ],
          "sizemode": "area",
          "sizeref": 293739.5457142857,
          "symbol": "circle"
         },
         "mode": "markers",
         "name": "Andorra",
         "orientation": "v",
         "showlegend": true,
         "textposition": "top center",
         "type": "scatter",
         "x": [
          1016.2545454545455
         ],
         "xaxis": "x",
         "y": [
          47.58454106280193
         ],
         "yaxis": "y"
        },
        {
         "hovertemplate": "<b>%{hovertext}</b><br><br>location=Angola<br>total_cases=%{x}<br>total_deaths=%{y}<br>population=%{marker.size}<extra></extra>",
         "hovertext": [
          "Angola"
         ],
         "legendgroup": "Angola",
         "marker": {
          "color": "#9467BD",
          "size": [
           32866268
          ],
          "sizemode": "area",
          "sizeref": 293739.5457142857,
          "symbol": "circle"
         },
         "mode": "markers",
         "name": "Angola",
         "orientation": "v",
         "showlegend": true,
         "textposition": "top center",
         "type": "scatter",
         "x": [
          1433.9858490566037
         ],
         "xaxis": "x",
         "y": [
          57.94117647058823
         ],
         "yaxis": "y"
        },
        {
         "hovertemplate": "<b>%{hovertext}</b><br><br>location=Anguilla<br>total_cases=%{x}<br>total_deaths=%{y}<br>population=%{marker.size}<extra></extra>",
         "hovertext": [
          "Anguilla"
         ],
         "legendgroup": "Anguilla",
         "marker": {
          "color": "#8C564B",
          "size": [
           15002
          ],
          "sizemode": "area",
          "sizeref": 293739.5457142857,
          "symbol": "circle"
         },
         "mode": "markers",
         "name": "Anguilla",
         "orientation": "v",
         "showlegend": true,
         "textposition": "top center",
         "type": "scatter",
         "x": [
          2.966183574879227
         ],
         "xaxis": "x",
         "y": [
          null
         ],
         "yaxis": "y"
        },
        {
         "hovertemplate": "<b>%{hovertext}</b><br><br>location=Antigua and Barbuda<br>total_cases=%{x}<br>total_deaths=%{y}<br>population=%{marker.size}<extra></extra>",
         "hovertext": [
          "Antigua and Barbuda"
         ],
         "legendgroup": "Antigua and Barbuda",
         "marker": {
          "color": "#E377C2",
          "size": [
           97928
          ],
          "sizemode": "area",
          "sizeref": 293739.5457142857,
          "symbol": "circle"
         },
         "mode": "markers",
         "name": "Antigua and Barbuda",
         "orientation": "v",
         "showlegend": true,
         "textposition": "top center",
         "type": "scatter",
         "x": [
          58.967289719626166
         ],
         "xaxis": "x",
         "y": [
          2.94300518134715
         ],
         "yaxis": "y"
        },
        {
         "hovertemplate": "<b>%{hovertext}</b><br><br>location=Argentina<br>total_cases=%{x}<br>total_deaths=%{y}<br>population=%{marker.size}<extra></extra>",
         "hovertext": [
          "Argentina"
         ],
         "legendgroup": "Argentina",
         "marker": {
          "color": "#7F7F7F",
          "size": [
           45195777
          ],
          "sizemode": "area",
          "sizeref": 293739.5457142857,
          "symbol": "circle"
         },
         "mode": "markers",
         "name": "Argentina",
         "orientation": "v",
         "showlegend": true,
         "textposition": "top center",
         "type": "scatter",
         "x": [
          207732.30837004405
         ],
         "xaxis": "x",
         "y": [
          4809.9375
         ],
         "yaxis": "y"
        },
        {
         "hovertemplate": "<b>%{hovertext}</b><br><br>location=Armenia<br>total_cases=%{x}<br>total_deaths=%{y}<br>population=%{marker.size}<extra></extra>",
         "hovertext": [
          "Armenia"
         ],
         "legendgroup": "Armenia",
         "marker": {
          "color": "#BCBD22",
          "size": [
           2963234
          ],
          "sizemode": "area",
          "sizeref": 293739.5457142857,
          "symbol": "circle"
         },
         "mode": "markers",
         "name": "Armenia",
         "orientation": "v",
         "showlegend": true,
         "textposition": "top center",
         "type": "scatter",
         "x": [
          24440.308035714286
         ],
         "xaxis": "x",
         "y": [
          492.94202898550725
         ],
         "yaxis": "y"
        },
        {
         "hovertemplate": "<b>%{hovertext}</b><br><br>location=Aruba<br>total_cases=%{x}<br>total_deaths=%{y}<br>population=%{marker.size}<extra></extra>",
         "hovertext": [
          "Aruba"
         ],
         "legendgroup": "Aruba",
         "marker": {
          "color": "#17BECF",
          "size": [
           106766
          ],
          "sizemode": "area",
          "sizeref": 293739.5457142857,
          "symbol": "circle"
         },
         "mode": "markers",
         "name": "Aruba",
         "orientation": "v",
         "showlegend": true,
         "textposition": "top center",
         "type": "scatter",
         "x": [
          1019.4786729857819
         ],
         "xaxis": "x",
         "y": [
          8.684491978609625
         ],
         "yaxis": "y"
        },
        {
         "hovertemplate": "<b>%{hovertext}</b><br><br>location=Australia<br>total_cases=%{x}<br>total_deaths=%{y}<br>population=%{marker.size}<extra></extra>",
         "hovertext": [
          "Australia"
         ],
         "legendgroup": "Australia",
         "marker": {
          "color": "#1F77B4",
          "size": [
           25499881
          ],
          "sizemode": "area",
          "sizeref": 293739.5457142857,
          "symbol": "circle"
         },
         "mode": "markers",
         "name": "Australia",
         "orientation": "v",
         "showlegend": true,
         "textposition": "top center",
         "type": "scatter",
         "x": [
          11198.42750929368
         ],
         "xaxis": "x",
         "y": [
          279.09442060085837
         ],
         "yaxis": "y"
        },
        {
         "hovertemplate": "<b>%{hovertext}</b><br><br>location=Austria<br>total_cases=%{x}<br>total_deaths=%{y}<br>population=%{marker.size}<extra></extra>",
         "hovertext": [
          "Austria"
         ],
         "legendgroup": "Austria",
         "marker": {
          "color": "#FF7F0E",
          "size": [
           9006400
          ],
          "sizemode": "area",
          "sizeref": 293739.5457142857,
          "symbol": "circle"
         },
         "mode": "markers",
         "name": "Austria",
         "orientation": "v",
         "showlegend": true,
         "textposition": "top center",
         "type": "scatter",
         "x": [
          20713.91139240506
         ],
         "xaxis": "x",
         "y": [
          610.6108597285067
         ],
         "yaxis": "y"
        },
        {
         "hovertemplate": "<b>%{hovertext}</b><br><br>location=Azerbaijan<br>total_cases=%{x}<br>total_deaths=%{y}<br>population=%{marker.size}<extra></extra>",
         "hovertext": [
          "Azerbaijan"
         ],
         "legendgroup": "Azerbaijan",
         "marker": {
          "color": "#2CA02C",
          "size": [
           10139175
          ],
          "sizemode": "area",
          "sizeref": 293739.5457142857,
          "symbol": "circle"
         },
         "mode": "markers",
         "name": "Azerbaijan",
         "orientation": "v",
         "showlegend": true,
         "textposition": "top center",
         "type": "scatter",
         "x": [
          18664.237885462557
         ],
         "xaxis": "x",
         "y": [
          279.3192488262911
         ],
         "yaxis": "y"
        },
        {
         "hovertemplate": "<b>%{hovertext}</b><br><br>location=Bahamas<br>total_cases=%{x}<br>total_deaths=%{y}<br>population=%{marker.size}<extra></extra>",
         "hovertext": [
          "Bahamas"
         ],
         "legendgroup": "Bahamas",
         "marker": {
          "color": "#D62728",
          "size": [
           393248
          ],
          "sizemode": "area",
          "sizeref": 293739.5457142857,
          "symbol": "circle"
         },
         "mode": "markers",
         "name": "Bahamas",
         "orientation": "v",
         "showlegend": true,
         "textposition": "top center",
         "type": "scatter",
         "x": [
          1101.4259259259259
         ],
         "xaxis": "x",
         "y": [
          29.8407960199005
         ],
         "yaxis": "y"
        },
        {
         "hovertemplate": "<b>%{hovertext}</b><br><br>location=Bahrain<br>total_cases=%{x}<br>total_deaths=%{y}<br>population=%{marker.size}<extra></extra>",
         "hovertext": [
          "Bahrain"
         ],
         "legendgroup": "Bahrain",
         "marker": {
          "color": "#9467BD",
          "size": [
           1701583
          ],
          "sizemode": "area",
          "sizeref": 293739.5457142857,
          "symbol": "circle"
         },
         "mode": "markers",
         "name": "Bahrain",
         "orientation": "v",
         "showlegend": true,
         "textposition": "top center",
         "type": "scatter",
         "x": [
          27520.98739495798
         ],
         "xaxis": "x",
         "y": [
          103.28571428571429
         ],
         "yaxis": "y"
        },
        {
         "hovertemplate": "<b>%{hovertext}</b><br><br>location=Bangladesh<br>total_cases=%{x}<br>total_deaths=%{y}<br>population=%{marker.size}<extra></extra>",
         "hovertext": [
          "Bangladesh"
         ],
         "legendgroup": "Bangladesh",
         "marker": {
          "color": "#8C564B",
          "size": [
           164689383
          ],
          "sizemode": "area",
          "sizeref": 293739.5457142857,
          "symbol": "circle"
         },
         "mode": "markers",
         "name": "Bangladesh",
         "orientation": "v",
         "showlegend": true,
         "textposition": "top center",
         "type": "scatter",
         "x": [
          161032.77625570775
         ],
         "xaxis": "x",
         "y": [
          2285.5377358490564
         ],
         "yaxis": "y"
        },
        {
         "hovertemplate": "<b>%{hovertext}</b><br><br>location=Barbados<br>total_cases=%{x}<br>total_deaths=%{y}<br>population=%{marker.size}<extra></extra>",
         "hovertext": [
          "Barbados"
         ],
         "legendgroup": "Barbados",
         "marker": {
          "color": "#E377C2",
          "size": [
           287371
          ],
          "sizemode": "area",
          "sizeref": 293739.5457142857,
          "symbol": "circle"
         },
         "mode": "markers",
         "name": "Barbados",
         "orientation": "v",
         "showlegend": true,
         "textposition": "top center",
         "type": "scatter",
         "x": [
          115.73148148148148
         ],
         "xaxis": "x",
         "y": [
          6.7055837563451774
         ],
         "yaxis": "y"
        },
        {
         "hovertemplate": "<b>%{hovertext}</b><br><br>location=Belarus<br>total_cases=%{x}<br>total_deaths=%{y}<br>population=%{marker.size}<extra></extra>",
         "hovertext": [
          "Belarus"
         ],
         "legendgroup": "Belarus",
         "marker": {
          "color": "#7F7F7F",
          "size": [
           9449321
          ],
          "sizemode": "area",
          "sizeref": 293739.5457142857,
          "symbol": "circle"
         },
         "mode": "markers",
         "name": "Belarus",
         "orientation": "v",
         "showlegend": true,
         "textposition": "top center",
         "type": "scatter",
         "x": [
          46674.828193832596
         ],
         "xaxis": "x",
         "y": [
          442.045
         ],
         "yaxis": "y"
        },
        {
         "hovertemplate": "<b>%{hovertext}</b><br><br>location=Belgium<br>total_cases=%{x}<br>total_deaths=%{y}<br>population=%{marker.size}<extra></extra>",
         "hovertext": [
          "Belgium"
         ],
         "legendgroup": "Belgium",
         "marker": {
          "color": "#BCBD22",
          "size": [
           11589616
          ],
          "sizemode": "area",
          "sizeref": 293739.5457142857,
          "symbol": "circle"
         },
         "mode": "markers",
         "name": "Belgium",
         "orientation": "v",
         "showlegend": true,
         "textposition": "top center",
         "type": "scatter",
         "x": [
          59114.66147859922
         ],
         "xaxis": "x",
         "y": [
          8101.175675675676
         ],
         "yaxis": "y"
        },
        {
         "hovertemplate": "<b>%{hovertext}</b><br><br>location=Belize<br>total_cases=%{x}<br>total_deaths=%{y}<br>population=%{marker.size}<extra></extra>",
         "hovertext": [
          "Belize"
         ],
         "legendgroup": "Belize",
         "marker": {
          "color": "#17BECF",
          "size": [
           397621
          ],
          "sizemode": "area",
          "sizeref": 293739.5457142857,
          "symbol": "circle"
         },
         "mode": "markers",
         "name": "Belize",
         "orientation": "v",
         "showlegend": true,
         "textposition": "top center",
         "type": "scatter",
         "x": [
          506.5857142857143
         ],
         "xaxis": "x",
         "y": [
          8.187817258883248
         ],
         "yaxis": "y"
        },
        {
         "hovertemplate": "<b>%{hovertext}</b><br><br>location=Benin<br>total_cases=%{x}<br>total_deaths=%{y}<br>population=%{marker.size}<extra></extra>",
         "hovertext": [
          "Benin"
         ],
         "legendgroup": "Benin",
         "marker": {
          "color": "#1F77B4",
          "size": [
           12123198
          ],
          "sizemode": "area",
          "sizeref": 293739.5457142857,
          "symbol": "circle"
         },
         "mode": "markers",
         "name": "Benin",
         "orientation": "v",
         "showlegend": true,
         "textposition": "top center",
         "type": "scatter",
         "x": [
          1133.147465437788
         ],
         "xaxis": "x",
         "y": [
          22.316326530612244
         ],
         "yaxis": "y"
        },
        {
         "hovertemplate": "<b>%{hovertext}</b><br><br>location=Bermuda<br>total_cases=%{x}<br>total_deaths=%{y}<br>population=%{marker.size}<extra></extra>",
         "hovertext": [
          "Bermuda"
         ],
         "legendgroup": "Bermuda",
         "marker": {
          "color": "#FF7F0E",
          "size": [
           62273
          ],
          "sizemode": "area",
          "sizeref": 293739.5457142857,
          "symbol": "circle"
         },
         "mode": "markers",
         "name": "Bermuda",
         "orientation": "v",
         "showlegend": true,
         "textposition": "top center",
         "type": "scatter",
         "x": [
          134.93457943925233
         ],
         "xaxis": "x",
         "y": [
          8.321428571428571
         ],
         "yaxis": "y"
        },
        {
         "hovertemplate": "<b>%{hovertext}</b><br><br>location=Bhutan<br>total_cases=%{x}<br>total_deaths=%{y}<br>population=%{marker.size}<extra></extra>",
         "hovertext": [
          "Bhutan"
         ],
         "legendgroup": "Bhutan",
         "marker": {
          "color": "#2CA02C",
          "size": [
           771612
          ],
          "sizemode": "area",
          "sizeref": 293739.5457142857,
          "symbol": "circle"
         },
         "mode": "markers",
         "name": "Bhutan",
         "orientation": "v",
         "showlegend": true,
         "textposition": "top center",
         "type": "scatter",
         "x": [
          103.85
         ],
         "xaxis": "x",
         "y": [
          null
         ],
         "yaxis": "y"
        },
        {
         "hovertemplate": "<b>%{hovertext}</b><br><br>location=Bolivia<br>total_cases=%{x}<br>total_deaths=%{y}<br>population=%{marker.size}<extra></extra>",
         "hovertext": [
          "Bolivia"
         ],
         "legendgroup": "Bolivia",
         "marker": {
          "color": "#D62728",
          "size": [
           11673029
          ],
          "sizemode": "area",
          "sizeref": 293739.5457142857,
          "symbol": "circle"
         },
         "mode": "markers",
         "name": "Bolivia",
         "orientation": "v",
         "showlegend": true,
         "textposition": "top center",
         "type": "scatter",
         "x": [
          53659.90045248869
         ],
         "xaxis": "x",
         "y": [
          2836.073529411765
         ],
         "yaxis": "y"
        },
        {
         "hovertemplate": "<b>%{hovertext}</b><br><br>location=Bonaire Sint Eustatius and Saba<br>total_cases=%{x}<br>total_deaths=%{y}<br>population=%{marker.size}<extra></extra>",
         "hovertext": [
          "Bonaire Sint Eustatius and Saba"
         ],
         "legendgroup": "Bonaire Sint Eustatius and Saba",
         "marker": {
          "color": "#9467BD",
          "size": [
           26221
          ],
          "sizemode": "area",
          "sizeref": 293739.5457142857,
          "symbol": "circle"
         },
         "mode": "markers",
         "name": "Bonaire Sint Eustatius and Saba",
         "orientation": "v",
         "showlegend": true,
         "textposition": "top center",
         "type": "scatter",
         "x": [
          25.27363184079602
         ],
         "xaxis": "x",
         "y": [
          1.3714285714285714
         ],
         "yaxis": "y"
        },
        {
         "hovertemplate": "<b>%{hovertext}</b><br><br>location=Bosnia and Herzegovina<br>total_cases=%{x}<br>total_deaths=%{y}<br>population=%{marker.size}<extra></extra>",
         "hovertext": [
          "Bosnia and Herzegovina"
         ],
         "legendgroup": "Bosnia and Herzegovina",
         "marker": {
          "color": "#8C564B",
          "size": [
           3280815
          ],
          "sizemode": "area",
          "sizeref": 293739.5457142857,
          "symbol": "circle"
         },
         "mode": "markers",
         "name": "Bosnia and Herzegovina",
         "orientation": "v",
         "showlegend": true,
         "textposition": "top center",
         "type": "scatter",
         "x": [
          9955.009049773756
         ],
         "xaxis": "x",
         "y": [
          332.91509433962267
         ],
         "yaxis": "y"
        },
        {
         "hovertemplate": "<b>%{hovertext}</b><br><br>location=Botswana<br>total_cases=%{x}<br>total_deaths=%{y}<br>population=%{marker.size}<extra></extra>",
         "hovertext": [
          "Botswana"
         ],
         "legendgroup": "Botswana",
         "marker": {
          "color": "#E377C2",
          "size": [
           2351625
          ],
          "sizemode": "area",
          "sizeref": 293739.5457142857,
          "symbol": "circle"
         },
         "mode": "markers",
         "name": "Botswana",
         "orientation": "v",
         "showlegend": true,
         "textposition": "top center",
         "type": "scatter",
         "x": [
          1018.6039603960396
         ],
         "xaxis": "x",
         "y": [
          4.45273631840796
         ],
         "yaxis": "y"
        },
        {
         "hovertemplate": "<b>%{hovertext}</b><br><br>location=Brazil<br>total_cases=%{x}<br>total_deaths=%{y}<br>population=%{marker.size}<extra></extra>",
         "hovertext": [
          "Brazil"
         ],
         "legendgroup": "Brazil",
         "marker": {
          "color": "#7F7F7F",
          "size": [
           212559409
          ],
          "sizemode": "area",
          "sizeref": 293739.5457142857,
          "symbol": "circle"
         },
         "mode": "markers",
         "name": "Brazil",
         "orientation": "v",
         "showlegend": true,
         "textposition": "top center",
         "type": "scatter",
         "x": [
          1796221.5907172996
         ],
         "xaxis": "x",
         "y": [
          66391.51388888889
         ],
         "yaxis": "y"
        },
        {
         "hovertemplate": "<b>%{hovertext}</b><br><br>location=British Virgin Islands<br>total_cases=%{x}<br>total_deaths=%{y}<br>population=%{marker.size}<extra></extra>",
         "hovertext": [
          "British Virgin Islands"
         ],
         "legendgroup": "British Virgin Islands",
         "marker": {
          "color": "#BCBD22",
          "size": [
           30237
          ],
          "sizemode": "area",
          "sizeref": 293739.5457142857,
          "symbol": "circle"
         },
         "mode": "markers",
         "name": "British Virgin Islands",
         "orientation": "v",
         "showlegend": true,
         "textposition": "top center",
         "type": "scatter",
         "x": [
          22.246376811594203
         ],
         "xaxis": "x",
         "y": [
          1
         ],
         "yaxis": "y"
        },
        {
         "hovertemplate": "<b>%{hovertext}</b><br><br>location=Bulgaria<br>total_cases=%{x}<br>total_deaths=%{y}<br>population=%{marker.size}<extra></extra>",
         "hovertext": [
          "Bulgaria"
         ],
         "legendgroup": "Bulgaria",
         "marker": {
          "color": "#17BECF",
          "size": [
           6948445
          ],
          "sizemode": "area",
          "sizeref": 293739.5457142857,
          "symbol": "circle"
         },
         "mode": "markers",
         "name": "Bulgaria",
         "orientation": "v",
         "showlegend": true,
         "textposition": "top center",
         "type": "scatter",
         "x": [
          8439.19642857143
         ],
         "xaxis": "x",
         "y": [
          328.15315315315314
         ],
         "yaxis": "y"
        },
        {
         "hovertemplate": "<b>%{hovertext}</b><br><br>location=Burkina Faso<br>total_cases=%{x}<br>total_deaths=%{y}<br>population=%{marker.size}<extra></extra>",
         "hovertext": [
          "Burkina Faso"
         ],
         "legendgroup": "Burkina Faso",
         "marker": {
          "color": "#1F77B4",
          "size": [
           20903278
          ],
          "sizemode": "area",
          "sizeref": 293739.5457142857,
          "symbol": "circle"
         },
         "mode": "markers",
         "name": "Burkina Faso",
         "orientation": "v",
         "showlegend": true,
         "textposition": "top center",
         "type": "scatter",
         "x": [
          1047.2941176470588
         ],
         "xaxis": "x",
         "y": [
          47.665116279069764
         ],
         "yaxis": "y"
        },
        {
         "hovertemplate": "<b>%{hovertext}</b><br><br>location=Burundi<br>total_cases=%{x}<br>total_deaths=%{y}<br>population=%{marker.size}<extra></extra>",
         "hovertext": [
          "Burundi"
         ],
         "legendgroup": "Burundi",
         "marker": {
          "color": "#FF7F0E",
          "size": [
           11890781
          ],
          "sizemode": "area",
          "sizeref": 293739.5457142857,
          "symbol": "circle"
         },
         "mode": "markers",
         "name": "Burundi",
         "orientation": "v",
         "showlegend": true,
         "textposition": "top center",
         "type": "scatter",
         "x": [
          246.26237623762376
         ],
         "xaxis": "x",
         "y": [
          1
         ],
         "yaxis": "y"
        },
        {
         "hovertemplate": "<b>%{hovertext}</b><br><br>location=Cambodia<br>total_cases=%{x}<br>total_deaths=%{y}<br>population=%{marker.size}<extra></extra>",
         "hovertext": [
          "Cambodia"
         ],
         "legendgroup": "Cambodia",
         "marker": {
          "color": "#2CA02C",
          "size": [
           16718971
          ],
          "sizemode": "area",
          "sizeref": 293739.5457142857,
          "symbol": "circle"
         },
         "mode": "markers",
         "name": "Cambodia",
         "orientation": "v",
         "showlegend": true,
         "textposition": "top center",
         "type": "scatter",
         "x": [
          153.84824902723736
         ],
         "xaxis": "x",
         "y": [
          null
         ],
         "yaxis": "y"
        },
        {
         "hovertemplate": "<b>%{hovertext}</b><br><br>location=Cameroon<br>total_cases=%{x}<br>total_deaths=%{y}<br>population=%{marker.size}<extra></extra>",
         "hovertext": [
          "Cameroon"
         ],
         "legendgroup": "Cameroon",
         "marker": {
          "color": "#D62728",
          "size": [
           26545864
          ],
          "sizemode": "area",
          "sizeref": 293739.5457142857,
          "symbol": "circle"
         },
         "mode": "markers",
         "name": "Cameroon",
         "orientation": "v",
         "showlegend": true,
         "textposition": "top center",
         "type": "scatter",
         "x": [
          11205.891402714931
         ],
         "xaxis": "x",
         "y": [
          270.8421052631579
         ],
         "yaxis": "y"
        },
        {
         "hovertemplate": "<b>%{hovertext}</b><br><br>location=Canada<br>total_cases=%{x}<br>total_deaths=%{y}<br>population=%{marker.size}<extra></extra>",
         "hovertext": [
          "Canada"
         ],
         "legendgroup": "Canada",
         "marker": {
          "color": "#9467BD",
          "size": [
           37742157
          ],
          "sizemode": "area",
          "sizeref": 293739.5457142857,
          "symbol": "circle"
         },
         "mode": "markers",
         "name": "Canada",
         "orientation": "v",
         "showlegend": true,
         "textposition": "top center",
         "type": "scatter",
         "x": [
          77993.9328358209
         ],
         "xaxis": "x",
         "y": [
          6497.986607142857
         ],
         "yaxis": "y"
        },
        {
         "hovertemplate": "<b>%{hovertext}</b><br><br>location=Cape Verde<br>total_cases=%{x}<br>total_deaths=%{y}<br>population=%{marker.size}<extra></extra>",
         "hovertext": [
          "Cape Verde"
         ],
         "legendgroup": "Cape Verde",
         "marker": {
          "color": "#8C564B",
          "size": [
           555988
          ],
          "sizemode": "area",
          "sizeref": 293739.5457142857,
          "symbol": "circle"
         },
         "mode": "markers",
         "name": "Cape Verde",
         "orientation": "v",
         "showlegend": true,
         "textposition": "top center",
         "type": "scatter",
         "x": [
          2177.8779342723005
         ],
         "xaxis": "x",
         "y": [
          22.72248803827751
         ],
         "yaxis": "y"
        },
        {
         "hovertemplate": "<b>%{hovertext}</b><br><br>location=Cayman Islands<br>total_cases=%{x}<br>total_deaths=%{y}<br>population=%{marker.size}<extra></extra>",
         "hovertext": [
          "Cayman Islands"
         ],
         "legendgroup": "Cayman Islands",
         "marker": {
          "color": "#E377C2",
          "size": [
           65720
          ],
          "sizemode": "area",
          "sizeref": 293739.5457142857,
          "symbol": "circle"
         },
         "mode": "markers",
         "name": "Cayman Islands",
         "orientation": "v",
         "showlegend": true,
         "textposition": "top center",
         "type": "scatter",
         "x": [
          155.01401869158877
         ],
         "xaxis": "x",
         "y": [
          1
         ],
         "yaxis": "y"
        },
        {
         "hovertemplate": "<b>%{hovertext}</b><br><br>location=Central African Republic<br>total_cases=%{x}<br>total_deaths=%{y}<br>population=%{marker.size}<extra></extra>",
         "hovertext": [
          "Central African Republic"
         ],
         "legendgroup": "Central African Republic",
         "marker": {
          "color": "#7F7F7F",
          "size": [
           4829764
          ],
          "sizemode": "area",
          "sizeref": 293739.5457142857,
          "symbol": "circle"
         },
         "mode": "markers",
         "name": "Central African Republic",
         "orientation": "v",
         "showlegend": true,
         "textposition": "top center",
         "type": "scatter",
         "x": [
          2720.4036697247707
         ],
         "xaxis": "x",
         "y": [
          47.70469798657718
         ],
         "yaxis": "y"
        },
        {
         "hovertemplate": "<b>%{hovertext}</b><br><br>location=Chad<br>total_cases=%{x}<br>total_deaths=%{y}<br>population=%{marker.size}<extra></extra>",
         "hovertext": [
          "Chad"
         ],
         "legendgroup": "Chad",
         "marker": {
          "color": "#BCBD22",
          "size": [
           16425859
          ],
          "sizemode": "area",
          "sizeref": 293739.5457142857,
          "symbol": "circle"
         },
         "mode": "markers",
         "name": "Chad",
         "orientation": "v",
         "showlegend": true,
         "textposition": "top center",
         "type": "scatter",
         "x": [
          720.4345794392524
         ],
         "xaxis": "x",
         "y": [
          70.183908045977
         ],
         "yaxis": "y"
        },
        {
         "hovertemplate": "<b>%{hovertext}</b><br><br>location=Chile<br>total_cases=%{x}<br>total_deaths=%{y}<br>population=%{marker.size}<extra></extra>",
         "hovertext": [
          "Chile"
         ],
         "legendgroup": "Chile",
         "marker": {
          "color": "#17BECF",
          "size": [
           19116209
          ],
          "sizemode": "area",
          "sizeref": 293739.5457142857,
          "symbol": "circle"
         },
         "mode": "markers",
         "name": "Chile",
         "orientation": "v",
         "showlegend": true,
         "textposition": "top center",
         "type": "scatter",
         "x": [
          223877.87772925766
         ],
         "xaxis": "x",
         "y": [
          6084.739336492891
         ],
         "yaxis": "y"
        },
        {
         "hovertemplate": "<b>%{hovertext}</b><br><br>location=China<br>total_cases=%{x}<br>total_deaths=%{y}<br>population=%{marker.size}<extra></extra>",
         "hovertext": [
          "China"
         ],
         "legendgroup": "China",
         "marker": {
          "color": "#1F77B4",
          "size": [
           1439323774
          ],
          "sizemode": "area",
          "sizeref": 293739.5457142857,
          "symbol": "circle"
         },
         "mode": "markers",
         "name": "China",
         "orientation": "v",
         "showlegend": true,
         "textposition": "top center",
         "type": "scatter",
         "x": [
          73579.3163265306
         ],
         "xaxis": "x",
         "y": [
          3770.1024734982334
         ],
         "yaxis": "y"
        },
        {
         "hovertemplate": "<b>%{hovertext}</b><br><br>location=Colombia<br>total_cases=%{x}<br>total_deaths=%{y}<br>population=%{marker.size}<extra></extra>",
         "hovertext": [
          "Colombia"
         ],
         "legendgroup": "Colombia",
         "marker": {
          "color": "#FF7F0E",
          "size": [
           50882884
          ],
          "sizemode": "area",
          "sizeref": 293739.5457142857,
          "symbol": "circle"
         },
         "mode": "markers",
         "name": "Colombia",
         "orientation": "v",
         "showlegend": true,
         "textposition": "top center",
         "type": "scatter",
         "x": [
          271496.331838565
         ],
         "xaxis": "x",
         "y": [
          9132.707547169812
         ],
         "yaxis": "y"
        },
        {
         "hovertemplate": "<b>%{hovertext}</b><br><br>location=Comoros<br>total_cases=%{x}<br>total_deaths=%{y}<br>population=%{marker.size}<extra></extra>",
         "hovertext": [
          "Comoros"
         ],
         "legendgroup": "Comoros",
         "marker": {
          "color": "#2CA02C",
          "size": [
           869595
          ],
          "sizemode": "area",
          "sizeref": 293739.5457142857,
          "symbol": "circle"
         },
         "mode": "markers",
         "name": "Comoros",
         "orientation": "v",
         "showlegend": true,
         "textposition": "top center",
         "type": "scatter",
         "x": [
          306.64912280701753
         ],
         "xaxis": "x",
         "y": [
          5.476190476190476
         ],
         "yaxis": "y"
        },
        {
         "hovertemplate": "<b>%{hovertext}</b><br><br>location=Congo<br>total_cases=%{x}<br>total_deaths=%{y}<br>population=%{marker.size}<extra></extra>",
         "hovertext": [
          "Congo"
         ],
         "legendgroup": "Congo",
         "marker": {
          "color": "#D62728",
          "size": [
           5518092
          ],
          "sizemode": "area",
          "sizeref": 293739.5457142857,
          "symbol": "circle"
         },
         "mode": "markers",
         "name": "Congo",
         "orientation": "v",
         "showlegend": true,
         "textposition": "top center",
         "type": "scatter",
         "x": [
          2171.412844036697
         ],
         "xaxis": "x",
         "y": [
          46.02970297029703
         ],
         "yaxis": "y"
        },
        {
         "hovertemplate": "<b>%{hovertext}</b><br><br>location=Costa Rica<br>total_cases=%{x}<br>total_deaths=%{y}<br>population=%{marker.size}<extra></extra>",
         "hovertext": [
          "Costa Rica"
         ],
         "legendgroup": "Costa Rica",
         "marker": {
          "color": "#9467BD",
          "size": [
           5094114
          ],
          "sizemode": "area",
          "sizeref": 293739.5457142857,
          "symbol": "circle"
         },
         "mode": "markers",
         "name": "Costa Rica",
         "orientation": "v",
         "showlegend": true,
         "textposition": "top center",
         "type": "scatter",
         "x": [
          20494.84513274336
         ],
         "xaxis": "x",
         "y": [
          234.1953488372093
         ],
         "yaxis": "y"
        },
        {
         "hovertemplate": "<b>%{hovertext}</b><br><br>location=Cote d'Ivoire<br>total_cases=%{x}<br>total_deaths=%{y}<br>population=%{marker.size}<extra></extra>",
         "hovertext": [
          "Cote d'Ivoire"
         ],
         "legendgroup": "Cote d'Ivoire",
         "marker": {
          "color": "#8C564B",
          "size": [
           26378275
          ],
          "sizemode": "area",
          "sizeref": 293739.5457142857,
          "symbol": "circle"
         },
         "mode": "markers",
         "name": "Cote d'Ivoire",
         "orientation": "v",
         "showlegend": true,
         "textposition": "top center",
         "type": "scatter",
         "x": [
          9694.922727272728
         ],
         "xaxis": "x",
         "y": [
          69.70588235294117
         ],
         "yaxis": "y"
        },
        {
         "hovertemplate": "<b>%{hovertext}</b><br><br>location=Croatia<br>total_cases=%{x}<br>total_deaths=%{y}<br>population=%{marker.size}<extra></extra>",
         "hovertext": [
          "Croatia"
         ],
         "legendgroup": "Croatia",
         "marker": {
          "color": "#E377C2",
          "size": [
           4105268
          ],
          "sizemode": "area",
          "sizeref": 293739.5457142857,
          "symbol": "circle"
         },
         "mode": "markers",
         "name": "Croatia",
         "orientation": "v",
         "showlegend": true,
         "textposition": "top center",
         "type": "scatter",
         "x": [
          5615.517094017094
         ],
         "xaxis": "x",
         "y": [
          137.5933014354067
         ],
         "yaxis": "y"
        },
        {
         "hovertemplate": "<b>%{hovertext}</b><br><br>location=Cuba<br>total_cases=%{x}<br>total_deaths=%{y}<br>population=%{marker.size}<extra></extra>",
         "hovertext": [
          "Cuba"
         ],
         "legendgroup": "Cuba",
         "marker": {
          "color": "#7F7F7F",
          "size": [
           11326616
          ],
          "sizemode": "area",
          "sizeref": 293739.5457142857,
          "symbol": "circle"
         },
         "mode": "markers",
         "name": "Cuba",
         "orientation": "v",
         "showlegend": true,
         "textposition": "top center",
         "type": "scatter",
         "x": [
          2655.461187214612
         ],
         "xaxis": "x",
         "y": [
          78.01860465116279
         ],
         "yaxis": "y"
        },
        {
         "hovertemplate": "<b>%{hovertext}</b><br><br>location=Curacao<br>total_cases=%{x}<br>total_deaths=%{y}<br>population=%{marker.size}<extra></extra>",
         "hovertext": [
          "Curacao"
         ],
         "legendgroup": "Curacao",
         "marker": {
          "color": "#BCBD22",
          "size": [
           164100
          ],
          "sizemode": "area",
          "sizeref": 293739.5457142857,
          "symbol": "circle"
         },
         "mode": "markers",
         "name": "Curacao",
         "orientation": "v",
         "showlegend": true,
         "textposition": "top center",
         "type": "scatter",
         "x": [
          94.17619047619047
         ],
         "xaxis": "x",
         "y": [
          1
         ],
         "yaxis": "y"
        },
        {
         "hovertemplate": "<b>%{hovertext}</b><br><br>location=Cyprus<br>total_cases=%{x}<br>total_deaths=%{y}<br>population=%{marker.size}<extra></extra>",
         "hovertext": [
          "Cyprus"
         ],
         "legendgroup": "Cyprus",
         "marker": {
          "color": "#17BECF",
          "size": [
           875899
          ],
          "sizemode": "area",
          "sizeref": 293739.5457142857,
          "symbol": "circle"
         },
         "mode": "markers",
         "name": "Cyprus",
         "orientation": "v",
         "showlegend": true,
         "textposition": "top center",
         "type": "scatter",
         "x": [
          1066.0945945945946
         ],
         "xaxis": "x",
         "y": [
          17.870813397129186
         ],
         "yaxis": "y"
        },
        {
         "hovertemplate": "<b>%{hovertext}</b><br><br>location=Czech Republic<br>total_cases=%{x}<br>total_deaths=%{y}<br>population=%{marker.size}<extra></extra>",
         "hovertext": [
          "Czech Republic"
         ],
         "legendgroup": "Czech Republic",
         "marker": {
          "color": "#1F77B4",
          "size": [
           10708982
          ],
          "sizemode": "area",
          "sizeref": 293739.5457142857,
          "symbol": "circle"
         },
         "mode": "markers",
         "name": "Czech Republic",
         "orientation": "v",
         "showlegend": true,
         "textposition": "top center",
         "type": "scatter",
         "x": [
          22474.05172413793
         ],
         "xaxis": "x",
         "y": [
          378.5781990521327
         ],
         "yaxis": "y"
        },
        {
         "hovertemplate": "<b>%{hovertext}</b><br><br>location=Democratic Republic of Congo<br>total_cases=%{x}<br>total_deaths=%{y}<br>population=%{marker.size}<extra></extra>",
         "hovertext": [
          "Democratic Republic of Congo"
         ],
         "legendgroup": "Democratic Republic of Congo",
         "marker": {
          "color": "#FF7F0E",
          "size": [
           89561404
          ],
          "sizemode": "area",
          "sizeref": 293739.5457142857,
          "symbol": "circle"
         },
         "mode": "markers",
         "name": "Democratic Republic of Congo",
         "orientation": "v",
         "showlegend": true,
         "textposition": "top center",
         "type": "scatter",
         "x": [
          5752.900452488688
         ],
         "xaxis": "x",
         "y": [
          151.1320754716981
         ],
         "yaxis": "y"
        },
        {
         "hovertemplate": "<b>%{hovertext}</b><br><br>location=Denmark<br>total_cases=%{x}<br>total_deaths=%{y}<br>population=%{marker.size}<extra></extra>",
         "hovertext": [
          "Denmark"
         ],
         "legendgroup": "Denmark",
         "marker": {
          "color": "#2CA02C",
          "size": [
           5792203
          ],
          "sizemode": "area",
          "sizeref": 293739.5457142857,
          "symbol": "circle"
         },
         "mode": "markers",
         "name": "Denmark",
         "orientation": "v",
         "showlegend": true,
         "textposition": "top center",
         "type": "scatter",
         "x": [
          12839.35593220339
         ],
         "xaxis": "x",
         "y": [
          519.6330275229358
         ],
         "yaxis": "y"
        },
        {
         "hovertemplate": "<b>%{hovertext}</b><br><br>location=Djibouti<br>total_cases=%{x}<br>total_deaths=%{y}<br>population=%{marker.size}<extra></extra>",
         "hovertext": [
          "Djibouti"
         ],
         "legendgroup": "Djibouti",
         "marker": {
          "color": "#D62728",
          "size": [
           988002
          ],
          "sizemode": "area",
          "sizeref": 293739.5457142857,
          "symbol": "circle"
         },
         "mode": "markers",
         "name": "Djibouti",
         "orientation": "v",
         "showlegend": true,
         "textposition": "top center",
         "type": "scatter",
         "x": [
          3636.1441860465115
         ],
         "xaxis": "x",
         "y": [
          41.48186528497409
         ],
         "yaxis": "y"
        },
        {
         "hovertemplate": "<b>%{hovertext}</b><br><br>location=Dominica<br>total_cases=%{x}<br>total_deaths=%{y}<br>population=%{marker.size}<extra></extra>",
         "hovertext": [
          "Dominica"
         ],
         "legendgroup": "Dominica",
         "marker": {
          "color": "#9467BD",
          "size": [
           71991
          ],
          "sizemode": "area",
          "sizeref": 293739.5457142857,
          "symbol": "circle"
         },
         "mode": "markers",
         "name": "Dominica",
         "orientation": "v",
         "showlegend": true,
         "textposition": "top center",
         "type": "scatter",
         "x": [
          18.848341232227487
         ],
         "xaxis": "x",
         "y": [
          null
         ],
         "yaxis": "y"
        },
        {
         "hovertemplate": "<b>%{hovertext}</b><br><br>location=Dominican Republic<br>total_cases=%{x}<br>total_deaths=%{y}<br>population=%{marker.size}<extra></extra>",
         "hovertext": [
          "Dominican Republic"
         ],
         "legendgroup": "Dominican Republic",
         "marker": {
          "color": "#8C564B",
          "size": [
           10847904
          ],
          "sizemode": "area",
          "sizeref": 293739.5457142857,
          "symbol": "circle"
         },
         "mode": "markers",
         "name": "Dominican Republic",
         "orientation": "v",
         "showlegend": true,
         "textposition": "top center",
         "type": "scatter",
         "x": [
          47756.2600896861
         ],
         "xaxis": "x",
         "y": [
          981.3333333333334
         ],
         "yaxis": "y"
        },
        {
         "hovertemplate": "<b>%{hovertext}</b><br><br>location=Ecuador<br>total_cases=%{x}<br>total_deaths=%{y}<br>population=%{marker.size}<extra></extra>",
         "hovertext": [
          "Ecuador"
         ],
         "legendgroup": "Ecuador",
         "marker": {
          "color": "#E377C2",
          "size": [
           17643060
          ],
          "sizemode": "area",
          "sizeref": 293739.5457142857,
          "symbol": "circle"
         },
         "mode": "markers",
         "name": "Ecuador",
         "orientation": "v",
         "showlegend": true,
         "textposition": "top center",
         "type": "scatter",
         "x": [
          63196.30263157895
         ],
         "xaxis": "x",
         "y": [
          4926.131818181818
         ],
         "yaxis": "y"
        },
        {
         "hovertemplate": "<b>%{hovertext}</b><br><br>location=Egypt<br>total_cases=%{x}<br>total_deaths=%{y}<br>population=%{marker.size}<extra></extra>",
         "hovertext": [
          "Egypt"
         ],
         "legendgroup": "Egypt",
         "marker": {
          "color": "#7F7F7F",
          "size": [
           102334403
          ],
          "sizemode": "area",
          "sizeref": 293739.5457142857,
          "symbol": "circle"
         },
         "mode": "markers",
         "name": "Egypt",
         "orientation": "v",
         "showlegend": true,
         "textposition": "top center",
         "type": "scatter",
         "x": [
          50913.29918032787
         ],
         "xaxis": "x",
         "y": [
          2864.071111111111
         ],
         "yaxis": "y"
        },
        {
         "hovertemplate": "<b>%{hovertext}</b><br><br>location=El Salvador<br>total_cases=%{x}<br>total_deaths=%{y}<br>population=%{marker.size}<extra></extra>",
         "hovertext": [
          "El Salvador"
         ],
         "legendgroup": "El Salvador",
         "marker": {
          "color": "#BCBD22",
          "size": [
           6486201
          ],
          "sizemode": "area",
          "sizeref": 293739.5457142857,
          "symbol": "circle"
         },
         "mode": "markers",
         "name": "El Salvador",
         "orientation": "v",
         "showlegend": true,
         "textposition": "top center",
         "type": "scatter",
         "x": [
          11968.4
         ],
         "xaxis": "x",
         "y": [
          356.2227722772277
         ],
         "yaxis": "y"
        },
        {
         "hovertemplate": "<b>%{hovertext}</b><br><br>location=Equatorial Guinea<br>total_cases=%{x}<br>total_deaths=%{y}<br>population=%{marker.size}<extra></extra>",
         "hovertext": [
          "Equatorial Guinea"
         ],
         "legendgroup": "Equatorial Guinea",
         "marker": {
          "color": "#17BECF",
          "size": [
           1402985
          ],
          "sizemode": "area",
          "sizeref": 293739.5457142857,
          "symbol": "circle"
         },
         "mode": "markers",
         "name": "Equatorial Guinea",
         "orientation": "v",
         "showlegend": true,
         "textposition": "top center",
         "type": "scatter",
         "x": [
          2545
         ],
         "xaxis": "x",
         "y": [
          49.98324022346369
         ],
         "yaxis": "y"
        },
        {
         "hovertemplate": "<b>%{hovertext}</b><br><br>location=Eritrea<br>total_cases=%{x}<br>total_deaths=%{y}<br>population=%{marker.size}<extra></extra>",
         "hovertext": [
          "Eritrea"
         ],
         "legendgroup": "Eritrea",
         "marker": {
          "color": "#1F77B4",
          "size": [
           3546427
          ],
          "sizemode": "area",
          "sizeref": 293739.5457142857,
          "symbol": "circle"
         },
         "mode": "markers",
         "name": "Eritrea",
         "orientation": "v",
         "showlegend": true,
         "textposition": "top center",
         "type": "scatter",
         "x": [
          188.80188679245282
         ],
         "xaxis": "x",
         "y": [
          null
         ],
         "yaxis": "y"
        },
        {
         "hovertemplate": "<b>%{hovertext}</b><br><br>location=Estonia<br>total_cases=%{x}<br>total_deaths=%{y}<br>population=%{marker.size}<extra></extra>",
         "hovertext": [
          "Estonia"
         ],
         "legendgroup": "Estonia",
         "marker": {
          "color": "#FF7F0E",
          "size": [
           1326539
          ],
          "sizemode": "area",
          "sizeref": 293739.5457142857,
          "symbol": "circle"
         },
         "mode": "markers",
         "name": "Estonia",
         "orientation": "v",
         "showlegend": true,
         "textposition": "top center",
         "type": "scatter",
         "x": [
          1936.5304347826086
         ],
         "xaxis": "x",
         "y": [
          56.74038461538461
         ],
         "yaxis": "y"
        },
        {
         "hovertemplate": "<b>%{hovertext}</b><br><br>location=Ethiopia<br>total_cases=%{x}<br>total_deaths=%{y}<br>population=%{marker.size}<extra></extra>",
         "hovertext": [
          "Ethiopia"
         ],
         "legendgroup": "Ethiopia",
         "marker": {
          "color": "#2CA02C",
          "size": [
           114963583
          ],
          "sizemode": "area",
          "sizeref": 293739.5457142857,
          "symbol": "circle"
         },
         "mode": "markers",
         "name": "Ethiopia",
         "orientation": "v",
         "showlegend": true,
         "textposition": "top center",
         "type": "scatter",
         "x": [
          22165.53181818182
         ],
         "xaxis": "x",
         "y": [
          394.34517766497464
         ],
         "yaxis": "y"
        },
        {
         "hovertemplate": "<b>%{hovertext}</b><br><br>location=Faeroe Islands<br>total_cases=%{x}<br>total_deaths=%{y}<br>population=%{marker.size}<extra></extra>",
         "hovertext": [
          "Faeroe Islands"
         ],
         "legendgroup": "Faeroe Islands",
         "marker": {
          "color": "#D62728",
          "size": [
           48865
          ],
          "sizemode": "area",
          "sizeref": 293739.5457142857,
          "symbol": "circle"
         },
         "mode": "markers",
         "name": "Faeroe Islands",
         "orientation": "v",
         "showlegend": true,
         "textposition": "top center",
         "type": "scatter",
         "x": [
          249.53070175438597
         ],
         "xaxis": "x",
         "y": [
          null
         ],
         "yaxis": "y"
        },
        {
         "hovertemplate": "<b>%{hovertext}</b><br><br>location=Falkland Islands<br>total_cases=%{x}<br>total_deaths=%{y}<br>population=%{marker.size}<extra></extra>",
         "hovertext": [
          "Falkland Islands"
         ],
         "legendgroup": "Falkland Islands",
         "marker": {
          "color": "#9467BD",
          "size": [
           3483
          ],
          "sizemode": "area",
          "sizeref": 293739.5457142857,
          "symbol": "circle"
         },
         "mode": "markers",
         "name": "Falkland Islands",
         "orientation": "v",
         "showlegend": true,
         "textposition": "top center",
         "type": "scatter",
         "x": [
          12.396984924623116
         ],
         "xaxis": "x",
         "y": [
          null
         ],
         "yaxis": "y"
        },
        {
         "hovertemplate": "<b>%{hovertext}</b><br><br>location=Fiji<br>total_cases=%{x}<br>total_deaths=%{y}<br>population=%{marker.size}<extra></extra>",
         "hovertext": [
          "Fiji"
         ],
         "legendgroup": "Fiji",
         "marker": {
          "color": "#8C564B",
          "size": [
           896444
          ],
          "sizemode": "area",
          "sizeref": 293739.5457142857,
          "symbol": "circle"
         },
         "mode": "markers",
         "name": "Fiji",
         "orientation": "v",
         "showlegend": true,
         "textposition": "top center",
         "type": "scatter",
         "x": [
          22.1588785046729
         ],
         "xaxis": "x",
         "y": [
          1.65
         ],
         "yaxis": "y"
        },
        {
         "hovertemplate": "<b>%{hovertext}</b><br><br>location=Finland<br>total_cases=%{x}<br>total_deaths=%{y}<br>population=%{marker.size}<extra></extra>",
         "hovertext": [
          "Finland"
         ],
         "legendgroup": "Finland",
         "marker": {
          "color": "#E377C2",
          "size": [
           5540718
          ],
          "sizemode": "area",
          "sizeref": 293739.5457142857,
          "symbol": "circle"
         },
         "mode": "markers",
         "name": "Finland",
         "orientation": "v",
         "showlegend": true,
         "textposition": "top center",
         "type": "scatter",
         "x": [
          5609.553846153846
         ],
         "xaxis": "x",
         "y": [
          275.3632075471698
         ],
         "yaxis": "y"
        },
        {
         "hovertemplate": "<b>%{hovertext}</b><br><br>location=France<br>total_cases=%{x}<br>total_deaths=%{y}<br>population=%{marker.size}<extra></extra>",
         "hovertext": [
          "France"
         ],
         "legendgroup": "France",
         "marker": {
          "color": "#7F7F7F",
          "size": [
           65273512
          ],
          "sizemode": "area",
          "sizeref": 293739.5457142857,
          "symbol": "circle"
         },
         "mode": "markers",
         "name": "France",
         "orientation": "v",
         "showlegend": true,
         "textposition": "top center",
         "type": "scatter",
         "x": [
          186187.11895910781
         ],
         "xaxis": "x",
         "y": [
          22715.5
         ],
         "yaxis": "y"
        },
        {
         "hovertemplate": "<b>%{hovertext}</b><br><br>location=French Polynesia<br>total_cases=%{x}<br>total_deaths=%{y}<br>population=%{marker.size}<extra></extra>",
         "hovertext": [
          "French Polynesia"
         ],
         "legendgroup": "French Polynesia",
         "marker": {
          "color": "#BCBD22",
          "size": [
           280904
          ],
          "sizemode": "area",
          "sizeref": 293739.5457142857,
          "symbol": "circle"
         },
         "mode": "markers",
         "name": "French Polynesia",
         "orientation": "v",
         "showlegend": true,
         "textposition": "top center",
         "type": "scatter",
         "x": [
          443.66511627906976
         ],
         "xaxis": "x",
         "y": [
          6.842105263157895
         ],
         "yaxis": "y"
        },
        {
         "hovertemplate": "<b>%{hovertext}</b><br><br>location=Gabon<br>total_cases=%{x}<br>total_deaths=%{y}<br>population=%{marker.size}<extra></extra>",
         "hovertext": [
          "Gabon"
         ],
         "legendgroup": "Gabon",
         "marker": {
          "color": "#17BECF",
          "size": [
           2225728
          ],
          "sizemode": "area",
          "sizeref": 293739.5457142857,
          "symbol": "circle"
         },
         "mode": "markers",
         "name": "Gabon",
         "orientation": "v",
         "showlegend": true,
         "textposition": "top center",
         "type": "scatter",
         "x": [
          4690.013636363637
         ],
         "xaxis": "x",
         "y": [
          32.286384976525824
         ],
         "yaxis": "y"
        },
        {
         "hovertemplate": "<b>%{hovertext}</b><br><br>location=Gambia<br>total_cases=%{x}<br>total_deaths=%{y}<br>population=%{marker.size}<extra></extra>",
         "hovertext": [
          "Gambia"
         ],
         "legendgroup": "Gambia",
         "marker": {
          "color": "#1F77B4",
          "size": [
           2416664
          ],
          "sizemode": "area",
          "sizeref": 293739.5457142857,
          "symbol": "circle"
         },
         "mode": "markers",
         "name": "Gambia",
         "orientation": "v",
         "showlegend": true,
         "textposition": "top center",
         "type": "scatter",
         "x": [
          1062.5972222222222
         ],
         "xaxis": "x",
         "y": [
          34.29047619047619
         ],
         "yaxis": "y"
        },
        {
         "hovertemplate": "<b>%{hovertext}</b><br><br>location=Georgia<br>total_cases=%{x}<br>total_deaths=%{y}<br>population=%{marker.size}<extra></extra>",
         "hovertext": [
          "Georgia"
         ],
         "legendgroup": "Georgia",
         "marker": {
          "color": "#FF7F0E",
          "size": [
           3989175
          ],
          "sizemode": "area",
          "sizeref": 293739.5457142857,
          "symbol": "circle"
         },
         "mode": "markers",
         "name": "Georgia",
         "orientation": "v",
         "showlegend": true,
         "textposition": "top center",
         "type": "scatter",
         "x": [
          1852.7424892703862
         ],
         "xaxis": "x",
         "y": [
          20.370558375634516
         ],
         "yaxis": "y"
        },
        {
         "hovertemplate": "<b>%{hovertext}</b><br><br>location=Germany<br>total_cases=%{x}<br>total_deaths=%{y}<br>population=%{marker.size}<extra></extra>",
         "hovertext": [
          "Germany"
         ],
         "legendgroup": "Germany",
         "marker": {
          "color": "#2CA02C",
          "size": [
           83783945
          ],
          "sizemode": "area",
          "sizeref": 293739.5457142857,
          "symbol": "circle"
         },
         "mode": "markers",
         "name": "Germany",
         "orientation": "v",
         "showlegend": true,
         "textposition": "top center",
         "type": "scatter",
         "x": [
          159577.73684210525
         ],
         "xaxis": "x",
         "y": [
          7324.513392857143
         ],
         "yaxis": "y"
        },
        {
         "hovertemplate": "<b>%{hovertext}</b><br><br>location=Ghana<br>total_cases=%{x}<br>total_deaths=%{y}<br>population=%{marker.size}<extra></extra>",
         "hovertext": [
          "Ghana"
         ],
         "legendgroup": "Ghana",
         "marker": {
          "color": "#D62728",
          "size": [
           31072945
          ],
          "sizemode": "area",
          "sizeref": 293739.5457142857,
          "symbol": "circle"
         },
         "mode": "markers",
         "name": "Ghana",
         "orientation": "v",
         "showlegend": true,
         "textposition": "top center",
         "type": "scatter",
         "x": [
          22275.677272727273
         ],
         "xaxis": "x",
         "y": [
          137.46698113207546
         ],
         "yaxis": "y"
        },
        {
         "hovertemplate": "<b>%{hovertext}</b><br><br>location=Gibraltar<br>total_cases=%{x}<br>total_deaths=%{y}<br>population=%{marker.size}<extra></extra>",
         "hovertext": [
          "Gibraltar"
         ],
         "legendgroup": "Gibraltar",
         "marker": {
          "color": "#9467BD",
          "size": [
           33691
          ],
          "sizemode": "area",
          "sizeref": 293739.5457142857,
          "symbol": "circle"
         },
         "mode": "markers",
         "name": "Gibraltar",
         "orientation": "v",
         "showlegend": true,
         "textposition": "top center",
         "type": "scatter",
         "x": [
          211.86915887850466
         ],
         "xaxis": "x",
         "y": [
          null
         ],
         "yaxis": "y"
        },
        {
         "hovertemplate": "<b>%{hovertext}</b><br><br>location=Greece<br>total_cases=%{x}<br>total_deaths=%{y}<br>population=%{marker.size}<extra></extra>",
         "hovertext": [
          "Greece"
         ],
         "legendgroup": "Greece",
         "marker": {
          "color": "#8C564B",
          "size": [
           10423056
          ],
          "sizemode": "area",
          "sizeref": 293739.5457142857,
          "symbol": "circle"
         },
         "mode": "markers",
         "name": "Greece",
         "orientation": "v",
         "showlegend": true,
         "textposition": "top center",
         "type": "scatter",
         "x": [
          6074.65811965812
         ],
         "xaxis": "x",
         "y": [
          201.82432432432432
         ],
         "yaxis": "y"
        },
        {
         "hovertemplate": "<b>%{hovertext}</b><br><br>location=Greenland<br>total_cases=%{x}<br>total_deaths=%{y}<br>population=%{marker.size}<extra></extra>",
         "hovertext": [
          "Greenland"
         ],
         "legendgroup": "Greenland",
         "marker": {
          "color": "#E377C2",
          "size": [
           56772
          ],
          "sizemode": "area",
          "sizeref": 293739.5457142857,
          "symbol": "circle"
         },
         "mode": "markers",
         "name": "Greenland",
         "orientation": "v",
         "showlegend": true,
         "textposition": "top center",
         "type": "scatter",
         "x": [
          12.514018691588785
         ],
         "xaxis": "x",
         "y": [
          null
         ],
         "yaxis": "y"
        },
        {
         "hovertemplate": "<b>%{hovertext}</b><br><br>location=Grenada<br>total_cases=%{x}<br>total_deaths=%{y}<br>population=%{marker.size}<extra></extra>",
         "hovertext": [
          "Grenada"
         ],
         "legendgroup": "Grenada",
         "marker": {
          "color": "#7F7F7F",
          "size": [
           112519
          ],
          "sizemode": "area",
          "sizeref": 293739.5457142857,
          "symbol": "circle"
         },
         "mode": "markers",
         "name": "Grenada",
         "orientation": "v",
         "showlegend": true,
         "textposition": "top center",
         "type": "scatter",
         "x": [
          21.18483412322275
         ],
         "xaxis": "x",
         "y": [
          null
         ],
         "yaxis": "y"
        },
        {
         "hovertemplate": "<b>%{hovertext}</b><br><br>location=Guam<br>total_cases=%{x}<br>total_deaths=%{y}<br>population=%{marker.size}<extra></extra>",
         "hovertext": [
          "Guam"
         ],
         "legendgroup": "Guam",
         "marker": {
          "color": "#BCBD22",
          "size": [
           168783
          ],
          "sizemode": "area",
          "sizeref": 293739.5457142857,
          "symbol": "circle"
         },
         "mode": "markers",
         "name": "Guam",
         "orientation": "v",
         "showlegend": true,
         "textposition": "top center",
         "type": "scatter",
         "x": [
          748.7209302325581
         ],
         "xaxis": "x",
         "y": [
          12.806603773584905
         ],
         "yaxis": "y"
        },
        {
         "hovertemplate": "<b>%{hovertext}</b><br><br>location=Guatemala<br>total_cases=%{x}<br>total_deaths=%{y}<br>population=%{marker.size}<extra></extra>",
         "hovertext": [
          "Guatemala"
         ],
         "legendgroup": "Guatemala",
         "marker": {
          "color": "#17BECF",
          "size": [
           17915567
          ],
          "sizemode": "area",
          "sizeref": 293739.5457142857,
          "symbol": "circle"
         },
         "mode": "markers",
         "name": "Guatemala",
         "orientation": "v",
         "showlegend": true,
         "textposition": "top center",
         "type": "scatter",
         "x": [
          34906.05479452055
         ],
         "xaxis": "x",
         "y": [
          1291.6880733944954
         ],
         "yaxis": "y"
        },
        {
         "hovertemplate": "<b>%{hovertext}</b><br><br>location=Guernsey<br>total_cases=%{x}<br>total_deaths=%{y}<br>population=%{marker.size}<extra></extra>",
         "hovertext": [
          "Guernsey"
         ],
         "legendgroup": "Guernsey",
         "marker": {
          "color": "#1F77B4",
          "size": [
           67052
          ],
          "sizemode": "area",
          "sizeref": 293739.5457142857,
          "symbol": "circle"
         },
         "mode": "markers",
         "name": "Guernsey",
         "orientation": "v",
         "showlegend": true,
         "textposition": "top center",
         "type": "scatter",
         "x": [
          232.77570093457945
         ],
         "xaxis": "x",
         "y": [
          12.311557788944723
         ],
         "yaxis": "y"
        },
        {
         "hovertemplate": "<b>%{hovertext}</b><br><br>location=Guinea<br>total_cases=%{x}<br>total_deaths=%{y}<br>population=%{marker.size}<extra></extra>",
         "hovertext": [
          "Guinea"
         ],
         "legendgroup": "Guinea",
         "marker": {
          "color": "#FF7F0E",
          "size": [
           13132792
          ],
          "sizemode": "area",
          "sizeref": 293739.5457142857,
          "symbol": "circle"
         },
         "mode": "markers",
         "name": "Guinea",
         "orientation": "v",
         "showlegend": true,
         "textposition": "top center",
         "type": "scatter",
         "x": [
          5460.438356164384
         ],
         "xaxis": "x",
         "y": [
          38.94652406417112
         ],
         "yaxis": "y"
        },
        {
         "hovertemplate": "<b>%{hovertext}</b><br><br>location=Guinea-Bissau<br>total_cases=%{x}<br>total_deaths=%{y}<br>population=%{marker.size}<extra></extra>",
         "hovertext": [
          "Guinea-Bissau"
         ],
         "legendgroup": "Guinea-Bissau",
         "marker": {
          "color": "#2CA02C",
          "size": [
           1967998
          ],
          "sizemode": "area",
          "sizeref": 293739.5457142857,
          "symbol": "circle"
         },
         "mode": "markers",
         "name": "Guinea-Bissau",
         "orientation": "v",
         "showlegend": true,
         "textposition": "top center",
         "type": "scatter",
         "x": [
          1480.9855072463768
         ],
         "xaxis": "x",
         "y": [
          23.857954545454547
         ],
         "yaxis": "y"
        },
        {
         "hovertemplate": "<b>%{hovertext}</b><br><br>location=Guyana<br>total_cases=%{x}<br>total_deaths=%{y}<br>population=%{marker.size}<extra></extra>",
         "hovertext": [
          "Guyana"
         ],
         "legendgroup": "Guyana",
         "marker": {
          "color": "#D62728",
          "size": [
           786559
          ],
          "sizemode": "area",
          "sizeref": 293739.5457142857,
          "symbol": "circle"
         },
         "mode": "markers",
         "name": "Guyana",
         "orientation": "v",
         "showlegend": true,
         "textposition": "top center",
         "type": "scatter",
         "x": [
          762.1780821917808
         ],
         "xaxis": "x",
         "y": [
          26.40639269406393
         ],
         "yaxis": "y"
        },
        {
         "hovertemplate": "<b>%{hovertext}</b><br><br>location=Haiti<br>total_cases=%{x}<br>total_deaths=%{y}<br>population=%{marker.size}<extra></extra>",
         "hovertext": [
          "Haiti"
         ],
         "legendgroup": "Haiti",
         "marker": {
          "color": "#9467BD",
          "size": [
           11402533
          ],
          "sizemode": "area",
          "sizeref": 293739.5457142857,
          "symbol": "circle"
         },
         "mode": "markers",
         "name": "Haiti",
         "orientation": "v",
         "showlegend": true,
         "textposition": "top center",
         "type": "scatter",
         "x": [
          4781.098130841122
         ],
         "xaxis": "x",
         "y": [
          121.89285714285714
         ],
         "yaxis": "y"
        },
        {
         "hovertemplate": "<b>%{hovertext}</b><br><br>location=Honduras<br>total_cases=%{x}<br>total_deaths=%{y}<br>population=%{marker.size}<extra></extra>",
         "hovertext": [
          "Honduras"
         ],
         "legendgroup": "Honduras",
         "marker": {
          "color": "#8C564B",
          "size": [
           9904608
          ],
          "sizemode": "area",
          "sizeref": 293739.5457142857,
          "symbol": "circle"
         },
         "mode": "markers",
         "name": "Honduras",
         "orientation": "v",
         "showlegend": true,
         "textposition": "top center",
         "type": "scatter",
         "x": [
          29752.26818181818
         ],
         "xaxis": "x",
         "y": [
          970.2608695652174
         ],
         "yaxis": "y"
        },
        {
         "hovertemplate": "<b>%{hovertext}</b><br><br>location=Hong Kong<br>total_cases=%{x}<br>total_deaths=%{y}<br>population=%{marker.size}<extra></extra>",
         "hovertext": [
          "Hong Kong"
         ],
         "legendgroup": "Hong Kong",
         "marker": {
          "color": "#E377C2",
          "size": [
           7496988
          ],
          "sizemode": "area",
          "sizeref": 293739.5457142857,
          "symbol": "circle"
         },
         "mode": "markers",
         "name": "Hong Kong",
         "orientation": "v",
         "showlegend": true,
         "textposition": "top center",
         "type": "scatter",
         "x": [
          null
         ],
         "xaxis": "x",
         "y": [
          null
         ],
         "yaxis": "y"
        },
        {
         "hovertemplate": "<b>%{hovertext}</b><br><br>location=Hungary<br>total_cases=%{x}<br>total_deaths=%{y}<br>population=%{marker.size}<extra></extra>",
         "hovertext": [
          "Hungary"
         ],
         "legendgroup": "Hungary",
         "marker": {
          "color": "#7F7F7F",
          "size": [
           9660350
          ],
          "sizemode": "area",
          "sizeref": 293739.5457142857,
          "symbol": "circle"
         },
         "mode": "markers",
         "name": "Hungary",
         "orientation": "v",
         "showlegend": true,
         "textposition": "top center",
         "type": "scatter",
         "x": [
          7494.728070175439
         ],
         "xaxis": "x",
         "y": [
          505.23853211009174
         ],
         "yaxis": "y"
        },
        {
         "hovertemplate": "<b>%{hovertext}</b><br><br>location=Iceland<br>total_cases=%{x}<br>total_deaths=%{y}<br>population=%{marker.size}<extra></extra>",
         "hovertext": [
          "Iceland"
         ],
         "legendgroup": "Iceland",
         "marker": {
          "color": "#BCBD22",
          "size": [
           341250
          ],
          "sizemode": "area",
          "sizeref": 293739.5457142857,
          "symbol": "circle"
         },
         "mode": "markers",
         "name": "Iceland",
         "orientation": "v",
         "showlegend": true,
         "textposition": "top center",
         "type": "scatter",
         "x": [
          1800.042735042735
         ],
         "xaxis": "x",
         "y": [
          9.19626168224299
         ],
         "yaxis": "y"
        },
        {
         "hovertemplate": "<b>%{hovertext}</b><br><br>location=India<br>total_cases=%{x}<br>total_deaths=%{y}<br>population=%{marker.size}<extra></extra>",
         "hovertext": [
          "India"
         ],
         "legendgroup": "India",
         "marker": {
          "color": "#17BECF",
          "size": [
           1380004385
          ],
          "sizemode": "area",
          "sizeref": 293739.5457142857,
          "symbol": "circle"
         },
         "mode": "markers",
         "name": "India",
         "orientation": "v",
         "showlegend": true,
         "textposition": "top center",
         "type": "scatter",
         "x": [
          1550462.4144486692
         ],
         "xaxis": "x",
         "y": [
          32793.33484162896
         ],
         "yaxis": "y"
        },
        {
         "hovertemplate": "<b>%{hovertext}</b><br><br>location=Indonesia<br>total_cases=%{x}<br>total_deaths=%{y}<br>population=%{marker.size}<extra></extra>",
         "hovertext": [
          "Indonesia"
         ],
         "legendgroup": "Indonesia",
         "marker": {
          "color": "#1F77B4",
          "size": [
           273523621
          ],
          "sizemode": "area",
          "sizeref": 293739.5457142857,
          "symbol": "circle"
         },
         "mode": "markers",
         "name": "Indonesia",
         "orientation": "v",
         "showlegend": true,
         "textposition": "top center",
         "type": "scatter",
         "x": [
          95867.3288888889
         ],
         "xaxis": "x",
         "y": [
          4145.298642533937
         ],
         "yaxis": "y"
        },
        {
         "hovertemplate": "<b>%{hovertext}</b><br><br>location=Iran<br>total_cases=%{x}<br>total_deaths=%{y}<br>population=%{marker.size}<extra></extra>",
         "hovertext": [
          "Iran"
         ],
         "legendgroup": "Iran",
         "marker": {
          "color": "#FF7F0E",
          "size": [
           83992953
          ],
          "sizemode": "area",
          "sizeref": 293739.5457142857,
          "symbol": "circle"
         },
         "mode": "markers",
         "name": "Iran",
         "orientation": "v",
         "showlegend": true,
         "textposition": "top center",
         "type": "scatter",
         "x": [
          215727.91769547324
         ],
         "xaxis": "x",
         "y": [
          11992.057613168725
         ],
         "yaxis": "y"
        },
        {
         "hovertemplate": "<b>%{hovertext}</b><br><br>location=Iraq<br>total_cases=%{x}<br>total_deaths=%{y}<br>population=%{marker.size}<extra></extra>",
         "hovertext": [
          "Iraq"
         ],
         "legendgroup": "Iraq",
         "marker": {
          "color": "#2CA02C",
          "size": [
           40222503
          ],
          "sizemode": "area",
          "sizeref": 293739.5457142857,
          "symbol": "circle"
         },
         "mode": "markers",
         "name": "Iraq",
         "orientation": "v",
         "showlegend": true,
         "textposition": "top center",
         "type": "scatter",
         "x": [
          85987.52380952382
         ],
         "xaxis": "x",
         "y": [
          2531.4727891156463
         ],
         "yaxis": "y"
        },
        {
         "hovertemplate": "<b>%{hovertext}</b><br><br>location=Ireland<br>total_cases=%{x}<br>total_deaths=%{y}<br>population=%{marker.size}<extra></extra>",
         "hovertext": [
          "Ireland"
         ],
         "legendgroup": "Ireland",
         "marker": {
          "color": "#D62728",
          "size": [
           4937796
          ],
          "sizemode": "area",
          "sizeref": 293739.5457142857,
          "symbol": "circle"
         },
         "mode": "markers",
         "name": "Ireland",
         "orientation": "v",
         "showlegend": true,
         "textposition": "top center",
         "type": "scatter",
         "x": [
          17822.442176870747
         ],
         "xaxis": "x",
         "y": [
          1055.1054421768708
         ],
         "yaxis": "y"
        },
        {
         "hovertemplate": "<b>%{hovertext}</b><br><br>location=Isle of Man<br>total_cases=%{x}<br>total_deaths=%{y}<br>population=%{marker.size}<extra></extra>",
         "hovertext": [
          "Isle of Man"
         ],
         "legendgroup": "Isle of Man",
         "marker": {
          "color": "#9467BD",
          "size": [
           85032
          ],
          "sizemode": "area",
          "sizeref": 293739.5457142857,
          "symbol": "circle"
         },
         "mode": "markers",
         "name": "Isle of Man",
         "orientation": "v",
         "showlegend": true,
         "textposition": "top center",
         "type": "scatter",
         "x": [
          304.85915492957747
         ],
         "xaxis": "x",
         "y": [
          20.23474178403756
         ],
         "yaxis": "y"
        },
        {
         "hovertemplate": "<b>%{hovertext}</b><br><br>location=Israel<br>total_cases=%{x}<br>total_deaths=%{y}<br>population=%{marker.size}<extra></extra>",
         "hovertext": [
          "Israel"
         ],
         "legendgroup": "Israel",
         "marker": {
          "color": "#8C564B",
          "size": [
           8655541
          ],
          "sizemode": "area",
          "sizeref": 293739.5457142857,
          "symbol": "circle"
         },
         "mode": "markers",
         "name": "Israel",
         "orientation": "v",
         "showlegend": true,
         "textposition": "top center",
         "type": "scatter",
         "x": [
          55110.45578231292
         ],
         "xaxis": "x",
         "y": [
          429.5170068027211
         ],
         "yaxis": "y"
        },
        {
         "hovertemplate": "<b>%{hovertext}</b><br><br>location=Italy<br>total_cases=%{x}<br>total_deaths=%{y}<br>population=%{marker.size}<extra></extra>",
         "hovertext": [
          "Italy"
         ],
         "legendgroup": "Italy",
         "marker": {
          "color": "#E377C2",
          "size": [
           60461828
          ],
          "sizemode": "area",
          "sizeref": 293739.5457142857,
          "symbol": "circle"
         },
         "mode": "markers",
         "name": "Italy",
         "orientation": "v",
         "showlegend": true,
         "textposition": "top center",
         "type": "scatter",
         "x": [
          172628.75170068027
         ],
         "xaxis": "x",
         "y": [
          22667.431972789116
         ],
         "yaxis": "y"
        },
        {
         "hovertemplate": "<b>%{hovertext}</b><br><br>location=Jamaica<br>total_cases=%{x}<br>total_deaths=%{y}<br>population=%{marker.size}<extra></extra>",
         "hovertext": [
          "Jamaica"
         ],
         "legendgroup": "Jamaica",
         "marker": {
          "color": "#7F7F7F",
          "size": [
           2961161
          ],
          "sizemode": "area",
          "sizeref": 293739.5457142857,
          "symbol": "circle"
         },
         "mode": "markers",
         "name": "Jamaica",
         "orientation": "v",
         "showlegend": true,
         "textposition": "top center",
         "type": "scatter",
         "x": [
          1678.235294117647
         ],
         "xaxis": "x",
         "y": [
          25.579185520361992
         ],
         "yaxis": "y"
        },
        {
         "hovertemplate": "<b>%{hovertext}</b><br><br>location=Japan<br>total_cases=%{x}<br>total_deaths=%{y}<br>population=%{marker.size}<extra></extra>",
         "hovertext": [
          "Japan"
         ],
         "legendgroup": "Japan",
         "marker": {
          "color": "#BCBD22",
          "size": [
           126476458
          ],
          "sizemode": "area",
          "sizeref": 293739.5457142857,
          "symbol": "circle"
         },
         "mode": "markers",
         "name": "Japan",
         "orientation": "v",
         "showlegend": true,
         "textposition": "top center",
         "type": "scatter",
         "x": [
          26052.666666666668
         ],
         "xaxis": "x",
         "y": [
          662.9863945578231
         ],
         "yaxis": "y"
        },
        {
         "hovertemplate": "<b>%{hovertext}</b><br><br>location=Jersey<br>total_cases=%{x}<br>total_deaths=%{y}<br>population=%{marker.size}<extra></extra>",
         "hovertext": [
          "Jersey"
         ],
         "legendgroup": "Jersey",
         "marker": {
          "color": "#17BECF",
          "size": [
           101073
          ],
          "sizemode": "area",
          "sizeref": 293739.5457142857,
          "symbol": "circle"
         },
         "mode": "markers",
         "name": "Jersey",
         "orientation": "v",
         "showlegend": true,
         "textposition": "top center",
         "type": "scatter",
         "x": [
          312.0420560747664
         ],
         "xaxis": "x",
         "y": [
          25.827102803738317
         ],
         "yaxis": "y"
        },
        {
         "hovertemplate": "<b>%{hovertext}</b><br><br>location=Jordan<br>total_cases=%{x}<br>total_deaths=%{y}<br>population=%{marker.size}<extra></extra>",
         "hovertext": [
          "Jordan"
         ],
         "legendgroup": "Jordan",
         "marker": {
          "color": "#1F77B4",
          "size": [
           10203140
          ],
          "sizemode": "area",
          "sizeref": 293739.5457142857,
          "symbol": "circle"
         },
         "mode": "markers",
         "name": "Jordan",
         "orientation": "v",
         "showlegend": true,
         "textposition": "top center",
         "type": "scatter",
         "x": [
          3156.4493392070485
         ],
         "xaxis": "x",
         "y": [
          24.90308370044053
         ],
         "yaxis": "y"
        },
        {
         "hovertemplate": "<b>%{hovertext}</b><br><br>location=Kazakhstan<br>total_cases=%{x}<br>total_deaths=%{y}<br>population=%{marker.size}<extra></extra>",
         "hovertext": [
          "Kazakhstan"
         ],
         "legendgroup": "Kazakhstan",
         "marker": {
          "color": "#FF7F0E",
          "size": [
           18776707
          ],
          "sizemode": "area",
          "sizeref": 293739.5457142857,
          "symbol": "circle"
         },
         "mode": "markers",
         "name": "Kazakhstan",
         "orientation": "v",
         "showlegend": true,
         "textposition": "top center",
         "type": "scatter",
         "x": [
          59705.262443438914
         ],
         "xaxis": "x",
         "y": [
          730.6787330316743
         ],
         "yaxis": "y"
        },
        {
         "hovertemplate": "<b>%{hovertext}</b><br><br>location=Kenya<br>total_cases=%{x}<br>total_deaths=%{y}<br>population=%{marker.size}<extra></extra>",
         "hovertext": [
          "Kenya"
         ],
         "legendgroup": "Kenya",
         "marker": {
          "color": "#2CA02C",
          "size": [
           53771300
          ],
          "sizemode": "area",
          "sizeref": 293739.5457142857,
          "symbol": "circle"
         },
         "mode": "markers",
         "name": "Kenya",
         "orientation": "v",
         "showlegend": true,
         "textposition": "top center",
         "type": "scatter",
         "x": [
          14376.026315789473
         ],
         "xaxis": "x",
         "y": [
          260.89912280701753
         ],
         "yaxis": "y"
        },
        {
         "hovertemplate": "<b>%{hovertext}</b><br><br>location=Kosovo<br>total_cases=%{x}<br>total_deaths=%{y}<br>population=%{marker.size}<extra></extra>",
         "hovertext": [
          "Kosovo"
         ],
         "legendgroup": "Kosovo",
         "marker": {
          "color": "#D62728",
          "size": [
           1932774
          ],
          "sizemode": "area",
          "sizeref": 293739.5457142857,
          "symbol": "circle"
         },
         "mode": "markers",
         "name": "Kosovo",
         "orientation": "v",
         "showlegend": true,
         "textposition": "top center",
         "type": "scatter",
         "x": [
          6117.909090909091
         ],
         "xaxis": "x",
         "y": [
          216.23181818181817
         ],
         "yaxis": "y"
        },
        {
         "hovertemplate": "<b>%{hovertext}</b><br><br>location=Kuwait<br>total_cases=%{x}<br>total_deaths=%{y}<br>population=%{marker.size}<extra></extra>",
         "hovertext": [
          "Kuwait"
         ],
         "legendgroup": "Kuwait",
         "marker": {
          "color": "#9467BD",
          "size": [
           4270563
          ],
          "sizemode": "area",
          "sizeref": 293739.5457142857,
          "symbol": "circle"
         },
         "mode": "markers",
         "name": "Kuwait",
         "orientation": "v",
         "showlegend": true,
         "textposition": "top center",
         "type": "scatter",
         "x": [
          36129.948979591834
         ],
         "xaxis": "x",
         "y": [
          235.04761904761904
         ],
         "yaxis": "y"
        },
        {
         "hovertemplate": "<b>%{hovertext}</b><br><br>location=Kyrgyzstan<br>total_cases=%{x}<br>total_deaths=%{y}<br>population=%{marker.size}<extra></extra>",
         "hovertext": [
          "Kyrgyzstan"
         ],
         "legendgroup": "Kyrgyzstan",
         "marker": {
          "color": "#8C564B",
          "size": [
           6524191
          ],
          "sizemode": "area",
          "sizeref": 293739.5457142857,
          "symbol": "circle"
         },
         "mode": "markers",
         "name": "Kyrgyzstan",
         "orientation": "v",
         "showlegend": true,
         "textposition": "top center",
         "type": "scatter",
         "x": [
          19943.474418604652
         ],
         "xaxis": "x",
         "y": [
          571.7512437810946
         ],
         "yaxis": "y"
        },
        {
         "hovertemplate": "<b>%{hovertext}</b><br><br>location=Laos<br>total_cases=%{x}<br>total_deaths=%{y}<br>population=%{marker.size}<extra></extra>",
         "hovertext": [
          "Laos"
         ],
         "legendgroup": "Laos",
         "marker": {
          "color": "#E377C2",
          "size": [
           7275556
          ],
          "sizemode": "area",
          "sizeref": 293739.5457142857,
          "symbol": "circle"
         },
         "mode": "markers",
         "name": "Laos",
         "orientation": "v",
         "showlegend": true,
         "textposition": "top center",
         "type": "scatter",
         "x": [
          19.32535885167464
         ],
         "xaxis": "x",
         "y": [
          0
         ],
         "yaxis": "y"
        },
        {
         "hovertemplate": "<b>%{hovertext}</b><br><br>location=Latvia<br>total_cases=%{x}<br>total_deaths=%{y}<br>population=%{marker.size}<extra></extra>",
         "hovertext": [
          "Latvia"
         ],
         "legendgroup": "Latvia",
         "marker": {
          "color": "#7F7F7F",
          "size": [
           1886202
          ],
          "sizemode": "area",
          "sizeref": 293739.5457142857,
          "symbol": "circle"
         },
         "mode": "markers",
         "name": "Latvia",
         "orientation": "v",
         "showlegend": true,
         "textposition": "top center",
         "type": "scatter",
         "x": [
          1127.5947136563877
         ],
         "xaxis": "x",
         "y": [
          22.974358974358974
         ],
         "yaxis": "y"
        },
        {
         "hovertemplate": "<b>%{hovertext}</b><br><br>location=Lebanon<br>total_cases=%{x}<br>total_deaths=%{y}<br>population=%{marker.size}<extra></extra>",
         "hovertext": [
          "Lebanon"
         ],
         "legendgroup": "Lebanon",
         "marker": {
          "color": "#BCBD22",
          "size": [
           6825442
          ],
          "sizemode": "area",
          "sizeref": 293739.5457142857,
          "symbol": "circle"
         },
         "mode": "markers",
         "name": "Lebanon",
         "orientation": "v",
         "showlegend": true,
         "textposition": "top center",
         "type": "scatter",
         "x": [
          7553.397959183673
         ],
         "xaxis": "x",
         "y": [
          78.44027303754267
         ],
         "yaxis": "y"
        },
        {
         "hovertemplate": "<b>%{hovertext}</b><br><br>location=Lesotho<br>total_cases=%{x}<br>total_deaths=%{y}<br>population=%{marker.size}<extra></extra>",
         "hovertext": [
          "Lesotho"
         ],
         "legendgroup": "Lesotho",
         "marker": {
          "color": "#17BECF",
          "size": [
           2142252
          ],
          "sizemode": "area",
          "sizeref": 293739.5457142857,
          "symbol": "circle"
         },
         "mode": "markers",
         "name": "Lesotho",
         "orientation": "v",
         "showlegend": true,
         "textposition": "top center",
         "type": "scatter",
         "x": [
          683.2151898734177
         ],
         "xaxis": "x",
         "y": [
          16.962025316455698
         ],
         "yaxis": "y"
        },
        {
         "hovertemplate": "<b>%{hovertext}</b><br><br>location=Liberia<br>total_cases=%{x}<br>total_deaths=%{y}<br>population=%{marker.size}<extra></extra>",
         "hovertext": [
          "Liberia"
         ],
         "legendgroup": "Liberia",
         "marker": {
          "color": "#1F77B4",
          "size": [
           5057677
          ],
          "sizemode": "area",
          "sizeref": 293739.5457142857,
          "symbol": "circle"
         },
         "mode": "markers",
         "name": "Liberia",
         "orientation": "v",
         "showlegend": true,
         "textposition": "top center",
         "type": "scatter",
         "x": [
          736.7741935483871
         ],
         "xaxis": "x",
         "y": [
          50.94444444444444
         ],
         "yaxis": "y"
        },
        {
         "hovertemplate": "<b>%{hovertext}</b><br><br>location=Libya<br>total_cases=%{x}<br>total_deaths=%{y}<br>population=%{marker.size}<extra></extra>",
         "hovertext": [
          "Libya"
         ],
         "legendgroup": "Libya",
         "marker": {
          "color": "#FF7F0E",
          "size": [
           6871287
          ],
          "sizemode": "area",
          "sizeref": 293739.5457142857,
          "symbol": "circle"
         },
         "mode": "markers",
         "name": "Libya",
         "orientation": "v",
         "showlegend": true,
         "textposition": "top center",
         "type": "scatter",
         "x": [
          7901.191304347826
         ],
         "xaxis": "x",
         "y": [
          129.2608695652174
         ],
         "yaxis": "y"
        },
        {
         "hovertemplate": "<b>%{hovertext}</b><br><br>location=Liechtenstein<br>total_cases=%{x}<br>total_deaths=%{y}<br>population=%{marker.size}<extra></extra>",
         "hovertext": [
          "Liechtenstein"
         ],
         "legendgroup": "Liechtenstein",
         "marker": {
          "color": "#2CA02C",
          "size": [
           38137
          ],
          "sizemode": "area",
          "sizeref": 293739.5457142857,
          "symbol": "circle"
         },
         "mode": "markers",
         "name": "Liechtenstein",
         "orientation": "v",
         "showlegend": true,
         "textposition": "top center",
         "type": "scatter",
         "x": [
          89.17040358744394
         ],
         "xaxis": "x",
         "y": [
          0.8839285714285714
         ],
         "yaxis": "y"
        },
        {
         "hovertemplate": "<b>%{hovertext}</b><br><br>location=Lithuania<br>total_cases=%{x}<br>total_deaths=%{y}<br>population=%{marker.size}<extra></extra>",
         "hovertext": [
          "Lithuania"
         ],
         "legendgroup": "Lithuania",
         "marker": {
          "color": "#D62728",
          "size": [
           2722291
          ],
          "sizemode": "area",
          "sizeref": 293739.5457142857,
          "symbol": "circle"
         },
         "mode": "markers",
         "name": "Lithuania",
         "orientation": "v",
         "showlegend": true,
         "textposition": "top center",
         "type": "scatter",
         "x": [
          1712.480701754386
         ],
         "xaxis": "x",
         "y": [
          48.79251700680272
         ],
         "yaxis": "y"
        },
        {
         "hovertemplate": "<b>%{hovertext}</b><br><br>location=Macedonia<br>total_cases=%{x}<br>total_deaths=%{y}<br>population=%{marker.size}<extra></extra>",
         "hovertext": [
          "Macedonia"
         ],
         "legendgroup": "Macedonia",
         "marker": {
          "color": "#9467BD",
          "size": [
           2083380
          ],
          "sizemode": "area",
          "sizeref": 293739.5457142857,
          "symbol": "circle"
         },
         "mode": "markers",
         "name": "Macedonia",
         "orientation": "v",
         "showlegend": true,
         "textposition": "top center",
         "type": "scatter",
         "x": [
          7595.68281938326
         ],
         "xaxis": "x",
         "y": [
          351.02369668246445
         ],
         "yaxis": "y"
        },
        {
         "hovertemplate": "<b>%{hovertext}</b><br><br>location=Madagascar<br>total_cases=%{x}<br>total_deaths=%{y}<br>population=%{marker.size}<extra></extra>",
         "hovertext": [
          "Madagascar"
         ],
         "legendgroup": "Madagascar",
         "marker": {
          "color": "#8C564B",
          "size": [
           27691019
          ],
          "sizemode": "area",
          "sizeref": 293739.5457142857,
          "symbol": "circle"
         },
         "mode": "markers",
         "name": "Madagascar",
         "orientation": "v",
         "showlegend": true,
         "textposition": "top center",
         "type": "scatter",
         "x": [
          6776.154929577465
         ],
         "xaxis": "x",
         "y": [
          114.47741935483872
         ],
         "yaxis": "y"
        },
        {
         "hovertemplate": "<b>%{hovertext}</b><br><br>location=Malawi<br>total_cases=%{x}<br>total_deaths=%{y}<br>population=%{marker.size}<extra></extra>",
         "hovertext": [
          "Malawi"
         ],
         "legendgroup": "Malawi",
         "marker": {
          "color": "#E377C2",
          "size": [
           19129955
          ],
          "sizemode": "area",
          "sizeref": 293739.5457142857,
          "symbol": "circle"
         },
         "mode": "markers",
         "name": "Malawi",
         "orientation": "v",
         "showlegend": true,
         "textposition": "top center",
         "type": "scatter",
         "x": [
          2682.235
         ],
         "xaxis": "x",
         "y": [
          79.38461538461539
         ],
         "yaxis": "y"
        },
        {
         "hovertemplate": "<b>%{hovertext}</b><br><br>location=Malaysia<br>total_cases=%{x}<br>total_deaths=%{y}<br>population=%{marker.size}<extra></extra>",
         "hovertext": [
          "Malaysia"
         ],
         "legendgroup": "Malaysia",
         "marker": {
          "color": "#7F7F7F",
          "size": [
           32365998
          ],
          "sizemode": "area",
          "sizeref": 293739.5457142857,
          "symbol": "circle"
         },
         "mode": "markers",
         "name": "Malaysia",
         "orientation": "v",
         "showlegend": true,
         "textposition": "top center",
         "type": "scatter",
         "x": [
          6620.078358208955
         ],
         "xaxis": "x",
         "y": [
          111.16666666666667
         ],
         "yaxis": "y"
        },
        {
         "hovertemplate": "<b>%{hovertext}</b><br><br>location=Maldives<br>total_cases=%{x}<br>total_deaths=%{y}<br>population=%{marker.size}<extra></extra>",
         "hovertext": [
          "Maldives"
         ],
         "legendgroup": "Maldives",
         "marker": {
          "color": "#BCBD22",
          "size": [
           540542
          ],
          "sizemode": "area",
          "sizeref": 293739.5457142857,
          "symbol": "circle"
         },
         "mode": "markers",
         "name": "Maldives",
         "orientation": "v",
         "showlegend": true,
         "textposition": "top center",
         "type": "scatter",
         "x": [
          3768.035714285714
         ],
         "xaxis": "x",
         "y": [
          17.75581395348837
         ],
         "yaxis": "y"
        },
        {
         "hovertemplate": "<b>%{hovertext}</b><br><br>location=Mali<br>total_cases=%{x}<br>total_deaths=%{y}<br>population=%{marker.size}<extra></extra>",
         "hovertext": [
          "Mali"
         ],
         "legendgroup": "Mali",
         "marker": {
          "color": "#17BECF",
          "size": [
           20250834
          ],
          "sizemode": "area",
          "sizeref": 293739.5457142857,
          "symbol": "circle"
         },
         "mode": "markers",
         "name": "Mali",
         "orientation": "v",
         "showlegend": true,
         "textposition": "top center",
         "type": "scatter",
         "x": [
          1878.0625
         ],
         "xaxis": "x",
         "y": [
          93.13366336633663
         ],
         "yaxis": "y"
        },
        {
         "hovertemplate": "<b>%{hovertext}</b><br><br>location=Malta<br>total_cases=%{x}<br>total_deaths=%{y}<br>population=%{marker.size}<extra></extra>",
         "hovertext": [
          "Malta"
         ],
         "legendgroup": "Malta",
         "marker": {
          "color": "#1F77B4",
          "size": [
           441539
          ],
          "sizemode": "area",
          "sizeref": 293739.5457142857,
          "symbol": "circle"
         },
         "mode": "markers",
         "name": "Malta",
         "orientation": "v",
         "showlegend": true,
         "textposition": "top center",
         "type": "scatter",
         "x": [
          1106.876651982379
         ],
         "xaxis": "x",
         "y": [
          12.481865284974093
         ],
         "yaxis": "y"
        },
        {
         "hovertemplate": "<b>%{hovertext}</b><br><br>location=Mauritania<br>total_cases=%{x}<br>total_deaths=%{y}<br>population=%{marker.size}<extra></extra>",
         "hovertext": [
          "Mauritania"
         ],
         "legendgroup": "Mauritania",
         "marker": {
          "color": "#FF7F0E",
          "size": [
           4649660
          ],
          "sizemode": "area",
          "sizeref": 293739.5457142857,
          "symbol": "circle"
         },
         "mode": "markers",
         "name": "Mauritania",
         "orientation": "v",
         "showlegend": true,
         "textposition": "top center",
         "type": "scatter",
         "x": [
          3649.415525114155
         ],
         "xaxis": "x",
         "y": [
          99.05
         ],
         "yaxis": "y"
        },
        {
         "hovertemplate": "<b>%{hovertext}</b><br><br>location=Mauritius<br>total_cases=%{x}<br>total_deaths=%{y}<br>population=%{marker.size}<extra></extra>",
         "hovertext": [
          "Mauritius"
         ],
         "legendgroup": "Mauritius",
         "marker": {
          "color": "#2CA02C",
          "size": [
           1271767
          ],
          "sizemode": "area",
          "sizeref": 293739.5457142857,
          "symbol": "circle"
         },
         "mode": "markers",
         "name": "Mauritius",
         "orientation": "v",
         "showlegend": true,
         "textposition": "top center",
         "type": "scatter",
         "x": [
          324.8785046728972
         ],
         "xaxis": "x",
         "y": [
          9.377358490566039
         ],
         "yaxis": "y"
        },
        {
         "hovertemplate": "<b>%{hovertext}</b><br><br>location=Mexico<br>total_cases=%{x}<br>total_deaths=%{y}<br>population=%{marker.size}<extra></extra>",
         "hovertext": [
          "Mexico"
         ],
         "legendgroup": "Mexico",
         "marker": {
          "color": "#D62728",
          "size": [
           128932753
          ],
          "sizemode": "area",
          "sizeref": 293739.5457142857,
          "symbol": "circle"
         },
         "mode": "markers",
         "name": "Mexico",
         "orientation": "v",
         "showlegend": true,
         "textposition": "top center",
         "type": "scatter",
         "x": [
          265526.95714285714
         ],
         "xaxis": "x",
         "y": [
          34252.81690140845
         ],
         "yaxis": "y"
        },
        {
         "hovertemplate": "<b>%{hovertext}</b><br><br>location=Moldova<br>total_cases=%{x}<br>total_deaths=%{y}<br>population=%{marker.size}<extra></extra>",
         "hovertext": [
          "Moldova"
         ],
         "legendgroup": "Moldova",
         "marker": {
          "color": "#9467BD",
          "size": [
           4033963
          ],
          "sizemode": "area",
          "sizeref": 293739.5457142857,
          "symbol": "circle"
         },
         "mode": "markers",
         "name": "Moldova",
         "orientation": "v",
         "showlegend": true,
         "textposition": "top center",
         "type": "scatter",
         "x": [
          20680.723214285714
         ],
         "xaxis": "x",
         "y": [
          604.4
         ],
         "yaxis": "y"
        },
        {
         "hovertemplate": "<b>%{hovertext}</b><br><br>location=Monaco<br>total_cases=%{x}<br>total_deaths=%{y}<br>population=%{marker.size}<extra></extra>",
         "hovertext": [
          "Monaco"
         ],
         "legendgroup": "Monaco",
         "marker": {
          "color": "#8C564B",
          "size": [
           39244
          ],
          "sizemode": "area",
          "sizeref": 293739.5457142857,
          "symbol": "circle"
         },
         "mode": "markers",
         "name": "Monaco",
         "orientation": "v",
         "showlegend": true,
         "textposition": "top center",
         "type": "scatter",
         "x": [
          96.8963963963964
         ],
         "xaxis": "x",
         "y": [
          1
         ],
         "yaxis": "y"
        },
        {
         "hovertemplate": "<b>%{hovertext}</b><br><br>location=Mongolia<br>total_cases=%{x}<br>total_deaths=%{y}<br>population=%{marker.size}<extra></extra>",
         "hovertext": [
          "Mongolia"
         ],
         "legendgroup": "Mongolia",
         "marker": {
          "color": "#E377C2",
          "size": [
           3278292
          ],
          "sizemode": "area",
          "sizeref": 293739.5457142857,
          "symbol": "circle"
         },
         "mode": "markers",
         "name": "Mongolia",
         "orientation": "v",
         "showlegend": true,
         "textposition": "top center",
         "type": "scatter",
         "x": [
          194.79357798165137
         ],
         "xaxis": "x",
         "y": [
          null
         ],
         "yaxis": "y"
        },
        {
         "hovertemplate": "<b>%{hovertext}</b><br><br>location=Montenegro<br>total_cases=%{x}<br>total_deaths=%{y}<br>population=%{marker.size}<extra></extra>",
         "hovertext": [
          "Montenegro"
         ],
         "legendgroup": "Montenegro",
         "marker": {
          "color": "#7F7F7F",
          "size": [
           628062
          ],
          "sizemode": "area",
          "sizeref": 293739.5457142857,
          "symbol": "circle"
         },
         "mode": "markers",
         "name": "Montenegro",
         "orientation": "v",
         "showlegend": true,
         "textposition": "top center",
         "type": "scatter",
         "x": [
          3129.222222222222
         ],
         "xaxis": "x",
         "y": [
          54.85990338164251
         ],
         "yaxis": "y"
        },
        {
         "hovertemplate": "<b>%{hovertext}</b><br><br>location=Montserrat<br>total_cases=%{x}<br>total_deaths=%{y}<br>population=%{marker.size}<extra></extra>",
         "hovertext": [
          "Montserrat"
         ],
         "legendgroup": "Montserrat",
         "marker": {
          "color": "#BCBD22",
          "size": [
           4999
          ],
          "sizemode": "area",
          "sizeref": 293739.5457142857,
          "symbol": "circle"
         },
         "mode": "markers",
         "name": "Montserrat",
         "orientation": "v",
         "showlegend": true,
         "textposition": "top center",
         "type": "scatter",
         "x": [
          11.24056603773585
         ],
         "xaxis": "x",
         "y": [
          1
         ],
         "yaxis": "y"
        },
        {
         "hovertemplate": "<b>%{hovertext}</b><br><br>location=Morocco<br>total_cases=%{x}<br>total_deaths=%{y}<br>population=%{marker.size}<extra></extra>",
         "hovertext": [
          "Morocco"
         ],
         "legendgroup": "Morocco",
         "marker": {
          "color": "#17BECF",
          "size": [
           36910558
          ],
          "sizemode": "area",
          "sizeref": 293739.5457142857,
          "symbol": "circle"
         },
         "mode": "markers",
         "name": "Morocco",
         "orientation": "v",
         "showlegend": true,
         "textposition": "top center",
         "type": "scatter",
         "x": [
          34996.74107142857
         ],
         "xaxis": "x",
         "y": [
          640.8558558558559
         ],
         "yaxis": "y"
        },
        {
         "hovertemplate": "<b>%{hovertext}</b><br><br>location=Mozambique<br>total_cases=%{x}<br>total_deaths=%{y}<br>population=%{marker.size}<extra></extra>",
         "hovertext": [
          "Mozambique"
         ],
         "legendgroup": "Mozambique",
         "marker": {
          "color": "#1F77B4",
          "size": [
           31255435
          ],
          "sizemode": "area",
          "sizeref": 293739.5457142857,
          "symbol": "circle"
         },
         "mode": "markers",
         "name": "Mozambique",
         "orientation": "v",
         "showlegend": true,
         "textposition": "top center",
         "type": "scatter",
         "x": [
          2419.8009478672984
         ],
         "xaxis": "x",
         "y": [
          23.102040816326532
         ],
         "yaxis": "y"
        },
        {
         "hovertemplate": "<b>%{hovertext}</b><br><br>location=Myanmar<br>total_cases=%{x}<br>total_deaths=%{y}<br>population=%{marker.size}<extra></extra>",
         "hovertext": [
          "Myanmar"
         ],
         "legendgroup": "Myanmar",
         "marker": {
          "color": "#FF7F0E",
          "size": [
           54409794
          ],
          "sizemode": "area",
          "sizeref": 293739.5457142857,
          "symbol": "circle"
         },
         "mode": "markers",
         "name": "Myanmar",
         "orientation": "v",
         "showlegend": true,
         "textposition": "top center",
         "type": "scatter",
         "x": [
          3067.6619047619047
         ],
         "xaxis": "x",
         "y": [
          69.17326732673267
         ],
         "yaxis": "y"
        },
        {
         "hovertemplate": "<b>%{hovertext}</b><br><br>location=Namibia<br>total_cases=%{x}<br>total_deaths=%{y}<br>population=%{marker.size}<extra></extra>",
         "hovertext": [
          "Namibia"
         ],
         "legendgroup": "Namibia",
         "marker": {
          "color": "#2CA02C",
          "size": [
           2540916
          ],
          "sizemode": "area",
          "sizeref": 293739.5457142857,
          "symbol": "circle"
         },
         "mode": "markers",
         "name": "Namibia",
         "orientation": "v",
         "showlegend": true,
         "textposition": "top center",
         "type": "scatter",
         "x": [
          3110.9543378995436
         ],
         "xaxis": "x",
         "y": [
          65.68316831683168
         ],
         "yaxis": "y"
        },
        {
         "hovertemplate": "<b>%{hovertext}</b><br><br>location=Nepal<br>total_cases=%{x}<br>total_deaths=%{y}<br>population=%{marker.size}<extra></extra>",
         "hovertext": [
          "Nepal"
         ],
         "legendgroup": "Nepal",
         "marker": {
          "color": "#D62728",
          "size": [
           29136808
          ],
          "sizemode": "area",
          "sizeref": 293739.5457142857,
          "symbol": "circle"
         },
         "mode": "markers",
         "name": "Nepal",
         "orientation": "v",
         "showlegend": true,
         "textposition": "top center",
         "type": "scatter",
         "x": [
          20483.01953125
         ],
         "xaxis": "x",
         "y": [
          177.80128205128204
         ],
         "yaxis": "y"
        },
        {
         "hovertemplate": "<b>%{hovertext}</b><br><br>location=Netherlands<br>total_cases=%{x}<br>total_deaths=%{y}<br>population=%{marker.size}<extra></extra>",
         "hovertext": [
          "Netherlands"
         ],
         "legendgroup": "Netherlands",
         "marker": {
          "color": "#9467BD",
          "size": [
           17134873
          ],
          "sizemode": "area",
          "sizeref": 293739.5457142857,
          "symbol": "circle"
         },
         "mode": "markers",
         "name": "Netherlands",
         "orientation": "v",
         "showlegend": true,
         "textposition": "top center",
         "type": "scatter",
         "x": [
          55432.46382978724
         ],
         "xaxis": "x",
         "y": [
          5032.643171806168
         ],
         "yaxis": "y"
        },
        {
         "hovertemplate": "<b>%{hovertext}</b><br><br>location=New Caledonia<br>total_cases=%{x}<br>total_deaths=%{y}<br>population=%{marker.size}<extra></extra>",
         "hovertext": [
          "New Caledonia"
         ],
         "legendgroup": "New Caledonia",
         "marker": {
          "color": "#8C564B",
          "size": [
           285491
          ],
          "sizemode": "area",
          "sizeref": 293739.5457142857,
          "symbol": "circle"
         },
         "mode": "markers",
         "name": "New Caledonia",
         "orientation": "v",
         "showlegend": true,
         "textposition": "top center",
         "type": "scatter",
         "x": [
          21.103286384976524
         ],
         "xaxis": "x",
         "y": [
          null
         ],
         "yaxis": "y"
        },
        {
         "hovertemplate": "<b>%{hovertext}</b><br><br>location=New Zealand<br>total_cases=%{x}<br>total_deaths=%{y}<br>population=%{marker.size}<extra></extra>",
         "hovertext": [
          "New Zealand"
         ],
         "legendgroup": "New Zealand",
         "marker": {
          "color": "#E377C2",
          "size": [
           4822233
          ],
          "sizemode": "area",
          "sizeref": 293739.5457142857,
          "symbol": "circle"
         },
         "mode": "markers",
         "name": "New Zealand",
         "orientation": "v",
         "showlegend": true,
         "textposition": "top center",
         "type": "scatter",
         "x": [
          1120.367256637168
         ],
         "xaxis": "x",
         "y": [
          20.21951219512195
         ],
         "yaxis": "y"
        },
        {
         "hovertemplate": "<b>%{hovertext}</b><br><br>location=Nicaragua<br>total_cases=%{x}<br>total_deaths=%{y}<br>population=%{marker.size}<extra></extra>",
         "hovertext": [
          "Nicaragua"
         ],
         "legendgroup": "Nicaragua",
         "marker": {
          "color": "#7F7F7F",
          "size": [
           6624554
          ],
          "sizemode": "area",
          "sizeref": 293739.5457142857,
          "symbol": "circle"
         },
         "mode": "markers",
         "name": "Nicaragua",
         "orientation": "v",
         "showlegend": true,
         "textposition": "top center",
         "type": "scatter",
         "x": [
          2439.1162790697676
         ],
         "xaxis": "x",
         "y": [
          79.66019417475728
         ],
         "yaxis": "y"
        },
        {
         "hovertemplate": "<b>%{hovertext}</b><br><br>location=Niger<br>total_cases=%{x}<br>total_deaths=%{y}<br>population=%{marker.size}<extra></extra>",
         "hovertext": [
          "Niger"
         ],
         "legendgroup": "Niger",
         "marker": {
          "color": "#BCBD22",
          "size": [
           24206636
          ],
          "sizemode": "area",
          "sizeref": 293739.5457142857,
          "symbol": "circle"
         },
         "mode": "markers",
         "name": "Niger",
         "orientation": "v",
         "showlegend": true,
         "textposition": "top center",
         "type": "scatter",
         "x": [
          938.8638497652582
         ],
         "xaxis": "x",
         "y": [
          55.866028708133975
         ],
         "yaxis": "y"
        },
        {
         "hovertemplate": "<b>%{hovertext}</b><br><br>location=Nigeria<br>total_cases=%{x}<br>total_deaths=%{y}<br>population=%{marker.size}<extra></extra>",
         "hovertext": [
          "Nigeria"
         ],
         "legendgroup": "Nigeria",
         "marker": {
          "color": "#17BECF",
          "size": [
           206139587
          ],
          "sizemode": "area",
          "sizeref": 293739.5457142857,
          "symbol": "circle"
         },
         "mode": "markers",
         "name": "Nigeria",
         "orientation": "v",
         "showlegend": true,
         "textposition": "top center",
         "type": "scatter",
         "x": [
          27265.04910714286
         ],
         "xaxis": "x",
         "y": [
          597.4904761904762
         ],
         "yaxis": "y"
        },
        {
         "hovertemplate": "<b>%{hovertext}</b><br><br>location=Northern Mariana Islands<br>total_cases=%{x}<br>total_deaths=%{y}<br>population=%{marker.size}<extra></extra>",
         "hovertext": [
          "Northern Mariana Islands"
         ],
         "legendgroup": "Northern Mariana Islands",
         "marker": {
          "color": "#1F77B4",
          "size": [
           57557
          ],
          "sizemode": "area",
          "sizeref": 293739.5457142857,
          "symbol": "circle"
         },
         "mode": "markers",
         "name": "Northern Mariana Islands",
         "orientation": "v",
         "showlegend": true,
         "textposition": "top center",
         "type": "scatter",
         "x": [
          38.3448275862069
         ],
         "xaxis": "x",
         "y": [
          1.9701492537313432
         ],
         "yaxis": "y"
        },
        {
         "hovertemplate": "<b>%{hovertext}</b><br><br>location=Norway<br>total_cases=%{x}<br>total_deaths=%{y}<br>population=%{marker.size}<extra></extra>",
         "hovertext": [
          "Norway"
         ],
         "legendgroup": "Norway",
         "marker": {
          "color": "#FF7F0E",
          "size": [
           5421242
          ],
          "sizemode": "area",
          "sizeref": 293739.5457142857,
          "symbol": "circle"
         },
         "mode": "markers",
         "name": "Norway",
         "orientation": "v",
         "showlegend": true,
         "textposition": "top center",
         "type": "scatter",
         "x": [
          8414.783898305084
         ],
         "xaxis": "x",
         "y": [
          213.3846153846154
         ],
         "yaxis": "y"
        },
        {
         "hovertemplate": "<b>%{hovertext}</b><br><br>location=Oman<br>total_cases=%{x}<br>total_deaths=%{y}<br>population=%{marker.size}<extra></extra>",
         "hovertext": [
          "Oman"
         ],
         "legendgroup": "Oman",
         "marker": {
          "color": "#2CA02C",
          "size": [
           5106622
          ],
          "sizemode": "area",
          "sizeref": 293739.5457142857,
          "symbol": "circle"
         },
         "mode": "markers",
         "name": "Oman",
         "orientation": "v",
         "showlegend": true,
         "textposition": "top center",
         "type": "scatter",
         "x": [
          43362.46982758621
         ],
         "xaxis": "x",
         "y": [
          363.3217821782178
         ],
         "yaxis": "y"
        },
        {
         "hovertemplate": "<b>%{hovertext}</b><br><br>location=Pakistan<br>total_cases=%{x}<br>total_deaths=%{y}<br>population=%{marker.size}<extra></extra>",
         "hovertext": [
          "Pakistan"
         ],
         "legendgroup": "Pakistan",
         "marker": {
          "color": "#D62728",
          "size": [
           220892331
          ],
          "sizemode": "area",
          "sizeref": 293739.5457142857,
          "symbol": "circle"
         },
         "mode": "markers",
         "name": "Pakistan",
         "orientation": "v",
         "showlegend": true,
         "textposition": "top center",
         "type": "scatter",
         "x": [
          163368.2987012987
         ],
         "xaxis": "x",
         "y": [
          3689.5186915887853
         ],
         "yaxis": "y"
        },
        {
         "hovertemplate": "<b>%{hovertext}</b><br><br>location=Palestine<br>total_cases=%{x}<br>total_deaths=%{y}<br>population=%{marker.size}<extra></extra>",
         "hovertext": [
          "Palestine"
         ],
         "legendgroup": "Palestine",
         "marker": {
          "color": "#9467BD",
          "size": [
           5101416
          ],
          "sizemode": "area",
          "sizeref": 293739.5457142857,
          "symbol": "circle"
         },
         "mode": "markers",
         "name": "Palestine",
         "orientation": "v",
         "showlegend": true,
         "textposition": "top center",
         "type": "scatter",
         "x": [
          14442.035555555556
         ],
         "xaxis": "x",
         "y": [
          104.47572815533981
         ],
         "yaxis": "y"
        },
        {
         "hovertemplate": "<b>%{hovertext}</b><br><br>location=Panama<br>total_cases=%{x}<br>total_deaths=%{y}<br>population=%{marker.size}<extra></extra>",
         "hovertext": [
          "Panama"
         ],
         "legendgroup": "Panama",
         "marker": {
          "color": "#8C564B",
          "size": [
           4314768
          ],
          "sizemode": "area",
          "sizeref": 293739.5457142857,
          "symbol": "circle"
         },
         "mode": "markers",
         "name": "Panama",
         "orientation": "v",
         "showlegend": true,
         "textposition": "top center",
         "type": "scatter",
         "x": [
          46302.33928571428
         ],
         "xaxis": "x",
         "y": [
          997.4663677130045
         ],
         "yaxis": "y"
        },
        {
         "hovertemplate": "<b>%{hovertext}</b><br><br>location=Papua New Guinea<br>total_cases=%{x}<br>total_deaths=%{y}<br>population=%{marker.size}<extra></extra>",
         "hovertext": [
          "Papua New Guinea"
         ],
         "legendgroup": "Papua New Guinea",
         "marker": {
          "color": "#E377C2",
          "size": [
           8947027
          ],
          "sizemode": "area",
          "sizeref": 293739.5457142857,
          "symbol": "circle"
         },
         "mode": "markers",
         "name": "Papua New Guinea",
         "orientation": "v",
         "showlegend": true,
         "textposition": "top center",
         "type": "scatter",
         "x": [
          168.8544600938967
         ],
         "xaxis": "x",
         "y": [
          5.024096385542169
         ],
         "yaxis": "y"
        },
        {
         "hovertemplate": "<b>%{hovertext}</b><br><br>location=Paraguay<br>total_cases=%{x}<br>total_deaths=%{y}<br>population=%{marker.size}<extra></extra>",
         "hovertext": [
          "Paraguay"
         ],
         "legendgroup": "Paraguay",
         "marker": {
          "color": "#7F7F7F",
          "size": [
           7132530
          ],
          "sizemode": "area",
          "sizeref": 293739.5457142857,
          "symbol": "circle"
         },
         "mode": "markers",
         "name": "Paraguay",
         "orientation": "v",
         "showlegend": true,
         "textposition": "top center",
         "type": "scatter",
         "x": [
          10205.585585585586
         ],
         "xaxis": "x",
         "y": [
          201.1737089201878
         ],
         "yaxis": "y"
        },
        {
         "hovertemplate": "<b>%{hovertext}</b><br><br>location=Peru<br>total_cases=%{x}<br>total_deaths=%{y}<br>population=%{marker.size}<extra></extra>",
         "hovertext": [
          "Peru"
         ],
         "legendgroup": "Peru",
         "marker": {
          "color": "#BCBD22",
          "size": [
           32971846
          ],
          "sizemode": "area",
          "sizeref": 293739.5457142857,
          "symbol": "circle"
         },
         "mode": "markers",
         "name": "Peru",
         "orientation": "v",
         "showlegend": true,
         "textposition": "top center",
         "type": "scatter",
         "x": [
          331339.35840707965
         ],
         "xaxis": "x",
         "y": [
          14112.327102803738
         ],
         "yaxis": "y"
        },
        {
         "hovertemplate": "<b>%{hovertext}</b><br><br>location=Philippines<br>total_cases=%{x}<br>total_deaths=%{y}<br>population=%{marker.size}<extra></extra>",
         "hovertext": [
          "Philippines"
         ],
         "legendgroup": "Philippines",
         "marker": {
          "color": "#17BECF",
          "size": [
           109581085
          ],
          "sizemode": "area",
          "sizeref": 293739.5457142857,
          "symbol": "circle"
         },
         "mode": "markers",
         "name": "Philippines",
         "orientation": "v",
         "showlegend": true,
         "textposition": "top center",
         "type": "scatter",
         "x": [
          86192.06153846154
         ],
         "xaxis": "x",
         "y": [
          1745.7782101167315
         ],
         "yaxis": "y"
        },
        {
         "hovertemplate": "<b>%{hovertext}</b><br><br>location=Poland<br>total_cases=%{x}<br>total_deaths=%{y}<br>population=%{marker.size}<extra></extra>",
         "hovertext": [
          "Poland"
         ],
         "legendgroup": "Poland",
         "marker": {
          "color": "#1F77B4",
          "size": [
           37846605
          ],
          "sizemode": "area",
          "sizeref": 293739.5457142857,
          "symbol": "circle"
         },
         "mode": "markers",
         "name": "Poland",
         "orientation": "v",
         "showlegend": true,
         "textposition": "top center",
         "type": "scatter",
         "x": [
          40524.81140350877
         ],
         "xaxis": "x",
         "y": [
          1375.5701357466064
         ],
         "yaxis": "y"
        },
        {
         "hovertemplate": "<b>%{hovertext}</b><br><br>location=Portugal<br>total_cases=%{x}<br>total_deaths=%{y}<br>population=%{marker.size}<extra></extra>",
         "hovertext": [
          "Portugal"
         ],
         "legendgroup": "Portugal",
         "marker": {
          "color": "#FF7F0E",
          "size": [
           10196707
          ],
          "sizemode": "area",
          "sizeref": 293739.5457142857,
          "symbol": "circle"
         },
         "mode": "markers",
         "name": "Portugal",
         "orientation": "v",
         "showlegend": true,
         "textposition": "top center",
         "type": "scatter",
         "x": [
          40113.69264069264
         ],
         "xaxis": "x",
         "y": [
          1400.9814814814815
         ],
         "yaxis": "y"
        },
        {
         "hovertemplate": "<b>%{hovertext}</b><br><br>location=Puerto Rico<br>total_cases=%{x}<br>total_deaths=%{y}<br>population=%{marker.size}<extra></extra>",
         "hovertext": [
          "Puerto Rico"
         ],
         "legendgroup": "Puerto Rico",
         "marker": {
          "color": "#2CA02C",
          "size": [
           2860840
          ],
          "sizemode": "area",
          "sizeref": 293739.5457142857,
          "symbol": "circle"
         },
         "mode": "markers",
         "name": "Puerto Rico",
         "orientation": "v",
         "showlegend": true,
         "textposition": "top center",
         "type": "scatter",
         "x": [
          17410.014563106797
         ],
         "xaxis": "x",
         "y": [
          266.6990291262136
         ],
         "yaxis": "y"
        },
        {
         "hovertemplate": "<b>%{hovertext}</b><br><br>location=Romania<br>total_cases=%{x}<br>total_deaths=%{y}<br>population=%{marker.size}<extra></extra>",
         "hovertext": [
          "Romania"
         ],
         "legendgroup": "Romania",
         "marker": {
          "color": "#D62728",
          "size": [
           19237682
          ],
          "sizemode": "area",
          "sizeref": 293739.5457142857,
          "symbol": "circle"
         },
         "mode": "markers",
         "name": "Romania",
         "orientation": "v",
         "showlegend": true,
         "textposition": "top center",
         "type": "scatter",
         "x": [
          45610.50854700855
         ],
         "xaxis": "x",
         "y": [
          2203.563981042654
         ],
         "yaxis": "y"
        },
        {
         "hovertemplate": "<b>%{hovertext}</b><br><br>location=Russia<br>total_cases=%{x}<br>total_deaths=%{y}<br>population=%{marker.size}<extra></extra>",
         "hovertext": [
          "Russia"
         ],
         "legendgroup": "Russia",
         "marker": {
          "color": "#9467BD",
          "size": [
           145934460
          ],
          "sizemode": "area",
          "sizeref": 293739.5457142857,
          "symbol": "circle"
         },
         "mode": "markers",
         "name": "Russia",
         "orientation": "v",
         "showlegend": true,
         "textposition": "top center",
         "type": "scatter",
         "x": [
          507209.7366412214
         ],
         "xaxis": "x",
         "y": [
          10297.444444444445
         ],
         "yaxis": "y"
        },
        {
         "hovertemplate": "<b>%{hovertext}</b><br><br>location=Rwanda<br>total_cases=%{x}<br>total_deaths=%{y}<br>population=%{marker.size}<extra></extra>",
         "hovertext": [
          "Rwanda"
         ],
         "legendgroup": "Rwanda",
         "marker": {
          "color": "#8C564B",
          "size": [
           12952209
          ],
          "sizemode": "area",
          "sizeref": 293739.5457142857,
          "symbol": "circle"
         },
         "mode": "markers",
         "name": "Rwanda",
         "orientation": "v",
         "showlegend": true,
         "textposition": "top center",
         "type": "scatter",
         "x": [
          1775.2283105022832
         ],
         "xaxis": "x",
         "y": [
          12.28169014084507
         ],
         "yaxis": "y"
        },
        {
         "hovertemplate": "<b>%{hovertext}</b><br><br>location=Saint Kitts and Nevis<br>total_cases=%{x}<br>total_deaths=%{y}<br>population=%{marker.size}<extra></extra>",
         "hovertext": [
          "Saint Kitts and Nevis"
         ],
         "legendgroup": "Saint Kitts and Nevis",
         "marker": {
          "color": "#E377C2",
          "size": [
           53192
          ],
          "sizemode": "area",
          "sizeref": 293739.5457142857,
          "symbol": "circle"
         },
         "mode": "markers",
         "name": "Saint Kitts and Nevis",
         "orientation": "v",
         "showlegend": true,
         "textposition": "top center",
         "type": "scatter",
         "x": [
          15.60576923076923
         ],
         "xaxis": "x",
         "y": [
          null
         ],
         "yaxis": "y"
        },
        {
         "hovertemplate": "<b>%{hovertext}</b><br><br>location=Saint Lucia<br>total_cases=%{x}<br>total_deaths=%{y}<br>population=%{marker.size}<extra></extra>",
         "hovertext": [
          "Saint Lucia"
         ],
         "legendgroup": "Saint Lucia",
         "marker": {
          "color": "#7F7F7F",
          "size": [
           183629
          ],
          "sizemode": "area",
          "sizeref": 293739.5457142857,
          "symbol": "circle"
         },
         "mode": "markers",
         "name": "Saint Lucia",
         "orientation": "v",
         "showlegend": true,
         "textposition": "top center",
         "type": "scatter",
         "x": [
          20.319634703196346
         ],
         "xaxis": "x",
         "y": [
          null
         ],
         "yaxis": "y"
        },
        {
         "hovertemplate": "<b>%{hovertext}</b><br><br>location=Saint Vincent and the Grenadines<br>total_cases=%{x}<br>total_deaths=%{y}<br>population=%{marker.size}<extra></extra>",
         "hovertext": [
          "Saint Vincent and the Grenadines"
         ],
         "legendgroup": "Saint Vincent and the Grenadines",
         "marker": {
          "color": "#BCBD22",
          "size": [
           110947
          ],
          "sizemode": "area",
          "sizeref": 293739.5457142857,
          "symbol": "circle"
         },
         "mode": "markers",
         "name": "Saint Vincent and the Grenadines",
         "orientation": "v",
         "showlegend": true,
         "textposition": "top center",
         "type": "scatter",
         "x": [
          37.25714285714286
         ],
         "xaxis": "x",
         "y": [
          null
         ],
         "yaxis": "y"
        },
        {
         "hovertemplate": "<b>%{hovertext}</b><br><br>location=San Marino<br>total_cases=%{x}<br>total_deaths=%{y}<br>population=%{marker.size}<extra></extra>",
         "hovertext": [
          "San Marino"
         ],
         "legendgroup": "San Marino",
         "marker": {
          "color": "#17BECF",
          "size": [
           33938
          ],
          "sizemode": "area",
          "sizeref": 293739.5457142857,
          "symbol": "circle"
         },
         "mode": "markers",
         "name": "San Marino",
         "orientation": "v",
         "showlegend": true,
         "textposition": "top center",
         "type": "scatter",
         "x": [
          576.8974358974359
         ],
         "xaxis": "x",
         "y": [
          37.21212121212121
         ],
         "yaxis": "y"
        },
        {
         "hovertemplate": "<b>%{hovertext}</b><br><br>location=Sao Tome and Principe<br>total_cases=%{x}<br>total_deaths=%{y}<br>population=%{marker.size}<extra></extra>",
         "hovertext": [
          "Sao Tome and Principe"
         ],
         "legendgroup": "Sao Tome and Principe",
         "marker": {
          "color": "#1F77B4",
          "size": [
           219161
          ],
          "sizemode": "area",
          "sizeref": 293739.5457142857,
          "symbol": "circle"
         },
         "mode": "markers",
         "name": "Sao Tome and Principe",
         "orientation": "v",
         "showlegend": true,
         "textposition": "top center",
         "type": "scatter",
         "x": [
          628.3969072164948
         ],
         "xaxis": "x",
         "y": [
          12.779069767441861
         ],
         "yaxis": "y"
        },
        {
         "hovertemplate": "<b>%{hovertext}</b><br><br>location=Saudi Arabia<br>total_cases=%{x}<br>total_deaths=%{y}<br>population=%{marker.size}<extra></extra>",
         "hovertext": [
          "Saudi Arabia"
         ],
         "legendgroup": "Saudi Arabia",
         "marker": {
          "color": "#FF7F0E",
          "size": [
           34813867
          ],
          "sizemode": "area",
          "sizeref": 293739.5457142857,
          "symbol": "circle"
         },
         "mode": "markers",
         "name": "Saudi Arabia",
         "orientation": "v",
         "showlegend": true,
         "textposition": "top center",
         "type": "scatter",
         "x": [
          169233.29385964913
         ],
         "xaxis": "x",
         "y": [
          2117.2583732057415
         ],
         "yaxis": "y"
        },
        {
         "hovertemplate": "<b>%{hovertext}</b><br><br>location=Senegal<br>total_cases=%{x}<br>total_deaths=%{y}<br>population=%{marker.size}<extra></extra>",
         "hovertext": [
          "Senegal"
         ],
         "legendgroup": "Senegal",
         "marker": {
          "color": "#2CA02C",
          "size": [
           16743930
          ],
          "sizemode": "area",
          "sizeref": 293739.5457142857,
          "symbol": "circle"
         },
         "mode": "markers",
         "name": "Senegal",
         "orientation": "v",
         "showlegend": true,
         "textposition": "top center",
         "type": "scatter",
         "x": [
          7083.691964285715
         ],
         "xaxis": "x",
         "y": [
          150.84577114427861
         ],
         "yaxis": "y"
        },
        {
         "hovertemplate": "<b>%{hovertext}</b><br><br>location=Serbia<br>total_cases=%{x}<br>total_deaths=%{y}<br>population=%{marker.size}<extra></extra>",
         "hovertext": [
          "Serbia"
         ],
         "legendgroup": "Serbia",
         "marker": {
          "color": "#D62728",
          "size": [
           6804596
          ],
          "sizemode": "area",
          "sizeref": 293739.5457142857,
          "symbol": "circle"
         },
         "mode": "markers",
         "name": "Serbia",
         "orientation": "v",
         "showlegend": true,
         "textposition": "top center",
         "type": "scatter",
         "x": [
          17786.491071428572
         ],
         "xaxis": "x",
         "y": [
          410.81220657277
         ],
         "yaxis": "y"
        },
        {
         "hovertemplate": "<b>%{hovertext}</b><br><br>location=Seychelles<br>total_cases=%{x}<br>total_deaths=%{y}<br>population=%{marker.size}<extra></extra>",
         "hovertext": [
          "Seychelles"
         ],
         "legendgroup": "Seychelles",
         "marker": {
          "color": "#9467BD",
          "size": [
           98340
          ],
          "sizemode": "area",
          "sizeref": 293739.5457142857,
          "symbol": "circle"
         },
         "mode": "markers",
         "name": "Seychelles",
         "orientation": "v",
         "showlegend": true,
         "textposition": "top center",
         "type": "scatter",
         "x": [
          67.12785388127854
         ],
         "xaxis": "x",
         "y": [
          null
         ],
         "yaxis": "y"
        },
        {
         "hovertemplate": "<b>%{hovertext}</b><br><br>location=Sierra Leone<br>total_cases=%{x}<br>total_deaths=%{y}<br>population=%{marker.size}<extra></extra>",
         "hovertext": [
          "Sierra Leone"
         ],
         "legendgroup": "Sierra Leone",
         "marker": {
          "color": "#8C564B",
          "size": [
           7976985
          ],
          "sizemode": "area",
          "sizeref": 293739.5457142857,
          "symbol": "circle"
         },
         "mode": "markers",
         "name": "Sierra Leone",
         "orientation": "v",
         "showlegend": true,
         "textposition": "top center",
         "type": "scatter",
         "x": [
          1328.6930693069307
         ],
         "xaxis": "x",
         "y": [
          56.06703910614525
         ],
         "yaxis": "y"
        },
        {
         "hovertemplate": "<b>%{hovertext}</b><br><br>location=Sint Maarten (Dutch part)<br>total_cases=%{x}<br>total_deaths=%{y}<br>population=%{marker.size}<extra></extra>",
         "hovertext": [
          "Sint Maarten (Dutch part)"
         ],
         "legendgroup": "Sint Maarten (Dutch part)",
         "marker": {
          "color": "#E377C2",
          "size": [
           42882
          ],
          "sizemode": "area",
          "sizeref": 293739.5457142857,
          "symbol": "circle"
         },
         "mode": "markers",
         "name": "Sint Maarten (Dutch part)",
         "orientation": "v",
         "showlegend": true,
         "textposition": "top center",
         "type": "scatter",
         "x": [
          230.89423076923077
         ],
         "xaxis": "x",
         "y": [
          15.651741293532337
         ],
         "yaxis": "y"
        },
        {
         "hovertemplate": "<b>%{hovertext}</b><br><br>location=Slovakia<br>total_cases=%{x}<br>total_deaths=%{y}<br>population=%{marker.size}<extra></extra>",
         "hovertext": [
          "Slovakia"
         ],
         "legendgroup": "Slovakia",
         "marker": {
          "color": "#7F7F7F",
          "size": [
           5459643
          ],
          "sizemode": "area",
          "sizeref": 293739.5457142857,
          "symbol": "circle"
         },
         "mode": "markers",
         "name": "Slovakia",
         "orientation": "v",
         "showlegend": true,
         "textposition": "top center",
         "type": "scatter",
         "x": [
          3533.9159292035397
         ],
         "xaxis": "x",
         "y": [
          30.892857142857142
         ],
         "yaxis": "y"
        },
        {
         "hovertemplate": "<b>%{hovertext}</b><br><br>location=Slovenia<br>total_cases=%{x}<br>total_deaths=%{y}<br>population=%{marker.size}<extra></extra>",
         "hovertext": [
          "Slovenia"
         ],
         "legendgroup": "Slovenia",
         "marker": {
          "color": "#BCBD22",
          "size": [
           2078932
          ],
          "sizemode": "area",
          "sizeref": 293739.5457142857,
          "symbol": "circle"
         },
         "mode": "markers",
         "name": "Slovenia",
         "orientation": "v",
         "showlegend": true,
         "textposition": "top center",
         "type": "scatter",
         "x": [
          2399.4517543859647
         ],
         "xaxis": "x",
         "y": [
          102.61574074074075
         ],
         "yaxis": "y"
        },
        {
         "hovertemplate": "<b>%{hovertext}</b><br><br>location=Solomon Islands<br>total_cases=%{x}<br>total_deaths=%{y}<br>population=%{marker.size}<extra></extra>",
         "hovertext": [
          "Solomon Islands"
         ],
         "legendgroup": "Solomon Islands",
         "marker": {
          "color": "#17BECF",
          "size": [
           686878
          ],
          "sizemode": "area",
          "sizeref": 293739.5457142857,
          "symbol": "circle"
         },
         "mode": "markers",
         "name": "Solomon Islands",
         "orientation": "v",
         "showlegend": true,
         "textposition": "top center",
         "type": "scatter",
         "x": [
          2.75
         ],
         "xaxis": "x",
         "y": [
          null
         ],
         "yaxis": "y"
        },
        {
         "hovertemplate": "<b>%{hovertext}</b><br><br>location=Somalia<br>total_cases=%{x}<br>total_deaths=%{y}<br>population=%{marker.size}<extra></extra>",
         "hovertext": [
          "Somalia"
         ],
         "legendgroup": "Somalia",
         "marker": {
          "color": "#1F77B4",
          "size": [
           15893219
          ],
          "sizemode": "area",
          "sizeref": 293739.5457142857,
          "symbol": "circle"
         },
         "mode": "markers",
         "name": "Somalia",
         "orientation": "v",
         "showlegend": true,
         "textposition": "top center",
         "type": "scatter",
         "x": [
          2263.3410138248846
         ],
         "xaxis": "x",
         "y": [
          77.72538860103627
         ],
         "yaxis": "y"
        },
        {
         "hovertemplate": "<b>%{hovertext}</b><br><br>location=South Africa<br>total_cases=%{x}<br>total_deaths=%{y}<br>population=%{marker.size}<extra></extra>",
         "hovertext": [
          "South Africa"
         ],
         "legendgroup": "South Africa",
         "marker": {
          "color": "#FF7F0E",
          "size": [
           59308690
          ],
          "sizemode": "area",
          "sizeref": 293739.5457142857,
          "symbol": "circle"
         },
         "mode": "markers",
         "name": "South Africa",
         "orientation": "v",
         "showlegend": true,
         "textposition": "top center",
         "type": "scatter",
         "x": [
          278883.4469026549
         ],
         "xaxis": "x",
         "y": [
          6558.850241545893
         ],
         "yaxis": "y"
        },
        {
         "hovertemplate": "<b>%{hovertext}</b><br><br>location=South Korea<br>total_cases=%{x}<br>total_deaths=%{y}<br>population=%{marker.size}<extra></extra>",
         "hovertext": [
          "South Korea"
         ],
         "legendgroup": "South Korea",
         "marker": {
          "color": "#2CA02C",
          "size": [
           51269183
          ],
          "sizemode": "area",
          "sizeref": 293739.5457142857,
          "symbol": "circle"
         },
         "mode": "markers",
         "name": "South Korea",
         "orientation": "v",
         "showlegend": true,
         "textposition": "top center",
         "type": "scatter",
         "x": [
          12164.507299270073
         ],
         "xaxis": "x",
         "y": [
          261.70661157024796
         ],
         "yaxis": "y"
        },
        {
         "hovertemplate": "<b>%{hovertext}</b><br><br>location=South Sudan<br>total_cases=%{x}<br>total_deaths=%{y}<br>population=%{marker.size}<extra></extra>",
         "hovertext": [
          "South Sudan"
         ],
         "legendgroup": "South Sudan",
         "marker": {
          "color": "#D62728",
          "size": [
           11193729
          ],
          "sizemode": "area",
          "sizeref": 293739.5457142857,
          "symbol": "circle"
         },
         "mode": "markers",
         "name": "South Sudan",
         "orientation": "v",
         "showlegend": true,
         "textposition": "top center",
         "type": "scatter",
         "x": [
          1692.8934010152284
         ],
         "xaxis": "x",
         "y": [
          38.37341772151899
         ],
         "yaxis": "y"
        },
        {
         "hovertemplate": "<b>%{hovertext}</b><br><br>location=Spain<br>total_cases=%{x}<br>total_deaths=%{y}<br>population=%{marker.size}<extra></extra>",
         "hovertext": [
          "Spain"
         ],
         "legendgroup": "Spain",
         "marker": {
          "color": "#9467BD",
          "size": [
           46754783
          ],
          "sizemode": "area",
          "sizeref": 293739.5457142857,
          "symbol": "circle"
         },
         "mode": "markers",
         "name": "Spain",
         "orientation": "v",
         "showlegend": true,
         "textposition": "top center",
         "type": "scatter",
         "x": [
          282443.2030651341
         ],
         "xaxis": "x",
         "y": [
          24169.40350877193
         ],
         "yaxis": "y"
        },
        {
         "hovertemplate": "<b>%{hovertext}</b><br><br>location=Sri Lanka<br>total_cases=%{x}<br>total_deaths=%{y}<br>population=%{marker.size}<extra></extra>",
         "hovertext": [
          "Sri Lanka"
         ],
         "legendgroup": "Sri Lanka",
         "marker": {
          "color": "#8C564B",
          "size": [
           21413250
          ],
          "sizemode": "area",
          "sizeref": 293739.5457142857,
          "symbol": "circle"
         },
         "mode": "markers",
         "name": "Sri Lanka",
         "orientation": "v",
         "showlegend": true,
         "textposition": "top center",
         "type": "scatter",
         "x": [
          1737.9105058365758
         ],
         "xaxis": "x",
         "y": [
          10.282926829268293
         ],
         "yaxis": "y"
        },
        {
         "hovertemplate": "<b>%{hovertext}</b><br><br>location=Sudan<br>total_cases=%{x}<br>total_deaths=%{y}<br>population=%{marker.size}<extra></extra>",
         "hovertext": [
          "Sudan"
         ],
         "legendgroup": "Sudan",
         "marker": {
          "color": "#E377C2",
          "size": [
           43849269
          ],
          "sizemode": "area",
          "sizeref": 293739.5457142857,
          "symbol": "circle"
         },
         "mode": "markers",
         "name": "Sudan",
         "orientation": "v",
         "showlegend": true,
         "textposition": "top center",
         "type": "scatter",
         "x": [
          7561.568181818182
         ],
         "xaxis": "x",
         "y": [
          469.52054794520546
         ],
         "yaxis": "y"
        },
        {
         "hovertemplate": "<b>%{hovertext}</b><br><br>location=Suriname<br>total_cases=%{x}<br>total_deaths=%{y}<br>population=%{marker.size}<extra></extra>",
         "hovertext": [
          "Suriname"
         ],
         "legendgroup": "Suriname",
         "marker": {
          "color": "#7F7F7F",
          "size": [
           586634
          ],
          "sizemode": "area",
          "sizeref": 293739.5457142857,
          "symbol": "circle"
         },
         "mode": "markers",
         "name": "Suriname",
         "orientation": "v",
         "showlegend": true,
         "textposition": "top center",
         "type": "scatter",
         "x": [
          1675.8504672897195
         ],
         "xaxis": "x",
         "y": [
          34.97989949748744
         ],
         "yaxis": "y"
        },
        {
         "hovertemplate": "<b>%{hovertext}</b><br><br>location=Swaziland<br>total_cases=%{x}<br>total_deaths=%{y}<br>population=%{marker.size}<extra></extra>",
         "hovertext": [
          "Swaziland"
         ],
         "legendgroup": "Swaziland",
         "marker": {
          "color": "#BCBD22",
          "size": [
           1160164
          ],
          "sizemode": "area",
          "sizeref": 293739.5457142857,
          "symbol": "circle"
         },
         "mode": "markers",
         "name": "Swaziland",
         "orientation": "v",
         "showlegend": true,
         "textposition": "top center",
         "type": "scatter",
         "x": [
          2028.4840182648402
         ],
         "xaxis": "x",
         "y": [
          44.21081081081081
         ],
         "yaxis": "y"
        },
        {
         "hovertemplate": "<b>%{hovertext}</b><br><br>location=Sweden<br>total_cases=%{x}<br>total_deaths=%{y}<br>population=%{marker.size}<extra></extra>",
         "hovertext": [
          "Sweden"
         ],
         "legendgroup": "Sweden",
         "marker": {
          "color": "#17BECF",
          "size": [
           10099270
          ],
          "sizemode": "area",
          "sizeref": 293739.5457142857,
          "symbol": "circle"
         },
         "mode": "markers",
         "name": "Sweden",
         "orientation": "v",
         "showlegend": true,
         "textposition": "top center",
         "type": "scatter",
         "x": [
          45984.976833976834
         ],
         "xaxis": "x",
         "y": [
          4297.091324200913
         ],
         "yaxis": "y"
        },
        {
         "hovertemplate": "<b>%{hovertext}</b><br><br>location=Switzerland<br>total_cases=%{x}<br>total_deaths=%{y}<br>population=%{marker.size}<extra></extra>",
         "hovertext": [
          "Switzerland"
         ],
         "legendgroup": "Switzerland",
         "marker": {
          "color": "#1F77B4",
          "size": [
           8654618
          ],
          "sizemode": "area",
          "sizeref": 293739.5457142857,
          "symbol": "circle"
         },
         "mode": "markers",
         "name": "Switzerland",
         "orientation": "v",
         "showlegend": true,
         "textposition": "top center",
         "type": "scatter",
         "x": [
          31865.261603375526
         ],
         "xaxis": "x",
         "y": [
          1406.548245614035
         ],
         "yaxis": "y"
        },
        {
         "hovertemplate": "<b>%{hovertext}</b><br><br>location=Syria<br>total_cases=%{x}<br>total_deaths=%{y}<br>population=%{marker.size}<extra></extra>",
         "hovertext": [
          "Syria"
         ],
         "legendgroup": "Syria",
         "marker": {
          "color": "#FF7F0E",
          "size": [
           17500657
          ],
          "sizemode": "area",
          "sizeref": 293739.5457142857,
          "symbol": "circle"
         },
         "mode": "markers",
         "name": "Syria",
         "orientation": "v",
         "showlegend": true,
         "textposition": "top center",
         "type": "scatter",
         "x": [
          1269.6777251184835
         ],
         "xaxis": "x",
         "y": [
          59.30392156862745
         ],
         "yaxis": "y"
        },
        {
         "hovertemplate": "<b>%{hovertext}</b><br><br>location=Taiwan<br>total_cases=%{x}<br>total_deaths=%{y}<br>population=%{marker.size}<extra></extra>",
         "hovertext": [
          "Taiwan"
         ],
         "legendgroup": "Taiwan",
         "marker": {
          "color": "#2CA02C",
          "size": [
           23816775
          ],
          "sizemode": "area",
          "sizeref": 293739.5457142857,
          "symbol": "circle"
         },
         "mode": "markers",
         "name": "Taiwan",
         "orientation": "v",
         "showlegend": true,
         "textposition": "top center",
         "type": "scatter",
         "x": [
          355.5824175824176
         ],
         "xaxis": "x",
         "y": [
          5.784552845528455
         ],
         "yaxis": "y"
        },
        {
         "hovertemplate": "<b>%{hovertext}</b><br><br>location=Tajikistan<br>total_cases=%{x}<br>total_deaths=%{y}<br>population=%{marker.size}<extra></extra>",
         "hovertext": [
          "Tajikistan"
         ],
         "legendgroup": "Tajikistan",
         "marker": {
          "color": "#D62728",
          "size": [
           9537642
          ],
          "sizemode": "area",
          "sizeref": 293739.5457142857,
          "symbol": "circle"
         },
         "mode": "markers",
         "name": "Tajikistan",
         "orientation": "v",
         "showlegend": true,
         "textposition": "top center",
         "type": "scatter",
         "x": [
          6496.459302325581
         ],
         "xaxis": "x",
         "y": [
          57.57396449704142
         ],
         "yaxis": "y"
        },
        {
         "hovertemplate": "<b>%{hovertext}</b><br><br>location=Tanzania<br>total_cases=%{x}<br>total_deaths=%{y}<br>population=%{marker.size}<extra></extra>",
         "hovertext": [
          "Tanzania"
         ],
         "legendgroup": "Tanzania",
         "marker": {
          "color": "#9467BD",
          "size": [
           59734213
          ],
          "sizemode": "area",
          "sizeref": 293739.5457142857,
          "symbol": "circle"
         },
         "mode": "markers",
         "name": "Tanzania",
         "orientation": "v",
         "showlegend": true,
         "textposition": "top center",
         "type": "scatter",
         "x": [
          421.778801843318
         ],
         "xaxis": "x",
         "y": [
          18.209756097560977
         ],
         "yaxis": "y"
        },
        {
         "hovertemplate": "<b>%{hovertext}</b><br><br>location=Thailand<br>total_cases=%{x}<br>total_deaths=%{y}<br>population=%{marker.size}<extra></extra>",
         "hovertext": [
          "Thailand"
         ],
         "legendgroup": "Thailand",
         "marker": {
          "color": "#8C564B",
          "size": [
           69799978
          ],
          "sizemode": "area",
          "sizeref": 293739.5457142857,
          "symbol": "circle"
         },
         "mode": "markers",
         "name": "Thailand",
         "orientation": "v",
         "showlegend": true,
         "textposition": "top center",
         "type": "scatter",
         "x": [
          2393.0766423357663
         ],
         "xaxis": "x",
         "y": [
          49.389380530973455
         ],
         "yaxis": "y"
        },
        {
         "hovertemplate": "<b>%{hovertext}</b><br><br>location=Timor<br>total_cases=%{x}<br>total_deaths=%{y}<br>population=%{marker.size}<extra></extra>",
         "hovertext": [
          "Timor"
         ],
         "legendgroup": "Timor",
         "marker": {
          "color": "#E377C2",
          "size": [
           1318442
          ],
          "sizemode": "area",
          "sizeref": 293739.5457142857,
          "symbol": "circle"
         },
         "mode": "markers",
         "name": "Timor",
         "orientation": "v",
         "showlegend": true,
         "textposition": "top center",
         "type": "scatter",
         "x": [
          22.15566037735849
         ],
         "xaxis": "x",
         "y": [
          null
         ],
         "yaxis": "y"
        },
        {
         "hovertemplate": "<b>%{hovertext}</b><br><br>location=Togo<br>total_cases=%{x}<br>total_deaths=%{y}<br>population=%{marker.size}<extra></extra>",
         "hovertext": [
          "Togo"
         ],
         "legendgroup": "Togo",
         "marker": {
          "color": "#7F7F7F",
          "size": [
           8278737
          ],
          "sizemode": "area",
          "sizeref": 293739.5457142857,
          "symbol": "circle"
         },
         "mode": "markers",
         "name": "Togo",
         "orientation": "v",
         "showlegend": true,
         "textposition": "top center",
         "type": "scatter",
         "x": [
          772.2863636363636
         ],
         "xaxis": "x",
         "y": [
          20.37378640776699
         ],
         "yaxis": "y"
        },
        {
         "hovertemplate": "<b>%{hovertext}</b><br><br>location=Trinidad and Tobago<br>total_cases=%{x}<br>total_deaths=%{y}<br>population=%{marker.size}<extra></extra>",
         "hovertext": [
          "Trinidad and Tobago"
         ],
         "legendgroup": "Trinidad and Tobago",
         "marker": {
          "color": "#BCBD22",
          "size": [
           1399491
          ],
          "sizemode": "area",
          "sizeref": 293739.5457142857,
          "symbol": "circle"
         },
         "mode": "markers",
         "name": "Trinidad and Tobago",
         "orientation": "v",
         "showlegend": true,
         "textposition": "top center",
         "type": "scatter",
         "x": [
          1020.5882352941177
         ],
         "xaxis": "x",
         "y": [
          21.72596153846154
         ],
         "yaxis": "y"
        },
        {
         "hovertemplate": "<b>%{hovertext}</b><br><br>location=Tunisia<br>total_cases=%{x}<br>total_deaths=%{y}<br>population=%{marker.size}<extra></extra>",
         "hovertext": [
          "Tunisia"
         ],
         "legendgroup": "Tunisia",
         "marker": {
          "color": "#17BECF",
          "size": [
           11818618
          ],
          "sizemode": "area",
          "sizeref": 293739.5457142857,
          "symbol": "circle"
         },
         "mode": "markers",
         "name": "Tunisia",
         "orientation": "v",
         "showlegend": true,
         "textposition": "top center",
         "type": "scatter",
         "x": [
          4447.2266666666665
         ],
         "xaxis": "x",
         "y": [
          89.31924882629107
         ],
         "yaxis": "y"
        },
        {
         "hovertemplate": "<b>%{hovertext}</b><br><br>location=Turkey<br>total_cases=%{x}<br>total_deaths=%{y}<br>population=%{marker.size}<extra></extra>",
         "hovertext": [
          "Turkey"
         ],
         "legendgroup": "Turkey",
         "marker": {
          "color": "#1F77B4",
          "size": [
           84339067
          ],
          "sizemode": "area",
          "sizeref": 293739.5457142857,
          "symbol": "circle"
         },
         "mode": "markers",
         "name": "Turkey",
         "orientation": "v",
         "showlegend": true,
         "textposition": "top center",
         "type": "scatter",
         "x": [
          188327.03636363638
         ],
         "xaxis": "x",
         "y": [
          4882.590697674418
         ],
         "yaxis": "y"
        },
        {
         "hovertemplate": "<b>%{hovertext}</b><br><br>location=Turks and Caicos Islands<br>total_cases=%{x}<br>total_deaths=%{y}<br>population=%{marker.size}<extra></extra>",
         "hovertext": [
          "Turks and Caicos Islands"
         ],
         "legendgroup": "Turks and Caicos Islands",
         "marker": {
          "color": "#FF7F0E",
          "size": [
           38718
          ],
          "sizemode": "area",
          "sizeref": 293739.5457142857,
          "symbol": "circle"
         },
         "mode": "markers",
         "name": "Turks and Caicos Islands",
         "orientation": "v",
         "showlegend": true,
         "textposition": "top center",
         "type": "scatter",
         "x": [
          212.5933014354067
         ],
         "xaxis": "x",
         "y": [
          2.416243654822335
         ],
         "yaxis": "y"
        },
        {
         "hovertemplate": "<b>%{hovertext}</b><br><br>location=Uganda<br>total_cases=%{x}<br>total_deaths=%{y}<br>population=%{marker.size}<extra></extra>",
         "hovertext": [
          "Uganda"
         ],
         "legendgroup": "Uganda",
         "marker": {
          "color": "#2CA02C",
          "size": [
           45741000
          ],
          "sizemode": "area",
          "sizeref": 293739.5457142857,
          "symbol": "circle"
         },
         "mode": "markers",
         "name": "Uganda",
         "orientation": "v",
         "showlegend": true,
         "textposition": "top center",
         "type": "scatter",
         "x": [
          2116.6415094339623
         ],
         "xaxis": "x",
         "y": [
          43.08045977011494
         ],
         "yaxis": "y"
        },
        {
         "hovertemplate": "<b>%{hovertext}</b><br><br>location=Ukraine<br>total_cases=%{x}<br>total_deaths=%{y}<br>population=%{marker.size}<extra></extra>",
         "hovertext": [
          "Ukraine"
         ],
         "legendgroup": "Ukraine",
         "marker": {
          "color": "#D62728",
          "size": [
           43733759
          ],
          "sizemode": "area",
          "sizeref": 293739.5457142857,
          "symbol": "circle"
         },
         "mode": "markers",
         "name": "Ukraine",
         "orientation": "v",
         "showlegend": true,
         "textposition": "top center",
         "type": "scatter",
         "x": [
          71843.93181818182
         ],
         "xaxis": "x",
         "y": [
          1596.9023255813954
         ],
         "yaxis": "y"
        },
        {
         "hovertemplate": "<b>%{hovertext}</b><br><br>location=United Arab Emirates<br>total_cases=%{x}<br>total_deaths=%{y}<br>population=%{marker.size}<extra></extra>",
         "hovertext": [
          "United Arab Emirates"
         ],
         "legendgroup": "United Arab Emirates",
         "marker": {
          "color": "#9467BD",
          "size": [
           9890400
          ],
          "sizemode": "area",
          "sizeref": 293739.5457142857,
          "symbol": "circle"
         },
         "mode": "markers",
         "name": "United Arab Emirates",
         "orientation": "v",
         "showlegend": true,
         "textposition": "top center",
         "type": "scatter",
         "x": [
          39261.78544061303
         ],
         "xaxis": "x",
         "y": [
          273.75
         ],
         "yaxis": "y"
        },
        {
         "hovertemplate": "<b>%{hovertext}</b><br><br>location=United Kingdom<br>total_cases=%{x}<br>total_deaths=%{y}<br>population=%{marker.size}<extra></extra>",
         "hovertext": [
          "United Kingdom"
         ],
         "legendgroup": "United Kingdom",
         "marker": {
          "color": "#8C564B",
          "size": [
           67886004
          ],
          "sizemode": "area",
          "sizeref": 293739.5457142857,
          "symbol": "circle"
         },
         "mode": "markers",
         "name": "United Kingdom",
         "orientation": "v",
         "showlegend": true,
         "textposition": "top center",
         "type": "scatter",
         "x": [
          227003.93893129771
         ],
         "xaxis": "x",
         "y": [
          31936.444933920706
         ],
         "yaxis": "y"
        },
        {
         "hovertemplate": "<b>%{hovertext}</b><br><br>location=United States<br>total_cases=%{x}<br>total_deaths=%{y}<br>population=%{marker.size}<extra></extra>",
         "hovertext": [
          "United States"
         ],
         "legendgroup": "United States",
         "marker": {
          "color": "#E377C2",
          "size": [
           331002647
          ],
          "sizemode": "area",
          "sizeref": 293739.5457142857,
          "symbol": "circle"
         },
         "mode": "markers",
         "name": "United States",
         "orientation": "v",
         "showlegend": true,
         "textposition": "top center",
         "type": "scatter",
         "x": [
          2732652.3736263737
         ],
         "xaxis": "x",
         "y": [
          113637.65665236051
         ],
         "yaxis": "y"
        },
        {
         "hovertemplate": "<b>%{hovertext}</b><br><br>location=United States Virgin Islands<br>total_cases=%{x}<br>total_deaths=%{y}<br>population=%{marker.size}<extra></extra>",
         "hovertext": [
          "United States Virgin Islands"
         ],
         "legendgroup": "United States Virgin Islands",
         "marker": {
          "color": "#7F7F7F",
          "size": [
           104423
          ],
          "sizemode": "area",
          "sizeref": 293739.5457142857,
          "symbol": "circle"
         },
         "mode": "markers",
         "name": "United States Virgin Islands",
         "orientation": "v",
         "showlegend": true,
         "textposition": "top center",
         "type": "scatter",
         "x": [
          471.46411483253587
         ],
         "xaxis": "x",
         "y": [
          9.304568527918782
         ],
         "yaxis": "y"
        },
        {
         "hovertemplate": "<b>%{hovertext}</b><br><br>location=Uruguay<br>total_cases=%{x}<br>total_deaths=%{y}<br>population=%{marker.size}<extra></extra>",
         "hovertext": [
          "Uruguay"
         ],
         "legendgroup": "Uruguay",
         "marker": {
          "color": "#BCBD22",
          "size": [
           3473727
          ],
          "sizemode": "area",
          "sizeref": 293739.5457142857,
          "symbol": "circle"
         },
         "mode": "markers",
         "name": "Uruguay",
         "orientation": "v",
         "showlegend": true,
         "textposition": "top center",
         "type": "scatter",
         "x": [
          1095.3607305936073
         ],
         "xaxis": "x",
         "y": [
          29.818627450980394
         ],
         "yaxis": "y"
        },
        {
         "hovertemplate": "<b>%{hovertext}</b><br><br>location=Uzbekistan<br>total_cases=%{x}<br>total_deaths=%{y}<br>population=%{marker.size}<extra></extra>",
         "hovertext": [
          "Uzbekistan"
         ],
         "legendgroup": "Uzbekistan",
         "marker": {
          "color": "#17BECF",
          "size": [
           33469199
          ],
          "sizemode": "area",
          "sizeref": 293739.5457142857,
          "symbol": "circle"
         },
         "mode": "markers",
         "name": "Uzbekistan",
         "orientation": "v",
         "showlegend": true,
         "textposition": "top center",
         "type": "scatter",
         "x": [
          20280.802752293577
         ],
         "xaxis": "x",
         "y": [
          155.62439024390244
         ],
         "yaxis": "y"
        },
        {
         "hovertemplate": "<b>%{hovertext}</b><br><br>location=Vatican<br>total_cases=%{x}<br>total_deaths=%{y}<br>population=%{marker.size}<extra></extra>",
         "hovertext": [
          "Vatican"
         ],
         "legendgroup": "Vatican",
         "marker": {
          "color": "#1F77B4",
          "size": [
           809
          ],
          "sizemode": "area",
          "sizeref": 293739.5457142857,
          "symbol": "circle"
         },
         "mode": "markers",
         "name": "Vatican",
         "orientation": "v",
         "showlegend": true,
         "textposition": "top center",
         "type": "scatter",
         "x": [
          11.027397260273972
         ],
         "xaxis": "x",
         "y": [
          null
         ],
         "yaxis": "y"
        },
        {
         "hovertemplate": "<b>%{hovertext}</b><br><br>location=Venezuela<br>total_cases=%{x}<br>total_deaths=%{y}<br>population=%{marker.size}<extra></extra>",
         "hovertext": [
          "Venezuela"
         ],
         "legendgroup": "Venezuela",
         "marker": {
          "color": "#FF7F0E",
          "size": [
           28435943
          ],
          "sizemode": "area",
          "sizeref": 293739.5457142857,
          "symbol": "circle"
         },
         "mode": "markers",
         "name": "Venezuela",
         "orientation": "v",
         "showlegend": true,
         "textposition": "top center",
         "type": "scatter",
         "x": [
          22201.07339449541
         ],
         "xaxis": "x",
         "y": [
          198.25242718446603
         ],
         "yaxis": "y"
        },
        {
         "hovertemplate": "<b>%{hovertext}</b><br><br>location=Vietnam<br>total_cases=%{x}<br>total_deaths=%{y}<br>population=%{marker.size}<extra></extra>",
         "hovertext": [
          "Vietnam"
         ],
         "legendgroup": "Vietnam",
         "marker": {
          "color": "#2CA02C",
          "size": [
           97338583
          ],
          "sizemode": "area",
          "sizeref": 293739.5457142857,
          "symbol": "circle"
         },
         "mode": "markers",
         "name": "Vietnam",
         "orientation": "v",
         "showlegend": true,
         "textposition": "top center",
         "type": "scatter",
         "x": [
          460.96992481203006
         ],
         "xaxis": "x",
         "y": [
          28.975
         ],
         "yaxis": "y"
        },
        {
         "hovertemplate": "<b>%{hovertext}</b><br><br>location=Yemen<br>total_cases=%{x}<br>total_deaths=%{y}<br>population=%{marker.size}<extra></extra>",
         "hovertext": [
          "Yemen"
         ],
         "legendgroup": "Yemen",
         "marker": {
          "color": "#D62728",
          "size": [
           29825968
          ],
          "sizemode": "area",
          "sizeref": 293739.5457142857,
          "symbol": "circle"
         },
         "mode": "markers",
         "name": "Yemen",
         "orientation": "v",
         "showlegend": true,
         "textposition": "top center",
         "type": "scatter",
         "x": [
          1186.139896373057
         ],
         "xaxis": "x",
         "y": [
          373.86046511627904
         ],
         "yaxis": "y"
        },
        {
         "hovertemplate": "<b>%{hovertext}</b><br><br>location=Zambia<br>total_cases=%{x}<br>total_deaths=%{y}<br>population=%{marker.size}<extra></extra>",
         "hovertext": [
          "Zambia"
         ],
         "legendgroup": "Zambia",
         "marker": {
          "color": "#9467BD",
          "size": [
           18383956
          ],
          "sizemode": "area",
          "sizeref": 293739.5457142857,
          "symbol": "circle"
         },
         "mode": "markers",
         "name": "Zambia",
         "orientation": "v",
         "showlegend": true,
         "textposition": "top center",
         "type": "scatter",
         "x": [
          5255.409302325582
         ],
         "xaxis": "x",
         "y": [
          132.375
         ],
         "yaxis": "y"
        },
        {
         "hovertemplate": "<b>%{hovertext}</b><br><br>location=Zimbabwe<br>total_cases=%{x}<br>total_deaths=%{y}<br>population=%{marker.size}<extra></extra>",
         "hovertext": [
          "Zimbabwe"
         ],
         "legendgroup": "Zimbabwe",
         "marker": {
          "color": "#8C564B",
          "size": [
           14862927
          ],
          "sizemode": "area",
          "sizeref": 293739.5457142857,
          "symbol": "circle"
         },
         "mode": "markers",
         "name": "Zimbabwe",
         "orientation": "v",
         "showlegend": true,
         "textposition": "top center",
         "type": "scatter",
         "x": [
          2787.319248826291
         ],
         "xaxis": "x",
         "y": [
          76.11428571428571
         ],
         "yaxis": "y"
        }
       ],
       "layout": {
        "height": 500,
        "legend": {
         "itemsizing": "constant",
         "title": {
          "text": "location"
         },
         "tracegroupgap": 0
        },
        "margin": {
         "t": 60
        },
        "template": {
         "data": {
          "bar": [
           {
            "error_x": {
             "color": "rgb(36,36,36)"
            },
            "error_y": {
             "color": "rgb(36,36,36)"
            },
            "marker": {
             "line": {
              "color": "white",
              "width": 0.5
             },
             "pattern": {
              "fillmode": "overlay",
              "size": 10,
              "solidity": 0.2
             }
            },
            "type": "bar"
           }
          ],
          "barpolar": [
           {
            "marker": {
             "line": {
              "color": "white",
              "width": 0.5
             },
             "pattern": {
              "fillmode": "overlay",
              "size": 10,
              "solidity": 0.2
             }
            },
            "type": "barpolar"
           }
          ],
          "carpet": [
           {
            "aaxis": {
             "endlinecolor": "rgb(36,36,36)",
             "gridcolor": "white",
             "linecolor": "white",
             "minorgridcolor": "white",
             "startlinecolor": "rgb(36,36,36)"
            },
            "baxis": {
             "endlinecolor": "rgb(36,36,36)",
             "gridcolor": "white",
             "linecolor": "white",
             "minorgridcolor": "white",
             "startlinecolor": "rgb(36,36,36)"
            },
            "type": "carpet"
           }
          ],
          "choropleth": [
           {
            "colorbar": {
             "outlinewidth": 1,
             "tickcolor": "rgb(36,36,36)",
             "ticks": "outside"
            },
            "type": "choropleth"
           }
          ],
          "contour": [
           {
            "colorbar": {
             "outlinewidth": 1,
             "tickcolor": "rgb(36,36,36)",
             "ticks": "outside"
            },
            "colorscale": [
             [
              0,
              "#440154"
             ],
             [
              0.1111111111111111,
              "#482878"
             ],
             [
              0.2222222222222222,
              "#3e4989"
             ],
             [
              0.3333333333333333,
              "#31688e"
             ],
             [
              0.4444444444444444,
              "#26828e"
             ],
             [
              0.5555555555555556,
              "#1f9e89"
             ],
             [
              0.6666666666666666,
              "#35b779"
             ],
             [
              0.7777777777777778,
              "#6ece58"
             ],
             [
              0.8888888888888888,
              "#b5de2b"
             ],
             [
              1,
              "#fde725"
             ]
            ],
            "type": "contour"
           }
          ],
          "contourcarpet": [
           {
            "colorbar": {
             "outlinewidth": 1,
             "tickcolor": "rgb(36,36,36)",
             "ticks": "outside"
            },
            "type": "contourcarpet"
           }
          ],
          "heatmap": [
           {
            "colorbar": {
             "outlinewidth": 1,
             "tickcolor": "rgb(36,36,36)",
             "ticks": "outside"
            },
            "colorscale": [
             [
              0,
              "#440154"
             ],
             [
              0.1111111111111111,
              "#482878"
             ],
             [
              0.2222222222222222,
              "#3e4989"
             ],
             [
              0.3333333333333333,
              "#31688e"
             ],
             [
              0.4444444444444444,
              "#26828e"
             ],
             [
              0.5555555555555556,
              "#1f9e89"
             ],
             [
              0.6666666666666666,
              "#35b779"
             ],
             [
              0.7777777777777778,
              "#6ece58"
             ],
             [
              0.8888888888888888,
              "#b5de2b"
             ],
             [
              1,
              "#fde725"
             ]
            ],
            "type": "heatmap"
           }
          ],
          "heatmapgl": [
           {
            "colorbar": {
             "outlinewidth": 1,
             "tickcolor": "rgb(36,36,36)",
             "ticks": "outside"
            },
            "colorscale": [
             [
              0,
              "#440154"
             ],
             [
              0.1111111111111111,
              "#482878"
             ],
             [
              0.2222222222222222,
              "#3e4989"
             ],
             [
              0.3333333333333333,
              "#31688e"
             ],
             [
              0.4444444444444444,
              "#26828e"
             ],
             [
              0.5555555555555556,
              "#1f9e89"
             ],
             [
              0.6666666666666666,
              "#35b779"
             ],
             [
              0.7777777777777778,
              "#6ece58"
             ],
             [
              0.8888888888888888,
              "#b5de2b"
             ],
             [
              1,
              "#fde725"
             ]
            ],
            "type": "heatmapgl"
           }
          ],
          "histogram": [
           {
            "marker": {
             "line": {
              "color": "white",
              "width": 0.6
             }
            },
            "type": "histogram"
           }
          ],
          "histogram2d": [
           {
            "colorbar": {
             "outlinewidth": 1,
             "tickcolor": "rgb(36,36,36)",
             "ticks": "outside"
            },
            "colorscale": [
             [
              0,
              "#440154"
             ],
             [
              0.1111111111111111,
              "#482878"
             ],
             [
              0.2222222222222222,
              "#3e4989"
             ],
             [
              0.3333333333333333,
              "#31688e"
             ],
             [
              0.4444444444444444,
              "#26828e"
             ],
             [
              0.5555555555555556,
              "#1f9e89"
             ],
             [
              0.6666666666666666,
              "#35b779"
             ],
             [
              0.7777777777777778,
              "#6ece58"
             ],
             [
              0.8888888888888888,
              "#b5de2b"
             ],
             [
              1,
              "#fde725"
             ]
            ],
            "type": "histogram2d"
           }
          ],
          "histogram2dcontour": [
           {
            "colorbar": {
             "outlinewidth": 1,
             "tickcolor": "rgb(36,36,36)",
             "ticks": "outside"
            },
            "colorscale": [
             [
              0,
              "#440154"
             ],
             [
              0.1111111111111111,
              "#482878"
             ],
             [
              0.2222222222222222,
              "#3e4989"
             ],
             [
              0.3333333333333333,
              "#31688e"
             ],
             [
              0.4444444444444444,
              "#26828e"
             ],
             [
              0.5555555555555556,
              "#1f9e89"
             ],
             [
              0.6666666666666666,
              "#35b779"
             ],
             [
              0.7777777777777778,
              "#6ece58"
             ],
             [
              0.8888888888888888,
              "#b5de2b"
             ],
             [
              1,
              "#fde725"
             ]
            ],
            "type": "histogram2dcontour"
           }
          ],
          "mesh3d": [
           {
            "colorbar": {
             "outlinewidth": 1,
             "tickcolor": "rgb(36,36,36)",
             "ticks": "outside"
            },
            "type": "mesh3d"
           }
          ],
          "parcoords": [
           {
            "line": {
             "colorbar": {
              "outlinewidth": 1,
              "tickcolor": "rgb(36,36,36)",
              "ticks": "outside"
             }
            },
            "type": "parcoords"
           }
          ],
          "pie": [
           {
            "automargin": true,
            "type": "pie"
           }
          ],
          "scatter": [
           {
            "fillpattern": {
             "fillmode": "overlay",
             "size": 10,
             "solidity": 0.2
            },
            "type": "scatter"
           }
          ],
          "scatter3d": [
           {
            "line": {
             "colorbar": {
              "outlinewidth": 1,
              "tickcolor": "rgb(36,36,36)",
              "ticks": "outside"
             }
            },
            "marker": {
             "colorbar": {
              "outlinewidth": 1,
              "tickcolor": "rgb(36,36,36)",
              "ticks": "outside"
             }
            },
            "type": "scatter3d"
           }
          ],
          "scattercarpet": [
           {
            "marker": {
             "colorbar": {
              "outlinewidth": 1,
              "tickcolor": "rgb(36,36,36)",
              "ticks": "outside"
             }
            },
            "type": "scattercarpet"
           }
          ],
          "scattergeo": [
           {
            "marker": {
             "colorbar": {
              "outlinewidth": 1,
              "tickcolor": "rgb(36,36,36)",
              "ticks": "outside"
             }
            },
            "type": "scattergeo"
           }
          ],
          "scattergl": [
           {
            "marker": {
             "colorbar": {
              "outlinewidth": 1,
              "tickcolor": "rgb(36,36,36)",
              "ticks": "outside"
             }
            },
            "type": "scattergl"
           }
          ],
          "scattermapbox": [
           {
            "marker": {
             "colorbar": {
              "outlinewidth": 1,
              "tickcolor": "rgb(36,36,36)",
              "ticks": "outside"
             }
            },
            "type": "scattermapbox"
           }
          ],
          "scatterpolar": [
           {
            "marker": {
             "colorbar": {
              "outlinewidth": 1,
              "tickcolor": "rgb(36,36,36)",
              "ticks": "outside"
             }
            },
            "type": "scatterpolar"
           }
          ],
          "scatterpolargl": [
           {
            "marker": {
             "colorbar": {
              "outlinewidth": 1,
              "tickcolor": "rgb(36,36,36)",
              "ticks": "outside"
             }
            },
            "type": "scatterpolargl"
           }
          ],
          "scatterternary": [
           {
            "marker": {
             "colorbar": {
              "outlinewidth": 1,
              "tickcolor": "rgb(36,36,36)",
              "ticks": "outside"
             }
            },
            "type": "scatterternary"
           }
          ],
          "surface": [
           {
            "colorbar": {
             "outlinewidth": 1,
             "tickcolor": "rgb(36,36,36)",
             "ticks": "outside"
            },
            "colorscale": [
             [
              0,
              "#440154"
             ],
             [
              0.1111111111111111,
              "#482878"
             ],
             [
              0.2222222222222222,
              "#3e4989"
             ],
             [
              0.3333333333333333,
              "#31688e"
             ],
             [
              0.4444444444444444,
              "#26828e"
             ],
             [
              0.5555555555555556,
              "#1f9e89"
             ],
             [
              0.6666666666666666,
              "#35b779"
             ],
             [
              0.7777777777777778,
              "#6ece58"
             ],
             [
              0.8888888888888888,
              "#b5de2b"
             ],
             [
              1,
              "#fde725"
             ]
            ],
            "type": "surface"
           }
          ],
          "table": [
           {
            "cells": {
             "fill": {
              "color": "rgb(237,237,237)"
             },
             "line": {
              "color": "white"
             }
            },
            "header": {
             "fill": {
              "color": "rgb(217,217,217)"
             },
             "line": {
              "color": "white"
             }
            },
            "type": "table"
           }
          ]
         },
         "layout": {
          "annotationdefaults": {
           "arrowhead": 0,
           "arrowwidth": 1
          },
          "autotypenumbers": "strict",
          "coloraxis": {
           "colorbar": {
            "outlinewidth": 1,
            "tickcolor": "rgb(36,36,36)",
            "ticks": "outside"
           }
          },
          "colorscale": {
           "diverging": [
            [
             0,
             "rgb(103,0,31)"
            ],
            [
             0.1,
             "rgb(178,24,43)"
            ],
            [
             0.2,
             "rgb(214,96,77)"
            ],
            [
             0.3,
             "rgb(244,165,130)"
            ],
            [
             0.4,
             "rgb(253,219,199)"
            ],
            [
             0.5,
             "rgb(247,247,247)"
            ],
            [
             0.6,
             "rgb(209,229,240)"
            ],
            [
             0.7,
             "rgb(146,197,222)"
            ],
            [
             0.8,
             "rgb(67,147,195)"
            ],
            [
             0.9,
             "rgb(33,102,172)"
            ],
            [
             1,
             "rgb(5,48,97)"
            ]
           ],
           "sequential": [
            [
             0,
             "#440154"
            ],
            [
             0.1111111111111111,
             "#482878"
            ],
            [
             0.2222222222222222,
             "#3e4989"
            ],
            [
             0.3333333333333333,
             "#31688e"
            ],
            [
             0.4444444444444444,
             "#26828e"
            ],
            [
             0.5555555555555556,
             "#1f9e89"
            ],
            [
             0.6666666666666666,
             "#35b779"
            ],
            [
             0.7777777777777778,
             "#6ece58"
            ],
            [
             0.8888888888888888,
             "#b5de2b"
            ],
            [
             1,
             "#fde725"
            ]
           ],
           "sequentialminus": [
            [
             0,
             "#440154"
            ],
            [
             0.1111111111111111,
             "#482878"
            ],
            [
             0.2222222222222222,
             "#3e4989"
            ],
            [
             0.3333333333333333,
             "#31688e"
            ],
            [
             0.4444444444444444,
             "#26828e"
            ],
            [
             0.5555555555555556,
             "#1f9e89"
            ],
            [
             0.6666666666666666,
             "#35b779"
            ],
            [
             0.7777777777777778,
             "#6ece58"
            ],
            [
             0.8888888888888888,
             "#b5de2b"
            ],
            [
             1,
             "#fde725"
            ]
           ]
          },
          "colorway": [
           "#1F77B4",
           "#FF7F0E",
           "#2CA02C",
           "#D62728",
           "#9467BD",
           "#8C564B",
           "#E377C2",
           "#7F7F7F",
           "#BCBD22",
           "#17BECF"
          ],
          "font": {
           "color": "rgb(36,36,36)"
          },
          "geo": {
           "bgcolor": "white",
           "lakecolor": "white",
           "landcolor": "white",
           "showlakes": true,
           "showland": true,
           "subunitcolor": "white"
          },
          "hoverlabel": {
           "align": "left"
          },
          "hovermode": "closest",
          "mapbox": {
           "style": "light"
          },
          "paper_bgcolor": "white",
          "plot_bgcolor": "white",
          "polar": {
           "angularaxis": {
            "gridcolor": "rgb(232,232,232)",
            "linecolor": "rgb(36,36,36)",
            "showgrid": false,
            "showline": true,
            "ticks": "outside"
           },
           "bgcolor": "white",
           "radialaxis": {
            "gridcolor": "rgb(232,232,232)",
            "linecolor": "rgb(36,36,36)",
            "showgrid": false,
            "showline": true,
            "ticks": "outside"
           }
          },
          "scene": {
           "xaxis": {
            "backgroundcolor": "white",
            "gridcolor": "rgb(232,232,232)",
            "gridwidth": 2,
            "linecolor": "rgb(36,36,36)",
            "showbackground": true,
            "showgrid": false,
            "showline": true,
            "ticks": "outside",
            "zeroline": false,
            "zerolinecolor": "rgb(36,36,36)"
           },
           "yaxis": {
            "backgroundcolor": "white",
            "gridcolor": "rgb(232,232,232)",
            "gridwidth": 2,
            "linecolor": "rgb(36,36,36)",
            "showbackground": true,
            "showgrid": false,
            "showline": true,
            "ticks": "outside",
            "zeroline": false,
            "zerolinecolor": "rgb(36,36,36)"
           },
           "zaxis": {
            "backgroundcolor": "white",
            "gridcolor": "rgb(232,232,232)",
            "gridwidth": 2,
            "linecolor": "rgb(36,36,36)",
            "showbackground": true,
            "showgrid": false,
            "showline": true,
            "ticks": "outside",
            "zeroline": false,
            "zerolinecolor": "rgb(36,36,36)"
           }
          },
          "shapedefaults": {
           "fillcolor": "black",
           "line": {
            "width": 0
           },
           "opacity": 0.3
          },
          "ternary": {
           "aaxis": {
            "gridcolor": "rgb(232,232,232)",
            "linecolor": "rgb(36,36,36)",
            "showgrid": false,
            "showline": true,
            "ticks": "outside"
           },
           "baxis": {
            "gridcolor": "rgb(232,232,232)",
            "linecolor": "rgb(36,36,36)",
            "showgrid": false,
            "showline": true,
            "ticks": "outside"
           },
           "bgcolor": "white",
           "caxis": {
            "gridcolor": "rgb(232,232,232)",
            "linecolor": "rgb(36,36,36)",
            "showgrid": false,
            "showline": true,
            "ticks": "outside"
           }
          },
          "title": {
           "x": 0.05
          },
          "xaxis": {
           "automargin": true,
           "gridcolor": "rgb(232,232,232)",
           "linecolor": "rgb(36,36,36)",
           "showgrid": false,
           "showline": true,
           "ticks": "outside",
           "title": {
            "standoff": 15
           },
           "zeroline": false,
           "zerolinecolor": "rgb(36,36,36)"
          },
          "yaxis": {
           "automargin": true,
           "gridcolor": "rgb(232,232,232)",
           "linecolor": "rgb(36,36,36)",
           "showgrid": false,
           "showline": true,
           "ticks": "outside",
           "title": {
            "standoff": 15
           },
           "zeroline": false,
           "zerolinecolor": "rgb(36,36,36)"
          }
         }
        },
        "title": {
         "text": "COVID-19 Cases vs HDI (per Country)"
        },
        "xaxis": {
         "anchor": "y",
         "domain": [
          0,
          1
         ],
         "title": {
          "text": "total_cases"
         }
        },
        "yaxis": {
         "anchor": "x",
         "domain": [
          0,
          1
         ],
         "title": {
          "text": "total_deaths"
         }
        }
       }
      }
     },
     "metadata": {},
     "output_type": "display_data"
    }
   ],
   "source": [
    "fig = px.scatter(df2_grouped, x='total_cases', y='total_deaths', hover_name='location', color='location', size='population', template=\"simple_white\", size_max=70)\n",
    "fig.update_traces(textposition='top center')\n",
    "fig.update_layout(\n",
    "    height=500,\n",
    "    title_text='COVID-19 Cases vs HDI (per Country)'\n",
    ")\n",
    "fig.show()"
   ]
  },
  {
   "cell_type": "code",
   "execution_count": null,
   "metadata": {},
   "outputs": [],
   "source": [
    "fig = px.bar(df2_grouped, x='Continent', y='Cases', hover_name='Country', color='Continent', template=\"simple_white\")\n",
    "fig.update_layout(\n",
    "    height=500,\n",
    "    title_text='COVID-19 Cases per Continent'\n",
    ")\n",
    "fig.update_xaxes(showticklabels=False)\n",
    "fig.show()"
   ]
  },
  {
   "cell_type": "code",
   "execution_count": 29,
   "metadata": {},
   "outputs": [
    {
     "data": {
      "application/vnd.plotly.v1+json": {
       "config": {
        "plotlyServerURL": "https://plot.ly"
       },
       "data": [
        {
         "alignmentgroup": "True",
         "hovertemplate": "<b>%{hovertext}</b><br><br>continent=%{x}<br>total_cases=%{y}<extra></extra>",
         "hovertext": [
          "Afghanistan",
          "Armenia",
          "Azerbaijan",
          "Bahrain",
          "Bangladesh",
          "Bhutan",
          "Cambodia",
          "China",
          "Cyprus",
          "Georgia",
          "Hong Kong",
          "India",
          "Indonesia",
          "Iran",
          "Iraq",
          "Israel",
          "Japan",
          "Jordan",
          "Kazakhstan",
          "Kuwait",
          "Kyrgyzstan",
          "Laos",
          "Lebanon",
          "Malaysia",
          "Maldives",
          "Mongolia",
          "Myanmar",
          "Nepal",
          "Oman",
          "Pakistan",
          "Palestine",
          "Philippines",
          "Saudi Arabia",
          "South Korea",
          "Sri Lanka",
          "Syria",
          "Taiwan",
          "Tajikistan",
          "Thailand",
          "Turkey",
          "United Arab Emirates",
          "Uzbekistan",
          "Vietnam",
          "Yemen"
         ],
         "legendgroup": "Asia",
         "marker": {
          "color": "#1F77B4",
          "pattern": {
           "shape": ""
          }
         },
         "name": "Asia",
         "offsetgroup": "Asia",
         "orientation": "v",
         "showlegend": true,
         "textposition": "auto",
         "type": "bar",
         "x": [
          "Asia",
          "Asia",
          "Asia",
          "Asia",
          "Asia",
          "Asia",
          "Asia",
          "Asia",
          "Asia",
          "Asia",
          "Asia",
          "Asia",
          "Asia",
          "Asia",
          "Asia",
          "Asia",
          "Asia",
          "Asia",
          "Asia",
          "Asia",
          "Asia",
          "Asia",
          "Asia",
          "Asia",
          "Asia",
          "Asia",
          "Asia",
          "Asia",
          "Asia",
          "Asia",
          "Asia",
          "Asia",
          "Asia",
          "Asia",
          "Asia",
          "Asia",
          "Asia",
          "Asia",
          "Asia",
          "Asia",
          "Asia",
          "Asia",
          "Asia",
          "Asia"
         ],
         "xaxis": "x",
         "y": [
          17436.84693877551,
          24440.308035714286,
          18664.237885462557,
          27520.98739495798,
          161032.77625570775,
          103.85,
          153.84824902723736,
          73579.3163265306,
          1066.0945945945946,
          1852.7424892703862,
          null,
          1550462.4144486692,
          95867.3288888889,
          215727.91769547324,
          85987.52380952382,
          55110.45578231292,
          26052.666666666668,
          3156.4493392070485,
          59705.262443438914,
          36129.948979591834,
          19943.474418604652,
          19.32535885167464,
          7553.397959183673,
          6620.078358208955,
          3768.035714285714,
          194.79357798165137,
          3067.6619047619047,
          20483.01953125,
          43362.46982758621,
          163368.2987012987,
          14442.035555555556,
          86192.06153846154,
          169233.29385964913,
          12164.507299270073,
          1737.9105058365758,
          1269.6777251184835,
          355.5824175824176,
          6496.459302325581,
          2393.0766423357663,
          188327.03636363638,
          39261.78544061303,
          20280.802752293577,
          460.96992481203006,
          1186.139896373057
         ],
         "yaxis": "y"
        },
        {
         "alignmentgroup": "True",
         "hovertemplate": "<b>%{hovertext}</b><br><br>continent=%{x}<br>total_cases=%{y}<extra></extra>",
         "hovertext": [
          "Albania",
          "Andorra",
          "Austria",
          "Belarus",
          "Belgium",
          "Bosnia and Herzegovina",
          "Bulgaria",
          "Croatia",
          "Czech Republic",
          "Denmark",
          "Estonia",
          "Faeroe Islands",
          "Finland",
          "France",
          "Germany",
          "Gibraltar",
          "Greece",
          "Guernsey",
          "Hungary",
          "Iceland",
          "Ireland",
          "Isle of Man",
          "Italy",
          "Jersey",
          "Latvia",
          "Liechtenstein",
          "Lithuania",
          "Macedonia",
          "Malta",
          "Moldova",
          "Monaco",
          "Montenegro",
          "Netherlands",
          "Norway",
          "Poland",
          "Portugal",
          "Romania",
          "Russia",
          "San Marino",
          "Serbia",
          "Slovakia",
          "Slovenia",
          "Spain",
          "Sweden",
          "Switzerland",
          "Ukraine",
          "United Kingdom"
         ],
         "legendgroup": "Europe",
         "marker": {
          "color": "#FF7F0E",
          "pattern": {
           "shape": ""
          }
         },
         "name": "Europe",
         "offsetgroup": "Europe",
         "orientation": "v",
         "showlegend": true,
         "textposition": "auto",
         "type": "bar",
         "x": [
          "Europe",
          "Europe",
          "Europe",
          "Europe",
          "Europe",
          "Europe",
          "Europe",
          "Europe",
          "Europe",
          "Europe",
          "Europe",
          "Europe",
          "Europe",
          "Europe",
          "Europe",
          "Europe",
          "Europe",
          "Europe",
          "Europe",
          "Europe",
          "Europe",
          "Europe",
          "Europe",
          "Europe",
          "Europe",
          "Europe",
          "Europe",
          "Europe",
          "Europe",
          "Europe",
          "Europe",
          "Europe",
          "Europe",
          "Europe",
          "Europe",
          "Europe",
          "Europe",
          "Europe",
          "Europe",
          "Europe",
          "Europe",
          "Europe",
          "Europe",
          "Europe",
          "Europe",
          "Europe",
          "Europe"
         ],
         "xaxis": "x",
         "y": [
          4764.2266666666665,
          1016.2545454545455,
          20713.91139240506,
          46674.828193832596,
          59114.66147859922,
          9955.009049773756,
          8439.19642857143,
          5615.517094017094,
          22474.05172413793,
          12839.35593220339,
          1936.5304347826086,
          249.53070175438597,
          5609.553846153846,
          186187.11895910781,
          159577.73684210525,
          211.86915887850466,
          6074.65811965812,
          232.77570093457945,
          7494.728070175439,
          1800.042735042735,
          17822.442176870747,
          304.85915492957747,
          172628.75170068027,
          312.0420560747664,
          1127.5947136563877,
          89.17040358744394,
          1712.480701754386,
          7595.68281938326,
          1106.876651982379,
          20680.723214285714,
          96.8963963963964,
          3129.222222222222,
          55432.46382978724,
          8414.783898305084,
          40524.81140350877,
          40113.69264069264,
          45610.50854700855,
          507209.7366412214,
          576.8974358974359,
          17786.491071428572,
          3533.9159292035397,
          2399.4517543859647,
          282443.2030651341,
          45984.976833976834,
          31865.261603375526,
          71843.93181818182,
          227003.93893129771
         ],
         "yaxis": "y"
        },
        {
         "alignmentgroup": "True",
         "hovertemplate": "<b>%{hovertext}</b><br><br>continent=%{x}<br>total_cases=%{y}<extra></extra>",
         "hovertext": [
          "Algeria",
          "Angola",
          "Benin",
          "Botswana",
          "Burkina Faso",
          "Burundi",
          "Cameroon",
          "Cape Verde",
          "Central African Republic",
          "Chad",
          "Comoros",
          "Congo",
          "Cote d'Ivoire",
          "Democratic Republic of Congo",
          "Djibouti",
          "Egypt",
          "Equatorial Guinea",
          "Eritrea",
          "Ethiopia",
          "Gabon",
          "Gambia",
          "Ghana",
          "Guinea",
          "Guinea-Bissau",
          "Kenya",
          "Lesotho",
          "Liberia",
          "Libya",
          "Madagascar",
          "Malawi",
          "Mali",
          "Mauritania",
          "Mauritius",
          "Morocco",
          "Mozambique",
          "Namibia",
          "Niger",
          "Nigeria",
          "Rwanda",
          "Sao Tome and Principe",
          "Senegal",
          "Seychelles",
          "Sierra Leone",
          "Somalia",
          "South Africa",
          "South Sudan",
          "Sudan",
          "Swaziland",
          "Tanzania",
          "Togo",
          "Tunisia",
          "Uganda",
          "Zambia",
          "Zimbabwe"
         ],
         "legendgroup": "Africa",
         "marker": {
          "color": "#2CA02C",
          "pattern": {
           "shape": ""
          }
         },
         "name": "Africa",
         "offsetgroup": "Africa",
         "orientation": "v",
         "showlegend": true,
         "textposition": "auto",
         "type": "bar",
         "x": [
          "Africa",
          "Africa",
          "Africa",
          "Africa",
          "Africa",
          "Africa",
          "Africa",
          "Africa",
          "Africa",
          "Africa",
          "Africa",
          "Africa",
          "Africa",
          "Africa",
          "Africa",
          "Africa",
          "Africa",
          "Africa",
          "Africa",
          "Africa",
          "Africa",
          "Africa",
          "Africa",
          "Africa",
          "Africa",
          "Africa",
          "Africa",
          "Africa",
          "Africa",
          "Africa",
          "Africa",
          "Africa",
          "Africa",
          "Africa",
          "Africa",
          "Africa",
          "Africa",
          "Africa",
          "Africa",
          "Africa",
          "Africa",
          "Africa",
          "Africa",
          "Africa",
          "Africa",
          "Africa",
          "Africa",
          "Africa",
          "Africa",
          "Africa",
          "Africa",
          "Africa",
          "Africa",
          "Africa"
         ],
         "xaxis": "x",
         "y": [
          21094.82327586207,
          1433.9858490566037,
          1133.147465437788,
          1018.6039603960396,
          1047.2941176470588,
          246.26237623762376,
          11205.891402714931,
          2177.8779342723005,
          2720.4036697247707,
          720.4345794392524,
          306.64912280701753,
          2171.412844036697,
          9694.922727272728,
          5752.900452488688,
          3636.1441860465115,
          50913.29918032787,
          2545,
          188.80188679245282,
          22165.53181818182,
          4690.013636363637,
          1062.5972222222222,
          22275.677272727273,
          5460.438356164384,
          1480.9855072463768,
          14376.026315789473,
          683.2151898734177,
          736.7741935483871,
          7901.191304347826,
          6776.154929577465,
          2682.235,
          1878.0625,
          3649.415525114155,
          324.8785046728972,
          34996.74107142857,
          2419.8009478672984,
          3110.9543378995436,
          938.8638497652582,
          27265.04910714286,
          1775.2283105022832,
          628.3969072164948,
          7083.691964285715,
          67.12785388127854,
          1328.6930693069307,
          2263.3410138248846,
          278883.4469026549,
          1692.8934010152284,
          7561.568181818182,
          2028.4840182648402,
          421.778801843318,
          772.2863636363636,
          4447.2266666666665,
          2116.6415094339623,
          5255.409302325582,
          2787.319248826291
         ],
         "yaxis": "y"
        },
        {
         "alignmentgroup": "True",
         "hovertemplate": "<b>%{hovertext}</b><br><br>continent=%{x}<br>total_cases=%{y}<extra></extra>",
         "hovertext": [
          "Anguilla",
          "Antigua and Barbuda",
          "Aruba",
          "Bahamas",
          "Barbados",
          "Belize",
          "Bermuda",
          "Bonaire Sint Eustatius and Saba",
          "British Virgin Islands",
          "Canada",
          "Cayman Islands",
          "Costa Rica",
          "Cuba",
          "Curacao",
          "Dominica",
          "Dominican Republic",
          "El Salvador",
          "Greenland",
          "Grenada",
          "Guatemala",
          "Haiti",
          "Honduras",
          "Jamaica",
          "Mexico",
          "Montserrat",
          "Nicaragua",
          "Panama",
          "Puerto Rico",
          "Saint Kitts and Nevis",
          "Saint Lucia",
          "Saint Vincent and the Grenadines",
          "Trinidad and Tobago",
          "Turks and Caicos Islands",
          "United States",
          "United States Virgin Islands"
         ],
         "legendgroup": "North America",
         "marker": {
          "color": "#D62728",
          "pattern": {
           "shape": ""
          }
         },
         "name": "North America",
         "offsetgroup": "North America",
         "orientation": "v",
         "showlegend": true,
         "textposition": "auto",
         "type": "bar",
         "x": [
          "North America",
          "North America",
          "North America",
          "North America",
          "North America",
          "North America",
          "North America",
          "North America",
          "North America",
          "North America",
          "North America",
          "North America",
          "North America",
          "North America",
          "North America",
          "North America",
          "North America",
          "North America",
          "North America",
          "North America",
          "North America",
          "North America",
          "North America",
          "North America",
          "North America",
          "North America",
          "North America",
          "North America",
          "North America",
          "North America",
          "North America",
          "North America",
          "North America",
          "North America",
          "North America"
         ],
         "xaxis": "x",
         "y": [
          2.966183574879227,
          58.967289719626166,
          1019.4786729857819,
          1101.4259259259259,
          115.73148148148148,
          506.5857142857143,
          134.93457943925233,
          25.27363184079602,
          22.246376811594203,
          77993.9328358209,
          155.01401869158877,
          20494.84513274336,
          2655.461187214612,
          94.17619047619047,
          18.848341232227487,
          47756.2600896861,
          11968.4,
          12.514018691588785,
          21.18483412322275,
          34906.05479452055,
          4781.098130841122,
          29752.26818181818,
          1678.235294117647,
          265526.95714285714,
          11.24056603773585,
          2439.1162790697676,
          46302.33928571428,
          17410.014563106797,
          15.60576923076923,
          20.319634703196346,
          37.25714285714286,
          1020.5882352941177,
          212.5933014354067,
          2732652.3736263737,
          471.46411483253587
         ],
         "yaxis": "y"
        },
        {
         "alignmentgroup": "True",
         "hovertemplate": "<b>%{hovertext}</b><br><br>continent=%{x}<br>total_cases=%{y}<extra></extra>",
         "hovertext": [
          "Argentina",
          "Bolivia",
          "Brazil",
          "Chile",
          "Colombia",
          "Ecuador",
          "Falkland Islands",
          "Guyana",
          "Paraguay",
          "Peru",
          "Suriname",
          "Uruguay",
          "Venezuela"
         ],
         "legendgroup": "South America",
         "marker": {
          "color": "#9467BD",
          "pattern": {
           "shape": ""
          }
         },
         "name": "South America",
         "offsetgroup": "South America",
         "orientation": "v",
         "showlegend": true,
         "textposition": "auto",
         "type": "bar",
         "x": [
          "South America",
          "South America",
          "South America",
          "South America",
          "South America",
          "South America",
          "South America",
          "South America",
          "South America",
          "South America",
          "South America",
          "South America",
          "South America"
         ],
         "xaxis": "x",
         "y": [
          207732.30837004405,
          53659.90045248869,
          1796221.5907172996,
          223877.87772925766,
          271496.331838565,
          63196.30263157895,
          12.396984924623116,
          762.1780821917808,
          10205.585585585586,
          331339.35840707965,
          1675.8504672897195,
          1095.3607305936073,
          22201.07339449541
         ],
         "yaxis": "y"
        },
        {
         "alignmentgroup": "True",
         "hovertemplate": "<b>%{hovertext}</b><br><br>continent=%{x}<br>total_cases=%{y}<extra></extra>",
         "hovertext": [
          "Australia",
          "Fiji",
          "French Polynesia",
          "Guam",
          "New Caledonia",
          "New Zealand",
          "Northern Mariana Islands",
          "Papua New Guinea",
          "Solomon Islands"
         ],
         "legendgroup": "Oceania",
         "marker": {
          "color": "#8C564B",
          "pattern": {
           "shape": ""
          }
         },
         "name": "Oceania",
         "offsetgroup": "Oceania",
         "orientation": "v",
         "showlegend": true,
         "textposition": "auto",
         "type": "bar",
         "x": [
          "Oceania",
          "Oceania",
          "Oceania",
          "Oceania",
          "Oceania",
          "Oceania",
          "Oceania",
          "Oceania",
          "Oceania"
         ],
         "xaxis": "x",
         "y": [
          11198.42750929368,
          22.1588785046729,
          443.66511627906976,
          748.7209302325581,
          21.103286384976524,
          1120.367256637168,
          38.3448275862069,
          168.8544600938967,
          2.75
         ],
         "yaxis": "y"
        },
        {
         "alignmentgroup": "True",
         "hovertemplate": "<b>%{hovertext}</b><br><br>continent=%{x}<br>total_cases=%{y}<extra></extra>",
         "hovertext": [
          "Kosovo",
          "Sint Maarten (Dutch part)",
          "Timor",
          "Vatican"
         ],
         "legendgroup": "Unknown",
         "marker": {
          "color": "#E377C2",
          "pattern": {
           "shape": ""
          }
         },
         "name": "Unknown",
         "offsetgroup": "Unknown",
         "orientation": "v",
         "showlegend": true,
         "textposition": "auto",
         "type": "bar",
         "x": [
          "Unknown",
          "Unknown",
          "Unknown",
          "Unknown"
         ],
         "xaxis": "x",
         "y": [
          6117.909090909091,
          230.89423076923077,
          22.15566037735849,
          11.027397260273972
         ],
         "yaxis": "y"
        }
       ],
       "layout": {
        "barmode": "relative",
        "height": 500,
        "legend": {
         "title": {
          "text": "continent"
         },
         "tracegroupgap": 0
        },
        "margin": {
         "t": 60
        },
        "template": {
         "data": {
          "bar": [
           {
            "error_x": {
             "color": "rgb(36,36,36)"
            },
            "error_y": {
             "color": "rgb(36,36,36)"
            },
            "marker": {
             "line": {
              "color": "white",
              "width": 0.5
             },
             "pattern": {
              "fillmode": "overlay",
              "size": 10,
              "solidity": 0.2
             }
            },
            "type": "bar"
           }
          ],
          "barpolar": [
           {
            "marker": {
             "line": {
              "color": "white",
              "width": 0.5
             },
             "pattern": {
              "fillmode": "overlay",
              "size": 10,
              "solidity": 0.2
             }
            },
            "type": "barpolar"
           }
          ],
          "carpet": [
           {
            "aaxis": {
             "endlinecolor": "rgb(36,36,36)",
             "gridcolor": "white",
             "linecolor": "white",
             "minorgridcolor": "white",
             "startlinecolor": "rgb(36,36,36)"
            },
            "baxis": {
             "endlinecolor": "rgb(36,36,36)",
             "gridcolor": "white",
             "linecolor": "white",
             "minorgridcolor": "white",
             "startlinecolor": "rgb(36,36,36)"
            },
            "type": "carpet"
           }
          ],
          "choropleth": [
           {
            "colorbar": {
             "outlinewidth": 1,
             "tickcolor": "rgb(36,36,36)",
             "ticks": "outside"
            },
            "type": "choropleth"
           }
          ],
          "contour": [
           {
            "colorbar": {
             "outlinewidth": 1,
             "tickcolor": "rgb(36,36,36)",
             "ticks": "outside"
            },
            "colorscale": [
             [
              0,
              "#440154"
             ],
             [
              0.1111111111111111,
              "#482878"
             ],
             [
              0.2222222222222222,
              "#3e4989"
             ],
             [
              0.3333333333333333,
              "#31688e"
             ],
             [
              0.4444444444444444,
              "#26828e"
             ],
             [
              0.5555555555555556,
              "#1f9e89"
             ],
             [
              0.6666666666666666,
              "#35b779"
             ],
             [
              0.7777777777777778,
              "#6ece58"
             ],
             [
              0.8888888888888888,
              "#b5de2b"
             ],
             [
              1,
              "#fde725"
             ]
            ],
            "type": "contour"
           }
          ],
          "contourcarpet": [
           {
            "colorbar": {
             "outlinewidth": 1,
             "tickcolor": "rgb(36,36,36)",
             "ticks": "outside"
            },
            "type": "contourcarpet"
           }
          ],
          "heatmap": [
           {
            "colorbar": {
             "outlinewidth": 1,
             "tickcolor": "rgb(36,36,36)",
             "ticks": "outside"
            },
            "colorscale": [
             [
              0,
              "#440154"
             ],
             [
              0.1111111111111111,
              "#482878"
             ],
             [
              0.2222222222222222,
              "#3e4989"
             ],
             [
              0.3333333333333333,
              "#31688e"
             ],
             [
              0.4444444444444444,
              "#26828e"
             ],
             [
              0.5555555555555556,
              "#1f9e89"
             ],
             [
              0.6666666666666666,
              "#35b779"
             ],
             [
              0.7777777777777778,
              "#6ece58"
             ],
             [
              0.8888888888888888,
              "#b5de2b"
             ],
             [
              1,
              "#fde725"
             ]
            ],
            "type": "heatmap"
           }
          ],
          "heatmapgl": [
           {
            "colorbar": {
             "outlinewidth": 1,
             "tickcolor": "rgb(36,36,36)",
             "ticks": "outside"
            },
            "colorscale": [
             [
              0,
              "#440154"
             ],
             [
              0.1111111111111111,
              "#482878"
             ],
             [
              0.2222222222222222,
              "#3e4989"
             ],
             [
              0.3333333333333333,
              "#31688e"
             ],
             [
              0.4444444444444444,
              "#26828e"
             ],
             [
              0.5555555555555556,
              "#1f9e89"
             ],
             [
              0.6666666666666666,
              "#35b779"
             ],
             [
              0.7777777777777778,
              "#6ece58"
             ],
             [
              0.8888888888888888,
              "#b5de2b"
             ],
             [
              1,
              "#fde725"
             ]
            ],
            "type": "heatmapgl"
           }
          ],
          "histogram": [
           {
            "marker": {
             "line": {
              "color": "white",
              "width": 0.6
             }
            },
            "type": "histogram"
           }
          ],
          "histogram2d": [
           {
            "colorbar": {
             "outlinewidth": 1,
             "tickcolor": "rgb(36,36,36)",
             "ticks": "outside"
            },
            "colorscale": [
             [
              0,
              "#440154"
             ],
             [
              0.1111111111111111,
              "#482878"
             ],
             [
              0.2222222222222222,
              "#3e4989"
             ],
             [
              0.3333333333333333,
              "#31688e"
             ],
             [
              0.4444444444444444,
              "#26828e"
             ],
             [
              0.5555555555555556,
              "#1f9e89"
             ],
             [
              0.6666666666666666,
              "#35b779"
             ],
             [
              0.7777777777777778,
              "#6ece58"
             ],
             [
              0.8888888888888888,
              "#b5de2b"
             ],
             [
              1,
              "#fde725"
             ]
            ],
            "type": "histogram2d"
           }
          ],
          "histogram2dcontour": [
           {
            "colorbar": {
             "outlinewidth": 1,
             "tickcolor": "rgb(36,36,36)",
             "ticks": "outside"
            },
            "colorscale": [
             [
              0,
              "#440154"
             ],
             [
              0.1111111111111111,
              "#482878"
             ],
             [
              0.2222222222222222,
              "#3e4989"
             ],
             [
              0.3333333333333333,
              "#31688e"
             ],
             [
              0.4444444444444444,
              "#26828e"
             ],
             [
              0.5555555555555556,
              "#1f9e89"
             ],
             [
              0.6666666666666666,
              "#35b779"
             ],
             [
              0.7777777777777778,
              "#6ece58"
             ],
             [
              0.8888888888888888,
              "#b5de2b"
             ],
             [
              1,
              "#fde725"
             ]
            ],
            "type": "histogram2dcontour"
           }
          ],
          "mesh3d": [
           {
            "colorbar": {
             "outlinewidth": 1,
             "tickcolor": "rgb(36,36,36)",
             "ticks": "outside"
            },
            "type": "mesh3d"
           }
          ],
          "parcoords": [
           {
            "line": {
             "colorbar": {
              "outlinewidth": 1,
              "tickcolor": "rgb(36,36,36)",
              "ticks": "outside"
             }
            },
            "type": "parcoords"
           }
          ],
          "pie": [
           {
            "automargin": true,
            "type": "pie"
           }
          ],
          "scatter": [
           {
            "fillpattern": {
             "fillmode": "overlay",
             "size": 10,
             "solidity": 0.2
            },
            "type": "scatter"
           }
          ],
          "scatter3d": [
           {
            "line": {
             "colorbar": {
              "outlinewidth": 1,
              "tickcolor": "rgb(36,36,36)",
              "ticks": "outside"
             }
            },
            "marker": {
             "colorbar": {
              "outlinewidth": 1,
              "tickcolor": "rgb(36,36,36)",
              "ticks": "outside"
             }
            },
            "type": "scatter3d"
           }
          ],
          "scattercarpet": [
           {
            "marker": {
             "colorbar": {
              "outlinewidth": 1,
              "tickcolor": "rgb(36,36,36)",
              "ticks": "outside"
             }
            },
            "type": "scattercarpet"
           }
          ],
          "scattergeo": [
           {
            "marker": {
             "colorbar": {
              "outlinewidth": 1,
              "tickcolor": "rgb(36,36,36)",
              "ticks": "outside"
             }
            },
            "type": "scattergeo"
           }
          ],
          "scattergl": [
           {
            "marker": {
             "colorbar": {
              "outlinewidth": 1,
              "tickcolor": "rgb(36,36,36)",
              "ticks": "outside"
             }
            },
            "type": "scattergl"
           }
          ],
          "scattermapbox": [
           {
            "marker": {
             "colorbar": {
              "outlinewidth": 1,
              "tickcolor": "rgb(36,36,36)",
              "ticks": "outside"
             }
            },
            "type": "scattermapbox"
           }
          ],
          "scatterpolar": [
           {
            "marker": {
             "colorbar": {
              "outlinewidth": 1,
              "tickcolor": "rgb(36,36,36)",
              "ticks": "outside"
             }
            },
            "type": "scatterpolar"
           }
          ],
          "scatterpolargl": [
           {
            "marker": {
             "colorbar": {
              "outlinewidth": 1,
              "tickcolor": "rgb(36,36,36)",
              "ticks": "outside"
             }
            },
            "type": "scatterpolargl"
           }
          ],
          "scatterternary": [
           {
            "marker": {
             "colorbar": {
              "outlinewidth": 1,
              "tickcolor": "rgb(36,36,36)",
              "ticks": "outside"
             }
            },
            "type": "scatterternary"
           }
          ],
          "surface": [
           {
            "colorbar": {
             "outlinewidth": 1,
             "tickcolor": "rgb(36,36,36)",
             "ticks": "outside"
            },
            "colorscale": [
             [
              0,
              "#440154"
             ],
             [
              0.1111111111111111,
              "#482878"
             ],
             [
              0.2222222222222222,
              "#3e4989"
             ],
             [
              0.3333333333333333,
              "#31688e"
             ],
             [
              0.4444444444444444,
              "#26828e"
             ],
             [
              0.5555555555555556,
              "#1f9e89"
             ],
             [
              0.6666666666666666,
              "#35b779"
             ],
             [
              0.7777777777777778,
              "#6ece58"
             ],
             [
              0.8888888888888888,
              "#b5de2b"
             ],
             [
              1,
              "#fde725"
             ]
            ],
            "type": "surface"
           }
          ],
          "table": [
           {
            "cells": {
             "fill": {
              "color": "rgb(237,237,237)"
             },
             "line": {
              "color": "white"
             }
            },
            "header": {
             "fill": {
              "color": "rgb(217,217,217)"
             },
             "line": {
              "color": "white"
             }
            },
            "type": "table"
           }
          ]
         },
         "layout": {
          "annotationdefaults": {
           "arrowhead": 0,
           "arrowwidth": 1
          },
          "autotypenumbers": "strict",
          "coloraxis": {
           "colorbar": {
            "outlinewidth": 1,
            "tickcolor": "rgb(36,36,36)",
            "ticks": "outside"
           }
          },
          "colorscale": {
           "diverging": [
            [
             0,
             "rgb(103,0,31)"
            ],
            [
             0.1,
             "rgb(178,24,43)"
            ],
            [
             0.2,
             "rgb(214,96,77)"
            ],
            [
             0.3,
             "rgb(244,165,130)"
            ],
            [
             0.4,
             "rgb(253,219,199)"
            ],
            [
             0.5,
             "rgb(247,247,247)"
            ],
            [
             0.6,
             "rgb(209,229,240)"
            ],
            [
             0.7,
             "rgb(146,197,222)"
            ],
            [
             0.8,
             "rgb(67,147,195)"
            ],
            [
             0.9,
             "rgb(33,102,172)"
            ],
            [
             1,
             "rgb(5,48,97)"
            ]
           ],
           "sequential": [
            [
             0,
             "#440154"
            ],
            [
             0.1111111111111111,
             "#482878"
            ],
            [
             0.2222222222222222,
             "#3e4989"
            ],
            [
             0.3333333333333333,
             "#31688e"
            ],
            [
             0.4444444444444444,
             "#26828e"
            ],
            [
             0.5555555555555556,
             "#1f9e89"
            ],
            [
             0.6666666666666666,
             "#35b779"
            ],
            [
             0.7777777777777778,
             "#6ece58"
            ],
            [
             0.8888888888888888,
             "#b5de2b"
            ],
            [
             1,
             "#fde725"
            ]
           ],
           "sequentialminus": [
            [
             0,
             "#440154"
            ],
            [
             0.1111111111111111,
             "#482878"
            ],
            [
             0.2222222222222222,
             "#3e4989"
            ],
            [
             0.3333333333333333,
             "#31688e"
            ],
            [
             0.4444444444444444,
             "#26828e"
            ],
            [
             0.5555555555555556,
             "#1f9e89"
            ],
            [
             0.6666666666666666,
             "#35b779"
            ],
            [
             0.7777777777777778,
             "#6ece58"
            ],
            [
             0.8888888888888888,
             "#b5de2b"
            ],
            [
             1,
             "#fde725"
            ]
           ]
          },
          "colorway": [
           "#1F77B4",
           "#FF7F0E",
           "#2CA02C",
           "#D62728",
           "#9467BD",
           "#8C564B",
           "#E377C2",
           "#7F7F7F",
           "#BCBD22",
           "#17BECF"
          ],
          "font": {
           "color": "rgb(36,36,36)"
          },
          "geo": {
           "bgcolor": "white",
           "lakecolor": "white",
           "landcolor": "white",
           "showlakes": true,
           "showland": true,
           "subunitcolor": "white"
          },
          "hoverlabel": {
           "align": "left"
          },
          "hovermode": "closest",
          "mapbox": {
           "style": "light"
          },
          "paper_bgcolor": "white",
          "plot_bgcolor": "white",
          "polar": {
           "angularaxis": {
            "gridcolor": "rgb(232,232,232)",
            "linecolor": "rgb(36,36,36)",
            "showgrid": false,
            "showline": true,
            "ticks": "outside"
           },
           "bgcolor": "white",
           "radialaxis": {
            "gridcolor": "rgb(232,232,232)",
            "linecolor": "rgb(36,36,36)",
            "showgrid": false,
            "showline": true,
            "ticks": "outside"
           }
          },
          "scene": {
           "xaxis": {
            "backgroundcolor": "white",
            "gridcolor": "rgb(232,232,232)",
            "gridwidth": 2,
            "linecolor": "rgb(36,36,36)",
            "showbackground": true,
            "showgrid": false,
            "showline": true,
            "ticks": "outside",
            "zeroline": false,
            "zerolinecolor": "rgb(36,36,36)"
           },
           "yaxis": {
            "backgroundcolor": "white",
            "gridcolor": "rgb(232,232,232)",
            "gridwidth": 2,
            "linecolor": "rgb(36,36,36)",
            "showbackground": true,
            "showgrid": false,
            "showline": true,
            "ticks": "outside",
            "zeroline": false,
            "zerolinecolor": "rgb(36,36,36)"
           },
           "zaxis": {
            "backgroundcolor": "white",
            "gridcolor": "rgb(232,232,232)",
            "gridwidth": 2,
            "linecolor": "rgb(36,36,36)",
            "showbackground": true,
            "showgrid": false,
            "showline": true,
            "ticks": "outside",
            "zeroline": false,
            "zerolinecolor": "rgb(36,36,36)"
           }
          },
          "shapedefaults": {
           "fillcolor": "black",
           "line": {
            "width": 0
           },
           "opacity": 0.3
          },
          "ternary": {
           "aaxis": {
            "gridcolor": "rgb(232,232,232)",
            "linecolor": "rgb(36,36,36)",
            "showgrid": false,
            "showline": true,
            "ticks": "outside"
           },
           "baxis": {
            "gridcolor": "rgb(232,232,232)",
            "linecolor": "rgb(36,36,36)",
            "showgrid": false,
            "showline": true,
            "ticks": "outside"
           },
           "bgcolor": "white",
           "caxis": {
            "gridcolor": "rgb(232,232,232)",
            "linecolor": "rgb(36,36,36)",
            "showgrid": false,
            "showline": true,
            "ticks": "outside"
           }
          },
          "title": {
           "x": 0.05
          },
          "xaxis": {
           "automargin": true,
           "gridcolor": "rgb(232,232,232)",
           "linecolor": "rgb(36,36,36)",
           "showgrid": false,
           "showline": true,
           "ticks": "outside",
           "title": {
            "standoff": 15
           },
           "zeroline": false,
           "zerolinecolor": "rgb(36,36,36)"
          },
          "yaxis": {
           "automargin": true,
           "gridcolor": "rgb(232,232,232)",
           "linecolor": "rgb(36,36,36)",
           "showgrid": false,
           "showline": true,
           "ticks": "outside",
           "title": {
            "standoff": 15
           },
           "zeroline": false,
           "zerolinecolor": "rgb(36,36,36)"
          }
         }
        },
        "title": {
         "text": "COVID-19 Cases per Continent"
        },
        "xaxis": {
         "anchor": "y",
         "categoryarray": [
          "Asia",
          "Europe",
          "Africa",
          "North America",
          "South America",
          "Oceania",
          "Unknown"
         ],
         "categoryorder": "array",
         "domain": [
          0,
          1
         ],
         "showticklabels": false,
         "title": {
          "text": "continent"
         }
        },
        "yaxis": {
         "anchor": "x",
         "domain": [
          0,
          1
         ],
         "title": {
          "text": "total_cases"
         }
        }
       }
      }
     },
     "metadata": {},
     "output_type": "display_data"
    }
   ],
   "source": [
    "fig = px.bar(df2_grouped, x='continent', y='total_cases', hover_name='location', color='continent', template=\"simple_white\")\n",
    "fig.update_layout(\n",
    "    height=500,\n",
    "    title_text='COVID-19 Cases per Continent'\n",
    ")\n",
    "fig.update_xaxes(showticklabels=False)\n",
    "fig.show()"
   ]
  },
  {
   "cell_type": "code",
   "execution_count": null,
   "metadata": {},
   "outputs": [],
   "source": []
  }
 ],
 "metadata": {
  "kernelspec": {
   "display_name": "Python 3",
   "language": "python",
   "name": "python3"
  },
  "language_info": {
   "codemirror_mode": {
    "name": "ipython",
    "version": 3
   },
   "file_extension": ".py",
   "mimetype": "text/x-python",
   "name": "python",
   "nbconvert_exporter": "python",
   "pygments_lexer": "ipython3",
   "version": "3.9.13"
  }
 },
 "nbformat": 4,
 "nbformat_minor": 2
}
